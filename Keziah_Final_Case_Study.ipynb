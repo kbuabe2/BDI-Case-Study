{
  "nbformat": 4,
  "nbformat_minor": 0,
  "metadata": {
    "colab": {
      "name": "Keziah -Final Case Study",
      "provenance": [],
      "collapsed_sections": [],
      "authorship_tag": "ABX9TyM1lHmduaRdPJyFVJ8zayXK",
      "include_colab_link": true
    },
    "kernelspec": {
      "name": "python3",
      "display_name": "Python 3"
    },
    "language_info": {
      "name": "python"
    }
  },
  "cells": [
    {
      "cell_type": "markdown",
      "metadata": {
        "id": "view-in-github",
        "colab_type": "text"
      },
      "source": [
        "<a href=\"https://colab.research.google.com/github/kbuabe2/BDI-Case-Study/blob/main/Keziah_Final_Case_Study.ipynb\" target=\"_parent\"><img src=\"https://colab.research.google.com/assets/colab-badge.svg\" alt=\"Open In Colab\"/></a>"
      ]
    },
    {
      "cell_type": "markdown",
      "metadata": {
        "id": "2FzUQzcaNDn9"
      },
      "source": [
        "Dataset=Meal the Gap 2018 Food insecurity \n"
      ]
    },
    {
      "cell_type": "markdown",
      "metadata": {
        "id": "iNPYB80bMw6m"
      },
      "source": [
        "I picked this Dataset because as a ACES major,I have learned alot about food security and wanted to see if I could use the skills I learned to analyze this large dataset"
      ]
    },
    {
      "cell_type": "markdown",
      "metadata": {
        "id": "JJHrEuSJNK6G"
      },
      "source": [
        "Questions  = This dataset measures food insecurity rate for 2018 by state and county for both adults and childre. So I think I will look into to\n",
        "1. Which State has the highest/lowest food insecurity rate\n",
        "2.Which state has the highest/lowest # of food insecure persons in 2018\n",
        "3. Which state has the highest food insecurity rate for children \n",
        "4. Which state has the lowest # of food insecure childen \n",
        "5. Which state has the lowest/ highest cost per meal\n",
        "6. Within the state if the highest food insecure person, what county has the highest and lowest rates?\n",
        "\n",
        "\n",
        "\n"
      ]
    },
    {
      "cell_type": "code",
      "metadata": {
        "id": "kIzS8MVz-5EV"
      },
      "source": [
        "import pandas as pd\n",
        "import numpy as np\n",
        "import plotly\n",
        "import plotly.express as px\n",
        "import plotly.graph_objects as go\n"
      ],
      "execution_count": 1,
      "outputs": []
    },
    {
      "cell_type": "code",
      "metadata": {
        "id": "euQrTpaXJLHT"
      },
      "source": [
        "df = pd.read_csv('https://github.com/kbuabe2/BDIFinal1/raw/main/2018%20MealGapData.csv', error_bad_lines= False)"
      ],
      "execution_count": 2,
      "outputs": []
    },
    {
      "cell_type": "code",
      "metadata": {
        "colab": {
          "base_uri": "https://localhost:8080/",
          "height": 921
        },
        "id": "jI0RJffa4_0t",
        "outputId": "992b8768-3c9b-48d9-a6fe-31fc1c290d5c"
      },
      "source": [
        "df_mealgap = df\n",
        "display(df_mealgap)"
      ],
      "execution_count": 3,
      "outputs": [
        {
          "output_type": "display_data",
          "data": {
            "text/html": [
              "<div>\n",
              "<style scoped>\n",
              "    .dataframe tbody tr th:only-of-type {\n",
              "        vertical-align: middle;\n",
              "    }\n",
              "\n",
              "    .dataframe tbody tr th {\n",
              "        vertical-align: top;\n",
              "    }\n",
              "\n",
              "    .dataframe thead th {\n",
              "        text-align: right;\n",
              "    }\n",
              "</style>\n",
              "<table border=\"1\" class=\"dataframe\">\n",
              "  <thead>\n",
              "    <tr style=\"text-align: right;\">\n",
              "      <th></th>\n",
              "      <th>State</th>\n",
              "      <th>County, State</th>\n",
              "      <th>2018 Food Insecurity Rate</th>\n",
              "      <th># of Food Insecure Persons in 2018</th>\n",
              "      <th>Low Threshold in state</th>\n",
              "      <th>Low Threshold Type</th>\n",
              "      <th>High Threshold in state</th>\n",
              "      <th>High Threshold Type</th>\n",
              "      <th>% FI ≤ Low Threshold</th>\n",
              "      <th>% FI Btwn Thresholds</th>\n",
              "      <th>% FI &gt; High Threshold</th>\n",
              "      <th>2018 Child food insecurity rate</th>\n",
              "      <th># of Food Insecure Children in 2018</th>\n",
              "      <th>% food insecure children in HH w/ HH incomes below 185 FPL in 2018</th>\n",
              "      <th>% food insecure children in HH w/ HH incomes above 185 FPL in 2018</th>\n",
              "      <th>2018 Cost Per Meal</th>\n",
              "      <th>2018 Weighted Annual Food Budget Shortfall</th>\n",
              "    </tr>\n",
              "  </thead>\n",
              "  <tbody>\n",
              "    <tr>\n",
              "      <th>0</th>\n",
              "      <td>AL</td>\n",
              "      <td>Autauga County, Alabama</td>\n",
              "      <td>15.60%</td>\n",
              "      <td>8,620</td>\n",
              "      <td>130%</td>\n",
              "      <td>SNAP</td>\n",
              "      <td>185%</td>\n",
              "      <td>Other Nutrition Program</td>\n",
              "      <td>46.20%</td>\n",
              "      <td>13.20%</td>\n",
              "      <td>40.50%</td>\n",
              "      <td>21.40%</td>\n",
              "      <td>2,870</td>\n",
              "      <td>69%</td>\n",
              "      <td>31%</td>\n",
              "      <td>$3.33</td>\n",
              "      <td>$4,857,000.00</td>\n",
              "    </tr>\n",
              "    <tr>\n",
              "      <th>1</th>\n",
              "      <td>AL</td>\n",
              "      <td>Baldwin County, Alabama</td>\n",
              "      <td>12.90%</td>\n",
              "      <td>26,860</td>\n",
              "      <td>130%</td>\n",
              "      <td>SNAP</td>\n",
              "      <td>185%</td>\n",
              "      <td>Other Nutrition Program</td>\n",
              "      <td>37.10%</td>\n",
              "      <td>18.70%</td>\n",
              "      <td>44.20%</td>\n",
              "      <td>16.90%</td>\n",
              "      <td>7,710</td>\n",
              "      <td>74%</td>\n",
              "      <td>27%</td>\n",
              "      <td>$3.58</td>\n",
              "      <td>$16,274,000.00</td>\n",
              "    </tr>\n",
              "    <tr>\n",
              "      <th>2</th>\n",
              "      <td>AL</td>\n",
              "      <td>Barbour County, Alabama</td>\n",
              "      <td>21.90%</td>\n",
              "      <td>5,650</td>\n",
              "      <td>130%</td>\n",
              "      <td>SNAP</td>\n",
              "      <td>185%</td>\n",
              "      <td>Other Nutrition Program</td>\n",
              "      <td>65.10%</td>\n",
              "      <td>10.80%</td>\n",
              "      <td>24.10%</td>\n",
              "      <td>32.00%</td>\n",
              "      <td>1,740</td>\n",
              "      <td>76%</td>\n",
              "      <td>25%</td>\n",
              "      <td>$3.12</td>\n",
              "      <td>$2,988,000.00</td>\n",
              "    </tr>\n",
              "    <tr>\n",
              "      <th>3</th>\n",
              "      <td>AL</td>\n",
              "      <td>Bibb County, Alabama</td>\n",
              "      <td>15.10%</td>\n",
              "      <td>3,400</td>\n",
              "      <td>130%</td>\n",
              "      <td>SNAP</td>\n",
              "      <td>185%</td>\n",
              "      <td>Other Nutrition Program</td>\n",
              "      <td>46.90%</td>\n",
              "      <td>21.20%</td>\n",
              "      <td>31.90%</td>\n",
              "      <td>20.90%</td>\n",
              "      <td>970</td>\n",
              "      <td>92%</td>\n",
              "      <td>8%</td>\n",
              "      <td>$2.94</td>\n",
              "      <td>$1,690,000.00</td>\n",
              "    </tr>\n",
              "    <tr>\n",
              "      <th>4</th>\n",
              "      <td>AL</td>\n",
              "      <td>Blount County, Alabama</td>\n",
              "      <td>13.60%</td>\n",
              "      <td>7,810</td>\n",
              "      <td>130%</td>\n",
              "      <td>SNAP</td>\n",
              "      <td>185%</td>\n",
              "      <td>Other Nutrition Program</td>\n",
              "      <td>42.90%</td>\n",
              "      <td>27.90%</td>\n",
              "      <td>29.20%</td>\n",
              "      <td>19.10%</td>\n",
              "      <td>2,580</td>\n",
              "      <td>94%</td>\n",
              "      <td>6%</td>\n",
              "      <td>$3.14</td>\n",
              "      <td>$4,149,000.00</td>\n",
              "    </tr>\n",
              "    <tr>\n",
              "      <th>...</th>\n",
              "      <td>...</td>\n",
              "      <td>...</td>\n",
              "      <td>...</td>\n",
              "      <td>...</td>\n",
              "      <td>...</td>\n",
              "      <td>...</td>\n",
              "      <td>...</td>\n",
              "      <td>...</td>\n",
              "      <td>...</td>\n",
              "      <td>...</td>\n",
              "      <td>...</td>\n",
              "      <td>...</td>\n",
              "      <td>...</td>\n",
              "      <td>...</td>\n",
              "      <td>...</td>\n",
              "      <td>...</td>\n",
              "      <td>...</td>\n",
              "    </tr>\n",
              "    <tr>\n",
              "      <th>3137</th>\n",
              "      <td>WY</td>\n",
              "      <td>Sweetwater County, Wyoming</td>\n",
              "      <td>11.70%</td>\n",
              "      <td>5,140</td>\n",
              "      <td>130%</td>\n",
              "      <td>SNAP</td>\n",
              "      <td>185%</td>\n",
              "      <td>Other Nutrition Program</td>\n",
              "      <td>40.60%</td>\n",
              "      <td>15.90%</td>\n",
              "      <td>43.50%</td>\n",
              "      <td>15.40%</td>\n",
              "      <td>1,820</td>\n",
              "      <td>60%</td>\n",
              "      <td>41%</td>\n",
              "      <td>$3.29</td>\n",
              "      <td>$2,865,000.00</td>\n",
              "    </tr>\n",
              "    <tr>\n",
              "      <th>3138</th>\n",
              "      <td>WY</td>\n",
              "      <td>Teton County, Wyoming</td>\n",
              "      <td>9.50%</td>\n",
              "      <td>2,200</td>\n",
              "      <td>130%</td>\n",
              "      <td>SNAP</td>\n",
              "      <td>185%</td>\n",
              "      <td>Other Nutrition Program</td>\n",
              "      <td>33.80%</td>\n",
              "      <td>13.90%</td>\n",
              "      <td>52.30%</td>\n",
              "      <td>8.40%</td>\n",
              "      <td>370</td>\n",
              "      <td>72%</td>\n",
              "      <td>29%</td>\n",
              "      <td>$4.52</td>\n",
              "      <td>$1,683,000.00</td>\n",
              "    </tr>\n",
              "    <tr>\n",
              "      <th>3139</th>\n",
              "      <td>WY</td>\n",
              "      <td>Uinta County, Wyoming</td>\n",
              "      <td>13.50%</td>\n",
              "      <td>2,780</td>\n",
              "      <td>130%</td>\n",
              "      <td>SNAP</td>\n",
              "      <td>185%</td>\n",
              "      <td>Other Nutrition Program</td>\n",
              "      <td>56.40%</td>\n",
              "      <td>9.00%</td>\n",
              "      <td>34.60%</td>\n",
              "      <td>18.70%</td>\n",
              "      <td>1,140</td>\n",
              "      <td>65%</td>\n",
              "      <td>36%</td>\n",
              "      <td>$3.07</td>\n",
              "      <td>$1,444,000.00</td>\n",
              "    </tr>\n",
              "    <tr>\n",
              "      <th>3140</th>\n",
              "      <td>WY</td>\n",
              "      <td>Washakie County, Wyoming</td>\n",
              "      <td>12.60%</td>\n",
              "      <td>1,020</td>\n",
              "      <td>130%</td>\n",
              "      <td>SNAP</td>\n",
              "      <td>185%</td>\n",
              "      <td>Other Nutrition Program</td>\n",
              "      <td>45.30%</td>\n",
              "      <td>16.30%</td>\n",
              "      <td>38.40%</td>\n",
              "      <td>18.40%</td>\n",
              "      <td>360</td>\n",
              "      <td>70%</td>\n",
              "      <td>30%</td>\n",
              "      <td>$3.26</td>\n",
              "      <td>$562,000.00</td>\n",
              "    </tr>\n",
              "    <tr>\n",
              "      <th>3141</th>\n",
              "      <td>WY</td>\n",
              "      <td>Weston County, Wyoming</td>\n",
              "      <td>14.00%</td>\n",
              "      <td>990</td>\n",
              "      <td>130%</td>\n",
              "      <td>SNAP</td>\n",
              "      <td>185%</td>\n",
              "      <td>Other Nutrition Program</td>\n",
              "      <td>50.40%</td>\n",
              "      <td>7.60%</td>\n",
              "      <td>41.90%</td>\n",
              "      <td>22.30%</td>\n",
              "      <td>340</td>\n",
              "      <td>63%</td>\n",
              "      <td>37%</td>\n",
              "      <td>$3.16</td>\n",
              "      <td>$529,000.00</td>\n",
              "    </tr>\n",
              "  </tbody>\n",
              "</table>\n",
              "<p>3142 rows × 17 columns</p>\n",
              "</div>"
            ],
            "text/plain": [
              "     State  ... 2018 Weighted Annual Food Budget Shortfall\n",
              "0       AL  ...                             $4,857,000.00 \n",
              "1       AL  ...                            $16,274,000.00 \n",
              "2       AL  ...                             $2,988,000.00 \n",
              "3       AL  ...                             $1,690,000.00 \n",
              "4       AL  ...                             $4,149,000.00 \n",
              "...    ...  ...                                        ...\n",
              "3137    WY  ...                             $2,865,000.00 \n",
              "3138    WY  ...                             $1,683,000.00 \n",
              "3139    WY  ...                             $1,444,000.00 \n",
              "3140    WY  ...                               $562,000.00 \n",
              "3141    WY  ...                               $529,000.00 \n",
              "\n",
              "[3142 rows x 17 columns]"
            ]
          },
          "metadata": {
            "tags": []
          }
        }
      ]
    },
    {
      "cell_type": "markdown",
      "metadata": {
        "id": "vjo_63rThnp0"
      },
      "source": [
        "## Cleaning data"
      ]
    },
    {
      "cell_type": "code",
      "metadata": {
        "colab": {
          "base_uri": "https://localhost:8080/",
          "height": 338
        },
        "id": "8EJV7NC1hm1i",
        "outputId": "72a50ab8-53dd-4b60-df17-656075989308"
      },
      "source": [
        "df_mealgap.head(2)"
      ],
      "execution_count": 4,
      "outputs": [
        {
          "output_type": "execute_result",
          "data": {
            "text/html": [
              "<div>\n",
              "<style scoped>\n",
              "    .dataframe tbody tr th:only-of-type {\n",
              "        vertical-align: middle;\n",
              "    }\n",
              "\n",
              "    .dataframe tbody tr th {\n",
              "        vertical-align: top;\n",
              "    }\n",
              "\n",
              "    .dataframe thead th {\n",
              "        text-align: right;\n",
              "    }\n",
              "</style>\n",
              "<table border=\"1\" class=\"dataframe\">\n",
              "  <thead>\n",
              "    <tr style=\"text-align: right;\">\n",
              "      <th></th>\n",
              "      <th>State</th>\n",
              "      <th>County, State</th>\n",
              "      <th>2018 Food Insecurity Rate</th>\n",
              "      <th># of Food Insecure Persons in 2018</th>\n",
              "      <th>Low Threshold in state</th>\n",
              "      <th>Low Threshold Type</th>\n",
              "      <th>High Threshold in state</th>\n",
              "      <th>High Threshold Type</th>\n",
              "      <th>% FI ≤ Low Threshold</th>\n",
              "      <th>% FI Btwn Thresholds</th>\n",
              "      <th>% FI &gt; High Threshold</th>\n",
              "      <th>2018 Child food insecurity rate</th>\n",
              "      <th># of Food Insecure Children in 2018</th>\n",
              "      <th>% food insecure children in HH w/ HH incomes below 185 FPL in 2018</th>\n",
              "      <th>% food insecure children in HH w/ HH incomes above 185 FPL in 2018</th>\n",
              "      <th>2018 Cost Per Meal</th>\n",
              "      <th>2018 Weighted Annual Food Budget Shortfall</th>\n",
              "    </tr>\n",
              "  </thead>\n",
              "  <tbody>\n",
              "    <tr>\n",
              "      <th>0</th>\n",
              "      <td>AL</td>\n",
              "      <td>Autauga County, Alabama</td>\n",
              "      <td>15.60%</td>\n",
              "      <td>8,620</td>\n",
              "      <td>130%</td>\n",
              "      <td>SNAP</td>\n",
              "      <td>185%</td>\n",
              "      <td>Other Nutrition Program</td>\n",
              "      <td>46.20%</td>\n",
              "      <td>13.20%</td>\n",
              "      <td>40.50%</td>\n",
              "      <td>21.40%</td>\n",
              "      <td>2,870</td>\n",
              "      <td>69%</td>\n",
              "      <td>31%</td>\n",
              "      <td>$3.33</td>\n",
              "      <td>$4,857,000.00</td>\n",
              "    </tr>\n",
              "    <tr>\n",
              "      <th>1</th>\n",
              "      <td>AL</td>\n",
              "      <td>Baldwin County, Alabama</td>\n",
              "      <td>12.90%</td>\n",
              "      <td>26,860</td>\n",
              "      <td>130%</td>\n",
              "      <td>SNAP</td>\n",
              "      <td>185%</td>\n",
              "      <td>Other Nutrition Program</td>\n",
              "      <td>37.10%</td>\n",
              "      <td>18.70%</td>\n",
              "      <td>44.20%</td>\n",
              "      <td>16.90%</td>\n",
              "      <td>7,710</td>\n",
              "      <td>74%</td>\n",
              "      <td>27%</td>\n",
              "      <td>$3.58</td>\n",
              "      <td>$16,274,000.00</td>\n",
              "    </tr>\n",
              "  </tbody>\n",
              "</table>\n",
              "</div>"
            ],
            "text/plain": [
              "  State  ... 2018 Weighted Annual Food Budget Shortfall\n",
              "0    AL  ...                             $4,857,000.00 \n",
              "1    AL  ...                            $16,274,000.00 \n",
              "\n",
              "[2 rows x 17 columns]"
            ]
          },
          "metadata": {
            "tags": []
          },
          "execution_count": 4
        }
      ]
    },
    {
      "cell_type": "code",
      "metadata": {
        "id": "5AbYYyu_hr3Z"
      },
      "source": [
        "df['2018 Food Insecurity Rate'] = df['2018 Food Insecurity Rate'].str.replace('%', '').astype(np.float64)"
      ],
      "execution_count": 5,
      "outputs": []
    },
    {
      "cell_type": "code",
      "metadata": {
        "id": "fRzjED72iKtA"
      },
      "source": [
        "df['# of Food Insecure Persons in 2018'] = df['# of Food Insecure Persons in 2018'].str.replace(',', '').astype(np.float64)"
      ],
      "execution_count": 6,
      "outputs": []
    },
    {
      "cell_type": "code",
      "metadata": {
        "id": "WjT_lZ1tilg3"
      },
      "source": [
        "df['2018 Cost Per Meal'] = df['2018 Cost Per Meal'].str.replace('$', '').str.replace(',', '').astype(np.float64)"
      ],
      "execution_count": 7,
      "outputs": []
    },
    {
      "cell_type": "code",
      "metadata": {
        "id": "U01EkzDmjGdO"
      },
      "source": [
        "df['Low Threshold in state'] = df['Low Threshold in state'].str.replace('%', '').astype(np.float64)"
      ],
      "execution_count": 8,
      "outputs": []
    },
    {
      "cell_type": "code",
      "metadata": {
        "id": "1cy4tP_fjn2p"
      },
      "source": [
        "df['2018 Child food insecurity rate']= df['2018 Child food insecurity rate'].str.replace('%', '').astype(np.float64)"
      ],
      "execution_count": 9,
      "outputs": []
    },
    {
      "cell_type": "code",
      "metadata": {
        "id": "bONJ5ljGkB4i"
      },
      "source": [
        "df['# of Food Insecure Children in 2018'] = pd.to_numeric(df['# of Food Insecure Children in 2018'].str.replace(',', ''), errors='coerce')"
      ],
      "execution_count": 10,
      "outputs": []
    },
    {
      "cell_type": "code",
      "metadata": {
        "colab": {
          "base_uri": "https://localhost:8080/",
          "height": 270
        },
        "id": "4GVj9HbXwaSn",
        "outputId": "7c3869dd-1441-4eb5-fb79-e432fb78838f"
      },
      "source": [
        "df[df['# of Food Insecure Children in 2018'].isna()]"
      ],
      "execution_count": 11,
      "outputs": [
        {
          "output_type": "execute_result",
          "data": {
            "text/html": [
              "<div>\n",
              "<style scoped>\n",
              "    .dataframe tbody tr th:only-of-type {\n",
              "        vertical-align: middle;\n",
              "    }\n",
              "\n",
              "    .dataframe tbody tr th {\n",
              "        vertical-align: top;\n",
              "    }\n",
              "\n",
              "    .dataframe thead th {\n",
              "        text-align: right;\n",
              "    }\n",
              "</style>\n",
              "<table border=\"1\" class=\"dataframe\">\n",
              "  <thead>\n",
              "    <tr style=\"text-align: right;\">\n",
              "      <th></th>\n",
              "      <th>State</th>\n",
              "      <th>County, State</th>\n",
              "      <th>2018 Food Insecurity Rate</th>\n",
              "      <th># of Food Insecure Persons in 2018</th>\n",
              "      <th>Low Threshold in state</th>\n",
              "      <th>Low Threshold Type</th>\n",
              "      <th>High Threshold in state</th>\n",
              "      <th>High Threshold Type</th>\n",
              "      <th>% FI ≤ Low Threshold</th>\n",
              "      <th>% FI Btwn Thresholds</th>\n",
              "      <th>% FI &gt; High Threshold</th>\n",
              "      <th>2018 Child food insecurity rate</th>\n",
              "      <th># of Food Insecure Children in 2018</th>\n",
              "      <th>% food insecure children in HH w/ HH incomes below 185 FPL in 2018</th>\n",
              "      <th>% food insecure children in HH w/ HH incomes above 185 FPL in 2018</th>\n",
              "      <th>2018 Cost Per Meal</th>\n",
              "      <th>2018 Weighted Annual Food Budget Shortfall</th>\n",
              "    </tr>\n",
              "  </thead>\n",
              "  <tbody>\n",
              "    <tr>\n",
              "      <th>548</th>\n",
              "      <td>HI</td>\n",
              "      <td>Kalawao County, Hawaii</td>\n",
              "      <td>18.6</td>\n",
              "      <td>10.0</td>\n",
              "      <td>200.0</td>\n",
              "      <td>SNAP, Other Nutrition Programs</td>\n",
              "      <td>200%</td>\n",
              "      <td>SNAP, Other Nutrition Programs</td>\n",
              "      <td>44.50%</td>\n",
              "      <td>NaN</td>\n",
              "      <td>55.50%</td>\n",
              "      <td>23.8</td>\n",
              "      <td>NaN</td>\n",
              "      <td>0%</td>\n",
              "      <td>0%</td>\n",
              "      <td>3.6</td>\n",
              "      <td>$6,000.00</td>\n",
              "    </tr>\n",
              "  </tbody>\n",
              "</table>\n",
              "</div>"
            ],
            "text/plain": [
              "    State  ... 2018 Weighted Annual Food Budget Shortfall\n",
              "548    HI  ...                                 $6,000.00 \n",
              "\n",
              "[1 rows x 17 columns]"
            ]
          },
          "metadata": {
            "tags": []
          },
          "execution_count": 11
        }
      ]
    },
    {
      "cell_type": "code",
      "metadata": {
        "colab": {
          "base_uri": "https://localhost:8080/",
          "height": 383
        },
        "id": "zYgD-4sFiUlW",
        "outputId": "379711d0-260c-4114-fc80-f09434b8cdd3"
      },
      "source": [
        "df.head(3)"
      ],
      "execution_count": 12,
      "outputs": [
        {
          "output_type": "execute_result",
          "data": {
            "text/html": [
              "<div>\n",
              "<style scoped>\n",
              "    .dataframe tbody tr th:only-of-type {\n",
              "        vertical-align: middle;\n",
              "    }\n",
              "\n",
              "    .dataframe tbody tr th {\n",
              "        vertical-align: top;\n",
              "    }\n",
              "\n",
              "    .dataframe thead th {\n",
              "        text-align: right;\n",
              "    }\n",
              "</style>\n",
              "<table border=\"1\" class=\"dataframe\">\n",
              "  <thead>\n",
              "    <tr style=\"text-align: right;\">\n",
              "      <th></th>\n",
              "      <th>State</th>\n",
              "      <th>County, State</th>\n",
              "      <th>2018 Food Insecurity Rate</th>\n",
              "      <th># of Food Insecure Persons in 2018</th>\n",
              "      <th>Low Threshold in state</th>\n",
              "      <th>Low Threshold Type</th>\n",
              "      <th>High Threshold in state</th>\n",
              "      <th>High Threshold Type</th>\n",
              "      <th>% FI ≤ Low Threshold</th>\n",
              "      <th>% FI Btwn Thresholds</th>\n",
              "      <th>% FI &gt; High Threshold</th>\n",
              "      <th>2018 Child food insecurity rate</th>\n",
              "      <th># of Food Insecure Children in 2018</th>\n",
              "      <th>% food insecure children in HH w/ HH incomes below 185 FPL in 2018</th>\n",
              "      <th>% food insecure children in HH w/ HH incomes above 185 FPL in 2018</th>\n",
              "      <th>2018 Cost Per Meal</th>\n",
              "      <th>2018 Weighted Annual Food Budget Shortfall</th>\n",
              "    </tr>\n",
              "  </thead>\n",
              "  <tbody>\n",
              "    <tr>\n",
              "      <th>0</th>\n",
              "      <td>AL</td>\n",
              "      <td>Autauga County, Alabama</td>\n",
              "      <td>15.6</td>\n",
              "      <td>8620.0</td>\n",
              "      <td>130.0</td>\n",
              "      <td>SNAP</td>\n",
              "      <td>185%</td>\n",
              "      <td>Other Nutrition Program</td>\n",
              "      <td>46.20%</td>\n",
              "      <td>13.20%</td>\n",
              "      <td>40.50%</td>\n",
              "      <td>21.4</td>\n",
              "      <td>2870.0</td>\n",
              "      <td>69%</td>\n",
              "      <td>31%</td>\n",
              "      <td>3.33</td>\n",
              "      <td>$4,857,000.00</td>\n",
              "    </tr>\n",
              "    <tr>\n",
              "      <th>1</th>\n",
              "      <td>AL</td>\n",
              "      <td>Baldwin County, Alabama</td>\n",
              "      <td>12.9</td>\n",
              "      <td>26860.0</td>\n",
              "      <td>130.0</td>\n",
              "      <td>SNAP</td>\n",
              "      <td>185%</td>\n",
              "      <td>Other Nutrition Program</td>\n",
              "      <td>37.10%</td>\n",
              "      <td>18.70%</td>\n",
              "      <td>44.20%</td>\n",
              "      <td>16.9</td>\n",
              "      <td>7710.0</td>\n",
              "      <td>74%</td>\n",
              "      <td>27%</td>\n",
              "      <td>3.58</td>\n",
              "      <td>$16,274,000.00</td>\n",
              "    </tr>\n",
              "    <tr>\n",
              "      <th>2</th>\n",
              "      <td>AL</td>\n",
              "      <td>Barbour County, Alabama</td>\n",
              "      <td>21.9</td>\n",
              "      <td>5650.0</td>\n",
              "      <td>130.0</td>\n",
              "      <td>SNAP</td>\n",
              "      <td>185%</td>\n",
              "      <td>Other Nutrition Program</td>\n",
              "      <td>65.10%</td>\n",
              "      <td>10.80%</td>\n",
              "      <td>24.10%</td>\n",
              "      <td>32.0</td>\n",
              "      <td>1740.0</td>\n",
              "      <td>76%</td>\n",
              "      <td>25%</td>\n",
              "      <td>3.12</td>\n",
              "      <td>$2,988,000.00</td>\n",
              "    </tr>\n",
              "  </tbody>\n",
              "</table>\n",
              "</div>"
            ],
            "text/plain": [
              "  State  ... 2018 Weighted Annual Food Budget Shortfall\n",
              "0    AL  ...                             $4,857,000.00 \n",
              "1    AL  ...                            $16,274,000.00 \n",
              "2    AL  ...                             $2,988,000.00 \n",
              "\n",
              "[3 rows x 17 columns]"
            ]
          },
          "metadata": {
            "tags": []
          },
          "execution_count": 12
        }
      ]
    },
    {
      "cell_type": "code",
      "metadata": {
        "colab": {
          "base_uri": "https://localhost:8080/"
        },
        "id": "h3mSEckaY--T",
        "outputId": "8c8fd25e-893d-44cf-f5a3-f7880fafd24e"
      },
      "source": [
        "num_rows = df_mealgap.shape[0]\n",
        "num_cols = df_mealgap.shape[1]\n",
        "\n",
        "print(num_rows)\n",
        "print(num_cols)"
      ],
      "execution_count": 13,
      "outputs": [
        {
          "output_type": "stream",
          "text": [
            "3142\n",
            "17\n"
          ],
          "name": "stdout"
        }
      ]
    },
    {
      "cell_type": "code",
      "metadata": {
        "colab": {
          "base_uri": "https://localhost:8080/"
        },
        "id": "lA217dJoZRU3",
        "outputId": "54c94c73-0051-4f64-a307-782227ab0875"
      },
      "source": [
        "df_mealgap.info()"
      ],
      "execution_count": 14,
      "outputs": [
        {
          "output_type": "stream",
          "text": [
            "<class 'pandas.core.frame.DataFrame'>\n",
            "RangeIndex: 3142 entries, 0 to 3141\n",
            "Data columns (total 17 columns):\n",
            " #   Column                                                              Non-Null Count  Dtype  \n",
            "---  ------                                                              --------------  -----  \n",
            " 0   State                                                               3142 non-null   object \n",
            " 1   County, State                                                       3142 non-null   object \n",
            " 2   2018 Food Insecurity Rate                                           3142 non-null   float64\n",
            " 3   # of Food Insecure Persons in 2018                                  3142 non-null   float64\n",
            " 4   Low Threshold in state                                              3142 non-null   float64\n",
            " 5   Low Threshold Type                                                  3142 non-null   object \n",
            " 6   High Threshold in state                                             3142 non-null   object \n",
            " 7   High Threshold Type                                                 3142 non-null   object \n",
            " 8   % FI ≤ Low Threshold                                                3142 non-null   object \n",
            " 9   % FI Btwn Thresholds                                                2244 non-null   object \n",
            " 10  % FI > High Threshold                                               3142 non-null   object \n",
            " 11  2018 Child food insecurity rate                                     3142 non-null   float64\n",
            " 12  # of Food Insecure Children in 2018                                 3141 non-null   float64\n",
            " 13  % food insecure children in HH w/ HH incomes below 185 FPL in 2018  3142 non-null   object \n",
            " 14  % food insecure children in HH w/ HH incomes above 185 FPL in 2018  3142 non-null   object \n",
            " 15  2018 Cost Per Meal                                                  3142 non-null   float64\n",
            " 16  2018 Weighted Annual Food Budget Shortfall                          3142 non-null   object \n",
            "dtypes: float64(6), object(11)\n",
            "memory usage: 417.4+ KB\n"
          ],
          "name": "stdout"
        }
      ]
    },
    {
      "cell_type": "code",
      "metadata": {
        "colab": {
          "base_uri": "https://localhost:8080/",
          "height": 514
        },
        "id": "V3OVhEhlZWck",
        "outputId": "63bfe1d1-7915-4218-cf0a-d227bb07a4dd"
      },
      "source": [
        "df_mealgap.head()"
      ],
      "execution_count": 15,
      "outputs": [
        {
          "output_type": "execute_result",
          "data": {
            "text/html": [
              "<div>\n",
              "<style scoped>\n",
              "    .dataframe tbody tr th:only-of-type {\n",
              "        vertical-align: middle;\n",
              "    }\n",
              "\n",
              "    .dataframe tbody tr th {\n",
              "        vertical-align: top;\n",
              "    }\n",
              "\n",
              "    .dataframe thead th {\n",
              "        text-align: right;\n",
              "    }\n",
              "</style>\n",
              "<table border=\"1\" class=\"dataframe\">\n",
              "  <thead>\n",
              "    <tr style=\"text-align: right;\">\n",
              "      <th></th>\n",
              "      <th>State</th>\n",
              "      <th>County, State</th>\n",
              "      <th>2018 Food Insecurity Rate</th>\n",
              "      <th># of Food Insecure Persons in 2018</th>\n",
              "      <th>Low Threshold in state</th>\n",
              "      <th>Low Threshold Type</th>\n",
              "      <th>High Threshold in state</th>\n",
              "      <th>High Threshold Type</th>\n",
              "      <th>% FI ≤ Low Threshold</th>\n",
              "      <th>% FI Btwn Thresholds</th>\n",
              "      <th>% FI &gt; High Threshold</th>\n",
              "      <th>2018 Child food insecurity rate</th>\n",
              "      <th># of Food Insecure Children in 2018</th>\n",
              "      <th>% food insecure children in HH w/ HH incomes below 185 FPL in 2018</th>\n",
              "      <th>% food insecure children in HH w/ HH incomes above 185 FPL in 2018</th>\n",
              "      <th>2018 Cost Per Meal</th>\n",
              "      <th>2018 Weighted Annual Food Budget Shortfall</th>\n",
              "    </tr>\n",
              "  </thead>\n",
              "  <tbody>\n",
              "    <tr>\n",
              "      <th>0</th>\n",
              "      <td>AL</td>\n",
              "      <td>Autauga County, Alabama</td>\n",
              "      <td>15.6</td>\n",
              "      <td>8620.0</td>\n",
              "      <td>130.0</td>\n",
              "      <td>SNAP</td>\n",
              "      <td>185%</td>\n",
              "      <td>Other Nutrition Program</td>\n",
              "      <td>46.20%</td>\n",
              "      <td>13.20%</td>\n",
              "      <td>40.50%</td>\n",
              "      <td>21.4</td>\n",
              "      <td>2870.0</td>\n",
              "      <td>69%</td>\n",
              "      <td>31%</td>\n",
              "      <td>3.33</td>\n",
              "      <td>$4,857,000.00</td>\n",
              "    </tr>\n",
              "    <tr>\n",
              "      <th>1</th>\n",
              "      <td>AL</td>\n",
              "      <td>Baldwin County, Alabama</td>\n",
              "      <td>12.9</td>\n",
              "      <td>26860.0</td>\n",
              "      <td>130.0</td>\n",
              "      <td>SNAP</td>\n",
              "      <td>185%</td>\n",
              "      <td>Other Nutrition Program</td>\n",
              "      <td>37.10%</td>\n",
              "      <td>18.70%</td>\n",
              "      <td>44.20%</td>\n",
              "      <td>16.9</td>\n",
              "      <td>7710.0</td>\n",
              "      <td>74%</td>\n",
              "      <td>27%</td>\n",
              "      <td>3.58</td>\n",
              "      <td>$16,274,000.00</td>\n",
              "    </tr>\n",
              "    <tr>\n",
              "      <th>2</th>\n",
              "      <td>AL</td>\n",
              "      <td>Barbour County, Alabama</td>\n",
              "      <td>21.9</td>\n",
              "      <td>5650.0</td>\n",
              "      <td>130.0</td>\n",
              "      <td>SNAP</td>\n",
              "      <td>185%</td>\n",
              "      <td>Other Nutrition Program</td>\n",
              "      <td>65.10%</td>\n",
              "      <td>10.80%</td>\n",
              "      <td>24.10%</td>\n",
              "      <td>32.0</td>\n",
              "      <td>1740.0</td>\n",
              "      <td>76%</td>\n",
              "      <td>25%</td>\n",
              "      <td>3.12</td>\n",
              "      <td>$2,988,000.00</td>\n",
              "    </tr>\n",
              "    <tr>\n",
              "      <th>3</th>\n",
              "      <td>AL</td>\n",
              "      <td>Bibb County, Alabama</td>\n",
              "      <td>15.1</td>\n",
              "      <td>3400.0</td>\n",
              "      <td>130.0</td>\n",
              "      <td>SNAP</td>\n",
              "      <td>185%</td>\n",
              "      <td>Other Nutrition Program</td>\n",
              "      <td>46.90%</td>\n",
              "      <td>21.20%</td>\n",
              "      <td>31.90%</td>\n",
              "      <td>20.9</td>\n",
              "      <td>970.0</td>\n",
              "      <td>92%</td>\n",
              "      <td>8%</td>\n",
              "      <td>2.94</td>\n",
              "      <td>$1,690,000.00</td>\n",
              "    </tr>\n",
              "    <tr>\n",
              "      <th>4</th>\n",
              "      <td>AL</td>\n",
              "      <td>Blount County, Alabama</td>\n",
              "      <td>13.6</td>\n",
              "      <td>7810.0</td>\n",
              "      <td>130.0</td>\n",
              "      <td>SNAP</td>\n",
              "      <td>185%</td>\n",
              "      <td>Other Nutrition Program</td>\n",
              "      <td>42.90%</td>\n",
              "      <td>27.90%</td>\n",
              "      <td>29.20%</td>\n",
              "      <td>19.1</td>\n",
              "      <td>2580.0</td>\n",
              "      <td>94%</td>\n",
              "      <td>6%</td>\n",
              "      <td>3.14</td>\n",
              "      <td>$4,149,000.00</td>\n",
              "    </tr>\n",
              "  </tbody>\n",
              "</table>\n",
              "</div>"
            ],
            "text/plain": [
              "  State  ... 2018 Weighted Annual Food Budget Shortfall\n",
              "0    AL  ...                             $4,857,000.00 \n",
              "1    AL  ...                            $16,274,000.00 \n",
              "2    AL  ...                             $2,988,000.00 \n",
              "3    AL  ...                             $1,690,000.00 \n",
              "4    AL  ...                             $4,149,000.00 \n",
              "\n",
              "[5 rows x 17 columns]"
            ]
          },
          "metadata": {
            "tags": []
          },
          "execution_count": 15
        }
      ]
    },
    {
      "cell_type": "code",
      "metadata": {
        "colab": {
          "base_uri": "https://localhost:8080/",
          "height": 534
        },
        "id": "OgI8uaRxam0q",
        "outputId": "44f34a62-cb2a-4899-827e-4d25de6af1fb"
      },
      "source": [
        "df_mealgap.tail()"
      ],
      "execution_count": 16,
      "outputs": [
        {
          "output_type": "execute_result",
          "data": {
            "text/html": [
              "<div>\n",
              "<style scoped>\n",
              "    .dataframe tbody tr th:only-of-type {\n",
              "        vertical-align: middle;\n",
              "    }\n",
              "\n",
              "    .dataframe tbody tr th {\n",
              "        vertical-align: top;\n",
              "    }\n",
              "\n",
              "    .dataframe thead th {\n",
              "        text-align: right;\n",
              "    }\n",
              "</style>\n",
              "<table border=\"1\" class=\"dataframe\">\n",
              "  <thead>\n",
              "    <tr style=\"text-align: right;\">\n",
              "      <th></th>\n",
              "      <th>State</th>\n",
              "      <th>County, State</th>\n",
              "      <th>2018 Food Insecurity Rate</th>\n",
              "      <th># of Food Insecure Persons in 2018</th>\n",
              "      <th>Low Threshold in state</th>\n",
              "      <th>Low Threshold Type</th>\n",
              "      <th>High Threshold in state</th>\n",
              "      <th>High Threshold Type</th>\n",
              "      <th>% FI ≤ Low Threshold</th>\n",
              "      <th>% FI Btwn Thresholds</th>\n",
              "      <th>% FI &gt; High Threshold</th>\n",
              "      <th>2018 Child food insecurity rate</th>\n",
              "      <th># of Food Insecure Children in 2018</th>\n",
              "      <th>% food insecure children in HH w/ HH incomes below 185 FPL in 2018</th>\n",
              "      <th>% food insecure children in HH w/ HH incomes above 185 FPL in 2018</th>\n",
              "      <th>2018 Cost Per Meal</th>\n",
              "      <th>2018 Weighted Annual Food Budget Shortfall</th>\n",
              "    </tr>\n",
              "  </thead>\n",
              "  <tbody>\n",
              "    <tr>\n",
              "      <th>3137</th>\n",
              "      <td>WY</td>\n",
              "      <td>Sweetwater County, Wyoming</td>\n",
              "      <td>11.7</td>\n",
              "      <td>5140.0</td>\n",
              "      <td>130.0</td>\n",
              "      <td>SNAP</td>\n",
              "      <td>185%</td>\n",
              "      <td>Other Nutrition Program</td>\n",
              "      <td>40.60%</td>\n",
              "      <td>15.90%</td>\n",
              "      <td>43.50%</td>\n",
              "      <td>15.4</td>\n",
              "      <td>1820.0</td>\n",
              "      <td>60%</td>\n",
              "      <td>41%</td>\n",
              "      <td>3.29</td>\n",
              "      <td>$2,865,000.00</td>\n",
              "    </tr>\n",
              "    <tr>\n",
              "      <th>3138</th>\n",
              "      <td>WY</td>\n",
              "      <td>Teton County, Wyoming</td>\n",
              "      <td>9.5</td>\n",
              "      <td>2200.0</td>\n",
              "      <td>130.0</td>\n",
              "      <td>SNAP</td>\n",
              "      <td>185%</td>\n",
              "      <td>Other Nutrition Program</td>\n",
              "      <td>33.80%</td>\n",
              "      <td>13.90%</td>\n",
              "      <td>52.30%</td>\n",
              "      <td>8.4</td>\n",
              "      <td>370.0</td>\n",
              "      <td>72%</td>\n",
              "      <td>29%</td>\n",
              "      <td>4.52</td>\n",
              "      <td>$1,683,000.00</td>\n",
              "    </tr>\n",
              "    <tr>\n",
              "      <th>3139</th>\n",
              "      <td>WY</td>\n",
              "      <td>Uinta County, Wyoming</td>\n",
              "      <td>13.5</td>\n",
              "      <td>2780.0</td>\n",
              "      <td>130.0</td>\n",
              "      <td>SNAP</td>\n",
              "      <td>185%</td>\n",
              "      <td>Other Nutrition Program</td>\n",
              "      <td>56.40%</td>\n",
              "      <td>9.00%</td>\n",
              "      <td>34.60%</td>\n",
              "      <td>18.7</td>\n",
              "      <td>1140.0</td>\n",
              "      <td>65%</td>\n",
              "      <td>36%</td>\n",
              "      <td>3.07</td>\n",
              "      <td>$1,444,000.00</td>\n",
              "    </tr>\n",
              "    <tr>\n",
              "      <th>3140</th>\n",
              "      <td>WY</td>\n",
              "      <td>Washakie County, Wyoming</td>\n",
              "      <td>12.6</td>\n",
              "      <td>1020.0</td>\n",
              "      <td>130.0</td>\n",
              "      <td>SNAP</td>\n",
              "      <td>185%</td>\n",
              "      <td>Other Nutrition Program</td>\n",
              "      <td>45.30%</td>\n",
              "      <td>16.30%</td>\n",
              "      <td>38.40%</td>\n",
              "      <td>18.4</td>\n",
              "      <td>360.0</td>\n",
              "      <td>70%</td>\n",
              "      <td>30%</td>\n",
              "      <td>3.26</td>\n",
              "      <td>$562,000.00</td>\n",
              "    </tr>\n",
              "    <tr>\n",
              "      <th>3141</th>\n",
              "      <td>WY</td>\n",
              "      <td>Weston County, Wyoming</td>\n",
              "      <td>14.0</td>\n",
              "      <td>990.0</td>\n",
              "      <td>130.0</td>\n",
              "      <td>SNAP</td>\n",
              "      <td>185%</td>\n",
              "      <td>Other Nutrition Program</td>\n",
              "      <td>50.40%</td>\n",
              "      <td>7.60%</td>\n",
              "      <td>41.90%</td>\n",
              "      <td>22.3</td>\n",
              "      <td>340.0</td>\n",
              "      <td>63%</td>\n",
              "      <td>37%</td>\n",
              "      <td>3.16</td>\n",
              "      <td>$529,000.00</td>\n",
              "    </tr>\n",
              "  </tbody>\n",
              "</table>\n",
              "</div>"
            ],
            "text/plain": [
              "     State  ... 2018 Weighted Annual Food Budget Shortfall\n",
              "3137    WY  ...                             $2,865,000.00 \n",
              "3138    WY  ...                             $1,683,000.00 \n",
              "3139    WY  ...                             $1,444,000.00 \n",
              "3140    WY  ...                               $562,000.00 \n",
              "3141    WY  ...                               $529,000.00 \n",
              "\n",
              "[5 rows x 17 columns]"
            ]
          },
          "metadata": {
            "tags": []
          },
          "execution_count": 16
        }
      ]
    },
    {
      "cell_type": "code",
      "metadata": {
        "colab": {
          "base_uri": "https://localhost:8080/",
          "height": 338
        },
        "id": "yzrEJjBxdtwZ",
        "outputId": "8cec53e0-5564-4927-870a-e8c0ca1c7528"
      },
      "source": [
        "df_mealgap.sample(2)"
      ],
      "execution_count": 17,
      "outputs": [
        {
          "output_type": "execute_result",
          "data": {
            "text/html": [
              "<div>\n",
              "<style scoped>\n",
              "    .dataframe tbody tr th:only-of-type {\n",
              "        vertical-align: middle;\n",
              "    }\n",
              "\n",
              "    .dataframe tbody tr th {\n",
              "        vertical-align: top;\n",
              "    }\n",
              "\n",
              "    .dataframe thead th {\n",
              "        text-align: right;\n",
              "    }\n",
              "</style>\n",
              "<table border=\"1\" class=\"dataframe\">\n",
              "  <thead>\n",
              "    <tr style=\"text-align: right;\">\n",
              "      <th></th>\n",
              "      <th>State</th>\n",
              "      <th>County, State</th>\n",
              "      <th>2018 Food Insecurity Rate</th>\n",
              "      <th># of Food Insecure Persons in 2018</th>\n",
              "      <th>Low Threshold in state</th>\n",
              "      <th>Low Threshold Type</th>\n",
              "      <th>High Threshold in state</th>\n",
              "      <th>High Threshold Type</th>\n",
              "      <th>% FI ≤ Low Threshold</th>\n",
              "      <th>% FI Btwn Thresholds</th>\n",
              "      <th>% FI &gt; High Threshold</th>\n",
              "      <th>2018 Child food insecurity rate</th>\n",
              "      <th># of Food Insecure Children in 2018</th>\n",
              "      <th>% food insecure children in HH w/ HH incomes below 185 FPL in 2018</th>\n",
              "      <th>% food insecure children in HH w/ HH incomes above 185 FPL in 2018</th>\n",
              "      <th>2018 Cost Per Meal</th>\n",
              "      <th>2018 Weighted Annual Food Budget Shortfall</th>\n",
              "    </tr>\n",
              "  </thead>\n",
              "  <tbody>\n",
              "    <tr>\n",
              "      <th>2248</th>\n",
              "      <td>PA</td>\n",
              "      <td>Bedford County, Pennsylvania</td>\n",
              "      <td>11.2</td>\n",
              "      <td>5450.0</td>\n",
              "      <td>160.0</td>\n",
              "      <td>SNAP</td>\n",
              "      <td>185%</td>\n",
              "      <td>Other Nutrition Program</td>\n",
              "      <td>62.00%</td>\n",
              "      <td>11.10%</td>\n",
              "      <td>26.90%</td>\n",
              "      <td>17.2</td>\n",
              "      <td>1670.0</td>\n",
              "      <td>86%</td>\n",
              "      <td>14%</td>\n",
              "      <td>3.42</td>\n",
              "      <td>$3,152,000.00</td>\n",
              "    </tr>\n",
              "    <tr>\n",
              "      <th>2138</th>\n",
              "      <td>OK</td>\n",
              "      <td>Caddo County, Oklahoma</td>\n",
              "      <td>16.4</td>\n",
              "      <td>4820.0</td>\n",
              "      <td>130.0</td>\n",
              "      <td>SNAP</td>\n",
              "      <td>185%</td>\n",
              "      <td>Other Nutrition Program</td>\n",
              "      <td>53.70%</td>\n",
              "      <td>18.70%</td>\n",
              "      <td>27.50%</td>\n",
              "      <td>24.0</td>\n",
              "      <td>1780.0</td>\n",
              "      <td>80%</td>\n",
              "      <td>20%</td>\n",
              "      <td>2.98</td>\n",
              "      <td>$2,435,000.00</td>\n",
              "    </tr>\n",
              "  </tbody>\n",
              "</table>\n",
              "</div>"
            ],
            "text/plain": [
              "     State  ... 2018 Weighted Annual Food Budget Shortfall\n",
              "2248    PA  ...                             $3,152,000.00 \n",
              "2138    OK  ...                             $2,435,000.00 \n",
              "\n",
              "[2 rows x 17 columns]"
            ]
          },
          "metadata": {
            "tags": []
          },
          "execution_count": 17
        }
      ]
    },
    {
      "cell_type": "code",
      "metadata": {
        "colab": {
          "base_uri": "https://localhost:8080/"
        },
        "id": "BKYc6XBiy1FV",
        "outputId": "4fd4c75b-0d8a-4cd0-8ead-88adb03dd773"
      },
      "source": [
        "df_mealgap.rename(columns={'2018 Food Insecurity Rate': '2018_FIR', '# of Food Insecure Persons in 2018': 'Num_FIP', '2018 Child food insecurity rate':'2018_CFIR', '# of Food Insecure Children in 2018':'Num_CFIR', '2018 Cost Per Meal': 'Cost_PM'}, inplace=True)\n",
        "print(df)"
      ],
      "execution_count": 18,
      "outputs": [
        {
          "output_type": "stream",
          "text": [
            "     State  ... 2018 Weighted Annual Food Budget Shortfall\n",
            "0       AL  ...                             $4,857,000.00 \n",
            "1       AL  ...                            $16,274,000.00 \n",
            "2       AL  ...                             $2,988,000.00 \n",
            "3       AL  ...                             $1,690,000.00 \n",
            "4       AL  ...                             $4,149,000.00 \n",
            "...    ...  ...                                        ...\n",
            "3137    WY  ...                             $2,865,000.00 \n",
            "3138    WY  ...                             $1,683,000.00 \n",
            "3139    WY  ...                             $1,444,000.00 \n",
            "3140    WY  ...                               $562,000.00 \n",
            "3141    WY  ...                               $529,000.00 \n",
            "\n",
            "[3142 rows x 17 columns]\n"
          ],
          "name": "stdout"
        }
      ]
    },
    {
      "cell_type": "code",
      "metadata": {
        "colab": {
          "base_uri": "https://localhost:8080/"
        },
        "id": "GoHVyV7Ck63v",
        "outputId": "77fabfb3-1fce-478f-80a9-650a9cbd1180"
      },
      "source": [
        "df_sort = df_mealgap.sort_values(['2018_FIR','State'], ascending=[False, True])\n",
        "print(df_sort)"
      ],
      "execution_count": 19,
      "outputs": [
        {
          "output_type": "stream",
          "text": [
            "     State  ... 2018 Weighted Annual Food Budget Shortfall\n",
            "1432    MS  ...                             $1,141,000.00 \n",
            "1428    MS  ...                               $200,000.00 \n",
            "1130    LA  ...                             $1,056,000.00 \n",
            "81      AK  ...                             $1,688,000.00 \n",
            "1426    MS  ...                             $2,769,000.00 \n",
            "...    ...  ...                                        ...\n",
            "2035    ND  ...                                $44,000.00 \n",
            "2000    ND  ...                               $106,000.00 \n",
            "2030    ND  ...                                $88,000.00 \n",
            "2872    VA  ...                             $9,249,000.00 \n",
            "1996    ND  ...                                $47,000.00 \n",
            "\n",
            "[3142 rows x 17 columns]\n"
          ],
          "name": "stdout"
        }
      ]
    },
    {
      "cell_type": "code",
      "metadata": {
        "colab": {
          "base_uri": "https://localhost:8080/"
        },
        "id": "sbrnoClO6sM_",
        "outputId": "7ee1c6ca-f263-4d43-e9a2-ec34fb3fd4b1"
      },
      "source": [
        "df_mealgap['2018_FIR'].max()"
      ],
      "execution_count": 20,
      "outputs": [
        {
          "output_type": "execute_result",
          "data": {
            "text/plain": [
              "30.4"
            ]
          },
          "metadata": {
            "tags": []
          },
          "execution_count": 20
        }
      ]
    },
    {
      "cell_type": "code",
      "metadata": {
        "colab": {
          "base_uri": "https://localhost:8080/"
        },
        "id": "nWd6-MwY29sF",
        "outputId": "11e46d8f-6c5e-4b65-a1e8-9094762062af"
      },
      "source": [
        "df_mealgap['2018_CFIR'].max()"
      ],
      "execution_count": 21,
      "outputs": [
        {
          "output_type": "execute_result",
          "data": {
            "text/plain": [
              "43.7"
            ]
          },
          "metadata": {
            "tags": []
          },
          "execution_count": 21
        }
      ]
    },
    {
      "cell_type": "code",
      "metadata": {
        "colab": {
          "base_uri": "https://localhost:8080/"
        },
        "id": "rbCJ5Sbo3GYM",
        "outputId": "4c1e5e2c-e1ce-4239-f8bb-4394a9c8192e"
      },
      "source": [
        "df_mealgap['Cost_PM'].max()"
      ],
      "execution_count": 22,
      "outputs": [
        {
          "output_type": "execute_result",
          "data": {
            "text/plain": [
              "6.96"
            ]
          },
          "metadata": {
            "tags": []
          },
          "execution_count": 22
        }
      ]
    },
    {
      "cell_type": "code",
      "metadata": {
        "colab": {
          "base_uri": "https://localhost:8080/"
        },
        "id": "i2ULvMQ07szy",
        "outputId": "b47a2e2b-2a9b-4aa5-f176-258013a2c547"
      },
      "source": [
        "df_Illinois = df_mealgap[df_mealgap['State'] == 'Illinois']\n",
        "print(df_Illinois)\n"
      ],
      "execution_count": 23,
      "outputs": [
        {
          "output_type": "stream",
          "text": [
            "Empty DataFrame\n",
            "Columns: [State, County, State, 2018_FIR, Num_FIP, Low Threshold in state, Low Threshold Type, High Threshold in state, High Threshold Type, % FI ≤ Low Threshold, % FI Btwn Thresholds, % FI > High Threshold, 2018_CFIR, Num_CFIR, % food insecure children in HH w/ HH incomes below 185 FPL in 2018, % food insecure children in HH w/ HH incomes above 185 FPL in 2018, Cost_PM, 2018 Weighted Annual Food Budget Shortfall]\n",
            "Index: []\n"
          ],
          "name": "stdout"
        }
      ]
    },
    {
      "cell_type": "markdown",
      "metadata": {
        "id": "pmsrrBuxwxJX"
      },
      "source": [
        "## Food Insecurity by State"
      ]
    },
    {
      "cell_type": "code",
      "metadata": {
        "colab": {
          "base_uri": "https://localhost:8080/",
          "height": 318
        },
        "id": "7Ghvattww0Lf",
        "outputId": "23a9b8fa-6953-4991-c073-76b6aef9dcb6"
      },
      "source": [
        "df.head(2)"
      ],
      "execution_count": 24,
      "outputs": [
        {
          "output_type": "execute_result",
          "data": {
            "text/html": [
              "<div>\n",
              "<style scoped>\n",
              "    .dataframe tbody tr th:only-of-type {\n",
              "        vertical-align: middle;\n",
              "    }\n",
              "\n",
              "    .dataframe tbody tr th {\n",
              "        vertical-align: top;\n",
              "    }\n",
              "\n",
              "    .dataframe thead th {\n",
              "        text-align: right;\n",
              "    }\n",
              "</style>\n",
              "<table border=\"1\" class=\"dataframe\">\n",
              "  <thead>\n",
              "    <tr style=\"text-align: right;\">\n",
              "      <th></th>\n",
              "      <th>State</th>\n",
              "      <th>County, State</th>\n",
              "      <th>2018_FIR</th>\n",
              "      <th>Num_FIP</th>\n",
              "      <th>Low Threshold in state</th>\n",
              "      <th>Low Threshold Type</th>\n",
              "      <th>High Threshold in state</th>\n",
              "      <th>High Threshold Type</th>\n",
              "      <th>% FI ≤ Low Threshold</th>\n",
              "      <th>% FI Btwn Thresholds</th>\n",
              "      <th>% FI &gt; High Threshold</th>\n",
              "      <th>2018_CFIR</th>\n",
              "      <th>Num_CFIR</th>\n",
              "      <th>% food insecure children in HH w/ HH incomes below 185 FPL in 2018</th>\n",
              "      <th>% food insecure children in HH w/ HH incomes above 185 FPL in 2018</th>\n",
              "      <th>Cost_PM</th>\n",
              "      <th>2018 Weighted Annual Food Budget Shortfall</th>\n",
              "    </tr>\n",
              "  </thead>\n",
              "  <tbody>\n",
              "    <tr>\n",
              "      <th>0</th>\n",
              "      <td>AL</td>\n",
              "      <td>Autauga County, Alabama</td>\n",
              "      <td>15.6</td>\n",
              "      <td>8620.0</td>\n",
              "      <td>130.0</td>\n",
              "      <td>SNAP</td>\n",
              "      <td>185%</td>\n",
              "      <td>Other Nutrition Program</td>\n",
              "      <td>46.20%</td>\n",
              "      <td>13.20%</td>\n",
              "      <td>40.50%</td>\n",
              "      <td>21.4</td>\n",
              "      <td>2870.0</td>\n",
              "      <td>69%</td>\n",
              "      <td>31%</td>\n",
              "      <td>3.33</td>\n",
              "      <td>$4,857,000.00</td>\n",
              "    </tr>\n",
              "    <tr>\n",
              "      <th>1</th>\n",
              "      <td>AL</td>\n",
              "      <td>Baldwin County, Alabama</td>\n",
              "      <td>12.9</td>\n",
              "      <td>26860.0</td>\n",
              "      <td>130.0</td>\n",
              "      <td>SNAP</td>\n",
              "      <td>185%</td>\n",
              "      <td>Other Nutrition Program</td>\n",
              "      <td>37.10%</td>\n",
              "      <td>18.70%</td>\n",
              "      <td>44.20%</td>\n",
              "      <td>16.9</td>\n",
              "      <td>7710.0</td>\n",
              "      <td>74%</td>\n",
              "      <td>27%</td>\n",
              "      <td>3.58</td>\n",
              "      <td>$16,274,000.00</td>\n",
              "    </tr>\n",
              "  </tbody>\n",
              "</table>\n",
              "</div>"
            ],
            "text/plain": [
              "  State  ... 2018 Weighted Annual Food Budget Shortfall\n",
              "0    AL  ...                             $4,857,000.00 \n",
              "1    AL  ...                            $16,274,000.00 \n",
              "\n",
              "[2 rows x 17 columns]"
            ]
          },
          "metadata": {
            "tags": []
          },
          "execution_count": 24
        }
      ]
    },
    {
      "cell_type": "code",
      "metadata": {
        "id": "xisnh-RUxjoV",
        "colab": {
          "base_uri": "https://localhost:8080/",
          "height": 318
        },
        "outputId": "2d0484ee-7469-460e-999f-6875d7558f4f"
      },
      "source": [
        "df.head(2)\n"
      ],
      "execution_count": 25,
      "outputs": [
        {
          "output_type": "execute_result",
          "data": {
            "text/html": [
              "<div>\n",
              "<style scoped>\n",
              "    .dataframe tbody tr th:only-of-type {\n",
              "        vertical-align: middle;\n",
              "    }\n",
              "\n",
              "    .dataframe tbody tr th {\n",
              "        vertical-align: top;\n",
              "    }\n",
              "\n",
              "    .dataframe thead th {\n",
              "        text-align: right;\n",
              "    }\n",
              "</style>\n",
              "<table border=\"1\" class=\"dataframe\">\n",
              "  <thead>\n",
              "    <tr style=\"text-align: right;\">\n",
              "      <th></th>\n",
              "      <th>State</th>\n",
              "      <th>County, State</th>\n",
              "      <th>2018_FIR</th>\n",
              "      <th>Num_FIP</th>\n",
              "      <th>Low Threshold in state</th>\n",
              "      <th>Low Threshold Type</th>\n",
              "      <th>High Threshold in state</th>\n",
              "      <th>High Threshold Type</th>\n",
              "      <th>% FI ≤ Low Threshold</th>\n",
              "      <th>% FI Btwn Thresholds</th>\n",
              "      <th>% FI &gt; High Threshold</th>\n",
              "      <th>2018_CFIR</th>\n",
              "      <th>Num_CFIR</th>\n",
              "      <th>% food insecure children in HH w/ HH incomes below 185 FPL in 2018</th>\n",
              "      <th>% food insecure children in HH w/ HH incomes above 185 FPL in 2018</th>\n",
              "      <th>Cost_PM</th>\n",
              "      <th>2018 Weighted Annual Food Budget Shortfall</th>\n",
              "    </tr>\n",
              "  </thead>\n",
              "  <tbody>\n",
              "    <tr>\n",
              "      <th>0</th>\n",
              "      <td>AL</td>\n",
              "      <td>Autauga County, Alabama</td>\n",
              "      <td>15.6</td>\n",
              "      <td>8620.0</td>\n",
              "      <td>130.0</td>\n",
              "      <td>SNAP</td>\n",
              "      <td>185%</td>\n",
              "      <td>Other Nutrition Program</td>\n",
              "      <td>46.20%</td>\n",
              "      <td>13.20%</td>\n",
              "      <td>40.50%</td>\n",
              "      <td>21.4</td>\n",
              "      <td>2870.0</td>\n",
              "      <td>69%</td>\n",
              "      <td>31%</td>\n",
              "      <td>3.33</td>\n",
              "      <td>$4,857,000.00</td>\n",
              "    </tr>\n",
              "    <tr>\n",
              "      <th>1</th>\n",
              "      <td>AL</td>\n",
              "      <td>Baldwin County, Alabama</td>\n",
              "      <td>12.9</td>\n",
              "      <td>26860.0</td>\n",
              "      <td>130.0</td>\n",
              "      <td>SNAP</td>\n",
              "      <td>185%</td>\n",
              "      <td>Other Nutrition Program</td>\n",
              "      <td>37.10%</td>\n",
              "      <td>18.70%</td>\n",
              "      <td>44.20%</td>\n",
              "      <td>16.9</td>\n",
              "      <td>7710.0</td>\n",
              "      <td>74%</td>\n",
              "      <td>27%</td>\n",
              "      <td>3.58</td>\n",
              "      <td>$16,274,000.00</td>\n",
              "    </tr>\n",
              "  </tbody>\n",
              "</table>\n",
              "</div>"
            ],
            "text/plain": [
              "  State  ... 2018 Weighted Annual Food Budget Shortfall\n",
              "0    AL  ...                             $4,857,000.00 \n",
              "1    AL  ...                            $16,274,000.00 \n",
              "\n",
              "[2 rows x 17 columns]"
            ]
          },
          "metadata": {
            "tags": []
          },
          "execution_count": 25
        }
      ]
    },
    {
      "cell_type": "markdown",
      "metadata": {
        "id": "3UMFUp6CU_Wy"
      },
      "source": [
        "Finding Food Insecurity by State\n",
        "\n",
        "```\n",
        "\n",
        "```\n",
        "\n"
      ]
    },
    {
      "cell_type": "code",
      "metadata": {
        "colab": {
          "base_uri": "https://localhost:8080/",
          "height": 202
        },
        "id": "4MtmAlV1UuSP",
        "outputId": "56c0005a-cb68-45ab-a023-1a9df0978f45"
      },
      "source": [
        "df_subset = df[['State', 'County, State', '2018_FIR', 'Num_FIP', '2018_CFIR', 'Num_CFIR', 'Cost_PM']]\n",
        "\n",
        "df_subset.head(5)"
      ],
      "execution_count": 26,
      "outputs": [
        {
          "output_type": "execute_result",
          "data": {
            "text/html": [
              "<div>\n",
              "<style scoped>\n",
              "    .dataframe tbody tr th:only-of-type {\n",
              "        vertical-align: middle;\n",
              "    }\n",
              "\n",
              "    .dataframe tbody tr th {\n",
              "        vertical-align: top;\n",
              "    }\n",
              "\n",
              "    .dataframe thead th {\n",
              "        text-align: right;\n",
              "    }\n",
              "</style>\n",
              "<table border=\"1\" class=\"dataframe\">\n",
              "  <thead>\n",
              "    <tr style=\"text-align: right;\">\n",
              "      <th></th>\n",
              "      <th>State</th>\n",
              "      <th>County, State</th>\n",
              "      <th>2018_FIR</th>\n",
              "      <th>Num_FIP</th>\n",
              "      <th>2018_CFIR</th>\n",
              "      <th>Num_CFIR</th>\n",
              "      <th>Cost_PM</th>\n",
              "    </tr>\n",
              "  </thead>\n",
              "  <tbody>\n",
              "    <tr>\n",
              "      <th>0</th>\n",
              "      <td>AL</td>\n",
              "      <td>Autauga County, Alabama</td>\n",
              "      <td>15.6</td>\n",
              "      <td>8620.0</td>\n",
              "      <td>21.4</td>\n",
              "      <td>2870.0</td>\n",
              "      <td>3.33</td>\n",
              "    </tr>\n",
              "    <tr>\n",
              "      <th>1</th>\n",
              "      <td>AL</td>\n",
              "      <td>Baldwin County, Alabama</td>\n",
              "      <td>12.9</td>\n",
              "      <td>26860.0</td>\n",
              "      <td>16.9</td>\n",
              "      <td>7710.0</td>\n",
              "      <td>3.58</td>\n",
              "    </tr>\n",
              "    <tr>\n",
              "      <th>2</th>\n",
              "      <td>AL</td>\n",
              "      <td>Barbour County, Alabama</td>\n",
              "      <td>21.9</td>\n",
              "      <td>5650.0</td>\n",
              "      <td>32.0</td>\n",
              "      <td>1740.0</td>\n",
              "      <td>3.12</td>\n",
              "    </tr>\n",
              "    <tr>\n",
              "      <th>3</th>\n",
              "      <td>AL</td>\n",
              "      <td>Bibb County, Alabama</td>\n",
              "      <td>15.1</td>\n",
              "      <td>3400.0</td>\n",
              "      <td>20.9</td>\n",
              "      <td>970.0</td>\n",
              "      <td>2.94</td>\n",
              "    </tr>\n",
              "    <tr>\n",
              "      <th>4</th>\n",
              "      <td>AL</td>\n",
              "      <td>Blount County, Alabama</td>\n",
              "      <td>13.6</td>\n",
              "      <td>7810.0</td>\n",
              "      <td>19.1</td>\n",
              "      <td>2580.0</td>\n",
              "      <td>3.14</td>\n",
              "    </tr>\n",
              "  </tbody>\n",
              "</table>\n",
              "</div>"
            ],
            "text/plain": [
              "  State            County, State  2018_FIR  ...  2018_CFIR  Num_CFIR  Cost_PM\n",
              "0    AL  Autauga County, Alabama      15.6  ...       21.4    2870.0     3.33\n",
              "1    AL  Baldwin County, Alabama      12.9  ...       16.9    7710.0     3.58\n",
              "2    AL  Barbour County, Alabama      21.9  ...       32.0    1740.0     3.12\n",
              "3    AL     Bibb County, Alabama      15.1  ...       20.9     970.0     2.94\n",
              "4    AL   Blount County, Alabama      13.6  ...       19.1    2580.0     3.14\n",
              "\n",
              "[5 rows x 7 columns]"
            ]
          },
          "metadata": {
            "tags": []
          },
          "execution_count": 26
        }
      ]
    },
    {
      "cell_type": "code",
      "metadata": {
        "colab": {
          "base_uri": "https://localhost:8080/",
          "height": 341
        },
        "id": "5BOQyiBqU05p",
        "outputId": "4b6236c8-5466-43a3-deb4-f73b7c45c6d9"
      },
      "source": [
        "df_subset['Population'] = ((100 / df_subset['2018_FIR']) * df_subset['Num_FIP']).astype(np.int64)\n",
        "df_subset.head(5)"
      ],
      "execution_count": 27,
      "outputs": [
        {
          "output_type": "stream",
          "text": [
            "/usr/local/lib/python3.7/dist-packages/ipykernel_launcher.py:1: SettingWithCopyWarning:\n",
            "\n",
            "\n",
            "A value is trying to be set on a copy of a slice from a DataFrame.\n",
            "Try using .loc[row_indexer,col_indexer] = value instead\n",
            "\n",
            "See the caveats in the documentation: https://pandas.pydata.org/pandas-docs/stable/user_guide/indexing.html#returning-a-view-versus-a-copy\n",
            "\n"
          ],
          "name": "stderr"
        },
        {
          "output_type": "execute_result",
          "data": {
            "text/html": [
              "<div>\n",
              "<style scoped>\n",
              "    .dataframe tbody tr th:only-of-type {\n",
              "        vertical-align: middle;\n",
              "    }\n",
              "\n",
              "    .dataframe tbody tr th {\n",
              "        vertical-align: top;\n",
              "    }\n",
              "\n",
              "    .dataframe thead th {\n",
              "        text-align: right;\n",
              "    }\n",
              "</style>\n",
              "<table border=\"1\" class=\"dataframe\">\n",
              "  <thead>\n",
              "    <tr style=\"text-align: right;\">\n",
              "      <th></th>\n",
              "      <th>State</th>\n",
              "      <th>County, State</th>\n",
              "      <th>2018_FIR</th>\n",
              "      <th>Num_FIP</th>\n",
              "      <th>2018_CFIR</th>\n",
              "      <th>Num_CFIR</th>\n",
              "      <th>Cost_PM</th>\n",
              "      <th>Population</th>\n",
              "    </tr>\n",
              "  </thead>\n",
              "  <tbody>\n",
              "    <tr>\n",
              "      <th>0</th>\n",
              "      <td>AL</td>\n",
              "      <td>Autauga County, Alabama</td>\n",
              "      <td>15.6</td>\n",
              "      <td>8620.0</td>\n",
              "      <td>21.4</td>\n",
              "      <td>2870.0</td>\n",
              "      <td>3.33</td>\n",
              "      <td>55256</td>\n",
              "    </tr>\n",
              "    <tr>\n",
              "      <th>1</th>\n",
              "      <td>AL</td>\n",
              "      <td>Baldwin County, Alabama</td>\n",
              "      <td>12.9</td>\n",
              "      <td>26860.0</td>\n",
              "      <td>16.9</td>\n",
              "      <td>7710.0</td>\n",
              "      <td>3.58</td>\n",
              "      <td>208217</td>\n",
              "    </tr>\n",
              "    <tr>\n",
              "      <th>2</th>\n",
              "      <td>AL</td>\n",
              "      <td>Barbour County, Alabama</td>\n",
              "      <td>21.9</td>\n",
              "      <td>5650.0</td>\n",
              "      <td>32.0</td>\n",
              "      <td>1740.0</td>\n",
              "      <td>3.12</td>\n",
              "      <td>25799</td>\n",
              "    </tr>\n",
              "    <tr>\n",
              "      <th>3</th>\n",
              "      <td>AL</td>\n",
              "      <td>Bibb County, Alabama</td>\n",
              "      <td>15.1</td>\n",
              "      <td>3400.0</td>\n",
              "      <td>20.9</td>\n",
              "      <td>970.0</td>\n",
              "      <td>2.94</td>\n",
              "      <td>22516</td>\n",
              "    </tr>\n",
              "    <tr>\n",
              "      <th>4</th>\n",
              "      <td>AL</td>\n",
              "      <td>Blount County, Alabama</td>\n",
              "      <td>13.6</td>\n",
              "      <td>7810.0</td>\n",
              "      <td>19.1</td>\n",
              "      <td>2580.0</td>\n",
              "      <td>3.14</td>\n",
              "      <td>57426</td>\n",
              "    </tr>\n",
              "  </tbody>\n",
              "</table>\n",
              "</div>"
            ],
            "text/plain": [
              "  State            County, State  2018_FIR  ...  Num_CFIR  Cost_PM  Population\n",
              "0    AL  Autauga County, Alabama      15.6  ...    2870.0     3.33       55256\n",
              "1    AL  Baldwin County, Alabama      12.9  ...    7710.0     3.58      208217\n",
              "2    AL  Barbour County, Alabama      21.9  ...    1740.0     3.12       25799\n",
              "3    AL     Bibb County, Alabama      15.1  ...     970.0     2.94       22516\n",
              "4    AL   Blount County, Alabama      13.6  ...    2580.0     3.14       57426\n",
              "\n",
              "[5 rows x 8 columns]"
            ]
          },
          "metadata": {
            "tags": []
          },
          "execution_count": 27
        }
      ]
    },
    {
      "cell_type": "markdown",
      "metadata": {
        "id": "8nXeADoQVYMS"
      },
      "source": [
        "Five States with the Highest Insecurity Rate"
      ]
    },
    {
      "cell_type": "code",
      "metadata": {
        "colab": {
          "base_uri": "https://localhost:8080/",
          "height": 202
        },
        "id": "PI8cqiVwVOVI",
        "outputId": "33476efe-57c7-49f9-d192-2865a511a649"
      },
      "source": [
        "df_by_state = df_subset.groupby(['State'], as_index=False).agg({\n",
        "    'Num_FIP': 'sum',\n",
        "    'Population': 'sum'\n",
        "})\n",
        "df_by_state['Insecurity Rate'] = df_by_state['Num_FIP'] / df_by_state['Population']\n",
        "df_by_state.sort_values('Insecurity Rate', ascending=False, inplace=True)\n",
        "\n",
        "df_by_state.head(5)"
      ],
      "execution_count": 28,
      "outputs": [
        {
          "output_type": "execute_result",
          "data": {
            "text/html": [
              "<div>\n",
              "<style scoped>\n",
              "    .dataframe tbody tr th:only-of-type {\n",
              "        vertical-align: middle;\n",
              "    }\n",
              "\n",
              "    .dataframe tbody tr th {\n",
              "        vertical-align: top;\n",
              "    }\n",
              "\n",
              "    .dataframe thead th {\n",
              "        text-align: right;\n",
              "    }\n",
              "</style>\n",
              "<table border=\"1\" class=\"dataframe\">\n",
              "  <thead>\n",
              "    <tr style=\"text-align: right;\">\n",
              "      <th></th>\n",
              "      <th>State</th>\n",
              "      <th>Num_FIP</th>\n",
              "      <th>Population</th>\n",
              "      <th>Insecurity Rate</th>\n",
              "    </tr>\n",
              "  </thead>\n",
              "  <tbody>\n",
              "    <tr>\n",
              "      <th>25</th>\n",
              "      <td>MS</td>\n",
              "      <td>526280.0</td>\n",
              "      <td>2988929</td>\n",
              "      <td>0.176076</td>\n",
              "    </tr>\n",
              "    <tr>\n",
              "      <th>2</th>\n",
              "      <td>AR</td>\n",
              "      <td>498370.0</td>\n",
              "      <td>2992186</td>\n",
              "      <td>0.166557</td>\n",
              "    </tr>\n",
              "    <tr>\n",
              "      <th>1</th>\n",
              "      <td>AL</td>\n",
              "      <td>779510.0</td>\n",
              "      <td>4866750</td>\n",
              "      <td>0.160171</td>\n",
              "    </tr>\n",
              "    <tr>\n",
              "      <th>18</th>\n",
              "      <td>LA</td>\n",
              "      <td>711870.0</td>\n",
              "      <td>4664416</td>\n",
              "      <td>0.152617</td>\n",
              "    </tr>\n",
              "    <tr>\n",
              "      <th>17</th>\n",
              "      <td>KY</td>\n",
              "      <td>646440.0</td>\n",
              "      <td>4438889</td>\n",
              "      <td>0.145631</td>\n",
              "    </tr>\n",
              "  </tbody>\n",
              "</table>\n",
              "</div>"
            ],
            "text/plain": [
              "   State   Num_FIP  Population  Insecurity Rate\n",
              "25    MS  526280.0     2988929         0.176076\n",
              "2     AR  498370.0     2992186         0.166557\n",
              "1     AL  779510.0     4866750         0.160171\n",
              "18    LA  711870.0     4664416         0.152617\n",
              "17    KY  646440.0     4438889         0.145631"
            ]
          },
          "metadata": {
            "tags": []
          },
          "execution_count": 28
        }
      ]
    },
    {
      "cell_type": "markdown",
      "metadata": {
        "id": "EZMjLFXZVrPe"
      },
      "source": [
        "Five States with the lowest insecurity rate"
      ]
    },
    {
      "cell_type": "code",
      "metadata": {
        "colab": {
          "base_uri": "https://localhost:8080/",
          "height": 202
        },
        "id": "KWsfmze6VqR4",
        "outputId": "0c5ff84a-7b30-45fc-873d-7c873115bacb"
      },
      "source": [
        "df_by_state.tail(5)"
      ],
      "execution_count": 29,
      "outputs": [
        {
          "output_type": "execute_result",
          "data": {
            "text/html": [
              "<div>\n",
              "<style scoped>\n",
              "    .dataframe tbody tr th:only-of-type {\n",
              "        vertical-align: middle;\n",
              "    }\n",
              "\n",
              "    .dataframe tbody tr th {\n",
              "        vertical-align: top;\n",
              "    }\n",
              "\n",
              "    .dataframe thead th {\n",
              "        text-align: right;\n",
              "    }\n",
              "</style>\n",
              "<table border=\"1\" class=\"dataframe\">\n",
              "  <thead>\n",
              "    <tr style=\"text-align: right;\">\n",
              "      <th></th>\n",
              "      <th>State</th>\n",
              "      <th>Num_FIP</th>\n",
              "      <th>Population</th>\n",
              "      <th>Insecurity Rate</th>\n",
              "    </tr>\n",
              "  </thead>\n",
              "  <tbody>\n",
              "    <tr>\n",
              "      <th>30</th>\n",
              "      <td>NH</td>\n",
              "      <td>115940.0</td>\n",
              "      <td>1342896</td>\n",
              "      <td>0.086336</td>\n",
              "    </tr>\n",
              "    <tr>\n",
              "      <th>31</th>\n",
              "      <td>NJ</td>\n",
              "      <td>766930.0</td>\n",
              "      <td>8890816</td>\n",
              "      <td>0.086261</td>\n",
              "    </tr>\n",
              "    <tr>\n",
              "      <th>19</th>\n",
              "      <td>MA</td>\n",
              "      <td>570320.0</td>\n",
              "      <td>6839172</td>\n",
              "      <td>0.083390</td>\n",
              "    </tr>\n",
              "    <tr>\n",
              "      <th>23</th>\n",
              "      <td>MN</td>\n",
              "      <td>435010.0</td>\n",
              "      <td>5531347</td>\n",
              "      <td>0.078644</td>\n",
              "    </tr>\n",
              "    <tr>\n",
              "      <th>28</th>\n",
              "      <td>ND</td>\n",
              "      <td>47790.0</td>\n",
              "      <td>753147</td>\n",
              "      <td>0.063454</td>\n",
              "    </tr>\n",
              "  </tbody>\n",
              "</table>\n",
              "</div>"
            ],
            "text/plain": [
              "   State   Num_FIP  Population  Insecurity Rate\n",
              "30    NH  115940.0     1342896         0.086336\n",
              "31    NJ  766930.0     8890816         0.086261\n",
              "19    MA  570320.0     6839172         0.083390\n",
              "23    MN  435010.0     5531347         0.078644\n",
              "28    ND   47790.0      753147         0.063454"
            ]
          },
          "metadata": {
            "tags": []
          },
          "execution_count": 29
        }
      ]
    },
    {
      "cell_type": "markdown",
      "metadata": {
        "id": "Q5OQDN7jV4wx"
      },
      "source": [
        "Five states with the highest Total Number of Food Insecure People"
      ]
    },
    {
      "cell_type": "code",
      "metadata": {
        "colab": {
          "base_uri": "https://localhost:8080/",
          "height": 202
        },
        "id": "UbUOdR5oV1im",
        "outputId": "e2e9e669-ba32-4fea-c2dd-903627a61944"
      },
      "source": [
        "df_by_state.sort_values('Num_FIP', ascending=False).head(5)"
      ],
      "execution_count": 30,
      "outputs": [
        {
          "output_type": "execute_result",
          "data": {
            "text/html": [
              "<div>\n",
              "<style scoped>\n",
              "    .dataframe tbody tr th:only-of-type {\n",
              "        vertical-align: middle;\n",
              "    }\n",
              "\n",
              "    .dataframe tbody tr th {\n",
              "        vertical-align: top;\n",
              "    }\n",
              "\n",
              "    .dataframe thead th {\n",
              "        text-align: right;\n",
              "    }\n",
              "</style>\n",
              "<table border=\"1\" class=\"dataframe\">\n",
              "  <thead>\n",
              "    <tr style=\"text-align: right;\">\n",
              "      <th></th>\n",
              "      <th>State</th>\n",
              "      <th>Num_FIP</th>\n",
              "      <th>Population</th>\n",
              "      <th>Insecurity Rate</th>\n",
              "    </tr>\n",
              "  </thead>\n",
              "  <tbody>\n",
              "    <tr>\n",
              "      <th>4</th>\n",
              "      <td>CA</td>\n",
              "      <td>4126110.0</td>\n",
              "      <td>39091042</td>\n",
              "      <td>0.105551</td>\n",
              "    </tr>\n",
              "    <tr>\n",
              "      <th>43</th>\n",
              "      <td>TX</td>\n",
              "      <td>4030260.0</td>\n",
              "      <td>27902125</td>\n",
              "      <td>0.144443</td>\n",
              "    </tr>\n",
              "    <tr>\n",
              "      <th>9</th>\n",
              "      <td>FL</td>\n",
              "      <td>2572180.0</td>\n",
              "      <td>20589950</td>\n",
              "      <td>0.124924</td>\n",
              "    </tr>\n",
              "    <tr>\n",
              "      <th>34</th>\n",
              "      <td>NY</td>\n",
              "      <td>2125850.0</td>\n",
              "      <td>19616967</td>\n",
              "      <td>0.108368</td>\n",
              "    </tr>\n",
              "    <tr>\n",
              "      <th>35</th>\n",
              "      <td>OH</td>\n",
              "      <td>1588420.0</td>\n",
              "      <td>11646086</td>\n",
              "      <td>0.136391</td>\n",
              "    </tr>\n",
              "  </tbody>\n",
              "</table>\n",
              "</div>"
            ],
            "text/plain": [
              "   State    Num_FIP  Population  Insecurity Rate\n",
              "4     CA  4126110.0    39091042         0.105551\n",
              "43    TX  4030260.0    27902125         0.144443\n",
              "9     FL  2572180.0    20589950         0.124924\n",
              "34    NY  2125850.0    19616967         0.108368\n",
              "35    OH  1588420.0    11646086         0.136391"
            ]
          },
          "metadata": {
            "tags": []
          },
          "execution_count": 30
        }
      ]
    },
    {
      "cell_type": "markdown",
      "metadata": {
        "id": "l_iQNPQuWHzz"
      },
      "source": [
        "Five states with the Lowest total number of Food Insecure People"
      ]
    },
    {
      "cell_type": "code",
      "metadata": {
        "colab": {
          "base_uri": "https://localhost:8080/",
          "height": 202
        },
        "id": "F1feIP7IWOxC",
        "outputId": "3ffaf4cd-1ce4-423b-95c5-28de014603d9"
      },
      "source": [
        "df_by_state.sort_values('Num_FIP', ascending=False).tail(5)"
      ],
      "execution_count": 31,
      "outputs": [
        {
          "output_type": "execute_result",
          "data": {
            "text/html": [
              "<div>\n",
              "<style scoped>\n",
              "    .dataframe tbody tr th:only-of-type {\n",
              "        vertical-align: middle;\n",
              "    }\n",
              "\n",
              "    .dataframe tbody tr th {\n",
              "        vertical-align: top;\n",
              "    }\n",
              "\n",
              "    .dataframe thead th {\n",
              "        text-align: right;\n",
              "    }\n",
              "</style>\n",
              "<table border=\"1\" class=\"dataframe\">\n",
              "  <thead>\n",
              "    <tr style=\"text-align: right;\">\n",
              "      <th></th>\n",
              "      <th>State</th>\n",
              "      <th>Num_FIP</th>\n",
              "      <th>Population</th>\n",
              "      <th>Insecurity Rate</th>\n",
              "    </tr>\n",
              "  </thead>\n",
              "  <tbody>\n",
              "    <tr>\n",
              "      <th>41</th>\n",
              "      <td>SD</td>\n",
              "      <td>91600.0</td>\n",
              "      <td>863786</td>\n",
              "      <td>0.106045</td>\n",
              "    </tr>\n",
              "    <tr>\n",
              "      <th>7</th>\n",
              "      <td>DC</td>\n",
              "      <td>73090.0</td>\n",
              "      <td>683084</td>\n",
              "      <td>0.107000</td>\n",
              "    </tr>\n",
              "    <tr>\n",
              "      <th>50</th>\n",
              "      <td>WY</td>\n",
              "      <td>70410.0</td>\n",
              "      <td>581464</td>\n",
              "      <td>0.121091</td>\n",
              "    </tr>\n",
              "    <tr>\n",
              "      <th>46</th>\n",
              "      <td>VT</td>\n",
              "      <td>65970.0</td>\n",
              "      <td>625280</td>\n",
              "      <td>0.105505</td>\n",
              "    </tr>\n",
              "    <tr>\n",
              "      <th>28</th>\n",
              "      <td>ND</td>\n",
              "      <td>47790.0</td>\n",
              "      <td>753147</td>\n",
              "      <td>0.063454</td>\n",
              "    </tr>\n",
              "  </tbody>\n",
              "</table>\n",
              "</div>"
            ],
            "text/plain": [
              "   State  Num_FIP  Population  Insecurity Rate\n",
              "41    SD  91600.0      863786         0.106045\n",
              "7     DC  73090.0      683084         0.107000\n",
              "50    WY  70410.0      581464         0.121091\n",
              "46    VT  65970.0      625280         0.105505\n",
              "28    ND  47790.0      753147         0.063454"
            ]
          },
          "metadata": {
            "tags": []
          },
          "execution_count": 31
        }
      ]
    },
    {
      "cell_type": "markdown",
      "metadata": {
        "id": "d1wTow7tWqh0"
      },
      "source": [
        "Finding Food Insecurity for Children by State"
      ]
    },
    {
      "cell_type": "code",
      "metadata": {
        "colab": {
          "base_uri": "https://localhost:8080/",
          "height": 386
        },
        "id": "3MLcaNjVWpIp",
        "outputId": "522436fc-2b3c-41f8-ca59-d87eb5adcedb"
      },
      "source": [
        "df_subset = df[['State', 'County, State', '2018_FIR', 'Num_FIP', '2018_CFIR', 'Num_CFIR', 'Cost_PM']].copy()\n",
        "df_subset.head(11)"
      ],
      "execution_count": 32,
      "outputs": [
        {
          "output_type": "execute_result",
          "data": {
            "text/html": [
              "<div>\n",
              "<style scoped>\n",
              "    .dataframe tbody tr th:only-of-type {\n",
              "        vertical-align: middle;\n",
              "    }\n",
              "\n",
              "    .dataframe tbody tr th {\n",
              "        vertical-align: top;\n",
              "    }\n",
              "\n",
              "    .dataframe thead th {\n",
              "        text-align: right;\n",
              "    }\n",
              "</style>\n",
              "<table border=\"1\" class=\"dataframe\">\n",
              "  <thead>\n",
              "    <tr style=\"text-align: right;\">\n",
              "      <th></th>\n",
              "      <th>State</th>\n",
              "      <th>County, State</th>\n",
              "      <th>2018_FIR</th>\n",
              "      <th>Num_FIP</th>\n",
              "      <th>2018_CFIR</th>\n",
              "      <th>Num_CFIR</th>\n",
              "      <th>Cost_PM</th>\n",
              "    </tr>\n",
              "  </thead>\n",
              "  <tbody>\n",
              "    <tr>\n",
              "      <th>0</th>\n",
              "      <td>AL</td>\n",
              "      <td>Autauga County, Alabama</td>\n",
              "      <td>15.6</td>\n",
              "      <td>8620.0</td>\n",
              "      <td>21.4</td>\n",
              "      <td>2870.0</td>\n",
              "      <td>3.33</td>\n",
              "    </tr>\n",
              "    <tr>\n",
              "      <th>1</th>\n",
              "      <td>AL</td>\n",
              "      <td>Baldwin County, Alabama</td>\n",
              "      <td>12.9</td>\n",
              "      <td>26860.0</td>\n",
              "      <td>16.9</td>\n",
              "      <td>7710.0</td>\n",
              "      <td>3.58</td>\n",
              "    </tr>\n",
              "    <tr>\n",
              "      <th>2</th>\n",
              "      <td>AL</td>\n",
              "      <td>Barbour County, Alabama</td>\n",
              "      <td>21.9</td>\n",
              "      <td>5650.0</td>\n",
              "      <td>32.0</td>\n",
              "      <td>1740.0</td>\n",
              "      <td>3.12</td>\n",
              "    </tr>\n",
              "    <tr>\n",
              "      <th>3</th>\n",
              "      <td>AL</td>\n",
              "      <td>Bibb County, Alabama</td>\n",
              "      <td>15.1</td>\n",
              "      <td>3400.0</td>\n",
              "      <td>20.9</td>\n",
              "      <td>970.0</td>\n",
              "      <td>2.94</td>\n",
              "    </tr>\n",
              "    <tr>\n",
              "      <th>4</th>\n",
              "      <td>AL</td>\n",
              "      <td>Blount County, Alabama</td>\n",
              "      <td>13.6</td>\n",
              "      <td>7810.0</td>\n",
              "      <td>19.1</td>\n",
              "      <td>2580.0</td>\n",
              "      <td>3.14</td>\n",
              "    </tr>\n",
              "    <tr>\n",
              "      <th>5</th>\n",
              "      <td>AL</td>\n",
              "      <td>Bullock County, Alabama</td>\n",
              "      <td>20.5</td>\n",
              "      <td>2120.0</td>\n",
              "      <td>32.4</td>\n",
              "      <td>700.0</td>\n",
              "      <td>3.32</td>\n",
              "    </tr>\n",
              "    <tr>\n",
              "      <th>6</th>\n",
              "      <td>AL</td>\n",
              "      <td>Butler County, Alabama</td>\n",
              "      <td>19.1</td>\n",
              "      <td>3820.0</td>\n",
              "      <td>27.0</td>\n",
              "      <td>1230.0</td>\n",
              "      <td>2.97</td>\n",
              "    </tr>\n",
              "    <tr>\n",
              "      <th>7</th>\n",
              "      <td>AL</td>\n",
              "      <td>Calhoun County, Alabama</td>\n",
              "      <td>17.4</td>\n",
              "      <td>20050.0</td>\n",
              "      <td>24.6</td>\n",
              "      <td>6210.0</td>\n",
              "      <td>2.98</td>\n",
              "    </tr>\n",
              "    <tr>\n",
              "      <th>8</th>\n",
              "      <td>AL</td>\n",
              "      <td>Chambers County, Alabama</td>\n",
              "      <td>16.4</td>\n",
              "      <td>5530.0</td>\n",
              "      <td>22.2</td>\n",
              "      <td>1560.0</td>\n",
              "      <td>2.92</td>\n",
              "    </tr>\n",
              "    <tr>\n",
              "      <th>9</th>\n",
              "      <td>AL</td>\n",
              "      <td>Cherokee County, Alabama</td>\n",
              "      <td>15.6</td>\n",
              "      <td>4040.0</td>\n",
              "      <td>21.1</td>\n",
              "      <td>1110.0</td>\n",
              "      <td>3.25</td>\n",
              "    </tr>\n",
              "    <tr>\n",
              "      <th>10</th>\n",
              "      <td>AL</td>\n",
              "      <td>Chilton County, Alabama</td>\n",
              "      <td>15.8</td>\n",
              "      <td>6960.0</td>\n",
              "      <td>21.0</td>\n",
              "      <td>2230.0</td>\n",
              "      <td>3.15</td>\n",
              "    </tr>\n",
              "  </tbody>\n",
              "</table>\n",
              "</div>"
            ],
            "text/plain": [
              "   State             County, State  2018_FIR  ...  2018_CFIR  Num_CFIR  Cost_PM\n",
              "0     AL   Autauga County, Alabama      15.6  ...       21.4    2870.0     3.33\n",
              "1     AL   Baldwin County, Alabama      12.9  ...       16.9    7710.0     3.58\n",
              "2     AL   Barbour County, Alabama      21.9  ...       32.0    1740.0     3.12\n",
              "3     AL      Bibb County, Alabama      15.1  ...       20.9     970.0     2.94\n",
              "4     AL    Blount County, Alabama      13.6  ...       19.1    2580.0     3.14\n",
              "5     AL   Bullock County, Alabama      20.5  ...       32.4     700.0     3.32\n",
              "6     AL    Butler County, Alabama      19.1  ...       27.0    1230.0     2.97\n",
              "7     AL   Calhoun County, Alabama      17.4  ...       24.6    6210.0     2.98\n",
              "8     AL  Chambers County, Alabama      16.4  ...       22.2    1560.0     2.92\n",
              "9     AL  Cherokee County, Alabama      15.6  ...       21.1    1110.0     3.25\n",
              "10    AL   Chilton County, Alabama      15.8  ...       21.0    2230.0     3.15\n",
              "\n",
              "[11 rows x 7 columns]"
            ]
          },
          "metadata": {
            "tags": []
          },
          "execution_count": 32
        }
      ]
    },
    {
      "cell_type": "code",
      "metadata": {
        "colab": {
          "base_uri": "https://localhost:8080/",
          "height": 386
        },
        "id": "seq7pR0dYqDa",
        "outputId": "2edc1de4-c7fe-4336-df31-614053845310"
      },
      "source": [
        "df_subset['Population'] = ((100 / df_subset['2018_CFIR']) * df_subset['Num_CFIR']).astype(np.float64).copy()\n",
        "df_subset.head(11)"
      ],
      "execution_count": 33,
      "outputs": [
        {
          "output_type": "execute_result",
          "data": {
            "text/html": [
              "<div>\n",
              "<style scoped>\n",
              "    .dataframe tbody tr th:only-of-type {\n",
              "        vertical-align: middle;\n",
              "    }\n",
              "\n",
              "    .dataframe tbody tr th {\n",
              "        vertical-align: top;\n",
              "    }\n",
              "\n",
              "    .dataframe thead th {\n",
              "        text-align: right;\n",
              "    }\n",
              "</style>\n",
              "<table border=\"1\" class=\"dataframe\">\n",
              "  <thead>\n",
              "    <tr style=\"text-align: right;\">\n",
              "      <th></th>\n",
              "      <th>State</th>\n",
              "      <th>County, State</th>\n",
              "      <th>2018_FIR</th>\n",
              "      <th>Num_FIP</th>\n",
              "      <th>2018_CFIR</th>\n",
              "      <th>Num_CFIR</th>\n",
              "      <th>Cost_PM</th>\n",
              "      <th>Population</th>\n",
              "    </tr>\n",
              "  </thead>\n",
              "  <tbody>\n",
              "    <tr>\n",
              "      <th>0</th>\n",
              "      <td>AL</td>\n",
              "      <td>Autauga County, Alabama</td>\n",
              "      <td>15.6</td>\n",
              "      <td>8620.0</td>\n",
              "      <td>21.4</td>\n",
              "      <td>2870.0</td>\n",
              "      <td>3.33</td>\n",
              "      <td>13411.214953</td>\n",
              "    </tr>\n",
              "    <tr>\n",
              "      <th>1</th>\n",
              "      <td>AL</td>\n",
              "      <td>Baldwin County, Alabama</td>\n",
              "      <td>12.9</td>\n",
              "      <td>26860.0</td>\n",
              "      <td>16.9</td>\n",
              "      <td>7710.0</td>\n",
              "      <td>3.58</td>\n",
              "      <td>45621.301775</td>\n",
              "    </tr>\n",
              "    <tr>\n",
              "      <th>2</th>\n",
              "      <td>AL</td>\n",
              "      <td>Barbour County, Alabama</td>\n",
              "      <td>21.9</td>\n",
              "      <td>5650.0</td>\n",
              "      <td>32.0</td>\n",
              "      <td>1740.0</td>\n",
              "      <td>3.12</td>\n",
              "      <td>5437.500000</td>\n",
              "    </tr>\n",
              "    <tr>\n",
              "      <th>3</th>\n",
              "      <td>AL</td>\n",
              "      <td>Bibb County, Alabama</td>\n",
              "      <td>15.1</td>\n",
              "      <td>3400.0</td>\n",
              "      <td>20.9</td>\n",
              "      <td>970.0</td>\n",
              "      <td>2.94</td>\n",
              "      <td>4641.148325</td>\n",
              "    </tr>\n",
              "    <tr>\n",
              "      <th>4</th>\n",
              "      <td>AL</td>\n",
              "      <td>Blount County, Alabama</td>\n",
              "      <td>13.6</td>\n",
              "      <td>7810.0</td>\n",
              "      <td>19.1</td>\n",
              "      <td>2580.0</td>\n",
              "      <td>3.14</td>\n",
              "      <td>13507.853403</td>\n",
              "    </tr>\n",
              "    <tr>\n",
              "      <th>5</th>\n",
              "      <td>AL</td>\n",
              "      <td>Bullock County, Alabama</td>\n",
              "      <td>20.5</td>\n",
              "      <td>2120.0</td>\n",
              "      <td>32.4</td>\n",
              "      <td>700.0</td>\n",
              "      <td>3.32</td>\n",
              "      <td>2160.493827</td>\n",
              "    </tr>\n",
              "    <tr>\n",
              "      <th>6</th>\n",
              "      <td>AL</td>\n",
              "      <td>Butler County, Alabama</td>\n",
              "      <td>19.1</td>\n",
              "      <td>3820.0</td>\n",
              "      <td>27.0</td>\n",
              "      <td>1230.0</td>\n",
              "      <td>2.97</td>\n",
              "      <td>4555.555556</td>\n",
              "    </tr>\n",
              "    <tr>\n",
              "      <th>7</th>\n",
              "      <td>AL</td>\n",
              "      <td>Calhoun County, Alabama</td>\n",
              "      <td>17.4</td>\n",
              "      <td>20050.0</td>\n",
              "      <td>24.6</td>\n",
              "      <td>6210.0</td>\n",
              "      <td>2.98</td>\n",
              "      <td>25243.902439</td>\n",
              "    </tr>\n",
              "    <tr>\n",
              "      <th>8</th>\n",
              "      <td>AL</td>\n",
              "      <td>Chambers County, Alabama</td>\n",
              "      <td>16.4</td>\n",
              "      <td>5530.0</td>\n",
              "      <td>22.2</td>\n",
              "      <td>1560.0</td>\n",
              "      <td>2.92</td>\n",
              "      <td>7027.027027</td>\n",
              "    </tr>\n",
              "    <tr>\n",
              "      <th>9</th>\n",
              "      <td>AL</td>\n",
              "      <td>Cherokee County, Alabama</td>\n",
              "      <td>15.6</td>\n",
              "      <td>4040.0</td>\n",
              "      <td>21.1</td>\n",
              "      <td>1110.0</td>\n",
              "      <td>3.25</td>\n",
              "      <td>5260.663507</td>\n",
              "    </tr>\n",
              "    <tr>\n",
              "      <th>10</th>\n",
              "      <td>AL</td>\n",
              "      <td>Chilton County, Alabama</td>\n",
              "      <td>15.8</td>\n",
              "      <td>6960.0</td>\n",
              "      <td>21.0</td>\n",
              "      <td>2230.0</td>\n",
              "      <td>3.15</td>\n",
              "      <td>10619.047619</td>\n",
              "    </tr>\n",
              "  </tbody>\n",
              "</table>\n",
              "</div>"
            ],
            "text/plain": [
              "   State             County, State  2018_FIR  ...  Num_CFIR  Cost_PM    Population\n",
              "0     AL   Autauga County, Alabama      15.6  ...    2870.0     3.33  13411.214953\n",
              "1     AL   Baldwin County, Alabama      12.9  ...    7710.0     3.58  45621.301775\n",
              "2     AL   Barbour County, Alabama      21.9  ...    1740.0     3.12   5437.500000\n",
              "3     AL      Bibb County, Alabama      15.1  ...     970.0     2.94   4641.148325\n",
              "4     AL    Blount County, Alabama      13.6  ...    2580.0     3.14  13507.853403\n",
              "5     AL   Bullock County, Alabama      20.5  ...     700.0     3.32   2160.493827\n",
              "6     AL    Butler County, Alabama      19.1  ...    1230.0     2.97   4555.555556\n",
              "7     AL   Calhoun County, Alabama      17.4  ...    6210.0     2.98  25243.902439\n",
              "8     AL  Chambers County, Alabama      16.4  ...    1560.0     2.92   7027.027027\n",
              "9     AL  Cherokee County, Alabama      15.6  ...    1110.0     3.25   5260.663507\n",
              "10    AL   Chilton County, Alabama      15.8  ...    2230.0     3.15  10619.047619\n",
              "\n",
              "[11 rows x 8 columns]"
            ]
          },
          "metadata": {
            "tags": []
          },
          "execution_count": 33
        }
      ]
    },
    {
      "cell_type": "markdown",
      "metadata": {
        "id": "OOdkYsw-cEwJ"
      },
      "source": [
        "5 States with the highest insecurity rate for children\n"
      ]
    },
    {
      "cell_type": "code",
      "metadata": {
        "colab": {
          "base_uri": "https://localhost:8080/",
          "height": 355
        },
        "id": "p5ohG5JlXmN8",
        "outputId": "d951b75f-20b9-43fa-f389-f79c5769187f"
      },
      "source": [
        "df_by_kstate = df_subset.groupby(['State'], as_index=False).agg({\n",
        "    'Num_CFIR': 'sum',\n",
        "    'Population': 'sum'\n",
        "})\n",
        "df_by_kstate['Insecurity Rate'] = df_by_kstate['Num_CFIR'] / df_by_kstate['Population']\n",
        "df_by_kstate.sort_values('Insecurity Rate', ascending=False, inplace=True)\n",
        "\n",
        "df_by_kstate.head(10)"
      ],
      "execution_count": 34,
      "outputs": [
        {
          "output_type": "execute_result",
          "data": {
            "text/html": [
              "<div>\n",
              "<style scoped>\n",
              "    .dataframe tbody tr th:only-of-type {\n",
              "        vertical-align: middle;\n",
              "    }\n",
              "\n",
              "    .dataframe tbody tr th {\n",
              "        vertical-align: top;\n",
              "    }\n",
              "\n",
              "    .dataframe thead th {\n",
              "        text-align: right;\n",
              "    }\n",
              "</style>\n",
              "<table border=\"1\" class=\"dataframe\">\n",
              "  <thead>\n",
              "    <tr style=\"text-align: right;\">\n",
              "      <th></th>\n",
              "      <th>State</th>\n",
              "      <th>Num_CFIR</th>\n",
              "      <th>Population</th>\n",
              "      <th>Insecurity Rate</th>\n",
              "    </tr>\n",
              "  </thead>\n",
              "  <tbody>\n",
              "    <tr>\n",
              "      <th>18</th>\n",
              "      <td>LA</td>\n",
              "      <td>259180.0</td>\n",
              "      <td>1.108610e+06</td>\n",
              "      <td>0.233788</td>\n",
              "    </tr>\n",
              "    <tr>\n",
              "      <th>32</th>\n",
              "      <td>NM</td>\n",
              "      <td>113220.0</td>\n",
              "      <td>4.941857e+05</td>\n",
              "      <td>0.229104</td>\n",
              "    </tr>\n",
              "    <tr>\n",
              "      <th>2</th>\n",
              "      <td>AR</td>\n",
              "      <td>156510.0</td>\n",
              "      <td>7.055720e+05</td>\n",
              "      <td>0.221820</td>\n",
              "    </tr>\n",
              "    <tr>\n",
              "      <th>1</th>\n",
              "      <td>AL</td>\n",
              "      <td>240040.0</td>\n",
              "      <td>1.098639e+06</td>\n",
              "      <td>0.218489</td>\n",
              "    </tr>\n",
              "    <tr>\n",
              "      <th>25</th>\n",
              "      <td>MS</td>\n",
              "      <td>151540.0</td>\n",
              "      <td>7.204215e+05</td>\n",
              "      <td>0.210349</td>\n",
              "    </tr>\n",
              "    <tr>\n",
              "      <th>43</th>\n",
              "      <td>TX</td>\n",
              "      <td>1528430.0</td>\n",
              "      <td>7.293170e+06</td>\n",
              "      <td>0.209570</td>\n",
              "    </tr>\n",
              "    <tr>\n",
              "      <th>36</th>\n",
              "      <td>OK</td>\n",
              "      <td>200230.0</td>\n",
              "      <td>9.588580e+05</td>\n",
              "      <td>0.208821</td>\n",
              "    </tr>\n",
              "    <tr>\n",
              "      <th>49</th>\n",
              "      <td>WV</td>\n",
              "      <td>74430.0</td>\n",
              "      <td>3.732306e+05</td>\n",
              "      <td>0.199421</td>\n",
              "    </tr>\n",
              "    <tr>\n",
              "      <th>21</th>\n",
              "      <td>ME</td>\n",
              "      <td>48960.0</td>\n",
              "      <td>2.544189e+05</td>\n",
              "      <td>0.192439</td>\n",
              "    </tr>\n",
              "    <tr>\n",
              "      <th>3</th>\n",
              "      <td>AZ</td>\n",
              "      <td>313870.0</td>\n",
              "      <td>1.636318e+06</td>\n",
              "      <td>0.191815</td>\n",
              "    </tr>\n",
              "  </tbody>\n",
              "</table>\n",
              "</div>"
            ],
            "text/plain": [
              "   State   Num_CFIR    Population  Insecurity Rate\n",
              "18    LA   259180.0  1.108610e+06         0.233788\n",
              "32    NM   113220.0  4.941857e+05         0.229104\n",
              "2     AR   156510.0  7.055720e+05         0.221820\n",
              "1     AL   240040.0  1.098639e+06         0.218489\n",
              "25    MS   151540.0  7.204215e+05         0.210349\n",
              "43    TX  1528430.0  7.293170e+06         0.209570\n",
              "36    OK   200230.0  9.588580e+05         0.208821\n",
              "49    WV    74430.0  3.732306e+05         0.199421\n",
              "21    ME    48960.0  2.544189e+05         0.192439\n",
              "3     AZ   313870.0  1.636318e+06         0.191815"
            ]
          },
          "metadata": {
            "tags": []
          },
          "execution_count": 34
        }
      ]
    },
    {
      "cell_type": "markdown",
      "metadata": {
        "id": "g0DTDmeYceP_"
      },
      "source": [
        "5 States with the lowest insecurity rate for Children "
      ]
    },
    {
      "cell_type": "code",
      "metadata": {
        "colab": {
          "base_uri": "https://localhost:8080/",
          "height": 202
        },
        "id": "Jf0rMxC7bFRn",
        "outputId": "f6524efd-8d43-4923-b777-167a39a29cf1"
      },
      "source": [
        "df_by_kstate.tail(5)"
      ],
      "execution_count": 35,
      "outputs": [
        {
          "output_type": "execute_result",
          "data": {
            "text/html": [
              "<div>\n",
              "<style scoped>\n",
              "    .dataframe tbody tr th:only-of-type {\n",
              "        vertical-align: middle;\n",
              "    }\n",
              "\n",
              "    .dataframe tbody tr th {\n",
              "        vertical-align: top;\n",
              "    }\n",
              "\n",
              "    .dataframe thead th {\n",
              "        text-align: right;\n",
              "    }\n",
              "</style>\n",
              "<table border=\"1\" class=\"dataframe\">\n",
              "  <thead>\n",
              "    <tr style=\"text-align: right;\">\n",
              "      <th></th>\n",
              "      <th>State</th>\n",
              "      <th>Num_CFIR</th>\n",
              "      <th>Population</th>\n",
              "      <th>Insecurity Rate</th>\n",
              "    </tr>\n",
              "  </thead>\n",
              "  <tbody>\n",
              "    <tr>\n",
              "      <th>14</th>\n",
              "      <td>IL</td>\n",
              "      <td>353250.0</td>\n",
              "      <td>2.930938e+06</td>\n",
              "      <td>0.120525</td>\n",
              "    </tr>\n",
              "    <tr>\n",
              "      <th>45</th>\n",
              "      <td>VA</td>\n",
              "      <td>213650.0</td>\n",
              "      <td>1.869600e+06</td>\n",
              "      <td>0.114276</td>\n",
              "    </tr>\n",
              "    <tr>\n",
              "      <th>31</th>\n",
              "      <td>NJ</td>\n",
              "      <td>221340.0</td>\n",
              "      <td>1.973201e+06</td>\n",
              "      <td>0.112173</td>\n",
              "    </tr>\n",
              "    <tr>\n",
              "      <th>28</th>\n",
              "      <td>ND</td>\n",
              "      <td>17750.0</td>\n",
              "      <td>1.740097e+05</td>\n",
              "      <td>0.102006</td>\n",
              "    </tr>\n",
              "    <tr>\n",
              "      <th>19</th>\n",
              "      <td>MA</td>\n",
              "      <td>131770.0</td>\n",
              "      <td>1.379796e+06</td>\n",
              "      <td>0.095500</td>\n",
              "    </tr>\n",
              "  </tbody>\n",
              "</table>\n",
              "</div>"
            ],
            "text/plain": [
              "   State  Num_CFIR    Population  Insecurity Rate\n",
              "14    IL  353250.0  2.930938e+06         0.120525\n",
              "45    VA  213650.0  1.869600e+06         0.114276\n",
              "31    NJ  221340.0  1.973201e+06         0.112173\n",
              "28    ND   17750.0  1.740097e+05         0.102006\n",
              "19    MA  131770.0  1.379796e+06         0.095500"
            ]
          },
          "metadata": {
            "tags": []
          },
          "execution_count": 35
        }
      ]
    },
    {
      "cell_type": "markdown",
      "metadata": {
        "id": "ZYQKdcUscrTr"
      },
      "source": [
        "5 States with the highest total number of food insecure Children"
      ]
    },
    {
      "cell_type": "code",
      "metadata": {
        "colab": {
          "base_uri": "https://localhost:8080/",
          "height": 355
        },
        "id": "qQF9HBp-bcCO",
        "outputId": "e5f67264-05d3-4681-d720-282e80c42a6c"
      },
      "source": [
        "df_by_kstate.sort_values('Num_CFIR', ascending=False).head(10)"
      ],
      "execution_count": 36,
      "outputs": [
        {
          "output_type": "execute_result",
          "data": {
            "text/html": [
              "<div>\n",
              "<style scoped>\n",
              "    .dataframe tbody tr th:only-of-type {\n",
              "        vertical-align: middle;\n",
              "    }\n",
              "\n",
              "    .dataframe tbody tr th {\n",
              "        vertical-align: top;\n",
              "    }\n",
              "\n",
              "    .dataframe thead th {\n",
              "        text-align: right;\n",
              "    }\n",
              "</style>\n",
              "<table border=\"1\" class=\"dataframe\">\n",
              "  <thead>\n",
              "    <tr style=\"text-align: right;\">\n",
              "      <th></th>\n",
              "      <th>State</th>\n",
              "      <th>Num_CFIR</th>\n",
              "      <th>Population</th>\n",
              "      <th>Insecurity Rate</th>\n",
              "    </tr>\n",
              "  </thead>\n",
              "  <tbody>\n",
              "    <tr>\n",
              "      <th>43</th>\n",
              "      <td>TX</td>\n",
              "      <td>1528430.0</td>\n",
              "      <td>7.293170e+06</td>\n",
              "      <td>0.209570</td>\n",
              "    </tr>\n",
              "    <tr>\n",
              "      <th>4</th>\n",
              "      <td>CA</td>\n",
              "      <td>1333020.0</td>\n",
              "      <td>9.077838e+06</td>\n",
              "      <td>0.146843</td>\n",
              "    </tr>\n",
              "    <tr>\n",
              "      <th>9</th>\n",
              "      <td>FL</td>\n",
              "      <td>760470.0</td>\n",
              "      <td>4.147075e+06</td>\n",
              "      <td>0.183375</td>\n",
              "    </tr>\n",
              "    <tr>\n",
              "      <th>34</th>\n",
              "      <td>NY</td>\n",
              "      <td>689600.0</td>\n",
              "      <td>4.140627e+06</td>\n",
              "      <td>0.166545</td>\n",
              "    </tr>\n",
              "    <tr>\n",
              "      <th>35</th>\n",
              "      <td>OH</td>\n",
              "      <td>495570.0</td>\n",
              "      <td>2.619366e+06</td>\n",
              "      <td>0.189195</td>\n",
              "    </tr>\n",
              "    <tr>\n",
              "      <th>27</th>\n",
              "      <td>NC</td>\n",
              "      <td>434660.0</td>\n",
              "      <td>2.292670e+06</td>\n",
              "      <td>0.189587</td>\n",
              "    </tr>\n",
              "    <tr>\n",
              "      <th>10</th>\n",
              "      <td>GA</td>\n",
              "      <td>404720.0</td>\n",
              "      <td>2.501904e+06</td>\n",
              "      <td>0.161765</td>\n",
              "    </tr>\n",
              "    <tr>\n",
              "      <th>38</th>\n",
              "      <td>PA</td>\n",
              "      <td>399060.0</td>\n",
              "      <td>2.675576e+06</td>\n",
              "      <td>0.149149</td>\n",
              "    </tr>\n",
              "    <tr>\n",
              "      <th>14</th>\n",
              "      <td>IL</td>\n",
              "      <td>353250.0</td>\n",
              "      <td>2.930938e+06</td>\n",
              "      <td>0.120525</td>\n",
              "    </tr>\n",
              "    <tr>\n",
              "      <th>3</th>\n",
              "      <td>AZ</td>\n",
              "      <td>313870.0</td>\n",
              "      <td>1.636318e+06</td>\n",
              "      <td>0.191815</td>\n",
              "    </tr>\n",
              "  </tbody>\n",
              "</table>\n",
              "</div>"
            ],
            "text/plain": [
              "   State   Num_CFIR    Population  Insecurity Rate\n",
              "43    TX  1528430.0  7.293170e+06         0.209570\n",
              "4     CA  1333020.0  9.077838e+06         0.146843\n",
              "9     FL   760470.0  4.147075e+06         0.183375\n",
              "34    NY   689600.0  4.140627e+06         0.166545\n",
              "35    OH   495570.0  2.619366e+06         0.189195\n",
              "27    NC   434660.0  2.292670e+06         0.189587\n",
              "10    GA   404720.0  2.501904e+06         0.161765\n",
              "38    PA   399060.0  2.675576e+06         0.149149\n",
              "14    IL   353250.0  2.930938e+06         0.120525\n",
              "3     AZ   313870.0  1.636318e+06         0.191815"
            ]
          },
          "metadata": {
            "tags": []
          },
          "execution_count": 36
        }
      ]
    },
    {
      "cell_type": "code",
      "metadata": {
        "colab": {
          "base_uri": "https://localhost:8080/",
          "height": 202
        },
        "id": "UJVh3dtfbnGh",
        "outputId": "798f8ff9-9c18-4ea3-a004-8e60454aeb69"
      },
      "source": [
        "df_by_kstate.sort_values('Num_CFIR', ascending=False).tail(5)"
      ],
      "execution_count": 37,
      "outputs": [
        {
          "output_type": "execute_result",
          "data": {
            "text/html": [
              "<div>\n",
              "<style scoped>\n",
              "    .dataframe tbody tr th:only-of-type {\n",
              "        vertical-align: middle;\n",
              "    }\n",
              "\n",
              "    .dataframe tbody tr th {\n",
              "        vertical-align: top;\n",
              "    }\n",
              "\n",
              "    .dataframe thead th {\n",
              "        text-align: right;\n",
              "    }\n",
              "</style>\n",
              "<table border=\"1\" class=\"dataframe\">\n",
              "  <thead>\n",
              "    <tr style=\"text-align: right;\">\n",
              "      <th></th>\n",
              "      <th>State</th>\n",
              "      <th>Num_CFIR</th>\n",
              "      <th>Population</th>\n",
              "      <th>Insecurity Rate</th>\n",
              "    </tr>\n",
              "  </thead>\n",
              "  <tbody>\n",
              "    <tr>\n",
              "      <th>30</th>\n",
              "      <td>NH</td>\n",
              "      <td>31620.0</td>\n",
              "      <td>262292.700268</td>\n",
              "      <td>0.120552</td>\n",
              "    </tr>\n",
              "    <tr>\n",
              "      <th>50</th>\n",
              "      <td>WY</td>\n",
              "      <td>21950.0</td>\n",
              "      <td>137965.229956</td>\n",
              "      <td>0.159098</td>\n",
              "    </tr>\n",
              "    <tr>\n",
              "      <th>7</th>\n",
              "      <td>DC</td>\n",
              "      <td>21910.0</td>\n",
              "      <td>121722.222222</td>\n",
              "      <td>0.180000</td>\n",
              "    </tr>\n",
              "    <tr>\n",
              "      <th>28</th>\n",
              "      <td>ND</td>\n",
              "      <td>17750.0</td>\n",
              "      <td>174009.652781</td>\n",
              "      <td>0.102006</td>\n",
              "    </tr>\n",
              "    <tr>\n",
              "      <th>46</th>\n",
              "      <td>VT</td>\n",
              "      <td>17450.0</td>\n",
              "      <td>118598.594697</td>\n",
              "      <td>0.147135</td>\n",
              "    </tr>\n",
              "  </tbody>\n",
              "</table>\n",
              "</div>"
            ],
            "text/plain": [
              "   State  Num_CFIR     Population  Insecurity Rate\n",
              "30    NH   31620.0  262292.700268         0.120552\n",
              "50    WY   21950.0  137965.229956         0.159098\n",
              "7     DC   21910.0  121722.222222         0.180000\n",
              "28    ND   17750.0  174009.652781         0.102006\n",
              "46    VT   17450.0  118598.594697         0.147135"
            ]
          },
          "metadata": {
            "tags": []
          },
          "execution_count": 37
        }
      ]
    },
    {
      "cell_type": "code",
      "metadata": {
        "colab": {
          "base_uri": "https://localhost:8080/",
          "height": 542
        },
        "id": "MlhAf4whhP9D",
        "outputId": "cf8f456f-c4a3-488d-8768-9447dd0814a1"
      },
      "source": [
        "fig = px.line(df_mealgap, x='State', y='Num_CFIR', title='State and Number of Children FIR')\n",
        "fig.show()"
      ],
      "execution_count": 38,
      "outputs": [
        {
          "output_type": "display_data",
          "data": {
            "text/html": [
              "<html>\n",
              "<head><meta charset=\"utf-8\" /></head>\n",
              "<body>\n",
              "    <div>\n",
              "            <script src=\"https://cdnjs.cloudflare.com/ajax/libs/mathjax/2.7.5/MathJax.js?config=TeX-AMS-MML_SVG\"></script><script type=\"text/javascript\">if (window.MathJax) {MathJax.Hub.Config({SVG: {font: \"STIX-Web\"}});}</script>\n",
              "                <script type=\"text/javascript\">window.PlotlyConfig = {MathJaxConfig: 'local'};</script>\n",
              "        <script src=\"https://cdn.plot.ly/plotly-latest.min.js\"></script>    \n",
              "            <div id=\"01070bb4-b2e9-46d6-9cf1-90dec0792d48\" class=\"plotly-graph-div\" style=\"height:525px; width:100%;\"></div>\n",
              "            <script type=\"text/javascript\">\n",
              "                \n",
              "                    window.PLOTLYENV=window.PLOTLYENV || {};\n",
              "                    \n",
              "                if (document.getElementById(\"01070bb4-b2e9-46d6-9cf1-90dec0792d48\")) {\n",
              "                    Plotly.newPlot(\n",
              "                        '01070bb4-b2e9-46d6-9cf1-90dec0792d48',\n",
              "                        [{\"hoverlabel\": {\"namelength\": 0}, \"hovertemplate\": \"State=%{x}<br>Num_CFIR=%{y}\", \"legendgroup\": \"\", \"line\": {\"color\": \"#636efa\", \"dash\": \"solid\"}, \"mode\": \"lines\", \"name\": \"\", \"showlegend\": false, \"type\": \"scattergl\", \"x\": [\"AL\", \"AL\", \"AL\", \"AL\", \"AL\", \"AL\", \"AL\", \"AL\", \"AL\", \"AL\", \"AL\", \"AL\", \"AL\", \"AL\", \"AL\", \"AL\", \"AL\", \"AL\", \"AL\", \"AL\", \"AL\", \"AL\", \"AL\", \"AL\", \"AL\", \"AL\", \"AL\", \"AL\", \"AL\", \"AL\", \"AL\", \"AL\", \"AL\", \"AL\", \"AL\", \"AL\", \"AL\", \"AL\", \"AL\", \"AL\", \"AL\", \"AL\", \"AL\", \"AL\", \"AL\", \"AL\", \"AL\", \"AL\", \"AL\", \"AL\", \"AL\", \"AL\", \"AL\", \"AL\", \"AL\", \"AL\", \"AL\", \"AL\", \"AL\", \"AL\", \"AL\", \"AL\", \"AL\", \"AL\", \"AL\", \"AL\", \"AL\", \"AK\", \"AK\", \"AK\", \"AK\", \"AK\", \"AK\", \"AK\", \"AK\", \"AK\", \"AK\", \"AK\", \"AK\", \"AK\", \"AK\", \"AK\", \"AK\", \"AK\", \"AK\", \"AK\", \"AK\", \"AK\", \"AK\", \"AK\", \"AK\", \"AK\", \"AK\", \"AK\", \"AK\", \"AK\", \"AZ\", \"AZ\", \"AZ\", \"AZ\", \"AZ\", \"AZ\", \"AZ\", \"AZ\", \"AZ\", \"AZ\", \"AZ\", \"AZ\", \"AZ\", \"AZ\", \"AZ\", \"AR\", \"AR\", \"AR\", \"AR\", \"AR\", \"AR\", \"AR\", \"AR\", \"AR\", \"AR\", \"AR\", \"AR\", \"AR\", \"AR\", \"AR\", \"AR\", \"AR\", \"AR\", \"AR\", \"AR\", \"AR\", \"AR\", \"AR\", \"AR\", \"AR\", \"AR\", \"AR\", \"AR\", \"AR\", \"AR\", \"AR\", \"AR\", \"AR\", \"AR\", \"AR\", \"AR\", \"AR\", \"AR\", \"AR\", \"AR\", \"AR\", \"AR\", \"AR\", \"AR\", \"AR\", \"AR\", \"AR\", \"AR\", \"AR\", \"AR\", \"AR\", \"AR\", \"AR\", \"AR\", \"AR\", \"AR\", \"AR\", \"AR\", \"AR\", \"AR\", \"AR\", \"AR\", \"AR\", \"AR\", \"AR\", \"AR\", \"AR\", \"AR\", \"AR\", \"AR\", \"AR\", \"AR\", \"AR\", \"AR\", \"AR\", \"CA\", \"CA\", \"CA\", \"CA\", \"CA\", \"CA\", \"CA\", \"CA\", \"CA\", \"CA\", \"CA\", \"CA\", \"CA\", \"CA\", \"CA\", \"CA\", \"CA\", \"CA\", \"CA\", \"CA\", \"CA\", \"CA\", \"CA\", \"CA\", \"CA\", \"CA\", \"CA\", \"CA\", \"CA\", \"CA\", \"CA\", \"CA\", \"CA\", \"CA\", \"CA\", \"CA\", \"CA\", \"CA\", \"CA\", \"CA\", \"CA\", \"CA\", \"CA\", \"CA\", \"CA\", \"CA\", \"CA\", \"CA\", \"CA\", \"CA\", \"CA\", \"CA\", \"CA\", \"CA\", \"CA\", \"CA\", \"CA\", \"CA\", \"CO\", \"CO\", \"CO\", \"CO\", \"CO\", \"CO\", \"CO\", \"CO\", \"CO\", \"CO\", \"CO\", \"CO\", \"CO\", \"CO\", \"CO\", \"CO\", \"CO\", \"CO\", \"CO\", \"CO\", \"CO\", \"CO\", \"CO\", \"CO\", \"CO\", \"CO\", \"CO\", \"CO\", \"CO\", \"CO\", \"CO\", \"CO\", \"CO\", \"CO\", \"CO\", \"CO\", \"CO\", \"CO\", \"CO\", \"CO\", \"CO\", \"CO\", \"CO\", \"CO\", \"CO\", \"CO\", \"CO\", \"CO\", \"CO\", \"CO\", \"CO\", \"CO\", \"CO\", \"CO\", \"CO\", \"CO\", \"CO\", \"CO\", \"CO\", \"CO\", \"CO\", \"CO\", \"CO\", \"CO\", \"CT\", \"CT\", \"CT\", \"CT\", \"CT\", \"CT\", \"CT\", \"CT\", \"DE\", \"DE\", \"DE\", \"DC\", \"FL\", \"FL\", \"FL\", \"FL\", \"FL\", \"FL\", \"FL\", \"FL\", \"FL\", \"FL\", \"FL\", \"FL\", \"FL\", \"FL\", \"FL\", \"FL\", \"FL\", \"FL\", \"FL\", \"FL\", \"FL\", \"FL\", \"FL\", \"FL\", \"FL\", \"FL\", \"FL\", \"FL\", \"FL\", \"FL\", \"FL\", \"FL\", \"FL\", \"FL\", \"FL\", \"FL\", \"FL\", \"FL\", \"FL\", \"FL\", \"FL\", \"FL\", \"FL\", \"FL\", \"FL\", \"FL\", \"FL\", \"FL\", \"FL\", \"FL\", \"FL\", \"FL\", \"FL\", \"FL\", \"FL\", \"FL\", \"FL\", \"FL\", \"FL\", \"FL\", \"FL\", \"FL\", \"FL\", \"FL\", \"FL\", \"FL\", \"FL\", \"GA\", \"GA\", \"GA\", \"GA\", \"GA\", \"GA\", \"GA\", \"GA\", \"GA\", \"GA\", \"GA\", \"GA\", \"GA\", \"GA\", \"GA\", \"GA\", \"GA\", \"GA\", \"GA\", \"GA\", \"GA\", \"GA\", \"GA\", \"GA\", \"GA\", \"GA\", \"GA\", \"GA\", \"GA\", \"GA\", \"GA\", \"GA\", \"GA\", \"GA\", \"GA\", \"GA\", \"GA\", \"GA\", \"GA\", \"GA\", \"GA\", \"GA\", \"GA\", \"GA\", \"GA\", \"GA\", \"GA\", \"GA\", \"GA\", \"GA\", \"GA\", \"GA\", \"GA\", \"GA\", \"GA\", \"GA\", \"GA\", \"GA\", \"GA\", \"GA\", \"GA\", \"GA\", \"GA\", \"GA\", \"GA\", \"GA\", \"GA\", \"GA\", \"GA\", \"GA\", \"GA\", \"GA\", \"GA\", \"GA\", \"GA\", \"GA\", \"GA\", \"GA\", \"GA\", \"GA\", \"GA\", \"GA\", \"GA\", \"GA\", \"GA\", \"GA\", \"GA\", \"GA\", \"GA\", \"GA\", \"GA\", \"GA\", \"GA\", \"GA\", \"GA\", \"GA\", \"GA\", \"GA\", \"GA\", \"GA\", \"GA\", \"GA\", \"GA\", \"GA\", \"GA\", \"GA\", \"GA\", \"GA\", \"GA\", \"GA\", \"GA\", \"GA\", \"GA\", \"GA\", \"GA\", \"GA\", \"GA\", \"GA\", \"GA\", \"GA\", \"GA\", \"GA\", \"GA\", \"GA\", \"GA\", \"GA\", \"GA\", \"GA\", \"GA\", \"GA\", \"GA\", \"GA\", \"GA\", \"GA\", \"GA\", \"GA\", \"GA\", \"GA\", \"GA\", \"GA\", \"GA\", \"GA\", \"GA\", \"GA\", \"GA\", \"GA\", \"GA\", \"GA\", \"GA\", \"GA\", \"GA\", \"GA\", \"GA\", \"GA\", \"GA\", \"GA\", \"GA\", \"GA\", \"GA\", \"HI\", \"HI\", \"HI\", \"HI\", \"HI\", \"ID\", \"ID\", \"ID\", \"ID\", \"ID\", \"ID\", \"ID\", \"ID\", \"ID\", \"ID\", \"ID\", \"ID\", \"ID\", \"ID\", \"ID\", \"ID\", \"ID\", \"ID\", \"ID\", \"ID\", \"ID\", \"ID\", \"ID\", \"ID\", \"ID\", \"ID\", \"ID\", \"ID\", \"ID\", \"ID\", \"ID\", \"ID\", \"ID\", \"ID\", \"ID\", \"ID\", \"ID\", \"ID\", \"ID\", \"ID\", \"ID\", \"ID\", \"ID\", \"ID\", \"IL\", \"IL\", \"IL\", \"IL\", \"IL\", \"IL\", \"IL\", \"IL\", \"IL\", \"IL\", \"IL\", \"IL\", \"IL\", \"IL\", \"IL\", \"IL\", \"IL\", \"IL\", \"IL\", \"IL\", \"IL\", \"IL\", \"IL\", \"IL\", \"IL\", \"IL\", \"IL\", \"IL\", \"IL\", \"IL\", \"IL\", \"IL\", \"IL\", \"IL\", \"IL\", \"IL\", \"IL\", \"IL\", \"IL\", \"IL\", \"IL\", \"IL\", \"IL\", \"IL\", \"IL\", \"IL\", \"IL\", \"IL\", \"IL\", \"IL\", \"IL\", \"IL\", \"IL\", \"IL\", \"IL\", \"IL\", \"IL\", \"IL\", \"IL\", \"IL\", \"IL\", \"IL\", \"IL\", \"IL\", \"IL\", \"IL\", \"IL\", \"IL\", \"IL\", \"IL\", \"IL\", \"IL\", \"IL\", \"IL\", \"IL\", \"IL\", \"IL\", \"IL\", \"IL\", \"IL\", \"IL\", \"IL\", \"IL\", \"IL\", \"IL\", \"IL\", \"IL\", \"IL\", \"IL\", \"IL\", \"IL\", \"IL\", \"IL\", \"IL\", \"IL\", \"IL\", \"IL\", \"IL\", \"IL\", \"IL\", \"IL\", \"IL\", \"IN\", \"IN\", \"IN\", \"IN\", \"IN\", \"IN\", \"IN\", \"IN\", \"IN\", \"IN\", \"IN\", \"IN\", \"IN\", \"IN\", \"IN\", \"IN\", \"IN\", \"IN\", \"IN\", \"IN\", \"IN\", \"IN\", \"IN\", \"IN\", \"IN\", \"IN\", \"IN\", \"IN\", \"IN\", \"IN\", \"IN\", \"IN\", \"IN\", \"IN\", \"IN\", \"IN\", \"IN\", \"IN\", \"IN\", \"IN\", \"IN\", \"IN\", \"IN\", \"IN\", \"IN\", \"IN\", \"IN\", \"IN\", \"IN\", \"IN\", \"IN\", \"IN\", \"IN\", \"IN\", \"IN\", \"IN\", \"IN\", \"IN\", \"IN\", \"IN\", \"IN\", \"IN\", \"IN\", \"IN\", \"IN\", \"IN\", \"IN\", \"IN\", \"IN\", \"IN\", \"IN\", \"IN\", \"IN\", \"IN\", \"IN\", \"IN\", \"IN\", \"IN\", \"IN\", \"IN\", \"IN\", \"IN\", \"IN\", \"IN\", \"IN\", \"IN\", \"IN\", \"IN\", \"IN\", \"IN\", \"IN\", \"IN\", \"IA\", \"IA\", \"IA\", \"IA\", \"IA\", \"IA\", \"IA\", \"IA\", \"IA\", \"IA\", \"IA\", \"IA\", \"IA\", \"IA\", \"IA\", \"IA\", \"IA\", \"IA\", \"IA\", \"IA\", \"IA\", \"IA\", \"IA\", \"IA\", \"IA\", \"IA\", \"IA\", \"IA\", \"IA\", \"IA\", \"IA\", \"IA\", \"IA\", \"IA\", \"IA\", \"IA\", \"IA\", \"IA\", \"IA\", \"IA\", \"IA\", \"IA\", \"IA\", \"IA\", \"IA\", \"IA\", \"IA\", \"IA\", \"IA\", \"IA\", \"IA\", \"IA\", \"IA\", \"IA\", \"IA\", \"IA\", \"IA\", \"IA\", \"IA\", \"IA\", \"IA\", \"IA\", \"IA\", \"IA\", \"IA\", \"IA\", \"IA\", \"IA\", \"IA\", \"IA\", \"IA\", \"IA\", \"IA\", \"IA\", \"IA\", \"IA\", \"IA\", \"IA\", \"IA\", \"IA\", \"IA\", \"IA\", \"IA\", \"IA\", \"IA\", \"IA\", \"IA\", \"IA\", \"IA\", \"IA\", \"IA\", \"IA\", \"IA\", \"IA\", \"IA\", \"IA\", \"IA\", \"IA\", \"IA\", \"KS\", \"KS\", \"KS\", \"KS\", \"KS\", \"KS\", \"KS\", \"KS\", \"KS\", \"KS\", \"KS\", \"KS\", \"KS\", \"KS\", \"KS\", \"KS\", \"KS\", \"KS\", \"KS\", \"KS\", \"KS\", \"KS\", \"KS\", \"KS\", \"KS\", \"KS\", \"KS\", \"KS\", \"KS\", \"KS\", \"KS\", \"KS\", \"KS\", \"KS\", \"KS\", \"KS\", \"KS\", \"KS\", \"KS\", \"KS\", \"KS\", \"KS\", \"KS\", \"KS\", \"KS\", \"KS\", \"KS\", \"KS\", \"KS\", \"KS\", \"KS\", \"KS\", \"KS\", \"KS\", \"KS\", \"KS\", \"KS\", \"KS\", \"KS\", \"KS\", \"KS\", \"KS\", \"KS\", \"KS\", \"KS\", \"KS\", \"KS\", \"KS\", \"KS\", \"KS\", \"KS\", \"KS\", \"KS\", \"KS\", \"KS\", \"KS\", \"KS\", \"KS\", \"KS\", \"KS\", \"KS\", \"KS\", \"KS\", \"KS\", \"KS\", \"KS\", \"KS\", \"KS\", \"KS\", \"KS\", \"KS\", \"KS\", \"KS\", \"KS\", \"KS\", \"KS\", \"KS\", \"KS\", \"KS\", \"KS\", \"KS\", \"KS\", \"KS\", \"KS\", \"KS\", \"KY\", \"KY\", \"KY\", \"KY\", \"KY\", \"KY\", \"KY\", \"KY\", \"KY\", \"KY\", \"KY\", \"KY\", \"KY\", \"KY\", \"KY\", \"KY\", \"KY\", \"KY\", \"KY\", \"KY\", \"KY\", \"KY\", \"KY\", \"KY\", \"KY\", \"KY\", \"KY\", \"KY\", \"KY\", \"KY\", \"KY\", \"KY\", \"KY\", \"KY\", \"KY\", \"KY\", \"KY\", \"KY\", \"KY\", \"KY\", \"KY\", \"KY\", \"KY\", \"KY\", \"KY\", \"KY\", \"KY\", \"KY\", \"KY\", \"KY\", \"KY\", \"KY\", \"KY\", \"KY\", \"KY\", \"KY\", \"KY\", \"KY\", \"KY\", \"KY\", \"KY\", \"KY\", \"KY\", \"KY\", \"KY\", \"KY\", \"KY\", \"KY\", \"KY\", \"KY\", \"KY\", \"KY\", \"KY\", \"KY\", \"KY\", \"KY\", \"KY\", \"KY\", \"KY\", \"KY\", \"KY\", \"KY\", \"KY\", \"KY\", \"KY\", \"KY\", \"KY\", \"KY\", \"KY\", \"KY\", \"KY\", \"KY\", \"KY\", \"KY\", \"KY\", \"KY\", \"KY\", \"KY\", \"KY\", \"KY\", \"KY\", \"KY\", \"KY\", \"KY\", \"KY\", \"KY\", \"KY\", \"KY\", \"KY\", \"KY\", \"KY\", \"KY\", \"KY\", \"KY\", \"KY\", \"KY\", \"KY\", \"KY\", \"KY\", \"KY\", \"LA\", \"LA\", \"LA\", \"LA\", \"LA\", \"LA\", \"LA\", \"LA\", \"LA\", \"LA\", \"LA\", \"LA\", \"LA\", \"LA\", \"LA\", \"LA\", \"LA\", \"LA\", \"LA\", \"LA\", \"LA\", \"LA\", \"LA\", \"LA\", \"LA\", \"LA\", \"LA\", \"LA\", \"LA\", \"LA\", \"LA\", \"LA\", \"LA\", \"LA\", \"LA\", \"LA\", \"LA\", \"LA\", \"LA\", \"LA\", \"LA\", \"LA\", \"LA\", \"LA\", \"LA\", \"LA\", \"LA\", \"LA\", \"LA\", \"LA\", \"LA\", \"LA\", \"LA\", \"LA\", \"LA\", \"LA\", \"LA\", \"LA\", \"LA\", \"LA\", \"LA\", \"LA\", \"LA\", \"LA\", \"ME\", \"ME\", \"ME\", \"ME\", \"ME\", \"ME\", \"ME\", \"ME\", \"ME\", \"ME\", \"ME\", \"ME\", \"ME\", \"ME\", \"ME\", \"ME\", \"MD\", \"MD\", \"MD\", \"MD\", \"MD\", \"MD\", \"MD\", \"MD\", \"MD\", \"MD\", \"MD\", \"MD\", \"MD\", \"MD\", \"MD\", \"MD\", \"MD\", \"MD\", \"MD\", \"MD\", \"MD\", \"MD\", \"MD\", \"MD\", \"MA\", \"MA\", \"MA\", \"MA\", \"MA\", \"MA\", \"MA\", \"MA\", \"MA\", \"MA\", \"MA\", \"MA\", \"MA\", \"MA\", \"MI\", \"MI\", \"MI\", \"MI\", \"MI\", \"MI\", \"MI\", \"MI\", \"MI\", \"MI\", \"MI\", \"MI\", \"MI\", \"MI\", \"MI\", \"MI\", \"MI\", \"MI\", \"MI\", \"MI\", \"MI\", \"MI\", \"MI\", \"MI\", \"MI\", \"MI\", \"MI\", \"MI\", \"MI\", \"MI\", \"MI\", \"MI\", \"MI\", \"MI\", \"MI\", \"MI\", \"MI\", \"MI\", \"MI\", \"MI\", \"MI\", \"MI\", \"MI\", \"MI\", \"MI\", \"MI\", \"MI\", \"MI\", \"MI\", \"MI\", \"MI\", \"MI\", \"MI\", \"MI\", \"MI\", \"MI\", \"MI\", \"MI\", \"MI\", \"MI\", \"MI\", \"MI\", \"MI\", \"MI\", \"MI\", \"MI\", \"MI\", \"MI\", \"MI\", \"MI\", \"MI\", \"MI\", \"MI\", \"MI\", \"MI\", \"MI\", \"MI\", \"MI\", \"MI\", \"MI\", \"MI\", \"MI\", \"MI\", \"MN\", \"MN\", \"MN\", \"MN\", \"MN\", \"MN\", \"MN\", \"MN\", \"MN\", \"MN\", \"MN\", \"MN\", \"MN\", \"MN\", \"MN\", \"MN\", \"MN\", \"MN\", \"MN\", \"MN\", \"MN\", \"MN\", \"MN\", \"MN\", \"MN\", \"MN\", \"MN\", \"MN\", \"MN\", \"MN\", \"MN\", \"MN\", \"MN\", \"MN\", \"MN\", \"MN\", \"MN\", \"MN\", \"MN\", \"MN\", \"MN\", \"MN\", \"MN\", \"MN\", \"MN\", \"MN\", \"MN\", \"MN\", \"MN\", \"MN\", \"MN\", \"MN\", \"MN\", \"MN\", \"MN\", \"MN\", \"MN\", \"MN\", \"MN\", \"MN\", \"MN\", \"MN\", \"MN\", \"MN\", \"MN\", \"MN\", \"MN\", \"MN\", \"MN\", \"MN\", \"MN\", \"MN\", \"MN\", \"MN\", \"MN\", \"MN\", \"MN\", \"MN\", \"MN\", \"MN\", \"MN\", \"MN\", \"MN\", \"MN\", \"MN\", \"MN\", \"MN\", \"MS\", \"MS\", \"MS\", \"MS\", \"MS\", \"MS\", \"MS\", \"MS\", \"MS\", \"MS\", \"MS\", \"MS\", \"MS\", \"MS\", \"MS\", \"MS\", \"MS\", \"MS\", \"MS\", \"MS\", \"MS\", \"MS\", \"MS\", \"MS\", \"MS\", \"MS\", \"MS\", \"MS\", \"MS\", \"MS\", \"MS\", \"MS\", \"MS\", \"MS\", \"MS\", \"MS\", \"MS\", \"MS\", \"MS\", \"MS\", \"MS\", \"MS\", \"MS\", \"MS\", \"MS\", \"MS\", \"MS\", \"MS\", \"MS\", \"MS\", \"MS\", \"MS\", \"MS\", \"MS\", \"MS\", \"MS\", \"MS\", \"MS\", \"MS\", \"MS\", \"MS\", \"MS\", \"MS\", \"MS\", \"MS\", \"MS\", \"MS\", \"MS\", \"MS\", \"MS\", \"MS\", \"MS\", \"MS\", \"MS\", \"MS\", \"MS\", \"MS\", \"MS\", \"MS\", \"MS\", \"MS\", \"MS\", \"MO\", \"MO\", \"MO\", \"MO\", \"MO\", \"MO\", \"MO\", \"MO\", \"MO\", \"MO\", \"MO\", \"MO\", \"MO\", \"MO\", \"MO\", \"MO\", \"MO\", \"MO\", \"MO\", \"MO\", \"MO\", \"MO\", \"MO\", \"MO\", \"MO\", \"MO\", \"MO\", \"MO\", \"MO\", \"MO\", \"MO\", \"MO\", \"MO\", \"MO\", \"MO\", \"MO\", \"MO\", \"MO\", \"MO\", \"MO\", \"MO\", \"MO\", \"MO\", \"MO\", \"MO\", \"MO\", \"MO\", \"MO\", \"MO\", \"MO\", \"MO\", \"MO\", \"MO\", \"MO\", \"MO\", \"MO\", \"MO\", \"MO\", \"MO\", \"MO\", \"MO\", \"MO\", \"MO\", \"MO\", \"MO\", \"MO\", \"MO\", \"MO\", \"MO\", \"MO\", \"MO\", \"MO\", \"MO\", \"MO\", \"MO\", \"MO\", \"MO\", \"MO\", \"MO\", \"MO\", \"MO\", \"MO\", \"MO\", \"MO\", \"MO\", \"MO\", \"MO\", \"MO\", \"MO\", \"MO\", \"MO\", \"MO\", \"MO\", \"MO\", \"MO\", \"MO\", \"MO\", \"MO\", \"MO\", \"MO\", \"MO\", \"MO\", \"MO\", \"MO\", \"MO\", \"MO\", \"MO\", \"MO\", \"MO\", \"MO\", \"MO\", \"MO\", \"MO\", \"MO\", \"MO\", \"MT\", \"MT\", \"MT\", \"MT\", \"MT\", \"MT\", \"MT\", \"MT\", \"MT\", \"MT\", \"MT\", \"MT\", \"MT\", \"MT\", \"MT\", \"MT\", \"MT\", \"MT\", \"MT\", \"MT\", \"MT\", \"MT\", \"MT\", \"MT\", \"MT\", \"MT\", \"MT\", \"MT\", \"MT\", \"MT\", \"MT\", \"MT\", \"MT\", \"MT\", \"MT\", \"MT\", \"MT\", \"MT\", \"MT\", \"MT\", \"MT\", \"MT\", \"MT\", \"MT\", \"MT\", \"MT\", \"MT\", \"MT\", \"MT\", \"MT\", \"MT\", \"MT\", \"MT\", \"MT\", \"MT\", \"MT\", \"NE\", \"NE\", \"NE\", \"NE\", \"NE\", \"NE\", \"NE\", \"NE\", \"NE\", \"NE\", \"NE\", \"NE\", \"NE\", \"NE\", \"NE\", \"NE\", \"NE\", \"NE\", \"NE\", \"NE\", \"NE\", \"NE\", \"NE\", \"NE\", \"NE\", \"NE\", \"NE\", \"NE\", \"NE\", \"NE\", \"NE\", \"NE\", \"NE\", \"NE\", \"NE\", \"NE\", \"NE\", \"NE\", \"NE\", \"NE\", \"NE\", \"NE\", \"NE\", \"NE\", \"NE\", \"NE\", \"NE\", \"NE\", \"NE\", \"NE\", \"NE\", \"NE\", \"NE\", \"NE\", \"NE\", \"NE\", \"NE\", \"NE\", \"NE\", \"NE\", \"NE\", \"NE\", \"NE\", \"NE\", \"NE\", \"NE\", \"NE\", \"NE\", \"NE\", \"NE\", \"NE\", \"NE\", \"NE\", \"NE\", \"NE\", \"NE\", \"NE\", \"NE\", \"NE\", \"NE\", \"NE\", \"NE\", \"NE\", \"NE\", \"NE\", \"NE\", \"NE\", \"NE\", \"NE\", \"NE\", \"NE\", \"NE\", \"NE\", \"NV\", \"NV\", \"NV\", \"NV\", \"NV\", \"NV\", \"NV\", \"NV\", \"NV\", \"NV\", \"NV\", \"NV\", \"NV\", \"NV\", \"NV\", \"NV\", \"NV\", \"NH\", \"NH\", \"NH\", \"NH\", \"NH\", \"NH\", \"NH\", \"NH\", \"NH\", \"NH\", \"NJ\", \"NJ\", \"NJ\", \"NJ\", \"NJ\", \"NJ\", \"NJ\", \"NJ\", \"NJ\", \"NJ\", \"NJ\", \"NJ\", \"NJ\", \"NJ\", \"NJ\", \"NJ\", \"NJ\", \"NJ\", \"NJ\", \"NJ\", \"NJ\", \"NM\", \"NM\", \"NM\", \"NM\", \"NM\", \"NM\", \"NM\", \"NM\", \"NM\", \"NM\", \"NM\", \"NM\", \"NM\", \"NM\", \"NM\", \"NM\", \"NM\", \"NM\", \"NM\", \"NM\", \"NM\", \"NM\", \"NM\", \"NM\", \"NM\", \"NM\", \"NM\", \"NM\", \"NM\", \"NM\", \"NM\", \"NM\", \"NM\", \"NY\", \"NY\", \"NY\", \"NY\", \"NY\", \"NY\", \"NY\", \"NY\", \"NY\", \"NY\", \"NY\", \"NY\", \"NY\", \"NY\", \"NY\", \"NY\", \"NY\", \"NY\", \"NY\", \"NY\", \"NY\", \"NY\", \"NY\", \"NY\", \"NY\", \"NY\", \"NY\", \"NY\", \"NY\", \"NY\", \"NY\", \"NY\", \"NY\", \"NY\", \"NY\", \"NY\", \"NY\", \"NY\", \"NY\", \"NY\", \"NY\", \"NY\", \"NY\", \"NY\", \"NY\", \"NY\", \"NY\", \"NY\", \"NY\", \"NY\", \"NY\", \"NY\", \"NY\", \"NY\", \"NY\", \"NY\", \"NY\", \"NY\", \"NY\", \"NY\", \"NY\", \"NY\", \"NC\", \"NC\", \"NC\", \"NC\", \"NC\", \"NC\", \"NC\", \"NC\", \"NC\", \"NC\", \"NC\", \"NC\", \"NC\", \"NC\", \"NC\", \"NC\", \"NC\", \"NC\", \"NC\", \"NC\", \"NC\", \"NC\", \"NC\", \"NC\", \"NC\", \"NC\", \"NC\", \"NC\", \"NC\", \"NC\", \"NC\", \"NC\", \"NC\", \"NC\", \"NC\", \"NC\", \"NC\", \"NC\", \"NC\", \"NC\", \"NC\", \"NC\", \"NC\", \"NC\", \"NC\", \"NC\", \"NC\", \"NC\", \"NC\", \"NC\", \"NC\", \"NC\", \"NC\", \"NC\", \"NC\", \"NC\", \"NC\", \"NC\", \"NC\", \"NC\", \"NC\", \"NC\", \"NC\", \"NC\", \"NC\", \"NC\", \"NC\", \"NC\", \"NC\", \"NC\", \"NC\", \"NC\", \"NC\", \"NC\", \"NC\", \"NC\", \"NC\", \"NC\", \"NC\", \"NC\", \"NC\", \"NC\", \"NC\", \"NC\", \"NC\", \"NC\", \"NC\", \"NC\", \"NC\", \"NC\", \"NC\", \"NC\", \"NC\", \"NC\", \"NC\", \"NC\", \"NC\", \"NC\", \"NC\", \"NC\", \"ND\", \"ND\", \"ND\", \"ND\", \"ND\", \"ND\", \"ND\", \"ND\", \"ND\", \"ND\", \"ND\", \"ND\", \"ND\", \"ND\", \"ND\", \"ND\", \"ND\", \"ND\", \"ND\", \"ND\", \"ND\", \"ND\", \"ND\", \"ND\", \"ND\", \"ND\", \"ND\", \"ND\", \"ND\", \"ND\", \"ND\", \"ND\", \"ND\", \"ND\", \"ND\", \"ND\", \"ND\", \"ND\", \"ND\", \"ND\", \"ND\", \"ND\", \"ND\", \"ND\", \"ND\", \"ND\", \"ND\", \"ND\", \"ND\", \"ND\", \"ND\", \"ND\", \"ND\", \"OH\", \"OH\", \"OH\", \"OH\", \"OH\", \"OH\", \"OH\", \"OH\", \"OH\", \"OH\", \"OH\", \"OH\", \"OH\", \"OH\", \"OH\", \"OH\", \"OH\", \"OH\", \"OH\", \"OH\", \"OH\", \"OH\", \"OH\", \"OH\", \"OH\", \"OH\", \"OH\", \"OH\", \"OH\", \"OH\", \"OH\", \"OH\", \"OH\", \"OH\", \"OH\", \"OH\", \"OH\", \"OH\", \"OH\", \"OH\", \"OH\", \"OH\", \"OH\", \"OH\", \"OH\", \"OH\", \"OH\", \"OH\", \"OH\", \"OH\", \"OH\", \"OH\", \"OH\", \"OH\", \"OH\", \"OH\", \"OH\", \"OH\", \"OH\", \"OH\", \"OH\", \"OH\", \"OH\", \"OH\", \"OH\", \"OH\", \"OH\", \"OH\", \"OH\", \"OH\", \"OH\", \"OH\", \"OH\", \"OH\", \"OH\", \"OH\", \"OH\", \"OH\", \"OH\", \"OH\", \"OH\", \"OH\", \"OH\", \"OH\", \"OH\", \"OH\", \"OH\", \"OH\", \"OK\", \"OK\", \"OK\", \"OK\", \"OK\", \"OK\", \"OK\", \"OK\", \"OK\", \"OK\", \"OK\", \"OK\", \"OK\", \"OK\", \"OK\", \"OK\", \"OK\", \"OK\", \"OK\", \"OK\", \"OK\", \"OK\", \"OK\", \"OK\", \"OK\", \"OK\", \"OK\", \"OK\", \"OK\", \"OK\", \"OK\", \"OK\", \"OK\", \"OK\", \"OK\", \"OK\", \"OK\", \"OK\", \"OK\", \"OK\", \"OK\", \"OK\", \"OK\", \"OK\", \"OK\", \"OK\", \"OK\", \"OK\", \"OK\", \"OK\", \"OK\", \"OK\", \"OK\", \"OK\", \"OK\", \"OK\", \"OK\", \"OK\", \"OK\", \"OK\", \"OK\", \"OK\", \"OK\", \"OK\", \"OK\", \"OK\", \"OK\", \"OK\", \"OK\", \"OK\", \"OK\", \"OK\", \"OK\", \"OK\", \"OK\", \"OK\", \"OK\", \"OR\", \"OR\", \"OR\", \"OR\", \"OR\", \"OR\", \"OR\", \"OR\", \"OR\", \"OR\", \"OR\", \"OR\", \"OR\", \"OR\", \"OR\", \"OR\", \"OR\", \"OR\", \"OR\", \"OR\", \"OR\", \"OR\", \"OR\", \"OR\", \"OR\", \"OR\", \"OR\", \"OR\", \"OR\", \"OR\", \"OR\", \"OR\", \"OR\", \"OR\", \"OR\", \"OR\", \"PA\", \"PA\", \"PA\", \"PA\", \"PA\", \"PA\", \"PA\", \"PA\", \"PA\", \"PA\", \"PA\", \"PA\", \"PA\", \"PA\", \"PA\", \"PA\", \"PA\", \"PA\", \"PA\", \"PA\", \"PA\", \"PA\", \"PA\", \"PA\", \"PA\", \"PA\", \"PA\", \"PA\", \"PA\", \"PA\", \"PA\", \"PA\", \"PA\", \"PA\", \"PA\", \"PA\", \"PA\", \"PA\", \"PA\", \"PA\", \"PA\", \"PA\", \"PA\", \"PA\", \"PA\", \"PA\", \"PA\", \"PA\", \"PA\", \"PA\", \"PA\", \"PA\", \"PA\", \"PA\", \"PA\", \"PA\", \"PA\", \"PA\", \"PA\", \"PA\", \"PA\", \"PA\", \"PA\", \"PA\", \"PA\", \"PA\", \"PA\", \"RI\", \"RI\", \"RI\", \"RI\", \"RI\", \"SC\", \"SC\", \"SC\", \"SC\", \"SC\", \"SC\", \"SC\", \"SC\", \"SC\", \"SC\", \"SC\", \"SC\", \"SC\", \"SC\", \"SC\", \"SC\", \"SC\", \"SC\", \"SC\", \"SC\", \"SC\", \"SC\", \"SC\", \"SC\", \"SC\", \"SC\", \"SC\", \"SC\", \"SC\", \"SC\", \"SC\", \"SC\", \"SC\", \"SC\", \"SC\", \"SC\", \"SC\", \"SC\", \"SC\", \"SC\", \"SC\", \"SC\", \"SC\", \"SC\", \"SC\", \"SC\", \"SD\", \"SD\", \"SD\", \"SD\", \"SD\", \"SD\", \"SD\", \"SD\", \"SD\", \"SD\", \"SD\", \"SD\", \"SD\", \"SD\", \"SD\", \"SD\", \"SD\", \"SD\", \"SD\", \"SD\", \"SD\", \"SD\", \"SD\", \"SD\", \"SD\", \"SD\", \"SD\", \"SD\", \"SD\", \"SD\", \"SD\", \"SD\", \"SD\", \"SD\", \"SD\", \"SD\", \"SD\", \"SD\", \"SD\", \"SD\", \"SD\", \"SD\", \"SD\", \"SD\", \"SD\", \"SD\", \"SD\", \"SD\", \"SD\", \"SD\", \"SD\", \"SD\", \"SD\", \"SD\", \"SD\", \"SD\", \"SD\", \"SD\", \"SD\", \"SD\", \"SD\", \"SD\", \"SD\", \"SD\", \"SD\", \"SD\", \"TN\", \"TN\", \"TN\", \"TN\", \"TN\", \"TN\", \"TN\", \"TN\", \"TN\", \"TN\", \"TN\", \"TN\", \"TN\", \"TN\", \"TN\", \"TN\", \"TN\", \"TN\", \"TN\", \"TN\", \"TN\", \"TN\", \"TN\", \"TN\", \"TN\", \"TN\", \"TN\", \"TN\", \"TN\", \"TN\", \"TN\", \"TN\", \"TN\", \"TN\", \"TN\", \"TN\", \"TN\", \"TN\", \"TN\", \"TN\", \"TN\", \"TN\", \"TN\", \"TN\", \"TN\", \"TN\", \"TN\", \"TN\", \"TN\", \"TN\", \"TN\", \"TN\", \"TN\", \"TN\", \"TN\", \"TN\", \"TN\", \"TN\", \"TN\", \"TN\", \"TN\", \"TN\", \"TN\", \"TN\", \"TN\", \"TN\", \"TN\", \"TN\", \"TN\", \"TN\", \"TN\", \"TN\", \"TN\", \"TN\", \"TN\", \"TN\", \"TN\", \"TN\", \"TN\", \"TN\", \"TN\", \"TN\", \"TN\", \"TN\", \"TN\", \"TN\", \"TN\", \"TN\", \"TN\", \"TN\", \"TN\", \"TN\", \"TN\", \"TN\", \"TN\", \"TX\", \"TX\", \"TX\", \"TX\", \"TX\", \"TX\", \"TX\", \"TX\", \"TX\", \"TX\", \"TX\", \"TX\", \"TX\", \"TX\", \"TX\", \"TX\", \"TX\", \"TX\", \"TX\", \"TX\", \"TX\", \"TX\", \"TX\", \"TX\", \"TX\", \"TX\", \"TX\", \"TX\", \"TX\", \"TX\", \"TX\", \"TX\", \"TX\", \"TX\", \"TX\", \"TX\", \"TX\", \"TX\", \"TX\", \"TX\", \"TX\", \"TX\", \"TX\", \"TX\", \"TX\", \"TX\", \"TX\", \"TX\", \"TX\", \"TX\", \"TX\", \"TX\", \"TX\", \"TX\", \"TX\", \"TX\", \"TX\", \"TX\", \"TX\", \"TX\", \"TX\", \"TX\", \"TX\", \"TX\", \"TX\", \"TX\", \"TX\", \"TX\", \"TX\", \"TX\", \"TX\", \"TX\", \"TX\", \"TX\", \"TX\", \"TX\", \"TX\", \"TX\", \"TX\", \"TX\", \"TX\", \"TX\", \"TX\", \"TX\", \"TX\", \"TX\", \"TX\", \"TX\", \"TX\", \"TX\", \"TX\", \"TX\", \"TX\", \"TX\", \"TX\", \"TX\", \"TX\", \"TX\", \"TX\", \"TX\", \"TX\", \"TX\", \"TX\", \"TX\", \"TX\", \"TX\", \"TX\", \"TX\", \"TX\", \"TX\", \"TX\", \"TX\", \"TX\", \"TX\", \"TX\", \"TX\", \"TX\", \"TX\", \"TX\", \"TX\", \"TX\", \"TX\", \"TX\", \"TX\", \"TX\", \"TX\", \"TX\", \"TX\", \"TX\", \"TX\", \"TX\", \"TX\", \"TX\", \"TX\", \"TX\", \"TX\", \"TX\", \"TX\", \"TX\", \"TX\", \"TX\", \"TX\", \"TX\", \"TX\", \"TX\", \"TX\", \"TX\", \"TX\", \"TX\", \"TX\", \"TX\", \"TX\", \"TX\", \"TX\", \"TX\", \"TX\", \"TX\", \"TX\", \"TX\", \"TX\", \"TX\", \"TX\", \"TX\", \"TX\", \"TX\", \"TX\", \"TX\", \"TX\", \"TX\", \"TX\", \"TX\", \"TX\", \"TX\", \"TX\", \"TX\", \"TX\", \"TX\", \"TX\", \"TX\", \"TX\", \"TX\", \"TX\", \"TX\", \"TX\", \"TX\", \"TX\", \"TX\", \"TX\", \"TX\", \"TX\", \"TX\", \"TX\", \"TX\", \"TX\", \"TX\", \"TX\", \"TX\", \"TX\", \"TX\", \"TX\", \"TX\", \"TX\", \"TX\", \"TX\", \"TX\", \"TX\", \"TX\", \"TX\", \"TX\", \"TX\", \"TX\", \"TX\", \"TX\", \"TX\", \"TX\", \"TX\", \"TX\", \"TX\", \"TX\", \"TX\", \"TX\", \"TX\", \"TX\", \"TX\", \"TX\", \"TX\", \"TX\", \"TX\", \"TX\", \"TX\", \"TX\", \"TX\", \"TX\", \"TX\", \"TX\", \"TX\", \"TX\", \"TX\", \"TX\", \"TX\", \"TX\", \"TX\", \"TX\", \"TX\", \"TX\", \"TX\", \"TX\", \"TX\", \"TX\", \"TX\", \"TX\", \"TX\", \"TX\", \"TX\", \"UT\", \"UT\", \"UT\", \"UT\", \"UT\", \"UT\", \"UT\", \"UT\", \"UT\", \"UT\", \"UT\", \"UT\", \"UT\", \"UT\", \"UT\", \"UT\", \"UT\", \"UT\", \"UT\", \"UT\", \"UT\", \"UT\", \"UT\", \"UT\", \"UT\", \"UT\", \"UT\", \"UT\", \"UT\", \"VT\", \"VT\", \"VT\", \"VT\", \"VT\", \"VT\", \"VT\", \"VT\", \"VT\", \"VT\", \"VT\", \"VT\", \"VT\", \"VT\", \"VA\", \"VA\", \"VA\", \"VA\", \"VA\", \"VA\", \"VA\", \"VA\", \"VA\", \"VA\", \"VA\", \"VA\", \"VA\", \"VA\", \"VA\", \"VA\", \"VA\", \"VA\", \"VA\", \"VA\", \"VA\", \"VA\", \"VA\", \"VA\", \"VA\", \"VA\", \"VA\", \"VA\", \"VA\", \"VA\", \"VA\", \"VA\", \"VA\", \"VA\", \"VA\", \"VA\", \"VA\", \"VA\", \"VA\", \"VA\", \"VA\", \"VA\", \"VA\", \"VA\", \"VA\", \"VA\", \"VA\", \"VA\", \"VA\", \"VA\", \"VA\", \"VA\", \"VA\", \"VA\", \"VA\", \"VA\", \"VA\", \"VA\", \"VA\", \"VA\", \"VA\", \"VA\", \"VA\", \"VA\", \"VA\", \"VA\", \"VA\", \"VA\", \"VA\", \"VA\", \"VA\", \"VA\", \"VA\", \"VA\", \"VA\", \"VA\", \"VA\", \"VA\", \"VA\", \"VA\", \"VA\", \"VA\", \"VA\", \"VA\", \"VA\", \"VA\", \"VA\", \"VA\", \"VA\", \"VA\", \"VA\", \"VA\", \"VA\", \"VA\", \"VA\", \"VA\", \"VA\", \"VA\", \"VA\", \"VA\", \"VA\", \"VA\", \"VA\", \"VA\", \"VA\", \"VA\", \"VA\", \"VA\", \"VA\", \"VA\", \"VA\", \"VA\", \"VA\", \"VA\", \"VA\", \"VA\", \"VA\", \"VA\", \"VA\", \"VA\", \"VA\", \"VA\", \"VA\", \"VA\", \"VA\", \"VA\", \"VA\", \"VA\", \"VA\", \"VA\", \"VA\", \"VA\", \"VA\", \"WA\", \"WA\", \"WA\", \"WA\", \"WA\", \"WA\", \"WA\", \"WA\", \"WA\", \"WA\", \"WA\", \"WA\", \"WA\", \"WA\", \"WA\", \"WA\", \"WA\", \"WA\", \"WA\", \"WA\", \"WA\", \"WA\", \"WA\", \"WA\", \"WA\", \"WA\", \"WA\", \"WA\", \"WA\", \"WA\", \"WA\", \"WA\", \"WA\", \"WA\", \"WA\", \"WA\", \"WA\", \"WA\", \"WA\", \"WV\", \"WV\", \"WV\", \"WV\", \"WV\", \"WV\", \"WV\", \"WV\", \"WV\", \"WV\", \"WV\", \"WV\", \"WV\", \"WV\", \"WV\", \"WV\", \"WV\", \"WV\", \"WV\", \"WV\", \"WV\", \"WV\", \"WV\", \"WV\", \"WV\", \"WV\", \"WV\", \"WV\", \"WV\", \"WV\", \"WV\", \"WV\", \"WV\", \"WV\", \"WV\", \"WV\", \"WV\", \"WV\", \"WV\", \"WV\", \"WV\", \"WV\", \"WV\", \"WV\", \"WV\", \"WV\", \"WV\", \"WV\", \"WV\", \"WV\", \"WV\", \"WV\", \"WV\", \"WV\", \"WV\", \"WI\", \"WI\", \"WI\", \"WI\", \"WI\", \"WI\", \"WI\", \"WI\", \"WI\", \"WI\", \"WI\", \"WI\", \"WI\", \"WI\", \"WI\", \"WI\", \"WI\", \"WI\", \"WI\", \"WI\", \"WI\", \"WI\", \"WI\", \"WI\", \"WI\", \"WI\", \"WI\", \"WI\", \"WI\", \"WI\", \"WI\", \"WI\", \"WI\", \"WI\", \"WI\", \"WI\", \"WI\", \"WI\", \"WI\", \"WI\", \"WI\", \"WI\", \"WI\", \"WI\", \"WI\", \"WI\", \"WI\", \"WI\", \"WI\", \"WI\", \"WI\", \"WI\", \"WI\", \"WI\", \"WI\", \"WI\", \"WI\", \"WI\", \"WI\", \"WI\", \"WI\", \"WI\", \"WI\", \"WI\", \"WI\", \"WI\", \"WI\", \"WI\", \"WI\", \"WI\", \"WI\", \"WI\", \"WY\", \"WY\", \"WY\", \"WY\", \"WY\", \"WY\", \"WY\", \"WY\", \"WY\", \"WY\", \"WY\", \"WY\", \"WY\", \"WY\", \"WY\", \"WY\", \"WY\", \"WY\", \"WY\", \"WY\", \"WY\", \"WY\", \"WY\"], \"xaxis\": \"x\", \"y\": [2870.0, 7710.0, 1740.0, 970.0, 2580.0, 700.0, 1230.0, 6210.0, 1560.0, 1110.0, 2230.0, 840.0, 1490.0, 600.0, 900.0, 2640.0, 2680.0, 740.0, 450.0, 2060.0, 700.0, 3760.0, 2780.0, 3180.0, 3960.0, 3510.0, 2210.0, 5490.0, 990.0, 1790.0, 1650.0, 720.0, 980.0, 750.0, 5750.0, 2710.0, 31980.0, 840.0, 3750.0, 1640.0, 6740.0, 4130.0, 790.0, 990.0, 14230.0, 1140.0, 1600.0, 5510.0, 23060.0, 1420.0, 12930.0, 5620.0, 780.0, 1170.0, 1700.0, 1100.0, 3450.0, 3710.0, 6950.0, 790.0, 4350.0, 2250.0, 8180.0, 3710.0, 1110.0, 920.0, 1260.0, 80.0, 100.0, 11790.0, 2000.0, 30.0, 50.0, 370.0, 3800.0, 120.0, 90.0, 990.0, 2750.0, 590.0, 600.0, 1440.0, 100.0, 5230.0, 950.0, 470.0, 860.0, 160.0, 440.0, 260.0, 30.0, 410.0, 370.0, 90.0, 30.0, 530.0, 6950.0, 6010.0, 6090.0, 3240.0, 2290.0, 420.0, 960.0, 179720.0, 9480.0, 9300.0, 43150.0, 18980.0, 3060.0, 7810.0, 16410.0, 1050.0, 1320.0, 1680.0, 9960.0, 1930.0, 690.0, 270.0, 1170.0, 820.0, 1010.0, 950.0, 1120.0, 500.0, 1390.0, 1230.0, 5700.0, 3500.0, 3570.0, 960.0, 400.0, 930.0, 990.0, 5280.0, 1030.0, 750.0, 5120.0, 870.0, 2710.0, 1470.0, 1750.0, 840.0, 2120.0, 700.0, 1060.0, 4500.0, 1640.0, 380.0, 890.0, 530.0, 600.0, 680.0, 1320.0, 3510.0, 780.0, 840.0, 2810.0, 3410.0, 490.0, 470.0, 590.0, 350.0, 1540.0, 600.0, 1770.0, 590.0, 1610.0, 1240.0, 3250.0, 400.0, 20070.0, 950.0, 1720.0, 4770.0, 690.0, 410.0, 7290.0, 1070.0, 1070.0, 700.0, 2460.0, 950.0, 9030.0, 4080.0, 440.0, 1180.0, 38120.0, 50.0, 1020.0, 9250.0, 1580.0, 1360.0, 30440.0, 1490.0, 5080.0, 64140.0, 1510.0, 5140.0, 16230.0, 520.0, 55590.0, 8630.0, 3070.0, 980.0, 342250.0, 8750.0, 4460.0, 600.0, 3660.0, 18270.0, 420.0, 320.0, 17380.0, 2980.0, 2730.0, 79360.0, 9930.0, 620.0, 89410.0, 61440.0, 1820.0, 88710.0, 91730.0, 12130.0, 36030.0, 6120.0, 12490.0, 12620.0, 34640.0, 7510.0, 8480.0, 80.0, 2170.0, 14080.0, 11870.0, 26790.0, 5230.0, 3690.0, 560.0, 34270.0, 1680.0, 22840.0, 6250.0, 4450.0, 15850.0, 680.0, 17040.0, 330.0, 150.0, 200.0, 6010.0, 1300.0, 420.0, 80.0, 160.0, 440.0, 170.0, 160.0, 160.0, 1280.0, 17570.0, 70.0, 6870.0, 860.0, 550.0, 24330.0, 1640.0, 1410.0, 100.0, 320.0, 280.0, 30.0, 240.0, 40.0, 11870.0, 60.0, 240.0, 160.0, 1130.0, 7550.0, 470.0, 160.0, 750.0, 5900.0, 10.0, 490.0, 1220.0, 1680.0, 810.0, 930.0, 90.0, 370.0, 100.0, 260.0, 520.0, 7180.0, 270.0, 480.0, 470.0, 250.0, 10.0, 160.0, 100.0, 500.0, 610.0, 150.0, 8530.0, 380.0, 26940.0, 29300.0, 4650.0, 3950.0, 28520.0, 8930.0, 3250.0, 3990.0, 7760.0, 18240.0, 7450.0, 21910.0, 8630.0, 1390.0, 8790.0, 1380.0, 20580.0, 66810.0, 630.0, 4900.0, 5770.0, 8420.0, 10820.0, 3550.0, 1710.0, 840.0, 43260.0, 13680.0, 3760.0, 540.0, 2930.0, 900.0, 460.0, 590.0, 790.0, 1750.0, 2460.0, 7320.0, 4580.0, 53650.0, 1080.0, 5140.0, 2280.0, 480.0, 400.0, 12660.0, 24290.0, 9790.0, 2090.0, 290.0, 1040.0, 12790.0, 15620.0, 4440.0, 89640.0, 1740.0, 2890.0, 8040.0, 2150.0, 50980.0, 14700.0, 47920.0, 19950.0, 30210.0, 31630.0, 4330.0, 7060.0, 12610.0, 6930.0, 10660.0, 14540.0, 2080.0, 2370.0, 1100.0, 720.0, 19480.0, 1260.0, 2960.0, 1240.0, 1010.0, 550.0, 680.0, 130.0, 2000.0, 650.0, 2920.0, 3890.0, 1230.0, 1070.0, 9010.0, 640.0, 1060.0, 880.0, 1480.0, 3100.0, 1490.0, 1130.0, 280.0, 2120.0, 720.0, 5140.0, 2140.0, 590.0, 10590.0, 430.0, 1080.0, 6170.0, 4190.0, 220.0, 14950.0, 470.0, 19260.0, 2280.0, 2520.0, 4530.0, 960.0, 4680.0, 520.0, 1490.0, 510.0, 630.0, 1460.0, 29010.0, 1000.0, 650.0, 5810.0, 5370.0, 670.0, 140.0, 1990.0, 920.0, 1460.0, 620.0, 800.0, 2440.0, 4410.0, 4750.0, 1120.0, 34300.0, 1200.0, 130.0, 3760.0, 2970.0, 1370.0, 730.0, 26980.0, 1490.0, 6620.0, 310.0, 1310.0, 980.0, 1010.0, 500.0, 7890.0, 6570.0, 540.0, 2130.0, 590.0, 850.0, 970.0, 520.0, 430.0, 1190.0, 760.0, 520.0, 2710.0, 1220.0, 3040.0, 360.0, 970.0, 5450.0, 900.0, 1400.0, 600.0, 690.0, 1260.0, 360.0, 1060.0, 280.0, 1240.0, 750.0, 420.0, 580.0, 1830.0, 10650.0, 5410.0, 980.0, 600.0, 5190.0, 1230.0, 910.0, 1010.0, 620.0, 2080.0, 560.0, 880.0, 130.0, 600.0, 600.0, 11190.0, 3730.0, 270.0, 770.0, 470.0, 3460.0, 1120.0, 240.0, 1830.0, 250.0, 70.0, 1140.0, 410.0, 780.0, 640.0, 2350.0, 2190.0, 1630.0, 340.0, 400.0, 3400.0, 580.0, 370.0, 770.0, 1290.0, 3120.0, 3530.0, 2030.0, 270.0, 1160.0, 1480.0, 160.0, 340.0, 990.0, 4220.0, 360.0, 540.0, 480.0, 1150.0, 9480.0, 34500.0, null, 2420.0, 6160.0, 10190.0, 130.0, 3240.0, 250.0, 400.0, 1700.0, 630.0, 240.0, 1390.0, 4060.0, 470.0, 90.0, 50.0, 7550.0, 200.0, 850.0, 30.0, 280.0, 140.0, 920.0, 560.0, 410.0, 720.0, 540.0, 560.0, 880.0, 890.0, 5000.0, 930.0, 250.0, 170.0, 210.0, 1260.0, 850.0, 1340.0, 180.0, 530.0, 850.0, 240.0, 560.0, 180.0, 2900.0, 220.0, 420.0, 2130.0, 510.0, 510.0, 1770.0, 120.0, 1190.0, 180.0, 390.0, 390.0, 5070.0, 1050.0, 640.0, 570.0, 950.0, 1740.0, 138410.0, 570.0, 390.0, 2840.0, 520.0, 640.0, 14060.0, 580.0, 220.0, 1120.0, 930.0, 590.0, 1920.0, 1360.0, 260.0, 470.0, 1340.0, 270.0, 600.0, 170.0, 200.0, 1630.0, 960.0, 2010.0, 370.0, 1850.0, 600.0, 540.0, 420.0, 13190.0, 4060.0, 2310.0, 1900.0, 14420.0, 3970.0, 670.0, 890.0, 1250.0, 790.0, 790.0, 6140.0, 4050.0, 4540.0, 1670.0, 8710.0, 1820.0, 370.0, 560.0, 710.0, 400.0, 530.0, 600.0, 1160.0, 1160.0, 460.0, 1540.0, 7180.0, 820.0, 410.0, 570.0, 130.0, 310.0, 170.0, 1010.0, 590.0, 5350.0, 10700.0, 1280.0, 7470.0, 220.0, 180.0, 620.0, 240.0, 1650.0, 3900.0, 720.0, 3920.0, 400.0, 520.0, 320.0, 730.0, 530.0, 1710.0, 14410.0, 2670.0, 11790.0, 1020.0, 1970.0, 16570.0, 3110.0, 430.0, 530.0, 1820.0, 370.0, 740.0, 1590.0, 4190.0, 1220.0, 1320.0, 510.0, 1500.0, 1790.0, 1130.0, 1640.0, 4520.0, 1460.0, 8560.0, 1160.0, 2700.0, 610.0, 790.0, 870.0, 1230.0, 3270.0, 1410.0, 8180.0, 2360.0, 1420.0, 4660.0, 2020.0, 3920.0, 1280.0, 1880.0, 1240.0, 1070.0, 1300.0, 1270.0, 5060.0, 1680.0, 2800.0, 1560.0, 22980.0, 5110.0, 1880.0, 6070.0, 46110.0, 1750.0, 410.0, 1650.0, 3980.0, 1370.0, 2780.0, 610.0, 1560.0, 150.0, 990.0, 1010.0, 760.0, 810.0, 520.0, 5340.0, 800.0, 550.0, 1340.0, 1190.0, 1150.0, 720.0, 11560.0, 1150.0, 1640.0, 730.0, 1000.0, 1200.0, 820.0, 600.0, 5910.0, 490.0, 230.0, 7830.0, 780.0, 4750.0, 1210.0, 320.0, 1920.0, 1210.0, 3070.0, 1030.0, 860.0, 1270.0, 220.0, 100.0, 410.0, 550.0, 160.0, 770.0, 4360.0, 680.0, 580.0, 740.0, 630.0, 450.0, 300.0, 540.0, 430.0, 450.0, 1240.0, 330.0, 340.0, 350.0, 610.0, 530.0, 1630.0, 580.0, 1740.0, 370.0, 310.0, 520.0, 1680.0, 450.0, 2950.0, 280.0, 660.0, 710.0, 310.0, 200.0, 270.0, 310.0, 350.0, 440.0, 280.0, 450.0, 420.0, 670.0, 320.0, 330.0, 210.0, 440.0, 640.0, 1110.0, 410.0, 2950.0, 620.0, 340.0, 440.0, 1460.0, 6440.0, 320.0, 300.0, 310.0, 470.0, 820.0, 1020.0, 1380.0, 440.0, 330.0, 310.0, 270.0, 450.0, 1290.0, 420.0, 210.0, 480.0, 260.0, 790.0, 210.0, 15020.0, 3070.0, 410.0, 160.0, 290.0, 5640.0, 340.0, 830.0, 1510.0, 610.0, 180.0, 470.0, 290.0, 1320.0, 1340.0, 680.0, 300.0, 1310.0, 320.0, 460.0, 3640.0, 230.0, 480.0, 690.0, 450.0, 920.0, 240.0, 1370.0, 960.0, 560.0, 3130.0, 120.0, 190.0, 1170.0, 100.0, 90.0, 340.0, 410.0, 400.0, 60.0, 1850.0, 1940.0, 140.0, 940.0, 340.0, 3650.0, 100.0, 130.0, 1010.0, 230.0, 1700.0, 1560.0, 1210.0, 2220.0, 100.0, 100.0, 280.0, 230.0, 50.0, 290.0, 130.0, 290.0, 1580.0, 170.0, 70.0, 630.0, 800.0, 120.0, 19380.0, 210.0, 300.0, 90.0, 1230.0, 80.0, 3530.0, 130.0, 560.0, 100.0, 1320.0, 1120.0, 460.0, 430.0, 180.0, 1460.0, 290.0, 1970.0, 230.0, 120.0, 450.0, 1050.0, 110.0, 200.0, 800.0, 160.0, 260.0, 220.0, 240.0, 1070.0, 410.0, 80.0, 2890.0, 170.0, 490.0, 2080.0, 200.0, 110.0, 250.0, 2420.0, 130.0, 25710.0, 1060.0, 7880.0, 90.0, 320.0, 170.0, 180.0, 100.0, 320.0, 1110.0, 270.0, 90.0, 280.0, 80.0, 270.0, 70.0, 520.0, 180.0, 10550.0, 830.0, 1000.0, 870.0, 390.0, 2440.0, 770.0, 1920.0, 3600.0, 810.0, 2360.0, 980.0, 360.0, 930.0, 920.0, 2560.0, 610.0, 590.0, 1300.0, 2550.0, 200.0, 640.0, 1720.0, 860.0, 3890.0, 1470.0, 1470.0, 520.0, 410.0, 240.0, 4180.0, 490.0, 450.0, 880.0, 9500.0, 800.0, 2520.0, 1670.0, 400.0, 360.0, 760.0, 1410.0, 1670.0, 1510.0, 500.0, 1680.0, 390.0, 4500.0, 2130.0, 780.0, 940.0, 2060.0, 750.0, 180.0, 2020.0, 910.0, 27740.0, 2230.0, 1240.0, 5630.0, 1090.0, 2040.0, 590.0, 3320.0, 1010.0, 450.0, 720.0, 1550.0, 850.0, 1290.0, 430.0, 1140.0, 260.0, 2710.0, 1180.0, 450.0, 3080.0, 1050.0, 1070.0, 1060.0, 610.0, 800.0, 1060.0, 390.0, 830.0, 550.0, 560.0, 1490.0, 680.0, 1400.0, 1660.0, 470.0, 1450.0, 1290.0, 510.0, 260.0, 640.0, 1680.0, 3470.0, 700.0, 3100.0, 120.0, 840.0, 1040.0, 910.0, 1850.0, 1540.0, 760.0, 470.0, 1360.0, 550.0, 500.0, 410.0, 560.0, 4650.0, 460.0, 1100.0, 710.0, 2090.0, 550.0, 950.0, 4530.0, 1420.0, 5620.0, 1370.0, 2640.0, 2050.0, 980.0, 6440.0, 16170.0, 10920.0, 620.0, 250.0, 590.0, 890.0, 1400.0, 1860.0, 21900.0, 600.0, 830.0, 2680.0, 1650.0, 1150.0, 5080.0, 1910.0, 1060.0, 20060.0, 1880.0, 11290.0, 5020.0, 770.0, 2390.0, 6370.0, 980.0, 2000.0, 2680.0, 20420.0, 10240.0, 1280.0, 1250.0, 7890.0, 550.0, 1490.0, 1330.0, 2750.0, 2340.0, 630.0, 1230.0, 2540.0, 6560.0, 3120.0, 3110.0, 10830.0, 8670.0, 390.0, 6970.0, 1330.0, 3440.0, 3160.0, 3360.0, 2670.0, 1350.0, 780.0, 570.0, 880.0, 4680.0, 3160.0, 8220.0, 1120.0, 1820.0, 4830.0, 1350.0, 1150.0, 2630.0, 6070.0, 780.0, 1150.0, 2590.0, 1550.0, 1550.0, 6310.0, 3110.0, 16440.0, 28850.0, 2720.0, 1620.0, 4910.0, 4190.0, 5250.0, 1680.0, 8000.0, 1130.0, 8490.0, 8320.0, 660.0, 27020.0, 29200.0, 1410.0, 4370.0, 1220.0, 1180.0, 6770.0, 4600.0, 2000.0, 33060.0, 3630.0, 3050.0, 15150.0, 340.0, 15640.0, 1450.0, 15900.0, 2250.0, 19640.0, 240.0, 9120.0, 10230.0, 17840.0, 17290.0, 280.0, 250.0, 2670.0, 890.0, 680.0, 620.0, 300.0, 1340.0, 3620.0, 450.0, 5320.0, 1540.0, 5080.0, 1560.0, 690.0, 990.0, 1460.0, 1510.0, 1550.0, 460.0, 1170.0, 710.0, 2920.0, 850.0, 17800.0, 1020.0, 450.0, 2060.0, 1270.0, 1550.0, 990.0, 970.0, 7980.0, 1710.0, 900.0, 320.0, 1650.0, 5230.0, 6770.0, 670.0, 15660.0, 60.0, 520.0, 2390.0, 340.0, 2770.0, 2990.0, 230.0, 380.0, 23420.0, 720.0, 1690.0, 1000.0, 1400.0, 670.0, 2030.0, 600.0, 3890.0, 2370.0, 370.0, 6550.0, 1870.0, 22130.0, 1030.0, 840.0, 150.0, 1030.0, 330.0, 900.0, 4650.0, 430.0, 920.0, 6720.0, 5250.0, 2290.0, 1540.0, 320.0, 2010.0, 2000.0, 2660.0, 5310.0, 83910.0, 1320.0, 540.0, 9010.0, 1320.0, 2220.0, 1520.0, 160.0, 1580.0, 700.0, 1250.0, 1910.0, 1290.0, 400.0, 1440.0, 1830.0, 530.0, 130.0, 420.0, 2220.0, 9900.0, 560.0, 1020.0, 480.0, 760.0, 1050.0, 1310.0, 220.0, 31250.0, 490.0, 800.0, 1220.0, 1850.0, 270.0, 660.0, 1360.0, 130.0, 540.0, 180.0, 280.0, 110.0, 920.0, 180.0, 900.0, 1080.0, 380.0, 320.0, 690.0, 700.0, 1120.0, 1210.0, 1310.0, 230.0, 790.0, 780.0, 230.0, 4180.0, 1790.0, 510.0, 1070.0, 320.0, 1190.0, 290.0, 19440.0, 160.0, 580.0, 480.0, 1850.0, 270.0, 550.0, 6310.0, 3510.0, 2850.0, 400.0, 5060.0, 1220.0, 230.0, 360.0, 1000.0, 110.0, 500.0, 700.0, 590.0, 5510.0, 380.0, 200.0, 1160.0, 3550.0, 340.0, 2070.0, 1690.0, 640.0, 1170.0, 370.0, 2350.0, 890.0, 380.0, 930.0, 490.0, 740.0, 890.0, 1090.0, 1910.0, 1590.0, 1140.0, 5710.0, 3940.0, 380.0, 1270.0, 530.0, 1280.0, 2060.0, 10250.0, 12510.0, 1630.0, 800.0, 80.0, 950.0, 6630.0, 1000.0, 680.0, 610.0, 3780.0, 590.0, 1510.0, 2520.0, 4230.0, 670.0, 1540.0, 3850.0, 2420.0, 1770.0, 2980.0, 3310.0, 1520.0, 1600.0, 1660.0, 720.0, 1920.0, 1370.0, 750.0, 1550.0, 2030.0, 2410.0, 680.0, 2920.0, 1830.0, 1440.0, 580.0, 4250.0, 1900.0, 270.0, 1580.0, 780.0, 870.0, 1730.0, 770.0, 1430.0, 1160.0, 870.0, 620.0, 1270.0, 930.0, 2490.0, 3760.0, 1200.0, 650.0, 660.0, 1100.0, 540.0, 1910.0, 670.0, 430.0, 140.0, 940.0, 1550.0, 550.0, 620.0, 800.0, 520.0, 4160.0, 3500.0, 2350.0, 360.0, 1430.0, 1540.0, 2380.0, 330.0, 300.0, 3140.0, 640.0, 240.0, 2630.0, 270.0, 5910.0, 650.0, 2060.0, 550.0, 1130.0, 340.0, 710.0, 310.0, 320.0, 750.0, 690.0, 2000.0, 3270.0, 410.0, 260.0, 8910.0, 400.0, 380.0, 1030.0, 310.0, 130.0, 370.0, 2050.0, 510.0, 25160.0, 4720.0, 6640.0, 1450.0, 180.0, 1450.0, 1140.0, 1790.0, 340.0, 2020.0, 550.0, 520.0, 1030.0, 640.0, 480.0, 340.0, 1150.0, 110.0, 1100.0, 680.0, 510.0, 350.0, 470.0, 1000.0, 1030.0, 2020.0, 600.0, 580.0, 320.0, 470.0, 1230.0, 530.0, 1830.0, 1600.0, 630.0, 2150.0, 1120.0, 1950.0, 230.0, 290.0, 950.0, 880.0, 260.0, 870.0, 7600.0, 380.0, 660.0, 2590.0, 24940.0, 840.0, 200.0, 220.0, 1870.0, 480.0, 250.0, 1290.0, 970.0, 200.0, 2270.0, 1290.0, 780.0, 1270.0, 1240.0, 700.0, 1680.0, 70.0, 1090.0, 13330.0, 240.0, 1160.0, 570.0, 180.0, 310.0, 40.0, 2990.0, 240.0, 390.0, 40.0, 260.0, 310.0, 80.0, 400.0, 3670.0, 2200.0, 30.0, 1150.0, 20.0, 90.0, 890.0, 340.0, 50.0, 1550.0, 2210.0, 90.0, 970.0, 30.0, 210.0, 70.0, 210.0, 3230.0, 220.0, 440.0, 10.0, 180.0, 350.0, 40.0, 190.0, 50.0, 1710.0, 300.0, 860.0, 560.0, 530.0, 100.0, 1430.0, 270.0, 110.0, 260.0, 170.0, 30.0, 230.0, 120.0, 70.0, 5050.0, 1380.0, 300.0, 20.0, 30.0, 20.0, 180.0, 470.0, 80.0, 130.0, 1850.0, 290.0, 290.0, 910.0, 350.0, 120.0, 200.0, 400.0, 290.0, 400.0, 320.0, 470.0, 1020.0, 290.0, 1080.0, 70.0, 270.0, 1650.0, 24240.0, 80.0, 190.0, 120.0, 100.0, 190.0, 880.0, 60.0, 70.0, 60.0, 40.0, 100.0, 2910.0, 330.0, 150.0, 40.0, 130.0, 400.0, 30.0, 270.0, 300.0, 180.0, 280.0, 300.0, 30.0, 140.0, 380.0, 11580.0, 1550.0, 40.0, 20.0, 20.0, 1560.0, 300.0, 180.0, 140.0, 280.0, 180.0, 750.0, 120.0, 110.0, 340.0, 270.0, 1180.0, 200.0, 460.0, 370.0, 40.0, 590.0, 6420.0, 900.0, 1640.0, 600.0, 290.0, 120.0, 50.0, 230.0, 190.0, 20.0, 680.0, 160.0, 790.0, 250.0, 150.0, 30.0, 550.0, 990.0, 97140.0, 1590.0, 2440.0, 40.0, 90.0, 730.0, 310.0, 180.0, 2440.0, 240.0, 1930.0, 230.0, 140.0, 16700.0, 390.0, 2580.0, 1680.0, 1170.0, 1890.0, 990.0, 2130.0, 9910.0, 3470.0, 6170.0, 3030.0, 1180.0, 9920.0, 14110.0, 9880.0, 16430.0, 3110.0, 6580.0, 29340.0, 7280.0, 17060.0, 1730.0, 8690.0, 15810.0, 12350.0, 6470.0, 20350.0, 16910.0, 2410.0, 4390.0, 2770.0, 13290.0, 2460.0, 31060.0, 160.0, 4070.0, 2000.0, 640.0, 3180.0, 110.0, 13940.0, 2760.0, 1430.0, 170.0, 20.0, 270.0, 3860.0, 840.0, 560.0, 2160.0, 7360.0, 200.0, 3890.0, 560.0, 1870.0, 1210.0, 6670.0, 9100.0, 1600.0, 4970.0, 610.0, 1160.0, 1460.0, 940.0, 190.0, 4200.0, 9010.0, 2280.0, 84770.0, 8100.0, 3870.0, 2970.0, 6160.0, 3860.0, 2180.0, 2940.0, 1910.0, 1830.0, 1870.0, 8050.0, 36120.0, 1180.0, 2240.0, 2390.0, 2240.0, 1420.0, 140.0, 2780.0, 5800.0, 117820.0, 1380.0, 2070.0, 2380.0, 29700.0, 2640.0, 28040.0, 34450.0, 8540.0, 10360.0, 18660.0, 3570.0, 15140.0, 1720.0, 6050.0, 1860.0, 2040.0, 65440.0, 5680.0, 15360.0, 14960.0, 5230.0, 6050.0, 5550.0, 1150.0, 760.0, 1290.0, 4430.0, 36110.0, 3060.0, 1860.0, 2300.0, 5470.0, 2190.0, 2220.0, 3600.0, 23900.0, 1490.0, 970.0, 7140.0, 1640.0, 560.0, 1220.0, 1050.0, 540.0, 2220.0, 990.0, 1970.0, 4460.0, 8120.0, 3950.0, 7970.0, 3560.0, 460.0, 2470.0, 1080.0, 6340.0, 2490.0, 1100.0, 710.0, 450.0, 4890.0, 3320.0, 4960.0, 18820.0, 930.0, 1190.0, 7440.0, 1730.0, 3560.0, 11380.0, 3430.0, 16300.0, 2840.0, 9940.0, 520.0, 450.0, 2270.0, 1160.0, 22350.0, 3140.0, 6930.0, 2320.0, 3590.0, 1310.0, 3420.0, 310.0, 6940.0, 1480.0, 8930.0, 570.0, 2880.0, 3580.0, 3360.0, 2030.0, 1450.0, 840.0, 1130.0, 38630.0, 590.0, 1300.0, 3810.0, 4500.0, 7940.0, 1020.0, 9710.0, 3480.0, 460.0, 1870.0, 2560.0, 560.0, 2110.0, 8160.0, 620.0, 6650.0, 2890.0, 9500.0, 4210.0, 6710.0, 3310.0, 3780.0, 2520.0, 2620.0, 1790.0, 3320.0, 730.0, 1250.0, 170.0, 8390.0, 2860.0, 33530.0, 920.0, 820.0, 1260.0, 7230.0, 3390.0, 4940.0, 1650.0, 720.0, 40.0, 220.0, 620.0, 20.0, 180.0, 50.0, 50.0, 1820.0, 3460.0, 90.0, 70.0, 40.0, 90.0, 90.0, 80.0, 70.0, 40.0, 1580.0, 50.0, 50.0, 60.0, 70.0, 100.0, 30.0, 150.0, 50.0, 400.0, 200.0, 190.0, 610.0, 230.0, 70.0, 60.0, 140.0, 140.0, 320.0, 100.0, 50.0, 320.0, 1420.0, 50.0, 40.0, 380.0, 10.0, 570.0, 40.0, 570.0, 70.0, 140.0, 230.0, 1510.0, 80.0, 640.0, 1870.0, 4780.0, 2330.0, 5210.0, 2450.0, 1550.0, 2680.0, 2180.0, 14880.0, 1100.0, 1600.0, 6480.0, 7470.0, 1960.0, 4630.0, 2010.0, 2030.0, 57270.0, 2090.0, 1500.0, 5000.0, 3010.0, 5770.0, 1470.0, 53360.0, 1590.0, 1850.0, 2940.0, 5710.0, 2280.0, 35240.0, 2610.0, 1460.0, 750.0, 1120.0, 2560.0, 1310.0, 2120.0, 2900.0, 2030.0, 3220.0, 2690.0, 7450.0, 3380.0, 7190.0, 1990.0, 13380.0, 21970.0, 1550.0, 10780.0, 3000.0, 5590.0, 1410.0, 1350.0, 3810.0, 770.0, 25350.0, 820.0, 1450.0, 4380.0, 700.0, 1560.0, 760.0, 2010.0, 2260.0, 1790.0, 5480.0, 1690.0, 1100.0, 5310.0, 3760.0, 2490.0, 4650.0, 2430.0, 1890.0, 16080.0, 21000.0, 10040.0, 4020.0, 1750.0, 1070.0, 820.0, 6540.0, 2700.0, 4910.0, 1590.0, 3760.0, 730.0, 1720.0, 200.0, 840.0, 200.0, 1010.0, 410.0, 2470.0, 1780.0, 5690.0, 2730.0, 2610.0, 1100.0, 100.0, 10130.0, 380.0, 6430.0, 280.0, 820.0, 3760.0, 1230.0, 2410.0, 290.0, 200.0, 3080.0, 1430.0, 2550.0, 190.0, 290.0, 120.0, 150.0, 860.0, 800.0, 1320.0, 410.0, 670.0, 2800.0, 730.0, 560.0, 660.0, 3250.0, 1850.0, 1960.0, 470.0, 1600.0, 2330.0, 1240.0, 360.0, 940.0, 2350.0, 720.0, 4260.0, 530.0, 540.0, 730.0, 40670.0, 2460.0, 2630.0, 2070.0, 880.0, 3040.0, 2440.0, 1870.0, 3930.0, 690.0, 210.0, 3990.0, 1690.0, 2820.0, 2360.0, 910.0, 410.0, 32390.0, 3730.0, 2660.0, 540.0, 320.0, 980.0, 710.0, 1920.0, 11170.0, 1160.0, 1990.0, 2820.0, 1000.0, 670.0, 5610.0, 4760.0, 60.0, 310.0, 360.0, 570.0, 8490.0, 1120.0, 3880.0, 3420.0, 310.0, 13070.0, 1840.0, 5250.0, 1600.0, 13640.0, 510.0, 23680.0, 2940.0, 50.0, 990.0, 3800.0, 1140.0, 310.0, 990.0, 15760.0, 50.0, 3940.0, 2560.0, 33100.0, 2330.0, 5250.0, 1670.0, 12940.0, 4460.0, 2210.0, 12290.0, 4450.0, 5320.0, 150.0, 2290.0, 2670.0, 9440.0, 1320.0, 3040.0, 1560.0, 1870.0, 3280.0, 5570.0, 9260.0, 15620.0, 920.0, 10970.0, 5710.0, 210.0, 4950.0, 460.0, 1350.0, 1580.0, 2750.0, 1680.0, 870.0, 7330.0, 15510.0, 3260.0, 4170.0, 11270.0, 11610.0, 4250.0, 1750.0, 4340.0, 2010.0, 5010.0, 15660.0, 540.0, 7710.0, 3320.0, 1300.0, 76320.0, 1670.0, 690.0, 4990.0, 1270.0, 2560.0, 130.0, 1320.0, 1520.0, 1080.0, 1990.0, 1450.0, 5540.0, 1460.0, 9780.0, 830.0, 13320.0, 1120.0, 4640.0, 1970.0, 23430.0, 2900.0, 1090.0, 5520.0, 460.0, 6770.0, 810.0, 1380.0, 4410.0, 6170.0, 480.0, 9550.0, 2320.0, 1460.0, 2000.0, 1550.0, 1610.0, 3030.0, 2040.0, 4660.0, 750.0, 1030.0, 5670.0, 2250.0, 12750.0, 3300.0, 720.0, 10890.0, 1120.0, 2220.0, 2800.0, 2840.0, 860.0, 8120.0, 300.0, 1600.0, 1370.0, 1400.0, 2710.0, 4430.0, 3020.0, 11950.0, 600.0, 10080.0, 5010.0, 1290.0, 1530.0, 6660.0, 110.0, 960.0, 340.0, 220.0, 880.0, 1400.0, 280.0, 230.0, 400.0, 40.0, 580.0, 180.0, 400.0, 1090.0, 470.0, 290.0, 790.0, 260.0, 170.0, 600.0, 90.0, 110.0, 270.0, 60.0, 250.0, 180.0, 90.0, 240.0, 110.0, 170.0, 30.0, 680.0, 280.0, 50.0, 330.0, 50.0, 20.0, 160.0, 400.0, 730.0, 1540.0, 260.0, 210.0, 80.0, 180.0, 910.0, 210.0, 90.0, 6810.0, 280.0, 2030.0, 4630.0, 100.0, 80.0, 640.0, 90.0, 260.0, 90.0, 30.0, 1410.0, 260.0, 310.0, 480.0, 210.0, 790.0, 280.0, 2810.0, 1940.0, 710.0, 560.0, 3590.0, 3980.0, 1870.0, 530.0, 1230.0, 2460.0, 1100.0, 680.0, 1410.0, 340.0, 1870.0, 2170.0, 650.0, 2140.0, 20900.0, 500.0, 770.0, 1800.0, 1730.0, 1290.0, 830.0, 1380.0, 2300.0, 990.0, 960.0, 2760.0, 690.0, 2720.0, 10530.0, 360.0, 1030.0, 1060.0, 2540.0, 840.0, 1270.0, 1470.0, 940.0, 390.0, 740.0, 500.0, 1810.0, 700.0, 12680.0, 300.0, 1450.0, 2120.0, 590.0, 1280.0, 1480.0, 2210.0, 1170.0, 980.0, 4130.0, 1260.0, 1180.0, 2760.0, 500.0, 1950.0, 7330.0, 150.0, 910.0, 1530.0, 830.0, 440.0, 220.0, 610.0, 2560.0, 1740.0, 1710.0, 2250.0, 8060.0, 1190.0, 620.0, 3320.0, 44120.0, 670.0, 550.0, 6060.0, 4940.0, 2420.0, 300.0, 740.0, 870.0, 250.0, 2140.0, 3970.0, 680.0, 1250.0, 1110.0, 3080.0, 3360.0, 2560.0, 790.0, 5930.0, 1360.0, 400.0, 80.0, 2670.0, 1390.0, 400.0, 970.0, 3710.0, 160.0, 1790.0, 21950.0, 100000.0, 430.0, 40.0, 1000.0, 5890.0, 16810.0, 8850.0, 350.0, 60.0, 600.0, 1960.0, 910.0, 2070.0, 2100.0, 1180.0, 760.0, 35840.0, 900.0, 280.0, 2120.0, 450.0, 2390.0, 3200.0, 240.0, 540.0, 200.0, 160.0, 480.0, 38920.0, 170.0, 970.0, 5690.0, 760.0, 100.0, 2250.0, 4320.0, 200.0, 220.0, 220.0, 400.0, 190.0, 440.0, 145120.0, 800.0, 1080.0, 370.0, 32610.0, 960.0, 120.0, 860.0, 180.0, 870.0, 1060.0, 7680.0, 70.0, 8500.0, 51170.0, 1830.0, 1130.0, 1580.0, 1000.0, 190.0, 370.0, 50.0, 34140.0, 560.0, 1240.0, 1000.0, 1350.0, 17620.0, 240.0, 1050.0, 40.0, 410.0, 1200.0, 1400.0, 7190.0, 7910.0, 1650.0, 6980.0, 2020.0, 190.0, 460.0, 330.0, 220.0, 3380.0, 262790.0, 4030.0, 210.0, 310.0, 7880.0, 260.0, 4620.0, 78440.0, 2080.0, 1250.0, 2570.0, 2260.0, 1420.0, 1760.0, 320.0, 5510.0, 1450.0, 70.0, 450.0, 800.0, 2540.0, 90.0, 16910.0, 500.0, 2840.0, 8400.0, 870.0, 710.0, 6770.0, 1580.0, 30.0, 50.0, 2340.0, 250.0, 10.0, 170.0, 1900.0, 250.0, 3220.0, 950.0, 1040.0, 280.0, 1030.0, 790.0, 1090.0, 5440.0, 1560.0, 180.0, 550.0, 780.0, 10.0, 15130.0, 390.0, 430.0, 14580.0, 30.0, 700.0, 580.0, 290.0, 210.0, 2630.0, 4980.0, 2100.0, 60.0, 6740.0, 1570.0, 290.0, 300.0, 1090.0, 27320.0, 1290.0, 830.0, 60.0, 4090.0, 3170.0, 920.0, 840.0, 18950.0, 530.0, 150.0, 5500.0, 1710.0, 1480.0, 6100.0, 570.0, 640.0, 2940.0, 7280.0, 620.0, 490.0, 5510.0, 180.0, 220.0, 690.0, 480.0, 470.0, 60.0, 850.0, 4040.0, 510.0, 2870.0, 760.0, 600.0, 1670.0, 4420.0, 300.0, 140.0, 850.0, 180.0, 2060.0, 150.0, 12790.0, 530.0, 7030.0, 600.0, 50.0, 70.0, 150.0, 510.0, 107160.0, 7460.0, 20.0, 790.0, 70.0, 2340.0, 5600.0, 46190.0, 920.0, 1240.0, 2400.0, 220.0, 1530.0, 3000.0, 3070.0, 4930.0, 2500.0, 2610.0, 540.0, 1780.0, 21290.0, 2530.0, 350.0, 7370.0, 790.0, 1800.0, 22180.0, 2060.0, 420.0, 3740.0, 2320.0, 370.0, 960.0, 1530.0, 1420.0, 310.0, 2500.0, 5100.0, 980.0, 20.0, 12660.0, 1190.0, 620.0, 320.0, 290.0, 2600.0, 590.0, 260.0, 620.0, 370.0, 110.0, 160.0, 38010.0, 1240.0, 1320.0, 1120.0, 860.0, 2770.0, 1980.0, 23690.0, 1140.0, 7130.0, 120.0, 10240.0, 850.0, 1160.0, 1060.0, 3640.0, 220.0, 1320.0, 160.0, 920.0, 880.0, 940.0, 1660.0, 1740.0, 1360.0, 1540.0, 1310.0, 2080.0, 630.0, 430.0, 1030.0, 570.0, 1660.0, 1780.0, 80.0, 2020.0, 140.0, 790.0, 720.0, 1160.0, 590.0, 1610.0, 830.0, 930.0, 190.0, 640.0, 7790.0, 380.0, 110.0, 1200.0, 420.0, 780.0, 880.0, 350.0, 15210.0, 1330.0, 370.0, 480.0, 1970.0, 1810.0, 540.0, 980.0, 390.0, 630.0, 460.0, 360.0, 1260.0, 2060.0, 9230.0, 2240.0, 50.0, 1030.0, 1700.0, 270.0, 670.0, 580.0, 250.0, 1090.0, 4380.0, 1040.0, 470.0, 300.0, 190.0, 1240.0, 200.0, 1840.0, 400.0, 400.0, 510.0, 360.0, 510.0, 1130.0, 1030.0, 720.0, 2270.0, 480.0, 620.0, 1140.0, 8700.0, 1100.0, 160.0, 230.0, 2050.0, 620.0, 1990.0, 1130.0, 800.0, 1190.0, 1330.0, 500.0, 3480.0, 2740.0, 200.0, 370.0, 1710.0, 1190.0, 1910.0, 430.0, 1940.0, 1100.0, 1490.0, 2600.0, 890.0, 200.0, 970.0, 7040.0, 660.0, 210.0, 2100.0, 360.0, 260.0, 90.0, 350.0, 770.0, 320.0, 5160.0, 970.0, 1290.0, 100.0, 2830.0, 760.0, 350.0, 760.0, 7030.0, 8910.0, 250.0, 1800.0, 240.0, 4340.0, 280.0, 8770.0, 4230.0, 590.0, 730.0, 2950.0, 10770.0, 910.0, 210.0, 950.0, 1280.0, 960.0, 9140.0, 2720.0, 3270.0, 17630.0, 160.0, 5390.0, 2030.0, 420.0, 4910.0, 110.0, 4660.0, 3530.0, 2650.0, 920.0, 53870.0, 8990.0, 1280.0, 860.0, 3610.0, 490.0, 2900.0, 2230.0, 980.0, 610.0, 34830.0, 360.0, 4740.0, 460.0, 23730.0, 21660.0, 2290.0, 9830.0, 150.0, 2120.0, 7060.0, 1210.0, 13860.0, 790.0, 4070.0, 1370.0, 720.0, 780.0, 3730.0, 390.0, 560.0, 220.0, 2280.0, 230.0, 370.0, 1420.0, 1060.0, 1080.0, 510.0, 2520.0, 1040.0, 1360.0, 7470.0, 820.0, 1320.0, 1840.0, 1370.0, 2180.0, 1190.0, 1270.0, 3050.0, 1050.0, 1700.0, 2300.0, 590.0, 400.0, 1160.0, 1280.0, 230.0, 300.0, 360.0, 1240.0, 1570.0, 3370.0, 1110.0, 410.0, 770.0, 610.0, 690.0, 230.0, 360.0, 1060.0, 2110.0, 460.0, 860.0, 330.0, 3660.0, 1210.0, 700.0, 680.0, 1680.0, 530.0, 8190.0, 390.0, 570.0, 1330.0, 2290.0, 1560.0, 1620.0, 630.0, 11780.0, 2410.0, 650.0, 1490.0, 1270.0, 2920.0, 120.0, 2920.0, 390.0, 1570.0, 1060.0, 680.0, 660.0, 170.0, 740.0, 2370.0, 1010.0, 6400.0, 570.0, 2930.0, 590.0, 740.0, 750.0, 2500.0, 4280.0, 1510.0, 520.0, 440.0, 43840.0, 1950.0, 1170.0, 940.0, 5680.0, 1800.0, 260.0, 1070.0, 1500.0, 1830.0, 390.0, 7100.0, 650.0, 6550.0, 590.0, 2320.0, 2120.0, 720.0, 1360.0, 3060.0, 730.0, 870.0, 1420.0, 660.0, 2850.0, 590.0, 3100.0, 8490.0, 1720.0, 740.0, 5020.0, 2540.0, 900.0, 540.0, 2090.0, 540.0, 530.0, 200.0, 2040.0, 450.0, 180.0, 330.0, 3450.0, 790.0, 3250.0, 80.0, 910.0, 340.0, 940.0, 360.0, 1820.0, 370.0, 1140.0, 360.0, 340.0], \"yaxis\": \"y\"}],\n",
              "                        {\"legend\": {\"tracegroupgap\": 0}, \"template\": {\"data\": {\"bar\": [{\"error_x\": {\"color\": \"#2a3f5f\"}, \"error_y\": {\"color\": \"#2a3f5f\"}, \"marker\": {\"line\": {\"color\": \"#E5ECF6\", \"width\": 0.5}}, \"type\": \"bar\"}], \"barpolar\": [{\"marker\": {\"line\": {\"color\": \"#E5ECF6\", \"width\": 0.5}}, \"type\": \"barpolar\"}], \"carpet\": [{\"aaxis\": {\"endlinecolor\": \"#2a3f5f\", \"gridcolor\": \"white\", \"linecolor\": \"white\", \"minorgridcolor\": \"white\", \"startlinecolor\": \"#2a3f5f\"}, \"baxis\": {\"endlinecolor\": \"#2a3f5f\", \"gridcolor\": \"white\", \"linecolor\": \"white\", \"minorgridcolor\": \"white\", \"startlinecolor\": \"#2a3f5f\"}, \"type\": \"carpet\"}], \"choropleth\": [{\"colorbar\": {\"outlinewidth\": 0, \"ticks\": \"\"}, \"type\": \"choropleth\"}], \"contour\": [{\"colorbar\": {\"outlinewidth\": 0, \"ticks\": \"\"}, \"colorscale\": [[0.0, \"#0d0887\"], [0.1111111111111111, \"#46039f\"], [0.2222222222222222, \"#7201a8\"], [0.3333333333333333, \"#9c179e\"], [0.4444444444444444, \"#bd3786\"], [0.5555555555555556, \"#d8576b\"], [0.6666666666666666, \"#ed7953\"], [0.7777777777777778, \"#fb9f3a\"], [0.8888888888888888, \"#fdca26\"], [1.0, \"#f0f921\"]], \"type\": \"contour\"}], \"contourcarpet\": [{\"colorbar\": {\"outlinewidth\": 0, \"ticks\": \"\"}, \"type\": \"contourcarpet\"}], \"heatmap\": [{\"colorbar\": {\"outlinewidth\": 0, \"ticks\": \"\"}, \"colorscale\": [[0.0, \"#0d0887\"], [0.1111111111111111, \"#46039f\"], [0.2222222222222222, \"#7201a8\"], [0.3333333333333333, \"#9c179e\"], [0.4444444444444444, \"#bd3786\"], [0.5555555555555556, \"#d8576b\"], [0.6666666666666666, \"#ed7953\"], [0.7777777777777778, \"#fb9f3a\"], [0.8888888888888888, \"#fdca26\"], [1.0, \"#f0f921\"]], \"type\": \"heatmap\"}], \"heatmapgl\": [{\"colorbar\": {\"outlinewidth\": 0, \"ticks\": \"\"}, \"colorscale\": [[0.0, \"#0d0887\"], [0.1111111111111111, \"#46039f\"], [0.2222222222222222, \"#7201a8\"], [0.3333333333333333, \"#9c179e\"], [0.4444444444444444, \"#bd3786\"], [0.5555555555555556, \"#d8576b\"], [0.6666666666666666, \"#ed7953\"], [0.7777777777777778, \"#fb9f3a\"], [0.8888888888888888, \"#fdca26\"], [1.0, \"#f0f921\"]], \"type\": \"heatmapgl\"}], \"histogram\": [{\"marker\": {\"colorbar\": {\"outlinewidth\": 0, \"ticks\": \"\"}}, \"type\": \"histogram\"}], \"histogram2d\": [{\"colorbar\": {\"outlinewidth\": 0, \"ticks\": \"\"}, \"colorscale\": [[0.0, \"#0d0887\"], [0.1111111111111111, \"#46039f\"], [0.2222222222222222, \"#7201a8\"], [0.3333333333333333, \"#9c179e\"], [0.4444444444444444, \"#bd3786\"], [0.5555555555555556, \"#d8576b\"], [0.6666666666666666, \"#ed7953\"], [0.7777777777777778, \"#fb9f3a\"], [0.8888888888888888, \"#fdca26\"], [1.0, \"#f0f921\"]], \"type\": \"histogram2d\"}], \"histogram2dcontour\": [{\"colorbar\": {\"outlinewidth\": 0, \"ticks\": \"\"}, \"colorscale\": [[0.0, \"#0d0887\"], [0.1111111111111111, \"#46039f\"], [0.2222222222222222, \"#7201a8\"], [0.3333333333333333, \"#9c179e\"], [0.4444444444444444, \"#bd3786\"], [0.5555555555555556, \"#d8576b\"], [0.6666666666666666, \"#ed7953\"], [0.7777777777777778, \"#fb9f3a\"], [0.8888888888888888, \"#fdca26\"], [1.0, \"#f0f921\"]], \"type\": \"histogram2dcontour\"}], \"mesh3d\": [{\"colorbar\": {\"outlinewidth\": 0, \"ticks\": \"\"}, \"type\": \"mesh3d\"}], \"parcoords\": [{\"line\": {\"colorbar\": {\"outlinewidth\": 0, \"ticks\": \"\"}}, \"type\": \"parcoords\"}], \"pie\": [{\"automargin\": true, \"type\": \"pie\"}], \"scatter\": [{\"marker\": {\"colorbar\": {\"outlinewidth\": 0, \"ticks\": \"\"}}, \"type\": \"scatter\"}], \"scatter3d\": [{\"line\": {\"colorbar\": {\"outlinewidth\": 0, \"ticks\": \"\"}}, \"marker\": {\"colorbar\": {\"outlinewidth\": 0, \"ticks\": \"\"}}, \"type\": \"scatter3d\"}], \"scattercarpet\": [{\"marker\": {\"colorbar\": {\"outlinewidth\": 0, \"ticks\": \"\"}}, \"type\": \"scattercarpet\"}], \"scattergeo\": [{\"marker\": {\"colorbar\": {\"outlinewidth\": 0, \"ticks\": \"\"}}, \"type\": \"scattergeo\"}], \"scattergl\": [{\"marker\": {\"colorbar\": {\"outlinewidth\": 0, \"ticks\": \"\"}}, \"type\": \"scattergl\"}], \"scattermapbox\": [{\"marker\": {\"colorbar\": {\"outlinewidth\": 0, \"ticks\": \"\"}}, \"type\": \"scattermapbox\"}], \"scatterpolar\": [{\"marker\": {\"colorbar\": {\"outlinewidth\": 0, \"ticks\": \"\"}}, \"type\": \"scatterpolar\"}], \"scatterpolargl\": [{\"marker\": {\"colorbar\": {\"outlinewidth\": 0, \"ticks\": \"\"}}, \"type\": \"scatterpolargl\"}], \"scatterternary\": [{\"marker\": {\"colorbar\": {\"outlinewidth\": 0, \"ticks\": \"\"}}, \"type\": \"scatterternary\"}], \"surface\": [{\"colorbar\": {\"outlinewidth\": 0, \"ticks\": \"\"}, \"colorscale\": [[0.0, \"#0d0887\"], [0.1111111111111111, \"#46039f\"], [0.2222222222222222, \"#7201a8\"], [0.3333333333333333, \"#9c179e\"], [0.4444444444444444, \"#bd3786\"], [0.5555555555555556, \"#d8576b\"], [0.6666666666666666, \"#ed7953\"], [0.7777777777777778, \"#fb9f3a\"], [0.8888888888888888, \"#fdca26\"], [1.0, \"#f0f921\"]], \"type\": \"surface\"}], \"table\": [{\"cells\": {\"fill\": {\"color\": \"#EBF0F8\"}, \"line\": {\"color\": \"white\"}}, \"header\": {\"fill\": {\"color\": \"#C8D4E3\"}, \"line\": {\"color\": \"white\"}}, \"type\": \"table\"}]}, \"layout\": {\"annotationdefaults\": {\"arrowcolor\": \"#2a3f5f\", \"arrowhead\": 0, \"arrowwidth\": 1}, \"coloraxis\": {\"colorbar\": {\"outlinewidth\": 0, \"ticks\": \"\"}}, \"colorscale\": {\"diverging\": [[0, \"#8e0152\"], [0.1, \"#c51b7d\"], [0.2, \"#de77ae\"], [0.3, \"#f1b6da\"], [0.4, \"#fde0ef\"], [0.5, \"#f7f7f7\"], [0.6, \"#e6f5d0\"], [0.7, \"#b8e186\"], [0.8, \"#7fbc41\"], [0.9, \"#4d9221\"], [1, \"#276419\"]], \"sequential\": [[0.0, \"#0d0887\"], [0.1111111111111111, \"#46039f\"], [0.2222222222222222, \"#7201a8\"], [0.3333333333333333, \"#9c179e\"], [0.4444444444444444, \"#bd3786\"], [0.5555555555555556, \"#d8576b\"], [0.6666666666666666, \"#ed7953\"], [0.7777777777777778, \"#fb9f3a\"], [0.8888888888888888, \"#fdca26\"], [1.0, \"#f0f921\"]], \"sequentialminus\": [[0.0, \"#0d0887\"], [0.1111111111111111, \"#46039f\"], [0.2222222222222222, \"#7201a8\"], [0.3333333333333333, \"#9c179e\"], [0.4444444444444444, \"#bd3786\"], [0.5555555555555556, \"#d8576b\"], [0.6666666666666666, \"#ed7953\"], [0.7777777777777778, \"#fb9f3a\"], [0.8888888888888888, \"#fdca26\"], [1.0, \"#f0f921\"]]}, \"colorway\": [\"#636efa\", \"#EF553B\", \"#00cc96\", \"#ab63fa\", \"#FFA15A\", \"#19d3f3\", \"#FF6692\", \"#B6E880\", \"#FF97FF\", \"#FECB52\"], \"font\": {\"color\": \"#2a3f5f\"}, \"geo\": {\"bgcolor\": \"white\", \"lakecolor\": \"white\", \"landcolor\": \"#E5ECF6\", \"showlakes\": true, \"showland\": true, \"subunitcolor\": \"white\"}, \"hoverlabel\": {\"align\": \"left\"}, \"hovermode\": \"closest\", \"mapbox\": {\"style\": \"light\"}, \"paper_bgcolor\": \"white\", \"plot_bgcolor\": \"#E5ECF6\", \"polar\": {\"angularaxis\": {\"gridcolor\": \"white\", \"linecolor\": \"white\", \"ticks\": \"\"}, \"bgcolor\": \"#E5ECF6\", \"radialaxis\": {\"gridcolor\": \"white\", \"linecolor\": \"white\", \"ticks\": \"\"}}, \"scene\": {\"xaxis\": {\"backgroundcolor\": \"#E5ECF6\", \"gridcolor\": \"white\", \"gridwidth\": 2, \"linecolor\": \"white\", \"showbackground\": true, \"ticks\": \"\", \"zerolinecolor\": \"white\"}, \"yaxis\": {\"backgroundcolor\": \"#E5ECF6\", \"gridcolor\": \"white\", \"gridwidth\": 2, \"linecolor\": \"white\", \"showbackground\": true, \"ticks\": \"\", \"zerolinecolor\": \"white\"}, \"zaxis\": {\"backgroundcolor\": \"#E5ECF6\", \"gridcolor\": \"white\", \"gridwidth\": 2, \"linecolor\": \"white\", \"showbackground\": true, \"ticks\": \"\", \"zerolinecolor\": \"white\"}}, \"shapedefaults\": {\"line\": {\"color\": \"#2a3f5f\"}}, \"ternary\": {\"aaxis\": {\"gridcolor\": \"white\", \"linecolor\": \"white\", \"ticks\": \"\"}, \"baxis\": {\"gridcolor\": \"white\", \"linecolor\": \"white\", \"ticks\": \"\"}, \"bgcolor\": \"#E5ECF6\", \"caxis\": {\"gridcolor\": \"white\", \"linecolor\": \"white\", \"ticks\": \"\"}}, \"title\": {\"x\": 0.05}, \"xaxis\": {\"automargin\": true, \"gridcolor\": \"white\", \"linecolor\": \"white\", \"ticks\": \"\", \"title\": {\"standoff\": 15}, \"zerolinecolor\": \"white\", \"zerolinewidth\": 2}, \"yaxis\": {\"automargin\": true, \"gridcolor\": \"white\", \"linecolor\": \"white\", \"ticks\": \"\", \"title\": {\"standoff\": 15}, \"zerolinecolor\": \"white\", \"zerolinewidth\": 2}}}, \"title\": {\"text\": \"State and Number of Children FIR\"}, \"xaxis\": {\"anchor\": \"y\", \"domain\": [0.0, 1.0], \"title\": {\"text\": \"State\"}}, \"yaxis\": {\"anchor\": \"x\", \"domain\": [0.0, 1.0], \"title\": {\"text\": \"Num_CFIR\"}}},\n",
              "                        {\"responsive\": true}\n",
              "                    ).then(function(){\n",
              "                            \n",
              "var gd = document.getElementById('01070bb4-b2e9-46d6-9cf1-90dec0792d48');\n",
              "var x = new MutationObserver(function (mutations, observer) {{\n",
              "        var display = window.getComputedStyle(gd).display;\n",
              "        if (!display || display === 'none') {{\n",
              "            console.log([gd, 'removed!']);\n",
              "            Plotly.purge(gd);\n",
              "            observer.disconnect();\n",
              "        }}\n",
              "}});\n",
              "\n",
              "// Listen for the removal of the full notebook cells\n",
              "var notebookContainer = gd.closest('#notebook-container');\n",
              "if (notebookContainer) {{\n",
              "    x.observe(notebookContainer, {childList: true});\n",
              "}}\n",
              "\n",
              "// Listen for the clearing of the current output cell\n",
              "var outputEl = gd.closest('.output');\n",
              "if (outputEl) {{\n",
              "    x.observe(outputEl, {childList: true});\n",
              "}}\n",
              "\n",
              "                        })\n",
              "                };\n",
              "                \n",
              "            </script>\n",
              "        </div>\n",
              "</body>\n",
              "</html>"
            ]
          },
          "metadata": {
            "tags": []
          }
        }
      ]
    },
    {
      "cell_type": "code",
      "metadata": {
        "colab": {
          "base_uri": "https://localhost:8080/",
          "height": 542
        },
        "id": "Sy8W_PEpiDRG",
        "outputId": "bac6edd1-d1b4-49ff-fe11-9cd123d8be84"
      },
      "source": [
        "fig = px.scatter(df_mealgap, x='Num_FIP', y='State', title='State and NUM_FIP')\n",
        "fig.show()"
      ],
      "execution_count": 39,
      "outputs": [
        {
          "output_type": "display_data",
          "data": {
            "text/html": [
              "<html>\n",
              "<head><meta charset=\"utf-8\" /></head>\n",
              "<body>\n",
              "    <div>\n",
              "            <script src=\"https://cdnjs.cloudflare.com/ajax/libs/mathjax/2.7.5/MathJax.js?config=TeX-AMS-MML_SVG\"></script><script type=\"text/javascript\">if (window.MathJax) {MathJax.Hub.Config({SVG: {font: \"STIX-Web\"}});}</script>\n",
              "                <script type=\"text/javascript\">window.PlotlyConfig = {MathJaxConfig: 'local'};</script>\n",
              "        <script src=\"https://cdn.plot.ly/plotly-latest.min.js\"></script>    \n",
              "            <div id=\"79b8d3e7-4739-4457-8367-c803af9d02c8\" class=\"plotly-graph-div\" style=\"height:525px; width:100%;\"></div>\n",
              "            <script type=\"text/javascript\">\n",
              "                \n",
              "                    window.PLOTLYENV=window.PLOTLYENV || {};\n",
              "                    \n",
              "                if (document.getElementById(\"79b8d3e7-4739-4457-8367-c803af9d02c8\")) {\n",
              "                    Plotly.newPlot(\n",
              "                        '79b8d3e7-4739-4457-8367-c803af9d02c8',\n",
              "                        [{\"hoverlabel\": {\"namelength\": 0}, \"hovertemplate\": \"Num_FIP=%{x}<br>State=%{y}\", \"legendgroup\": \"\", \"marker\": {\"color\": \"#636efa\", \"symbol\": \"circle\"}, \"mode\": \"markers\", \"name\": \"\", \"showlegend\": false, \"type\": \"scattergl\", \"x\": [8620.0, 26860.0, 5650.0, 3400.0, 7810.0, 2120.0, 3820.0, 20050.0, 5530.0, 4040.0, 6960.0, 2710.0, 5150.0, 2130.0, 2620.0, 7980.0, 8940.0, 2440.0, 1780.0, 6600.0, 2300.0, 12470.0, 8860.0, 9070.0, 11790.0, 11640.0, 7220.0, 17120.0, 3040.0, 4950.0, 5040.0, 2200.0, 3090.0, 2590.0, 17610.0, 8960.0, 106470.0, 2550.0, 13810.0, 5470.0, 24680.0, 13100.0, 2400.0, 3850.0, 48620.0, 3920.0, 5350.0, 15380.0, 69830.0, 4720.0, 40430.0, 17700.0, 2560.0, 4010.0, 6280.0, 3520.0, 10580.0, 12280.0, 22450.0, 2990.0, 14230.0, 7110.0, 30460.0, 11640.0, 3210.0, 2670.0, 4080.0, 400.0, 650.0, 34080.0, 3810.0, 110.0, 330.0, 800.0, 11480.0, 330.0, 330.0, 3380.0, 8070.0, 1800.0, 1680.0, 2290.0, 240.0, 13070.0, 1890.0, 1280.0, 1640.0, 450.0, 1150.0, 960.0, 140.0, 1020.0, 1110.0, 330.0, 80.0, 1190.0, 16180.0, 18130.0, 20030.0, 9440.0, 5520.0, 1120.0, 3610.0, 515130.0, 34560.0, 21940.0, 138690.0, 53440.0, 7110.0, 31150.0, 38990.0, 3500.0, 4030.0, 6720.0, 30160.0, 5930.0, 2140.0, 880.0, 4000.0, 2590.0, 3920.0, 3000.0, 4050.0, 1440.0, 4740.0, 3870.0, 17790.0, 9970.0, 9470.0, 3010.0, 1330.0, 2640.0, 3370.0, 19080.0, 3290.0, 2400.0, 17320.0, 2760.0, 7740.0, 4020.0, 6000.0, 2240.0, 6320.0, 2470.0, 3600.0, 14120.0, 4880.0, 1380.0, 3090.0, 2080.0, 2540.0, 2230.0, 3990.0, 10080.0, 2520.0, 3040.0, 8450.0, 9230.0, 1620.0, 1680.0, 1790.0, 1230.0, 4790.0, 1810.0, 4870.0, 1970.0, 4630.0, 3940.0, 10700.0, 1420.0, 65760.0, 3130.0, 5680.0, 15190.0, 1950.0, 1500.0, 22700.0, 2700.0, 3400.0, 2450.0, 7170.0, 3140.0, 31560.0, 13200.0, 1430.0, 3540.0, 150140.0, 170.0, 4110.0, 32300.0, 5510.0, 2950.0, 96040.0, 4570.0, 17040.0, 148670.0, 3970.0, 19190.0, 34600.0, 1900.0, 125870.0, 21690.0, 10050.0, 3910.0, 1146290.0, 20530.0, 19260.0, 2350.0, 11760.0, 40280.0, 1310.0, 1210.0, 45410.0, 11170.0, 10570.0, 267730.0, 31530.0, 2540.0, 237800.0, 179860.0, 4480.0, 229400.0, 316270.0, 88680.0, 90590.0, 25910.0, 52280.0, 42350.0, 138050.0, 28230.0, 25490.0, 310.0, 7000.0, 43650.0, 45340.0, 67100.0, 13250.0, 10000.0, 2070.0, 73140.0, 6920.0, 69710.0, 22740.0, 10870.0, 46150.0, 2400.0, 58770.0, 1370.0, 510.0, 960.0, 28770.0, 4960.0, 2040.0, 200.0, 760.0, 1120.0, 660.0, 1010.0, 590.0, 4280.0, 76340.0, 240.0, 19460.0, 3360.0, 1680.0, 75220.0, 6570.0, 4750.0, 400.0, 1340.0, 1580.0, 110.0, 990.0, 130.0, 47390.0, 150.0, 760.0, 880.0, 4800.0, 32280.0, 1960.0, 640.0, 2570.0, 18910.0, 90.0, 1500.0, 3580.0, 5290.0, 2630.0, 2990.0, 520.0, 1400.0, 350.0, 1460.0, 1620.0, 23140.0, 710.0, 1540.0, 2170.0, 840.0, 50.0, 760.0, 300.0, 2560.0, 2400.0, 480.0, 25110.0, 1110.0, 93270.0, 105050.0, 17890.0, 15770.0, 104390.0, 31670.0, 13980.0, 13900.0, 21870.0, 59160.0, 23900.0, 73090.0, 36630.0, 3760.0, 27200.0, 4400.0, 72000.0, 222100.0, 2020.0, 23660.0, 22180.0, 23430.0, 38030.0, 10510.0, 5960.0, 2970.0, 129950.0, 42380.0, 13300.0, 1910.0, 8280.0, 2670.0, 1910.0, 2280.0, 2830.0, 4140.0, 6490.0, 25280.0, 15960.0, 169310.0, 3610.0, 19020.0, 8020.0, 1920.0, 1280.0, 41460.0, 85980.0, 39450.0, 6360.0, 1230.0, 3420.0, 44330.0, 50240.0, 17620.0, 319970.0, 8280.0, 9260.0, 24690.0, 6050.0, 162820.0, 40860.0, 167230.0, 65670.0, 123860.0, 91770.0, 12620.0, 22370.0, 40770.0, 19700.0, 47100.0, 47920.0, 14680.0, 6700.0, 3620.0, 2370.0, 71730.0, 3850.0, 8660.0, 4150.0, 2900.0, 1300.0, 1880.0, 550.0, 7540.0, 2140.0, 8120.0, 12290.0, 3370.0, 3280.0, 26890.0, 2030.0, 3060.0, 2600.0, 4010.0, 11920.0, 3790.0, 3720.0, 1180.0, 6210.0, 2010.0, 15760.0, 6920.0, 2170.0, 37960.0, 1630.0, 3710.0, 19150.0, 20320.0, 730.0, 41640.0, 1380.0, 67770.0, 6880.0, 6980.0, 13250.0, 2780.0, 13750.0, 1800.0, 4480.0, 2080.0, 2230.0, 4720.0, 96060.0, 3630.0, 2440.0, 17870.0, 16490.0, 1850.0, 590.0, 5490.0, 2960.0, 4130.0, 1750.0, 3430.0, 8170.0, 13880.0, 13280.0, 3770.0, 127960.0, 4040.0, 400.0, 11740.0, 8270.0, 4130.0, 2530.0, 81160.0, 5180.0, 19570.0, 1480.0, 3950.0, 3170.0, 3570.0, 1610.0, 22480.0, 19380.0, 1710.0, 6470.0, 1910.0, 2180.0, 2670.0, 1520.0, 1550.0, 3400.0, 2690.0, 1690.0, 8080.0, 3120.0, 8920.0, 1190.0, 2660.0, 18030.0, 3850.0, 3660.0, 2150.0, 2500.0, 3850.0, 1250.0, 3610.0, 880.0, 3880.0, 3210.0, 1430.0, 1950.0, 5050.0, 33310.0, 15170.0, 2620.0, 1840.0, 14030.0, 4340.0, 3250.0, 2790.0, 1900.0, 5670.0, 2020.0, 2710.0, 410.0, 2380.0, 1520.0, 34950.0, 10560.0, 810.0, 2260.0, 1450.0, 10320.0, 3700.0, 1220.0, 5520.0, 990.0, 320.0, 3990.0, 1490.0, 2840.0, 1780.0, 7090.0, 6370.0, 4530.0, 1550.0, 1150.0, 10770.0, 1590.0, 1520.0, 2750.0, 4070.0, 9710.0, 9880.0, 5770.0, 910.0, 3700.0, 4430.0, 440.0, 1460.0, 3380.0, 12170.0, 1360.0, 1660.0, 1470.0, 3190.0, 25520.0, 102250.0, 10.0, 6950.0, 17240.0, 40690.0, 540.0, 10400.0, 690.0, 1300.0, 4530.0, 2060.0, 800.0, 5400.0, 11410.0, 1490.0, 310.0, 120.0, 23090.0, 620.0, 2320.0, 100.0, 1270.0, 640.0, 3140.0, 1270.0, 1240.0, 2380.0, 1590.0, 2300.0, 2120.0, 2480.0, 16700.0, 4580.0, 990.0, 580.0, 550.0, 4410.0, 2330.0, 4810.0, 470.0, 1540.0, 2700.0, 740.0, 2060.0, 710.0, 9160.0, 1210.0, 1350.0, 6770.0, 1270.0, 1730.0, 4640.0, 570.0, 3360.0, 550.0, 1450.0, 1230.0, 23020.0, 3520.0, 1810.0, 1720.0, 3260.0, 6850.0, 527760.0, 2060.0, 1170.0, 10630.0, 1530.0, 1810.0, 55070.0, 1900.0, 640.0, 3130.0, 2850.0, 1650.0, 5810.0, 4420.0, 770.0, 1540.0, 4070.0, 840.0, 1800.0, 620.0, 660.0, 4820.0, 3030.0, 8620.0, 1140.0, 5260.0, 2000.0, 1960.0, 1500.0, 37740.0, 12830.0, 5930.0, 6660.0, 48730.0, 12140.0, 2200.0, 3450.0, 4060.0, 2860.0, 3810.0, 19190.0, 15860.0, 13410.0, 4990.0, 28460.0, 5010.0, 1130.0, 1760.0, 2130.0, 1110.0, 1540.0, 1990.0, 3500.0, 4050.0, 1220.0, 4660.0, 22100.0, 2850.0, 1250.0, 1790.0, 570.0, 940.0, 490.0, 3490.0, 1940.0, 16200.0, 32270.0, 3960.0, 22480.0, 1030.0, 520.0, 2080.0, 650.0, 5270.0, 11620.0, 2340.0, 10840.0, 1270.0, 1690.0, 1100.0, 2050.0, 1630.0, 5330.0, 42120.0, 8440.0, 34290.0, 2820.0, 4290.0, 46500.0, 9490.0, 1210.0, 1680.0, 5470.0, 1590.0, 2310.0, 4890.0, 13530.0, 3600.0, 3740.0, 1580.0, 3970.0, 5460.0, 3330.0, 4840.0, 17490.0, 4410.0, 23610.0, 3700.0, 8600.0, 2150.0, 2450.0, 2640.0, 3850.0, 10670.0, 4530.0, 24300.0, 7320.0, 4830.0, 14200.0, 6840.0, 12130.0, 4270.0, 5810.0, 3820.0, 2970.0, 4310.0, 3790.0, 15370.0, 5620.0, 8600.0, 3490.0, 67650.0, 15350.0, 6000.0, 19480.0, 144260.0, 5400.0, 1320.0, 5260.0, 20570.0, 4470.0, 8360.0, 1840.0, 4800.0, 590.0, 3010.0, 3040.0, 2380.0, 2460.0, 1540.0, 17780.0, 2720.0, 1690.0, 4760.0, 3520.0, 3370.0, 2300.0, 36140.0, 3450.0, 5150.0, 2250.0, 3070.0, 3950.0, 2970.0, 1660.0, 24800.0, 1680.0, 840.0, 26300.0, 2390.0, 17080.0, 3970.0, 950.0, 6070.0, 3760.0, 9980.0, 2970.0, 2700.0, 3570.0, 660.0, 340.0, 1170.0, 1570.0, 490.0, 2020.0, 13600.0, 2170.0, 1630.0, 1720.0, 1670.0, 1200.0, 920.0, 1590.0, 1290.0, 1280.0, 4150.0, 1030.0, 960.0, 950.0, 1730.0, 1610.0, 4710.0, 1760.0, 4700.0, 790.0, 990.0, 1280.0, 4540.0, 1460.0, 8500.0, 900.0, 1980.0, 1810.0, 850.0, 590.0, 830.0, 830.0, 980.0, 1300.0, 860.0, 1360.0, 1240.0, 1870.0, 830.0, 910.0, 620.0, 1250.0, 1800.0, 3420.0, 1900.0, 12110.0, 1820.0, 980.0, 1360.0, 4110.0, 17990.0, 930.0, 870.0, 680.0, 1270.0, 2270.0, 3000.0, 3710.0, 1250.0, 840.0, 1010.0, 740.0, 1150.0, 3370.0, 1200.0, 530.0, 1550.0, 740.0, 1890.0, 650.0, 41720.0, 8770.0, 1510.0, 460.0, 800.0, 15890.0, 960.0, 2040.0, 7980.0, 1530.0, 550.0, 1450.0, 710.0, 3880.0, 3480.0, 1800.0, 690.0, 4130.0, 960.0, 1560.0, 9730.0, 680.0, 1230.0, 1920.0, 1030.0, 2440.0, 650.0, 3640.0, 2330.0, 1290.0, 7510.0, 320.0, 540.0, 3060.0, 300.0, 240.0, 900.0, 1140.0, 1100.0, 170.0, 5040.0, 6130.0, 430.0, 2590.0, 1070.0, 15220.0, 290.0, 390.0, 3400.0, 790.0, 3900.0, 3420.0, 3070.0, 5130.0, 310.0, 320.0, 610.0, 520.0, 140.0, 870.0, 270.0, 780.0, 4160.0, 370.0, 210.0, 1620.0, 2020.0, 400.0, 52590.0, 490.0, 800.0, 280.0, 3200.0, 210.0, 9520.0, 350.0, 1550.0, 300.0, 4150.0, 3180.0, 1390.0, 1120.0, 440.0, 3570.0, 810.0, 5190.0, 660.0, 310.0, 1120.0, 2560.0, 310.0, 650.0, 2130.0, 470.0, 660.0, 830.0, 620.0, 2370.0, 1090.0, 300.0, 8280.0, 550.0, 1300.0, 9740.0, 580.0, 370.0, 780.0, 6880.0, 330.0, 66440.0, 2280.0, 22550.0, 250.0, 880.0, 470.0, 510.0, 240.0, 660.0, 2930.0, 890.0, 290.0, 700.0, 200.0, 670.0, 210.0, 1370.0, 560.0, 25670.0, 3090.0, 3130.0, 2750.0, 1210.0, 7490.0, 2190.0, 6700.0, 11420.0, 2790.0, 7990.0, 4050.0, 1150.0, 3230.0, 3070.0, 8810.0, 2040.0, 1900.0, 5720.0, 10430.0, 680.0, 1730.0, 5330.0, 2840.0, 12110.0, 5040.0, 5040.0, 1730.0, 1330.0, 1030.0, 13400.0, 2020.0, 1650.0, 3050.0, 40400.0, 2380.0, 8160.0, 6310.0, 1270.0, 1100.0, 2390.0, 3610.0, 5390.0, 4580.0, 1800.0, 5410.0, 1060.0, 14470.0, 6730.0, 2620.0, 3020.0, 7290.0, 2350.0, 710.0, 6690.0, 2890.0, 100450.0, 7200.0, 4400.0, 19360.0, 3590.0, 6300.0, 2020.0, 10180.0, 3100.0, 1570.0, 2480.0, 5080.0, 2740.0, 4130.0, 1420.0, 3730.0, 1190.0, 9430.0, 4110.0, 1320.0, 12780.0, 3130.0, 3190.0, 3980.0, 2510.0, 2700.0, 3580.0, 1140.0, 3060.0, 1710.0, 1830.0, 4720.0, 2560.0, 5060.0, 5500.0, 1300.0, 3880.0, 4540.0, 1590.0, 1060.0, 2050.0, 5610.0, 11830.0, 2230.0, 10960.0, 350.0, 2850.0, 4170.0, 3050.0, 5860.0, 5370.0, 2290.0, 1710.0, 4460.0, 1700.0, 1730.0, 1320.0, 2410.0, 17020.0, 1620.0, 3860.0, 2190.0, 6620.0, 1760.0, 3030.0, 10970.0, 4050.0, 13160.0, 3750.0, 7360.0, 5590.0, 2740.0, 16920.0, 43320.0, 27870.0, 1730.0, 710.0, 1640.0, 3230.0, 3770.0, 4820.0, 64120.0, 2040.0, 2840.0, 6920.0, 3970.0, 3680.0, 12190.0, 5410.0, 3010.0, 58130.0, 4880.0, 31860.0, 13450.0, 2310.0, 8380.0, 15300.0, 2650.0, 5280.0, 7840.0, 70140.0, 26290.0, 3380.0, 3710.0, 21380.0, 1430.0, 3860.0, 3720.0, 6840.0, 5760.0, 1830.0, 3170.0, 6490.0, 15220.0, 7650.0, 8700.0, 28050.0, 22350.0, 1050.0, 17880.0, 3280.0, 8760.0, 8380.0, 9140.0, 7230.0, 3520.0, 2000.0, 2030.0, 2740.0, 14540.0, 11190.0, 31180.0, 3770.0, 6740.0, 15890.0, 4720.0, 4250.0, 8170.0, 21710.0, 2950.0, 3710.0, 8420.0, 5130.0, 5180.0, 22080.0, 10890.0, 48380.0, 90900.0, 7240.0, 4190.0, 13500.0, 11320.0, 13990.0, 4770.0, 22210.0, 3570.0, 23410.0, 23330.0, 2400.0, 83700.0, 93570.0, 3970.0, 11480.0, 4270.0, 4100.0, 19680.0, 13580.0, 6860.0, 110830.0, 16240.0, 12660.0, 55450.0, 1260.0, 62120.0, 6320.0, 54310.0, 13190.0, 105610.0, 810.0, 43410.0, 35870.0, 94610.0, 68460.0, 1650.0, 1310.0, 11200.0, 4040.0, 2920.0, 2490.0, 1260.0, 5890.0, 14300.0, 2030.0, 21630.0, 5560.0, 19190.0, 6420.0, 3060.0, 4140.0, 6130.0, 5540.0, 7430.0, 2090.0, 4990.0, 3350.0, 12770.0, 4000.0, 64380.0, 4000.0, 2250.0, 9910.0, 5900.0, 5980.0, 5070.0, 4030.0, 39840.0, 7240.0, 4070.0, 1560.0, 9860.0, 20650.0, 32590.0, 2650.0, 70520.0, 270.0, 2230.0, 10070.0, 1970.0, 11820.0, 15260.0, 1020.0, 1820.0, 103460.0, 3340.0, 8910.0, 3910.0, 6240.0, 3050.0, 9430.0, 2130.0, 16770.0, 8820.0, 1590.0, 24470.0, 6880.0, 126760.0, 3780.0, 3480.0, 910.0, 3480.0, 1360.0, 3380.0, 23760.0, 1960.0, 4300.0, 28030.0, 20980.0, 7860.0, 5850.0, 1410.0, 8310.0, 7660.0, 9870.0, 39080.0, 304020.0, 4620.0, 1820.0, 21030.0, 3090.0, 5400.0, 3860.0, 510.0, 5730.0, 1840.0, 3290.0, 4330.0, 3220.0, 1070.0, 3470.0, 4890.0, 1220.0, 530.0, 1090.0, 5980.0, 24770.0, 1130.0, 2890.0, 1230.0, 1710.0, 2810.0, 3590.0, 550.0, 100540.0, 1350.0, 2040.0, 2960.0, 4950.0, 690.0, 1680.0, 3380.0, 350.0, 1640.0, 580.0, 870.0, 300.0, 2120.0, 490.0, 2270.0, 2720.0, 730.0, 810.0, 1960.0, 1710.0, 2720.0, 3120.0, 3510.0, 640.0, 2540.0, 1840.0, 570.0, 10660.0, 4850.0, 1230.0, 3200.0, 830.0, 3000.0, 840.0, 54220.0, 360.0, 1330.0, 1190.0, 4940.0, 710.0, 1230.0, 20580.0, 7090.0, 5550.0, 1000.0, 13530.0, 2880.0, 740.0, 970.0, 2360.0, 320.0, 1450.0, 1640.0, 1540.0, 12820.0, 930.0, 540.0, 4210.0, 7220.0, 920.0, 7180.0, 6250.0, 2400.0, 3760.0, 1540.0, 7860.0, 2840.0, 1680.0, 3110.0, 1660.0, 2470.0, 2940.0, 3520.0, 5690.0, 5230.0, 3540.0, 21260.0, 15260.0, 1280.0, 3900.0, 2260.0, 4130.0, 7930.0, 35820.0, 43580.0, 5030.0, 2250.0, 380.0, 3730.0, 23190.0, 3100.0, 2230.0, 2410.0, 12000.0, 2240.0, 8140.0, 9040.0, 14700.0, 2190.0, 4680.0, 13350.0, 7230.0, 6080.0, 10550.0, 12660.0, 5130.0, 5720.0, 5860.0, 2170.0, 5660.0, 4170.0, 2380.0, 8740.0, 6340.0, 8900.0, 2270.0, 8990.0, 5220.0, 4820.0, 1860.0, 17660.0, 5760.0, 1000.0, 5000.0, 2530.0, 3050.0, 6210.0, 2930.0, 4680.0, 3780.0, 3380.0, 2020.0, 4440.0, 3060.0, 8580.0, 11550.0, 3940.0, 1930.0, 2230.0, 3550.0, 2030.0, 6470.0, 3630.0, 1810.0, 640.0, 3520.0, 5310.0, 1850.0, 2110.0, 3130.0, 1870.0, 21290.0, 12450.0, 7800.0, 1210.0, 5260.0, 6380.0, 9730.0, 1200.0, 1030.0, 10930.0, 2150.0, 930.0, 9120.0, 870.0, 23800.0, 2300.0, 8400.0, 2220.0, 4000.0, 1170.0, 2460.0, 990.0, 1650.0, 2580.0, 2230.0, 6060.0, 11680.0, 1700.0, 920.0, 39710.0, 1410.0, 1280.0, 3560.0, 1490.0, 570.0, 1290.0, 6900.0, 1870.0, 94040.0, 16040.0, 23800.0, 6730.0, 590.0, 5000.0, 4020.0, 5340.0, 1250.0, 6560.0, 1670.0, 2000.0, 3240.0, 2060.0, 1850.0, 1250.0, 4120.0, 440.0, 3610.0, 2540.0, 1830.0, 1160.0, 1630.0, 3260.0, 3340.0, 7170.0, 3100.0, 1880.0, 1220.0, 1720.0, 3680.0, 2000.0, 6170.0, 6790.0, 2380.0, 9490.0, 4290.0, 8060.0, 720.0, 1160.0, 3500.0, 2880.0, 1020.0, 2820.0, 31320.0, 1500.0, 2220.0, 10180.0, 109030.0, 3160.0, 640.0, 640.0, 6270.0, 1670.0, 800.0, 4750.0, 4310.0, 790.0, 8640.0, 4660.0, 2780.0, 4040.0, 4230.0, 2640.0, 5090.0, 260.0, 3250.0, 56780.0, 940.0, 2190.0, 1200.0, 520.0, 980.0, 120.0, 8680.0, 660.0, 1190.0, 120.0, 810.0, 1310.0, 230.0, 1130.0, 9510.0, 7800.0, 80.0, 2550.0, 80.0, 350.0, 2090.0, 920.0, 210.0, 3830.0, 6240.0, 260.0, 2910.0, 120.0, 770.0, 220.0, 640.0, 11910.0, 600.0, 1570.0, 40.0, 480.0, 750.0, 160.0, 750.0, 130.0, 4890.0, 880.0, 1710.0, 1220.0, 1670.0, 300.0, 4490.0, 700.0, 300.0, 650.0, 590.0, 90.0, 670.0, 250.0, 110.0, 13690.0, 4060.0, 800.0, 50.0, 80.0, 70.0, 520.0, 1290.0, 260.0, 400.0, 5730.0, 860.0, 830.0, 2440.0, 880.0, 390.0, 730.0, 1200.0, 760.0, 1010.0, 910.0, 1320.0, 2410.0, 1100.0, 2760.0, 240.0, 690.0, 4710.0, 68890.0, 220.0, 680.0, 410.0, 330.0, 630.0, 2750.0, 220.0, 230.0, 210.0, 100.0, 280.0, 7460.0, 850.0, 420.0, 120.0, 410.0, 1170.0, 120.0, 780.0, 960.0, 640.0, 740.0, 1020.0, 80.0, 460.0, 1050.0, 37080.0, 4610.0, 100.0, 70.0, 60.0, 4360.0, 980.0, 550.0, 440.0, 870.0, 560.0, 1940.0, 340.0, 290.0, 990.0, 740.0, 3210.0, 540.0, 1270.0, 1050.0, 150.0, 1630.0, 16450.0, 2320.0, 4560.0, 1750.0, 790.0, 380.0, 150.0, 600.0, 580.0, 80.0, 1320.0, 530.0, 2250.0, 1020.0, 440.0, 100.0, 1610.0, 3020.0, 273960.0, 5460.0, 5240.0, 120.0, 200.0, 1670.0, 560.0, 630.0, 6980.0, 760.0, 7070.0, 810.0, 470.0, 50680.0, 1120.0, 8020.0, 5680.0, 4590.0, 7250.0, 4030.0, 8760.0, 35800.0, 12820.0, 21300.0, 11530.0, 4180.0, 30480.0, 60790.0, 33330.0, 52430.0, 11000.0, 19400.0, 100560.0, 22750.0, 72950.0, 6590.0, 32690.0, 60660.0, 44140.0, 26330.0, 52900.0, 52460.0, 7180.0, 17120.0, 9050.0, 45360.0, 8760.0, 88630.0, 680.0, 9350.0, 5230.0, 2080.0, 7550.0, 310.0, 33900.0, 6490.0, 4300.0, 620.0, 80.0, 740.0, 8120.0, 2800.0, 1490.0, 5290.0, 16120.0, 700.0, 10440.0, 1400.0, 4530.0, 3110.0, 16940.0, 20460.0, 5070.0, 15980.0, 2170.0, 3180.0, 4990.0, 2710.0, 550.0, 10520.0, 31210.0, 6030.0, 251180.0, 24620.0, 9920.0, 8300.0, 16820.0, 10360.0, 5980.0, 9620.0, 6220.0, 5360.0, 5580.0, 25510.0, 104540.0, 3900.0, 6550.0, 6650.0, 5950.0, 5170.0, 540.0, 7460.0, 14540.0, 371210.0, 3050.0, 6310.0, 6770.0, 84350.0, 6710.0, 72210.0, 198450.0, 24140.0, 27740.0, 51100.0, 9780.0, 34170.0, 4840.0, 15290.0, 6550.0, 5700.0, 228660.0, 16480.0, 42830.0, 28980.0, 14350.0, 16990.0, 15500.0, 3510.0, 2140.0, 3750.0, 11370.0, 93330.0, 8580.0, 4830.0, 10720.0, 18870.0, 6730.0, 6520.0, 9140.0, 75730.0, 4100.0, 2360.0, 22470.0, 5200.0, 1970.0, 4190.0, 3850.0, 2540.0, 7640.0, 3620.0, 6470.0, 17440.0, 31660.0, 13930.0, 22310.0, 12150.0, 1220.0, 9540.0, 3630.0, 20030.0, 8280.0, 4230.0, 2270.0, 1610.0, 15720.0, 10210.0, 15460.0, 55980.0, 2930.0, 4210.0, 23140.0, 5300.0, 10100.0, 41310.0, 10440.0, 51200.0, 8880.0, 31210.0, 1640.0, 1410.0, 7880.0, 3900.0, 72740.0, 10280.0, 18870.0, 8230.0, 13410.0, 4580.0, 8880.0, 980.0, 20830.0, 6080.0, 24020.0, 1890.0, 8510.0, 10810.0, 10500.0, 6990.0, 5000.0, 3140.0, 3850.0, 126200.0, 2190.0, 3970.0, 12250.0, 14440.0, 31560.0, 3740.0, 29430.0, 15470.0, 1920.0, 6050.0, 8040.0, 1970.0, 6080.0, 28610.0, 2580.0, 19710.0, 8300.0, 25880.0, 13900.0, 20000.0, 10930.0, 10740.0, 7390.0, 8180.0, 5970.0, 10820.0, 2210.0, 4550.0, 840.0, 21490.0, 8450.0, 108650.0, 3530.0, 2370.0, 7450.0, 20570.0, 10840.0, 14470.0, 5060.0, 2720.0, 120.0, 710.0, 1030.0, 50.0, 460.0, 140.0, 80.0, 4780.0, 10710.0, 190.0, 200.0, 160.0, 230.0, 230.0, 260.0, 150.0, 110.0, 5670.0, 160.0, 140.0, 130.0, 170.0, 250.0, 90.0, 350.0, 160.0, 790.0, 490.0, 400.0, 1620.0, 530.0, 220.0, 110.0, 380.0, 350.0, 920.0, 290.0, 110.0, 880.0, 2390.0, 160.0, 120.0, 700.0, 40.0, 1740.0, 80.0, 1580.0, 150.0, 390.0, 680.0, 4040.0, 250.0, 1650.0, 5240.0, 14480.0, 6960.0, 15780.0, 11980.0, 4570.0, 9550.0, 6410.0, 45620.0, 3640.0, 4780.0, 20070.0, 23010.0, 5970.0, 14880.0, 5550.0, 6090.0, 199390.0, 6100.0, 4210.0, 14790.0, 10120.0, 17530.0, 4290.0, 175140.0, 4700.0, 5450.0, 8450.0, 19960.0, 6390.0, 114900.0, 8510.0, 4470.0, 2330.0, 3090.0, 7230.0, 3990.0, 4490.0, 7990.0, 5590.0, 11020.0, 7930.0, 25630.0, 10480.0, 21310.0, 5640.0, 41030.0, 68930.0, 5290.0, 35700.0, 9870.0, 16980.0, 4340.0, 3870.0, 12160.0, 2440.0, 81020.0, 2490.0, 4060.0, 13080.0, 2220.0, 5190.0, 2330.0, 5750.0, 7170.0, 5170.0, 20330.0, 5170.0, 3060.0, 17340.0, 12390.0, 7780.0, 14760.0, 7340.0, 5480.0, 50380.0, 71320.0, 31180.0, 12120.0, 5290.0, 3330.0, 2320.0, 19430.0, 9280.0, 13690.0, 4630.0, 14550.0, 2460.0, 4390.0, 680.0, 2400.0, 550.0, 3000.0, 1260.0, 7300.0, 4820.0, 14540.0, 7470.0, 7950.0, 3080.0, 280.0, 33350.0, 1020.0, 19400.0, 900.0, 2420.0, 9830.0, 3820.0, 7150.0, 650.0, 560.0, 8410.0, 3950.0, 6900.0, 540.0, 1070.0, 380.0, 390.0, 2300.0, 2370.0, 3770.0, 1120.0, 1870.0, 7390.0, 1760.0, 1600.0, 1900.0, 8970.0, 4990.0, 5630.0, 1290.0, 4100.0, 6190.0, 3760.0, 920.0, 2740.0, 6620.0, 2160.0, 11660.0, 1520.0, 1600.0, 2230.0, 111020.0, 6750.0, 7290.0, 5380.0, 2400.0, 12420.0, 7440.0, 5450.0, 10980.0, 2040.0, 540.0, 10540.0, 4510.0, 7710.0, 6600.0, 2310.0, 1150.0, 89600.0, 9640.0, 7260.0, 1450.0, 1090.0, 2510.0, 2340.0, 9690.0, 36840.0, 4750.0, 6200.0, 9870.0, 3190.0, 3300.0, 19000.0, 15870.0, 240.0, 1130.0, 1090.0, 1870.0, 28110.0, 3280.0, 12940.0, 10580.0, 1170.0, 50870.0, 7050.0, 16080.0, 4350.0, 39700.0, 1240.0, 95860.0, 9320.0, 220.0, 3550.0, 10170.0, 3510.0, 1030.0, 3240.0, 52200.0, 220.0, 11500.0, 8360.0, 129450.0, 7730.0, 17780.0, 5450.0, 40130.0, 14910.0, 6580.0, 44320.0, 15560.0, 17230.0, 590.0, 7160.0, 14210.0, 32330.0, 4760.0, 10070.0, 5010.0, 6980.0, 10330.0, 19490.0, 28980.0, 52970.0, 3020.0, 34070.0, 18740.0, 1080.0, 14930.0, 1500.0, 4630.0, 5370.0, 10140.0, 5080.0, 2490.0, 25280.0, 46840.0, 10780.0, 12690.0, 36640.0, 37940.0, 13560.0, 5450.0, 13590.0, 5540.0, 17060.0, 57890.0, 1830.0, 26270.0, 11200.0, 4000.0, 257180.0, 5600.0, 2150.0, 16790.0, 3810.0, 8490.0, 730.0, 4470.0, 4980.0, 4290.0, 6440.0, 4530.0, 19860.0, 5630.0, 35150.0, 2680.0, 40620.0, 3970.0, 15150.0, 7490.0, 75880.0, 9870.0, 3540.0, 17640.0, 1640.0, 21350.0, 2440.0, 3680.0, 15640.0, 19290.0, 1840.0, 38010.0, 7460.0, 4580.0, 6250.0, 5450.0, 4790.0, 9850.0, 5720.0, 14160.0, 3060.0, 3580.0, 17750.0, 7590.0, 45490.0, 9470.0, 2350.0, 37260.0, 3410.0, 7070.0, 8950.0, 8970.0, 2880.0, 25530.0, 1290.0, 4930.0, 4590.0, 4380.0, 9470.0, 13900.0, 12530.0, 45630.0, 2040.0, 31600.0, 15290.0, 4000.0, 5210.0, 21540.0, 240.0, 2080.0, 620.0, 670.0, 3170.0, 3800.0, 670.0, 450.0, 1150.0, 110.0, 1250.0, 400.0, 1720.0, 2970.0, 890.0, 950.0, 2230.0, 690.0, 420.0, 1100.0, 250.0, 280.0, 840.0, 240.0, 610.0, 470.0, 230.0, 440.0, 310.0, 290.0, 110.0, 1740.0, 720.0, 130.0, 740.0, 190.0, 70.0, 440.0, 1240.0, 2700.0, 3190.0, 520.0, 480.0, 300.0, 430.0, 2410.0, 460.0, 200.0, 17690.0, 700.0, 3860.0, 11810.0, 300.0, 200.0, 1310.0, 230.0, 630.0, 190.0, 90.0, 2630.0, 650.0, 790.0, 1260.0, 600.0, 2470.0, 580.0, 10550.0, 6120.0, 2810.0, 2590.0, 14000.0, 14230.0, 6730.0, 1850.0, 4530.0, 9520.0, 4120.0, 2320.0, 5330.0, 1350.0, 6360.0, 7080.0, 2140.0, 8360.0, 84900.0, 1780.0, 2730.0, 6320.0, 5880.0, 4830.0, 3010.0, 5500.0, 7210.0, 3840.0, 3460.0, 10540.0, 2340.0, 9230.0, 43460.0, 1230.0, 4180.0, 3880.0, 8750.0, 2930.0, 4270.0, 4970.0, 3450.0, 1240.0, 2780.0, 1890.0, 7020.0, 2920.0, 53150.0, 1500.0, 4880.0, 6300.0, 1810.0, 4510.0, 5550.0, 7860.0, 4170.0, 3300.0, 14140.0, 4330.0, 4060.0, 10210.0, 1690.0, 6690.0, 24590.0, 610.0, 3520.0, 5180.0, 2910.0, 1400.0, 720.0, 2340.0, 10200.0, 5370.0, 7250.0, 7340.0, 30420.0, 3880.0, 2170.0, 12580.0, 140940.0, 2440.0, 1980.0, 22490.0, 17890.0, 7920.0, 1290.0, 2950.0, 2990.0, 920.0, 6510.0, 16950.0, 2550.0, 4940.0, 3680.0, 12700.0, 12110.0, 8800.0, 1800.0, 15640.0, 4560.0, 1160.0, 230.0, 6170.0, 3890.0, 920.0, 3390.0, 10220.0, 580.0, 5630.0, 55500.0, 271790.0, 1480.0, 90.0, 2820.0, 16460.0, 43600.0, 33200.0, 1410.0, 220.0, 1550.0, 5590.0, 2540.0, 6400.0, 6020.0, 3170.0, 2140.0, 75130.0, 2250.0, 670.0, 5650.0, 1010.0, 5610.0, 8350.0, 1140.0, 1600.0, 480.0, 520.0, 1430.0, 105240.0, 430.0, 2730.0, 16480.0, 2130.0, 440.0, 5860.0, 12530.0, 350.0, 420.0, 480.0, 980.0, 430.0, 940.0, 391670.0, 2220.0, 2420.0, 1000.0, 92570.0, 3060.0, 380.0, 1960.0, 520.0, 2160.0, 3370.0, 18580.0, 260.0, 20710.0, 125910.0, 6110.0, 3400.0, 5080.0, 3350.0, 610.0, 890.0, 190.0, 81310.0, 1540.0, 3600.0, 2780.0, 2550.0, 49100.0, 910.0, 3420.0, 140.0, 1120.0, 3000.0, 3550.0, 20230.0, 21240.0, 4510.0, 17950.0, 5100.0, 590.0, 1390.0, 770.0, 640.0, 8800.0, 682650.0, 10550.0, 680.0, 1050.0, 24660.0, 550.0, 13340.0, 154400.0, 5740.0, 3290.0, 7740.0, 5960.0, 4580.0, 5590.0, 790.0, 15300.0, 3480.0, 210.0, 1300.0, 2240.0, 6540.0, 260.0, 47160.0, 990.0, 6660.0, 20920.0, 3360.0, 2200.0, 16390.0, 4720.0, 90.0, 130.0, 7760.0, 790.0, 30.0, 620.0, 5360.0, 570.0, 8970.0, 2250.0, 3050.0, 890.0, 2900.0, 2390.0, 2920.0, 13680.0, 4170.0, 460.0, 1840.0, 3420.0, 20.0, 46080.0, 950.0, 1300.0, 40000.0, 90.0, 2210.0, 1970.0, 580.0, 630.0, 6600.0, 10520.0, 6000.0, 330.0, 17200.0, 4180.0, 850.0, 1130.0, 3190.0, 69390.0, 2740.0, 2320.0, 170.0, 12430.0, 8100.0, 2820.0, 2350.0, 52610.0, 1200.0, 280.0, 14130.0, 4770.0, 3940.0, 16090.0, 1230.0, 1860.0, 8690.0, 19280.0, 1550.0, 1740.0, 15830.0, 410.0, 670.0, 2310.0, 1530.0, 1270.0, 120.0, 2480.0, 9610.0, 1460.0, 8200.0, 2230.0, 1850.0, 4860.0, 10390.0, 910.0, 360.0, 2310.0, 500.0, 4880.0, 420.0, 35300.0, 1550.0, 13750.0, 1660.0, 110.0, 220.0, 410.0, 1270.0, 280150.0, 21510.0, 110.0, 1900.0, 260.0, 5400.0, 16450.0, 155240.0, 2820.0, 4080.0, 6460.0, 480.0, 3700.0, 7250.0, 8720.0, 13300.0, 11520.0, 7470.0, 1380.0, 5370.0, 43810.0, 6310.0, 900.0, 22710.0, 2390.0, 4560.0, 58830.0, 5490.0, 940.0, 9460.0, 7360.0, 790.0, 2530.0, 2990.0, 2730.0, 740.0, 6120.0, 14600.0, 3010.0, 60.0, 32280.0, 2750.0, 1450.0, 850.0, 1260.0, 7260.0, 1290.0, 980.0, 1510.0, 890.0, 340.0, 320.0, 122660.0, 2930.0, 3930.0, 2810.0, 3460.0, 6710.0, 4650.0, 62420.0, 3050.0, 20650.0, 360.0, 29280.0, 3500.0, 4170.0, 3690.0, 15720.0, 800.0, 4450.0, 590.0, 2800.0, 3080.0, 3440.0, 6540.0, 6150.0, 5270.0, 5770.0, 4150.0, 8890.0, 2090.0, 1300.0, 3440.0, 1760.0, 15570.0, 6330.0, 450.0, 6880.0, 620.0, 2670.0, 2650.0, 4080.0, 2260.0, 5800.0, 2530.0, 3520.0, 790.0, 1960.0, 24710.0, 1190.0, 520.0, 3930.0, 1330.0, 2570.0, 3130.0, 1280.0, 61710.0, 4300.0, 1450.0, 1740.0, 6340.0, 5920.0, 1760.0, 3400.0, 1550.0, 2140.0, 1430.0, 1550.0, 4470.0, 6440.0, 30230.0, 7430.0, 230.0, 3420.0, 5860.0, 780.0, 1760.0, 1330.0, 1160.0, 4120.0, 14700.0, 3610.0, 1690.0, 1140.0, 820.0, 4530.0, 960.0, 10290.0, 1490.0, 1240.0, 1650.0, 1350.0, 2290.0, 3240.0, 3310.0, 2380.0, 7590.0, 1780.0, 2850.0, 3710.0, 25620.0, 4020.0, 670.0, 920.0, 7420.0, 2300.0, 6700.0, 4170.0, 3150.0, 4160.0, 4690.0, 1800.0, 9910.0, 8040.0, 750.0, 1660.0, 5740.0, 3600.0, 6780.0, 1860.0, 6750.0, 3550.0, 4750.0, 13200.0, 2800.0, 830.0, 5560.0, 20100.0, 2020.0, 710.0, 6990.0, 1020.0, 1290.0, 630.0, 1200.0, 3450.0, 1100.0, 17590.0, 6220.0, 3620.0, 930.0, 11070.0, 2490.0, 1120.0, 2260.0, 23800.0, 34190.0, 760.0, 6360.0, 740.0, 13100.0, 2380.0, 35400.0, 14030.0, 2340.0, 2920.0, 8760.0, 36740.0, 2800.0, 1760.0, 3250.0, 2540.0, 2950.0, 22120.0, 8110.0, 10970.0, 48480.0, 570.0, 15700.0, 5020.0, 1480.0, 9550.0, 300.0, 10990.0, 10860.0, 9100.0, 4110.0, 204850.0, 29320.0, 5610.0, 2970.0, 11060.0, 1340.0, 8860.0, 6440.0, 3530.0, 1940.0, 101140.0, 1730.0, 14590.0, 1440.0, 73010.0, 64790.0, 6550.0, 30940.0, 530.0, 7040.0, 25620.0, 6490.0, 31120.0, 2510.0, 11570.0, 4040.0, 2190.0, 2680.0, 14120.0, 1280.0, 1730.0, 990.0, 6980.0, 1100.0, 1360.0, 4940.0, 3510.0, 3570.0, 1510.0, 8430.0, 3350.0, 4610.0, 24550.0, 2400.0, 3780.0, 6090.0, 4330.0, 7060.0, 3910.0, 3800.0, 9850.0, 3550.0, 4990.0, 11820.0, 1870.0, 1580.0, 3520.0, 4820.0, 850.0, 960.0, 1220.0, 4010.0, 4900.0, 10730.0, 3970.0, 1290.0, 2430.0, 2230.0, 2150.0, 880.0, 1190.0, 3250.0, 6740.0, 1460.0, 2410.0, 890.0, 11270.0, 3940.0, 2440.0, 1830.0, 4260.0, 1520.0, 20810.0, 1050.0, 1630.0, 2720.0, 5680.0, 2930.0, 4110.0, 1660.0, 39010.0, 6730.0, 2250.0, 4520.0, 3880.0, 9210.0, 440.0, 7740.0, 1080.0, 4430.0, 2640.0, 1640.0, 1740.0, 710.0, 1880.0, 6410.0, 2780.0, 15940.0, 1510.0, 9860.0, 1310.0, 2150.0, 2310.0, 6640.0, 10500.0, 4400.0, 1450.0, 800.0, 119940.0, 4280.0, 3060.0, 2870.0, 13590.0, 4720.0, 640.0, 2940.0, 3760.0, 5750.0, 1330.0, 18030.0, 1640.0, 15950.0, 1570.0, 4840.0, 5330.0, 1900.0, 3380.0, 8030.0, 1660.0, 2140.0, 3010.0, 2310.0, 8090.0, 1630.0, 7710.0, 22040.0, 4550.0, 2180.0, 14460.0, 6640.0, 4920.0, 1600.0, 5400.0, 1890.0, 1680.0, 700.0, 5670.0, 1620.0, 630.0, 1120.0, 11440.0, 2110.0, 10220.0, 350.0, 3350.0, 1120.0, 3380.0, 1080.0, 5140.0, 2200.0, 2780.0, 1020.0, 990.0], \"xaxis\": \"x\", \"y\": [\"AL\", \"AL\", \"AL\", \"AL\", \"AL\", \"AL\", \"AL\", \"AL\", \"AL\", \"AL\", \"AL\", \"AL\", \"AL\", \"AL\", \"AL\", \"AL\", \"AL\", \"AL\", \"AL\", \"AL\", \"AL\", \"AL\", \"AL\", \"AL\", \"AL\", \"AL\", \"AL\", \"AL\", \"AL\", \"AL\", \"AL\", \"AL\", \"AL\", \"AL\", \"AL\", \"AL\", \"AL\", \"AL\", \"AL\", \"AL\", \"AL\", \"AL\", \"AL\", \"AL\", \"AL\", \"AL\", \"AL\", \"AL\", \"AL\", \"AL\", \"AL\", \"AL\", \"AL\", \"AL\", \"AL\", \"AL\", \"AL\", \"AL\", \"AL\", \"AL\", \"AL\", \"AL\", \"AL\", \"AL\", \"AL\", \"AL\", \"AL\", \"AK\", \"AK\", \"AK\", \"AK\", \"AK\", \"AK\", \"AK\", \"AK\", \"AK\", \"AK\", \"AK\", \"AK\", \"AK\", \"AK\", \"AK\", \"AK\", \"AK\", \"AK\", \"AK\", \"AK\", \"AK\", \"AK\", \"AK\", \"AK\", \"AK\", \"AK\", \"AK\", \"AK\", \"AK\", \"AZ\", \"AZ\", \"AZ\", \"AZ\", \"AZ\", \"AZ\", \"AZ\", \"AZ\", \"AZ\", \"AZ\", \"AZ\", \"AZ\", \"AZ\", \"AZ\", \"AZ\", \"AR\", \"AR\", \"AR\", \"AR\", \"AR\", \"AR\", \"AR\", \"AR\", \"AR\", \"AR\", \"AR\", \"AR\", \"AR\", \"AR\", \"AR\", \"AR\", \"AR\", \"AR\", \"AR\", \"AR\", \"AR\", \"AR\", \"AR\", \"AR\", \"AR\", \"AR\", \"AR\", \"AR\", \"AR\", \"AR\", \"AR\", \"AR\", \"AR\", \"AR\", \"AR\", \"AR\", \"AR\", \"AR\", \"AR\", \"AR\", \"AR\", \"AR\", \"AR\", \"AR\", \"AR\", \"AR\", \"AR\", \"AR\", \"AR\", \"AR\", \"AR\", \"AR\", \"AR\", \"AR\", \"AR\", \"AR\", \"AR\", \"AR\", \"AR\", \"AR\", \"AR\", \"AR\", \"AR\", \"AR\", \"AR\", \"AR\", \"AR\", \"AR\", \"AR\", \"AR\", \"AR\", \"AR\", \"AR\", \"AR\", \"AR\", \"CA\", \"CA\", \"CA\", \"CA\", \"CA\", \"CA\", \"CA\", \"CA\", \"CA\", \"CA\", \"CA\", \"CA\", \"CA\", \"CA\", \"CA\", \"CA\", \"CA\", \"CA\", \"CA\", \"CA\", \"CA\", \"CA\", \"CA\", \"CA\", \"CA\", \"CA\", \"CA\", \"CA\", \"CA\", \"CA\", \"CA\", \"CA\", \"CA\", \"CA\", \"CA\", \"CA\", \"CA\", \"CA\", \"CA\", \"CA\", \"CA\", \"CA\", \"CA\", \"CA\", \"CA\", \"CA\", \"CA\", \"CA\", \"CA\", \"CA\", \"CA\", \"CA\", \"CA\", \"CA\", \"CA\", \"CA\", \"CA\", \"CA\", \"CO\", \"CO\", \"CO\", \"CO\", \"CO\", \"CO\", \"CO\", \"CO\", \"CO\", \"CO\", \"CO\", \"CO\", \"CO\", \"CO\", \"CO\", \"CO\", \"CO\", \"CO\", \"CO\", \"CO\", \"CO\", \"CO\", \"CO\", \"CO\", \"CO\", \"CO\", \"CO\", \"CO\", \"CO\", \"CO\", \"CO\", \"CO\", \"CO\", \"CO\", \"CO\", \"CO\", \"CO\", \"CO\", \"CO\", \"CO\", \"CO\", \"CO\", \"CO\", \"CO\", \"CO\", \"CO\", \"CO\", \"CO\", \"CO\", \"CO\", \"CO\", \"CO\", \"CO\", \"CO\", \"CO\", \"CO\", \"CO\", \"CO\", \"CO\", \"CO\", \"CO\", \"CO\", \"CO\", \"CO\", \"CT\", \"CT\", \"CT\", \"CT\", \"CT\", \"CT\", \"CT\", \"CT\", \"DE\", \"DE\", \"DE\", \"DC\", \"FL\", \"FL\", \"FL\", \"FL\", \"FL\", \"FL\", \"FL\", \"FL\", \"FL\", \"FL\", \"FL\", \"FL\", \"FL\", \"FL\", \"FL\", \"FL\", \"FL\", \"FL\", \"FL\", \"FL\", \"FL\", \"FL\", \"FL\", \"FL\", \"FL\", \"FL\", \"FL\", \"FL\", \"FL\", \"FL\", \"FL\", \"FL\", \"FL\", \"FL\", \"FL\", \"FL\", \"FL\", \"FL\", \"FL\", \"FL\", \"FL\", \"FL\", \"FL\", \"FL\", \"FL\", \"FL\", \"FL\", \"FL\", \"FL\", \"FL\", \"FL\", \"FL\", \"FL\", \"FL\", \"FL\", \"FL\", \"FL\", \"FL\", \"FL\", \"FL\", \"FL\", \"FL\", \"FL\", \"FL\", \"FL\", \"FL\", \"FL\", \"GA\", \"GA\", \"GA\", \"GA\", \"GA\", \"GA\", \"GA\", \"GA\", \"GA\", \"GA\", \"GA\", \"GA\", \"GA\", \"GA\", \"GA\", \"GA\", \"GA\", \"GA\", \"GA\", \"GA\", \"GA\", \"GA\", \"GA\", \"GA\", \"GA\", \"GA\", \"GA\", \"GA\", \"GA\", \"GA\", \"GA\", \"GA\", \"GA\", \"GA\", \"GA\", \"GA\", \"GA\", \"GA\", \"GA\", \"GA\", \"GA\", \"GA\", \"GA\", \"GA\", \"GA\", \"GA\", \"GA\", \"GA\", \"GA\", \"GA\", \"GA\", \"GA\", \"GA\", \"GA\", \"GA\", \"GA\", \"GA\", \"GA\", \"GA\", \"GA\", \"GA\", \"GA\", \"GA\", \"GA\", \"GA\", \"GA\", \"GA\", \"GA\", \"GA\", \"GA\", \"GA\", \"GA\", \"GA\", \"GA\", \"GA\", \"GA\", \"GA\", \"GA\", \"GA\", \"GA\", \"GA\", \"GA\", \"GA\", \"GA\", \"GA\", \"GA\", \"GA\", \"GA\", \"GA\", \"GA\", \"GA\", \"GA\", \"GA\", \"GA\", \"GA\", \"GA\", \"GA\", \"GA\", \"GA\", \"GA\", \"GA\", \"GA\", \"GA\", \"GA\", \"GA\", \"GA\", \"GA\", \"GA\", \"GA\", \"GA\", \"GA\", \"GA\", \"GA\", \"GA\", \"GA\", \"GA\", \"GA\", \"GA\", \"GA\", \"GA\", \"GA\", \"GA\", \"GA\", \"GA\", \"GA\", \"GA\", \"GA\", \"GA\", \"GA\", \"GA\", \"GA\", \"GA\", \"GA\", \"GA\", \"GA\", \"GA\", \"GA\", \"GA\", \"GA\", \"GA\", \"GA\", \"GA\", \"GA\", \"GA\", \"GA\", \"GA\", \"GA\", \"GA\", \"GA\", \"GA\", \"GA\", \"GA\", \"GA\", \"GA\", \"GA\", \"GA\", \"GA\", \"GA\", \"GA\", \"HI\", \"HI\", \"HI\", \"HI\", \"HI\", \"ID\", \"ID\", \"ID\", \"ID\", \"ID\", \"ID\", \"ID\", \"ID\", \"ID\", \"ID\", \"ID\", \"ID\", \"ID\", \"ID\", \"ID\", \"ID\", \"ID\", \"ID\", \"ID\", \"ID\", \"ID\", \"ID\", \"ID\", \"ID\", \"ID\", \"ID\", \"ID\", \"ID\", \"ID\", \"ID\", \"ID\", \"ID\", \"ID\", \"ID\", \"ID\", \"ID\", \"ID\", \"ID\", \"ID\", \"ID\", \"ID\", \"ID\", \"ID\", \"ID\", \"IL\", \"IL\", \"IL\", \"IL\", \"IL\", \"IL\", \"IL\", \"IL\", \"IL\", \"IL\", \"IL\", \"IL\", \"IL\", \"IL\", \"IL\", \"IL\", \"IL\", \"IL\", \"IL\", \"IL\", \"IL\", \"IL\", \"IL\", \"IL\", \"IL\", \"IL\", \"IL\", \"IL\", \"IL\", \"IL\", \"IL\", \"IL\", \"IL\", \"IL\", \"IL\", \"IL\", \"IL\", \"IL\", \"IL\", \"IL\", \"IL\", \"IL\", \"IL\", \"IL\", \"IL\", \"IL\", \"IL\", \"IL\", \"IL\", \"IL\", \"IL\", \"IL\", \"IL\", \"IL\", \"IL\", \"IL\", \"IL\", \"IL\", \"IL\", \"IL\", \"IL\", \"IL\", \"IL\", \"IL\", \"IL\", \"IL\", \"IL\", \"IL\", \"IL\", \"IL\", \"IL\", \"IL\", \"IL\", \"IL\", \"IL\", \"IL\", \"IL\", \"IL\", \"IL\", \"IL\", \"IL\", \"IL\", \"IL\", \"IL\", \"IL\", \"IL\", \"IL\", \"IL\", \"IL\", \"IL\", \"IL\", \"IL\", \"IL\", \"IL\", \"IL\", \"IL\", \"IL\", \"IL\", \"IL\", \"IL\", \"IL\", \"IL\", \"IN\", \"IN\", \"IN\", \"IN\", \"IN\", \"IN\", \"IN\", \"IN\", \"IN\", \"IN\", \"IN\", \"IN\", \"IN\", \"IN\", \"IN\", \"IN\", \"IN\", \"IN\", \"IN\", \"IN\", \"IN\", \"IN\", \"IN\", \"IN\", \"IN\", \"IN\", \"IN\", \"IN\", \"IN\", \"IN\", \"IN\", \"IN\", \"IN\", \"IN\", \"IN\", \"IN\", \"IN\", \"IN\", \"IN\", \"IN\", \"IN\", \"IN\", \"IN\", \"IN\", \"IN\", \"IN\", \"IN\", \"IN\", \"IN\", \"IN\", \"IN\", \"IN\", \"IN\", \"IN\", \"IN\", \"IN\", \"IN\", \"IN\", \"IN\", \"IN\", \"IN\", \"IN\", \"IN\", \"IN\", \"IN\", \"IN\", \"IN\", \"IN\", \"IN\", \"IN\", \"IN\", \"IN\", \"IN\", \"IN\", \"IN\", \"IN\", \"IN\", \"IN\", \"IN\", \"IN\", \"IN\", \"IN\", \"IN\", \"IN\", \"IN\", \"IN\", \"IN\", \"IN\", \"IN\", \"IN\", \"IN\", \"IN\", \"IA\", \"IA\", \"IA\", \"IA\", \"IA\", \"IA\", \"IA\", \"IA\", \"IA\", \"IA\", \"IA\", \"IA\", \"IA\", \"IA\", \"IA\", \"IA\", \"IA\", \"IA\", \"IA\", \"IA\", \"IA\", \"IA\", \"IA\", \"IA\", \"IA\", \"IA\", \"IA\", \"IA\", \"IA\", \"IA\", \"IA\", \"IA\", \"IA\", \"IA\", \"IA\", \"IA\", \"IA\", \"IA\", \"IA\", \"IA\", \"IA\", \"IA\", \"IA\", \"IA\", \"IA\", \"IA\", \"IA\", \"IA\", \"IA\", \"IA\", \"IA\", \"IA\", \"IA\", \"IA\", \"IA\", \"IA\", \"IA\", \"IA\", \"IA\", \"IA\", \"IA\", \"IA\", \"IA\", \"IA\", \"IA\", \"IA\", \"IA\", \"IA\", \"IA\", \"IA\", \"IA\", \"IA\", \"IA\", \"IA\", \"IA\", \"IA\", \"IA\", \"IA\", \"IA\", \"IA\", \"IA\", \"IA\", \"IA\", \"IA\", \"IA\", \"IA\", \"IA\", \"IA\", \"IA\", \"IA\", \"IA\", \"IA\", \"IA\", \"IA\", \"IA\", \"IA\", \"IA\", \"IA\", \"IA\", \"KS\", \"KS\", \"KS\", \"KS\", \"KS\", \"KS\", \"KS\", \"KS\", \"KS\", \"KS\", \"KS\", \"KS\", \"KS\", \"KS\", \"KS\", \"KS\", \"KS\", \"KS\", \"KS\", \"KS\", \"KS\", \"KS\", \"KS\", \"KS\", \"KS\", \"KS\", \"KS\", \"KS\", \"KS\", \"KS\", \"KS\", \"KS\", \"KS\", \"KS\", \"KS\", \"KS\", \"KS\", \"KS\", \"KS\", \"KS\", \"KS\", \"KS\", \"KS\", \"KS\", \"KS\", \"KS\", \"KS\", \"KS\", \"KS\", \"KS\", \"KS\", \"KS\", \"KS\", \"KS\", \"KS\", \"KS\", \"KS\", \"KS\", \"KS\", \"KS\", \"KS\", \"KS\", \"KS\", \"KS\", \"KS\", \"KS\", \"KS\", \"KS\", \"KS\", \"KS\", \"KS\", \"KS\", \"KS\", \"KS\", \"KS\", \"KS\", \"KS\", \"KS\", \"KS\", \"KS\", \"KS\", \"KS\", \"KS\", \"KS\", \"KS\", \"KS\", \"KS\", \"KS\", \"KS\", \"KS\", \"KS\", \"KS\", \"KS\", \"KS\", \"KS\", \"KS\", \"KS\", \"KS\", \"KS\", \"KS\", \"KS\", \"KS\", \"KS\", \"KS\", \"KS\", \"KY\", \"KY\", \"KY\", \"KY\", \"KY\", \"KY\", \"KY\", \"KY\", \"KY\", \"KY\", \"KY\", \"KY\", \"KY\", \"KY\", \"KY\", \"KY\", \"KY\", \"KY\", \"KY\", \"KY\", \"KY\", \"KY\", \"KY\", \"KY\", \"KY\", \"KY\", \"KY\", \"KY\", \"KY\", \"KY\", \"KY\", \"KY\", \"KY\", \"KY\", \"KY\", \"KY\", \"KY\", \"KY\", \"KY\", \"KY\", \"KY\", \"KY\", \"KY\", \"KY\", \"KY\", \"KY\", \"KY\", \"KY\", \"KY\", \"KY\", \"KY\", \"KY\", \"KY\", \"KY\", \"KY\", \"KY\", \"KY\", \"KY\", \"KY\", \"KY\", \"KY\", \"KY\", \"KY\", \"KY\", \"KY\", \"KY\", \"KY\", \"KY\", \"KY\", \"KY\", \"KY\", \"KY\", \"KY\", \"KY\", \"KY\", \"KY\", \"KY\", \"KY\", \"KY\", \"KY\", \"KY\", \"KY\", \"KY\", \"KY\", \"KY\", \"KY\", \"KY\", \"KY\", \"KY\", \"KY\", \"KY\", \"KY\", \"KY\", \"KY\", \"KY\", \"KY\", \"KY\", \"KY\", \"KY\", \"KY\", \"KY\", \"KY\", \"KY\", \"KY\", \"KY\", \"KY\", \"KY\", \"KY\", \"KY\", \"KY\", \"KY\", \"KY\", \"KY\", \"KY\", \"KY\", \"KY\", \"KY\", \"KY\", \"KY\", \"KY\", \"LA\", \"LA\", \"LA\", \"LA\", \"LA\", \"LA\", \"LA\", \"LA\", \"LA\", \"LA\", \"LA\", \"LA\", \"LA\", \"LA\", \"LA\", \"LA\", \"LA\", \"LA\", \"LA\", \"LA\", \"LA\", \"LA\", \"LA\", \"LA\", \"LA\", \"LA\", \"LA\", \"LA\", \"LA\", \"LA\", \"LA\", \"LA\", \"LA\", \"LA\", \"LA\", \"LA\", \"LA\", \"LA\", \"LA\", \"LA\", \"LA\", \"LA\", \"LA\", \"LA\", \"LA\", \"LA\", \"LA\", \"LA\", \"LA\", \"LA\", \"LA\", \"LA\", \"LA\", \"LA\", \"LA\", \"LA\", \"LA\", \"LA\", \"LA\", \"LA\", \"LA\", \"LA\", \"LA\", \"LA\", \"ME\", \"ME\", \"ME\", \"ME\", \"ME\", \"ME\", \"ME\", \"ME\", \"ME\", \"ME\", \"ME\", \"ME\", \"ME\", \"ME\", \"ME\", \"ME\", \"MD\", \"MD\", \"MD\", \"MD\", \"MD\", \"MD\", \"MD\", \"MD\", \"MD\", \"MD\", \"MD\", \"MD\", \"MD\", \"MD\", \"MD\", \"MD\", \"MD\", \"MD\", \"MD\", \"MD\", \"MD\", \"MD\", \"MD\", \"MD\", \"MA\", \"MA\", \"MA\", \"MA\", \"MA\", \"MA\", \"MA\", \"MA\", \"MA\", \"MA\", \"MA\", \"MA\", \"MA\", \"MA\", \"MI\", \"MI\", \"MI\", \"MI\", \"MI\", \"MI\", \"MI\", \"MI\", \"MI\", \"MI\", \"MI\", \"MI\", \"MI\", \"MI\", \"MI\", \"MI\", \"MI\", \"MI\", \"MI\", \"MI\", \"MI\", \"MI\", \"MI\", \"MI\", \"MI\", \"MI\", \"MI\", \"MI\", \"MI\", \"MI\", \"MI\", \"MI\", \"MI\", \"MI\", \"MI\", \"MI\", \"MI\", \"MI\", \"MI\", \"MI\", \"MI\", \"MI\", \"MI\", \"MI\", \"MI\", \"MI\", \"MI\", \"MI\", \"MI\", \"MI\", \"MI\", \"MI\", \"MI\", \"MI\", \"MI\", \"MI\", \"MI\", \"MI\", \"MI\", \"MI\", \"MI\", \"MI\", \"MI\", \"MI\", \"MI\", \"MI\", \"MI\", \"MI\", \"MI\", \"MI\", \"MI\", \"MI\", \"MI\", \"MI\", \"MI\", \"MI\", \"MI\", \"MI\", \"MI\", \"MI\", \"MI\", \"MI\", \"MI\", \"MN\", \"MN\", \"MN\", \"MN\", \"MN\", \"MN\", \"MN\", \"MN\", \"MN\", \"MN\", \"MN\", \"MN\", \"MN\", \"MN\", \"MN\", \"MN\", \"MN\", \"MN\", \"MN\", \"MN\", \"MN\", \"MN\", \"MN\", \"MN\", \"MN\", \"MN\", \"MN\", \"MN\", \"MN\", \"MN\", \"MN\", \"MN\", \"MN\", \"MN\", \"MN\", \"MN\", \"MN\", \"MN\", \"MN\", \"MN\", \"MN\", \"MN\", \"MN\", \"MN\", \"MN\", \"MN\", \"MN\", \"MN\", \"MN\", \"MN\", \"MN\", \"MN\", \"MN\", \"MN\", \"MN\", \"MN\", \"MN\", \"MN\", \"MN\", \"MN\", \"MN\", \"MN\", \"MN\", \"MN\", \"MN\", \"MN\", \"MN\", \"MN\", \"MN\", \"MN\", \"MN\", \"MN\", \"MN\", \"MN\", \"MN\", \"MN\", \"MN\", \"MN\", \"MN\", \"MN\", \"MN\", \"MN\", \"MN\", \"MN\", \"MN\", \"MN\", \"MN\", \"MS\", \"MS\", \"MS\", \"MS\", \"MS\", \"MS\", \"MS\", \"MS\", \"MS\", \"MS\", \"MS\", \"MS\", \"MS\", \"MS\", \"MS\", \"MS\", \"MS\", \"MS\", \"MS\", \"MS\", \"MS\", \"MS\", \"MS\", \"MS\", \"MS\", \"MS\", \"MS\", \"MS\", \"MS\", \"MS\", \"MS\", \"MS\", \"MS\", \"MS\", \"MS\", \"MS\", \"MS\", \"MS\", \"MS\", \"MS\", \"MS\", \"MS\", \"MS\", \"MS\", \"MS\", \"MS\", \"MS\", \"MS\", \"MS\", \"MS\", \"MS\", \"MS\", \"MS\", \"MS\", \"MS\", \"MS\", \"MS\", \"MS\", \"MS\", \"MS\", \"MS\", \"MS\", \"MS\", \"MS\", \"MS\", \"MS\", \"MS\", \"MS\", \"MS\", \"MS\", \"MS\", \"MS\", \"MS\", \"MS\", \"MS\", \"MS\", \"MS\", \"MS\", \"MS\", \"MS\", \"MS\", \"MS\", \"MO\", \"MO\", \"MO\", \"MO\", \"MO\", \"MO\", \"MO\", \"MO\", \"MO\", \"MO\", \"MO\", \"MO\", \"MO\", \"MO\", \"MO\", \"MO\", \"MO\", \"MO\", \"MO\", \"MO\", \"MO\", \"MO\", \"MO\", \"MO\", \"MO\", \"MO\", \"MO\", \"MO\", \"MO\", \"MO\", \"MO\", \"MO\", \"MO\", \"MO\", \"MO\", \"MO\", \"MO\", \"MO\", \"MO\", \"MO\", \"MO\", \"MO\", \"MO\", \"MO\", \"MO\", \"MO\", \"MO\", \"MO\", \"MO\", \"MO\", \"MO\", \"MO\", \"MO\", \"MO\", \"MO\", \"MO\", \"MO\", \"MO\", \"MO\", \"MO\", \"MO\", \"MO\", \"MO\", \"MO\", \"MO\", \"MO\", \"MO\", \"MO\", \"MO\", \"MO\", \"MO\", \"MO\", \"MO\", \"MO\", \"MO\", \"MO\", \"MO\", \"MO\", \"MO\", \"MO\", \"MO\", \"MO\", \"MO\", \"MO\", \"MO\", \"MO\", \"MO\", \"MO\", \"MO\", \"MO\", \"MO\", \"MO\", \"MO\", \"MO\", \"MO\", \"MO\", \"MO\", \"MO\", \"MO\", \"MO\", \"MO\", \"MO\", \"MO\", \"MO\", \"MO\", \"MO\", \"MO\", \"MO\", \"MO\", \"MO\", \"MO\", \"MO\", \"MO\", \"MO\", \"MO\", \"MT\", \"MT\", \"MT\", \"MT\", \"MT\", \"MT\", \"MT\", \"MT\", \"MT\", \"MT\", \"MT\", \"MT\", \"MT\", \"MT\", \"MT\", \"MT\", \"MT\", \"MT\", \"MT\", \"MT\", \"MT\", \"MT\", \"MT\", \"MT\", \"MT\", \"MT\", \"MT\", \"MT\", \"MT\", \"MT\", \"MT\", \"MT\", \"MT\", \"MT\", \"MT\", \"MT\", \"MT\", \"MT\", \"MT\", \"MT\", \"MT\", \"MT\", \"MT\", \"MT\", \"MT\", \"MT\", \"MT\", \"MT\", \"MT\", \"MT\", \"MT\", \"MT\", \"MT\", \"MT\", \"MT\", \"MT\", \"NE\", \"NE\", \"NE\", \"NE\", \"NE\", \"NE\", \"NE\", \"NE\", \"NE\", \"NE\", \"NE\", \"NE\", \"NE\", \"NE\", \"NE\", \"NE\", \"NE\", \"NE\", \"NE\", \"NE\", \"NE\", \"NE\", \"NE\", \"NE\", \"NE\", \"NE\", \"NE\", \"NE\", \"NE\", \"NE\", \"NE\", \"NE\", \"NE\", \"NE\", \"NE\", \"NE\", \"NE\", \"NE\", \"NE\", \"NE\", \"NE\", \"NE\", \"NE\", \"NE\", \"NE\", \"NE\", \"NE\", \"NE\", \"NE\", \"NE\", \"NE\", \"NE\", \"NE\", \"NE\", \"NE\", \"NE\", \"NE\", \"NE\", \"NE\", \"NE\", \"NE\", \"NE\", \"NE\", \"NE\", \"NE\", \"NE\", \"NE\", \"NE\", \"NE\", \"NE\", \"NE\", \"NE\", \"NE\", \"NE\", \"NE\", \"NE\", \"NE\", \"NE\", \"NE\", \"NE\", \"NE\", \"NE\", \"NE\", \"NE\", \"NE\", \"NE\", \"NE\", \"NE\", \"NE\", \"NE\", \"NE\", \"NE\", \"NE\", \"NV\", \"NV\", \"NV\", \"NV\", \"NV\", \"NV\", \"NV\", \"NV\", \"NV\", \"NV\", \"NV\", \"NV\", \"NV\", \"NV\", \"NV\", \"NV\", \"NV\", \"NH\", \"NH\", \"NH\", \"NH\", \"NH\", \"NH\", \"NH\", \"NH\", \"NH\", \"NH\", \"NJ\", \"NJ\", \"NJ\", \"NJ\", \"NJ\", \"NJ\", \"NJ\", \"NJ\", \"NJ\", \"NJ\", \"NJ\", \"NJ\", \"NJ\", \"NJ\", \"NJ\", \"NJ\", \"NJ\", \"NJ\", \"NJ\", \"NJ\", \"NJ\", \"NM\", \"NM\", \"NM\", \"NM\", \"NM\", \"NM\", \"NM\", \"NM\", \"NM\", \"NM\", \"NM\", \"NM\", \"NM\", \"NM\", \"NM\", \"NM\", \"NM\", \"NM\", \"NM\", \"NM\", \"NM\", \"NM\", \"NM\", \"NM\", \"NM\", \"NM\", \"NM\", \"NM\", \"NM\", \"NM\", \"NM\", \"NM\", \"NM\", \"NY\", \"NY\", \"NY\", \"NY\", \"NY\", \"NY\", \"NY\", \"NY\", \"NY\", \"NY\", \"NY\", \"NY\", \"NY\", \"NY\", \"NY\", \"NY\", \"NY\", \"NY\", \"NY\", \"NY\", \"NY\", \"NY\", \"NY\", \"NY\", \"NY\", \"NY\", \"NY\", \"NY\", \"NY\", \"NY\", \"NY\", \"NY\", \"NY\", \"NY\", \"NY\", \"NY\", \"NY\", \"NY\", \"NY\", \"NY\", \"NY\", \"NY\", \"NY\", \"NY\", \"NY\", \"NY\", \"NY\", \"NY\", \"NY\", \"NY\", \"NY\", \"NY\", \"NY\", \"NY\", \"NY\", \"NY\", \"NY\", \"NY\", \"NY\", \"NY\", \"NY\", \"NY\", \"NC\", \"NC\", \"NC\", \"NC\", \"NC\", \"NC\", \"NC\", \"NC\", \"NC\", \"NC\", \"NC\", \"NC\", \"NC\", \"NC\", \"NC\", \"NC\", \"NC\", \"NC\", \"NC\", \"NC\", \"NC\", \"NC\", \"NC\", \"NC\", \"NC\", \"NC\", \"NC\", \"NC\", \"NC\", \"NC\", \"NC\", \"NC\", \"NC\", \"NC\", \"NC\", \"NC\", \"NC\", \"NC\", \"NC\", \"NC\", \"NC\", \"NC\", \"NC\", \"NC\", \"NC\", \"NC\", \"NC\", \"NC\", \"NC\", \"NC\", \"NC\", \"NC\", \"NC\", \"NC\", \"NC\", \"NC\", \"NC\", \"NC\", \"NC\", \"NC\", \"NC\", \"NC\", \"NC\", \"NC\", \"NC\", \"NC\", \"NC\", \"NC\", \"NC\", \"NC\", \"NC\", \"NC\", \"NC\", \"NC\", \"NC\", \"NC\", \"NC\", \"NC\", \"NC\", \"NC\", \"NC\", \"NC\", \"NC\", \"NC\", \"NC\", \"NC\", \"NC\", \"NC\", \"NC\", \"NC\", \"NC\", \"NC\", \"NC\", \"NC\", \"NC\", \"NC\", \"NC\", \"NC\", \"NC\", \"NC\", \"ND\", \"ND\", \"ND\", \"ND\", \"ND\", \"ND\", \"ND\", \"ND\", \"ND\", \"ND\", \"ND\", \"ND\", \"ND\", \"ND\", \"ND\", \"ND\", \"ND\", \"ND\", \"ND\", \"ND\", \"ND\", \"ND\", \"ND\", \"ND\", \"ND\", \"ND\", \"ND\", \"ND\", \"ND\", \"ND\", \"ND\", \"ND\", \"ND\", \"ND\", \"ND\", \"ND\", \"ND\", \"ND\", \"ND\", \"ND\", \"ND\", \"ND\", \"ND\", \"ND\", \"ND\", \"ND\", \"ND\", \"ND\", \"ND\", \"ND\", \"ND\", \"ND\", \"ND\", \"OH\", \"OH\", \"OH\", \"OH\", \"OH\", \"OH\", \"OH\", \"OH\", \"OH\", \"OH\", \"OH\", \"OH\", \"OH\", \"OH\", \"OH\", \"OH\", \"OH\", \"OH\", \"OH\", \"OH\", \"OH\", \"OH\", \"OH\", \"OH\", \"OH\", \"OH\", \"OH\", \"OH\", \"OH\", \"OH\", \"OH\", \"OH\", \"OH\", \"OH\", \"OH\", \"OH\", \"OH\", \"OH\", \"OH\", \"OH\", \"OH\", \"OH\", \"OH\", \"OH\", \"OH\", \"OH\", \"OH\", \"OH\", \"OH\", \"OH\", \"OH\", \"OH\", \"OH\", \"OH\", \"OH\", \"OH\", \"OH\", \"OH\", \"OH\", \"OH\", \"OH\", \"OH\", \"OH\", \"OH\", \"OH\", \"OH\", \"OH\", \"OH\", \"OH\", \"OH\", \"OH\", \"OH\", \"OH\", \"OH\", \"OH\", \"OH\", \"OH\", \"OH\", \"OH\", \"OH\", \"OH\", \"OH\", \"OH\", \"OH\", \"OH\", \"OH\", \"OH\", \"OH\", \"OK\", \"OK\", \"OK\", \"OK\", \"OK\", \"OK\", \"OK\", \"OK\", \"OK\", \"OK\", \"OK\", \"OK\", \"OK\", \"OK\", \"OK\", \"OK\", \"OK\", \"OK\", \"OK\", \"OK\", \"OK\", \"OK\", \"OK\", \"OK\", \"OK\", \"OK\", \"OK\", \"OK\", \"OK\", \"OK\", \"OK\", \"OK\", \"OK\", \"OK\", \"OK\", \"OK\", \"OK\", \"OK\", \"OK\", \"OK\", \"OK\", \"OK\", \"OK\", \"OK\", \"OK\", \"OK\", \"OK\", \"OK\", \"OK\", \"OK\", \"OK\", \"OK\", \"OK\", \"OK\", \"OK\", \"OK\", \"OK\", \"OK\", \"OK\", \"OK\", \"OK\", \"OK\", \"OK\", \"OK\", \"OK\", \"OK\", \"OK\", \"OK\", \"OK\", \"OK\", \"OK\", \"OK\", \"OK\", \"OK\", \"OK\", \"OK\", \"OK\", \"OR\", \"OR\", \"OR\", \"OR\", \"OR\", \"OR\", \"OR\", \"OR\", \"OR\", \"OR\", \"OR\", \"OR\", \"OR\", \"OR\", \"OR\", \"OR\", \"OR\", \"OR\", \"OR\", \"OR\", \"OR\", \"OR\", \"OR\", \"OR\", \"OR\", \"OR\", \"OR\", \"OR\", \"OR\", \"OR\", \"OR\", \"OR\", \"OR\", \"OR\", \"OR\", \"OR\", \"PA\", \"PA\", \"PA\", \"PA\", \"PA\", \"PA\", \"PA\", \"PA\", \"PA\", \"PA\", \"PA\", \"PA\", \"PA\", \"PA\", \"PA\", \"PA\", \"PA\", \"PA\", \"PA\", \"PA\", \"PA\", \"PA\", \"PA\", \"PA\", \"PA\", \"PA\", \"PA\", \"PA\", \"PA\", \"PA\", \"PA\", \"PA\", \"PA\", \"PA\", \"PA\", \"PA\", \"PA\", \"PA\", \"PA\", \"PA\", \"PA\", \"PA\", \"PA\", \"PA\", \"PA\", \"PA\", \"PA\", \"PA\", \"PA\", \"PA\", \"PA\", \"PA\", \"PA\", \"PA\", \"PA\", \"PA\", \"PA\", \"PA\", \"PA\", \"PA\", \"PA\", \"PA\", \"PA\", \"PA\", \"PA\", \"PA\", \"PA\", \"RI\", \"RI\", \"RI\", \"RI\", \"RI\", \"SC\", \"SC\", \"SC\", \"SC\", \"SC\", \"SC\", \"SC\", \"SC\", \"SC\", \"SC\", \"SC\", \"SC\", \"SC\", \"SC\", \"SC\", \"SC\", \"SC\", \"SC\", \"SC\", \"SC\", \"SC\", \"SC\", \"SC\", \"SC\", \"SC\", \"SC\", \"SC\", \"SC\", \"SC\", \"SC\", \"SC\", \"SC\", \"SC\", \"SC\", \"SC\", \"SC\", \"SC\", \"SC\", \"SC\", \"SC\", \"SC\", \"SC\", \"SC\", \"SC\", \"SC\", \"SC\", \"SD\", \"SD\", \"SD\", \"SD\", \"SD\", \"SD\", \"SD\", \"SD\", \"SD\", \"SD\", \"SD\", \"SD\", \"SD\", \"SD\", \"SD\", \"SD\", \"SD\", \"SD\", \"SD\", \"SD\", \"SD\", \"SD\", \"SD\", \"SD\", \"SD\", \"SD\", \"SD\", \"SD\", \"SD\", \"SD\", \"SD\", \"SD\", \"SD\", \"SD\", \"SD\", \"SD\", \"SD\", \"SD\", \"SD\", \"SD\", \"SD\", \"SD\", \"SD\", \"SD\", \"SD\", \"SD\", \"SD\", \"SD\", \"SD\", \"SD\", \"SD\", \"SD\", \"SD\", \"SD\", \"SD\", \"SD\", \"SD\", \"SD\", \"SD\", \"SD\", \"SD\", \"SD\", \"SD\", \"SD\", \"SD\", \"SD\", \"TN\", \"TN\", \"TN\", \"TN\", \"TN\", \"TN\", \"TN\", \"TN\", \"TN\", \"TN\", \"TN\", \"TN\", \"TN\", \"TN\", \"TN\", \"TN\", \"TN\", \"TN\", \"TN\", \"TN\", \"TN\", \"TN\", \"TN\", \"TN\", \"TN\", \"TN\", \"TN\", \"TN\", \"TN\", \"TN\", \"TN\", \"TN\", \"TN\", \"TN\", \"TN\", \"TN\", \"TN\", \"TN\", \"TN\", \"TN\", \"TN\", \"TN\", \"TN\", \"TN\", \"TN\", \"TN\", \"TN\", \"TN\", \"TN\", \"TN\", \"TN\", \"TN\", \"TN\", \"TN\", \"TN\", \"TN\", \"TN\", \"TN\", \"TN\", \"TN\", \"TN\", \"TN\", \"TN\", \"TN\", \"TN\", \"TN\", \"TN\", \"TN\", \"TN\", \"TN\", \"TN\", \"TN\", \"TN\", \"TN\", \"TN\", \"TN\", \"TN\", \"TN\", \"TN\", \"TN\", \"TN\", \"TN\", \"TN\", \"TN\", \"TN\", \"TN\", \"TN\", \"TN\", \"TN\", \"TN\", \"TN\", \"TN\", \"TN\", \"TN\", \"TN\", \"TX\", \"TX\", \"TX\", \"TX\", \"TX\", \"TX\", \"TX\", \"TX\", \"TX\", \"TX\", \"TX\", \"TX\", \"TX\", \"TX\", \"TX\", \"TX\", \"TX\", \"TX\", \"TX\", \"TX\", \"TX\", \"TX\", \"TX\", \"TX\", \"TX\", \"TX\", \"TX\", \"TX\", \"TX\", \"TX\", \"TX\", \"TX\", \"TX\", \"TX\", \"TX\", \"TX\", \"TX\", \"TX\", \"TX\", \"TX\", \"TX\", \"TX\", \"TX\", \"TX\", \"TX\", \"TX\", \"TX\", \"TX\", \"TX\", \"TX\", \"TX\", \"TX\", \"TX\", \"TX\", \"TX\", \"TX\", \"TX\", \"TX\", \"TX\", \"TX\", \"TX\", \"TX\", \"TX\", \"TX\", \"TX\", \"TX\", \"TX\", \"TX\", \"TX\", \"TX\", \"TX\", \"TX\", \"TX\", \"TX\", \"TX\", \"TX\", \"TX\", \"TX\", \"TX\", \"TX\", \"TX\", \"TX\", \"TX\", \"TX\", \"TX\", \"TX\", \"TX\", \"TX\", \"TX\", \"TX\", \"TX\", \"TX\", \"TX\", \"TX\", \"TX\", \"TX\", \"TX\", \"TX\", \"TX\", \"TX\", \"TX\", \"TX\", \"TX\", \"TX\", \"TX\", \"TX\", \"TX\", \"TX\", \"TX\", \"TX\", \"TX\", \"TX\", \"TX\", \"TX\", \"TX\", \"TX\", \"TX\", \"TX\", \"TX\", \"TX\", \"TX\", \"TX\", \"TX\", \"TX\", \"TX\", \"TX\", \"TX\", \"TX\", \"TX\", \"TX\", \"TX\", \"TX\", \"TX\", \"TX\", \"TX\", \"TX\", \"TX\", \"TX\", \"TX\", \"TX\", \"TX\", \"TX\", \"TX\", \"TX\", \"TX\", \"TX\", \"TX\", \"TX\", \"TX\", \"TX\", \"TX\", \"TX\", \"TX\", \"TX\", \"TX\", \"TX\", \"TX\", \"TX\", \"TX\", \"TX\", \"TX\", \"TX\", \"TX\", \"TX\", \"TX\", \"TX\", \"TX\", \"TX\", \"TX\", \"TX\", \"TX\", \"TX\", \"TX\", \"TX\", \"TX\", \"TX\", \"TX\", \"TX\", \"TX\", \"TX\", \"TX\", \"TX\", \"TX\", \"TX\", \"TX\", \"TX\", \"TX\", \"TX\", \"TX\", \"TX\", \"TX\", \"TX\", \"TX\", \"TX\", \"TX\", \"TX\", \"TX\", \"TX\", \"TX\", \"TX\", \"TX\", \"TX\", \"TX\", \"TX\", \"TX\", \"TX\", \"TX\", \"TX\", \"TX\", \"TX\", \"TX\", \"TX\", \"TX\", \"TX\", \"TX\", \"TX\", \"TX\", \"TX\", \"TX\", \"TX\", \"TX\", \"TX\", \"TX\", \"TX\", \"TX\", \"TX\", \"TX\", \"TX\", \"TX\", \"TX\", \"TX\", \"TX\", \"TX\", \"TX\", \"TX\", \"TX\", \"TX\", \"TX\", \"TX\", \"TX\", \"TX\", \"TX\", \"TX\", \"TX\", \"TX\", \"TX\", \"TX\", \"TX\", \"TX\", \"TX\", \"TX\", \"TX\", \"TX\", \"TX\", \"UT\", \"UT\", \"UT\", \"UT\", \"UT\", \"UT\", \"UT\", \"UT\", \"UT\", \"UT\", \"UT\", \"UT\", \"UT\", \"UT\", \"UT\", \"UT\", \"UT\", \"UT\", \"UT\", \"UT\", \"UT\", \"UT\", \"UT\", \"UT\", \"UT\", \"UT\", \"UT\", \"UT\", \"UT\", \"VT\", \"VT\", \"VT\", \"VT\", \"VT\", \"VT\", \"VT\", \"VT\", \"VT\", \"VT\", \"VT\", \"VT\", \"VT\", \"VT\", \"VA\", \"VA\", \"VA\", \"VA\", \"VA\", \"VA\", \"VA\", \"VA\", \"VA\", \"VA\", \"VA\", \"VA\", \"VA\", \"VA\", \"VA\", \"VA\", \"VA\", \"VA\", \"VA\", \"VA\", \"VA\", \"VA\", \"VA\", \"VA\", \"VA\", \"VA\", \"VA\", \"VA\", \"VA\", \"VA\", \"VA\", \"VA\", \"VA\", \"VA\", \"VA\", \"VA\", \"VA\", \"VA\", \"VA\", \"VA\", \"VA\", \"VA\", \"VA\", \"VA\", \"VA\", \"VA\", \"VA\", \"VA\", \"VA\", \"VA\", \"VA\", \"VA\", \"VA\", \"VA\", \"VA\", \"VA\", \"VA\", \"VA\", \"VA\", \"VA\", \"VA\", \"VA\", \"VA\", \"VA\", \"VA\", \"VA\", \"VA\", \"VA\", \"VA\", \"VA\", \"VA\", \"VA\", \"VA\", \"VA\", \"VA\", \"VA\", \"VA\", \"VA\", \"VA\", \"VA\", \"VA\", \"VA\", \"VA\", \"VA\", \"VA\", \"VA\", \"VA\", \"VA\", \"VA\", \"VA\", \"VA\", \"VA\", \"VA\", \"VA\", \"VA\", \"VA\", \"VA\", \"VA\", \"VA\", \"VA\", \"VA\", \"VA\", \"VA\", \"VA\", \"VA\", \"VA\", \"VA\", \"VA\", \"VA\", \"VA\", \"VA\", \"VA\", \"VA\", \"VA\", \"VA\", \"VA\", \"VA\", \"VA\", \"VA\", \"VA\", \"VA\", \"VA\", \"VA\", \"VA\", \"VA\", \"VA\", \"VA\", \"VA\", \"VA\", \"VA\", \"VA\", \"VA\", \"VA\", \"WA\", \"WA\", \"WA\", \"WA\", \"WA\", \"WA\", \"WA\", \"WA\", \"WA\", \"WA\", \"WA\", \"WA\", \"WA\", \"WA\", \"WA\", \"WA\", \"WA\", \"WA\", \"WA\", \"WA\", \"WA\", \"WA\", \"WA\", \"WA\", \"WA\", \"WA\", \"WA\", \"WA\", \"WA\", \"WA\", \"WA\", \"WA\", \"WA\", \"WA\", \"WA\", \"WA\", \"WA\", \"WA\", \"WA\", \"WV\", \"WV\", \"WV\", \"WV\", \"WV\", \"WV\", \"WV\", \"WV\", \"WV\", \"WV\", \"WV\", \"WV\", \"WV\", \"WV\", \"WV\", \"WV\", \"WV\", \"WV\", \"WV\", \"WV\", \"WV\", \"WV\", \"WV\", \"WV\", \"WV\", \"WV\", \"WV\", \"WV\", \"WV\", \"WV\", \"WV\", \"WV\", \"WV\", \"WV\", \"WV\", \"WV\", \"WV\", \"WV\", \"WV\", \"WV\", \"WV\", \"WV\", \"WV\", \"WV\", \"WV\", \"WV\", \"WV\", \"WV\", \"WV\", \"WV\", \"WV\", \"WV\", \"WV\", \"WV\", \"WV\", \"WI\", \"WI\", \"WI\", \"WI\", \"WI\", \"WI\", \"WI\", \"WI\", \"WI\", \"WI\", \"WI\", \"WI\", \"WI\", \"WI\", \"WI\", \"WI\", \"WI\", \"WI\", \"WI\", \"WI\", \"WI\", \"WI\", \"WI\", \"WI\", \"WI\", \"WI\", \"WI\", \"WI\", \"WI\", \"WI\", \"WI\", \"WI\", \"WI\", \"WI\", \"WI\", \"WI\", \"WI\", \"WI\", \"WI\", \"WI\", \"WI\", \"WI\", \"WI\", \"WI\", \"WI\", \"WI\", \"WI\", \"WI\", \"WI\", \"WI\", \"WI\", \"WI\", \"WI\", \"WI\", \"WI\", \"WI\", \"WI\", \"WI\", \"WI\", \"WI\", \"WI\", \"WI\", \"WI\", \"WI\", \"WI\", \"WI\", \"WI\", \"WI\", \"WI\", \"WI\", \"WI\", \"WI\", \"WY\", \"WY\", \"WY\", \"WY\", \"WY\", \"WY\", \"WY\", \"WY\", \"WY\", \"WY\", \"WY\", \"WY\", \"WY\", \"WY\", \"WY\", \"WY\", \"WY\", \"WY\", \"WY\", \"WY\", \"WY\", \"WY\", \"WY\"], \"yaxis\": \"y\"}],\n",
              "                        {\"legend\": {\"tracegroupgap\": 0}, \"template\": {\"data\": {\"bar\": [{\"error_x\": {\"color\": \"#2a3f5f\"}, \"error_y\": {\"color\": \"#2a3f5f\"}, \"marker\": {\"line\": {\"color\": \"#E5ECF6\", \"width\": 0.5}}, \"type\": \"bar\"}], \"barpolar\": [{\"marker\": {\"line\": {\"color\": \"#E5ECF6\", \"width\": 0.5}}, \"type\": \"barpolar\"}], \"carpet\": [{\"aaxis\": {\"endlinecolor\": \"#2a3f5f\", \"gridcolor\": \"white\", \"linecolor\": \"white\", \"minorgridcolor\": \"white\", \"startlinecolor\": \"#2a3f5f\"}, \"baxis\": {\"endlinecolor\": \"#2a3f5f\", \"gridcolor\": \"white\", \"linecolor\": \"white\", \"minorgridcolor\": \"white\", \"startlinecolor\": \"#2a3f5f\"}, \"type\": \"carpet\"}], \"choropleth\": [{\"colorbar\": {\"outlinewidth\": 0, \"ticks\": \"\"}, \"type\": \"choropleth\"}], \"contour\": [{\"colorbar\": {\"outlinewidth\": 0, \"ticks\": \"\"}, \"colorscale\": [[0.0, \"#0d0887\"], [0.1111111111111111, \"#46039f\"], [0.2222222222222222, \"#7201a8\"], [0.3333333333333333, \"#9c179e\"], [0.4444444444444444, \"#bd3786\"], [0.5555555555555556, \"#d8576b\"], [0.6666666666666666, \"#ed7953\"], [0.7777777777777778, \"#fb9f3a\"], [0.8888888888888888, \"#fdca26\"], [1.0, \"#f0f921\"]], \"type\": \"contour\"}], \"contourcarpet\": [{\"colorbar\": {\"outlinewidth\": 0, \"ticks\": \"\"}, \"type\": \"contourcarpet\"}], \"heatmap\": [{\"colorbar\": {\"outlinewidth\": 0, \"ticks\": \"\"}, \"colorscale\": [[0.0, \"#0d0887\"], [0.1111111111111111, \"#46039f\"], [0.2222222222222222, \"#7201a8\"], [0.3333333333333333, \"#9c179e\"], [0.4444444444444444, \"#bd3786\"], [0.5555555555555556, \"#d8576b\"], [0.6666666666666666, \"#ed7953\"], [0.7777777777777778, \"#fb9f3a\"], [0.8888888888888888, \"#fdca26\"], [1.0, \"#f0f921\"]], \"type\": \"heatmap\"}], \"heatmapgl\": [{\"colorbar\": {\"outlinewidth\": 0, \"ticks\": \"\"}, \"colorscale\": [[0.0, \"#0d0887\"], [0.1111111111111111, \"#46039f\"], [0.2222222222222222, \"#7201a8\"], [0.3333333333333333, \"#9c179e\"], [0.4444444444444444, \"#bd3786\"], [0.5555555555555556, \"#d8576b\"], [0.6666666666666666, \"#ed7953\"], [0.7777777777777778, \"#fb9f3a\"], [0.8888888888888888, \"#fdca26\"], [1.0, \"#f0f921\"]], \"type\": \"heatmapgl\"}], \"histogram\": [{\"marker\": {\"colorbar\": {\"outlinewidth\": 0, \"ticks\": \"\"}}, \"type\": \"histogram\"}], \"histogram2d\": [{\"colorbar\": {\"outlinewidth\": 0, \"ticks\": \"\"}, \"colorscale\": [[0.0, \"#0d0887\"], [0.1111111111111111, \"#46039f\"], [0.2222222222222222, \"#7201a8\"], [0.3333333333333333, \"#9c179e\"], [0.4444444444444444, \"#bd3786\"], [0.5555555555555556, \"#d8576b\"], [0.6666666666666666, \"#ed7953\"], [0.7777777777777778, \"#fb9f3a\"], [0.8888888888888888, \"#fdca26\"], [1.0, \"#f0f921\"]], \"type\": \"histogram2d\"}], \"histogram2dcontour\": [{\"colorbar\": {\"outlinewidth\": 0, \"ticks\": \"\"}, \"colorscale\": [[0.0, \"#0d0887\"], [0.1111111111111111, \"#46039f\"], [0.2222222222222222, \"#7201a8\"], [0.3333333333333333, \"#9c179e\"], [0.4444444444444444, \"#bd3786\"], [0.5555555555555556, \"#d8576b\"], [0.6666666666666666, \"#ed7953\"], [0.7777777777777778, \"#fb9f3a\"], [0.8888888888888888, \"#fdca26\"], [1.0, \"#f0f921\"]], \"type\": \"histogram2dcontour\"}], \"mesh3d\": [{\"colorbar\": {\"outlinewidth\": 0, \"ticks\": \"\"}, \"type\": \"mesh3d\"}], \"parcoords\": [{\"line\": {\"colorbar\": {\"outlinewidth\": 0, \"ticks\": \"\"}}, \"type\": \"parcoords\"}], \"pie\": [{\"automargin\": true, \"type\": \"pie\"}], \"scatter\": [{\"marker\": {\"colorbar\": {\"outlinewidth\": 0, \"ticks\": \"\"}}, \"type\": \"scatter\"}], \"scatter3d\": [{\"line\": {\"colorbar\": {\"outlinewidth\": 0, \"ticks\": \"\"}}, \"marker\": {\"colorbar\": {\"outlinewidth\": 0, \"ticks\": \"\"}}, \"type\": \"scatter3d\"}], \"scattercarpet\": [{\"marker\": {\"colorbar\": {\"outlinewidth\": 0, \"ticks\": \"\"}}, \"type\": \"scattercarpet\"}], \"scattergeo\": [{\"marker\": {\"colorbar\": {\"outlinewidth\": 0, \"ticks\": \"\"}}, \"type\": \"scattergeo\"}], \"scattergl\": [{\"marker\": {\"colorbar\": {\"outlinewidth\": 0, \"ticks\": \"\"}}, \"type\": \"scattergl\"}], \"scattermapbox\": [{\"marker\": {\"colorbar\": {\"outlinewidth\": 0, \"ticks\": \"\"}}, \"type\": \"scattermapbox\"}], \"scatterpolar\": [{\"marker\": {\"colorbar\": {\"outlinewidth\": 0, \"ticks\": \"\"}}, \"type\": \"scatterpolar\"}], \"scatterpolargl\": [{\"marker\": {\"colorbar\": {\"outlinewidth\": 0, \"ticks\": \"\"}}, \"type\": \"scatterpolargl\"}], \"scatterternary\": [{\"marker\": {\"colorbar\": {\"outlinewidth\": 0, \"ticks\": \"\"}}, \"type\": \"scatterternary\"}], \"surface\": [{\"colorbar\": {\"outlinewidth\": 0, \"ticks\": \"\"}, \"colorscale\": [[0.0, \"#0d0887\"], [0.1111111111111111, \"#46039f\"], [0.2222222222222222, \"#7201a8\"], [0.3333333333333333, \"#9c179e\"], [0.4444444444444444, \"#bd3786\"], [0.5555555555555556, \"#d8576b\"], [0.6666666666666666, \"#ed7953\"], [0.7777777777777778, \"#fb9f3a\"], [0.8888888888888888, \"#fdca26\"], [1.0, \"#f0f921\"]], \"type\": \"surface\"}], \"table\": [{\"cells\": {\"fill\": {\"color\": \"#EBF0F8\"}, \"line\": {\"color\": \"white\"}}, \"header\": {\"fill\": {\"color\": \"#C8D4E3\"}, \"line\": {\"color\": \"white\"}}, \"type\": \"table\"}]}, \"layout\": {\"annotationdefaults\": {\"arrowcolor\": \"#2a3f5f\", \"arrowhead\": 0, \"arrowwidth\": 1}, \"coloraxis\": {\"colorbar\": {\"outlinewidth\": 0, \"ticks\": \"\"}}, \"colorscale\": {\"diverging\": [[0, \"#8e0152\"], [0.1, \"#c51b7d\"], [0.2, \"#de77ae\"], [0.3, \"#f1b6da\"], [0.4, \"#fde0ef\"], [0.5, \"#f7f7f7\"], [0.6, \"#e6f5d0\"], [0.7, \"#b8e186\"], [0.8, \"#7fbc41\"], [0.9, \"#4d9221\"], [1, \"#276419\"]], \"sequential\": [[0.0, \"#0d0887\"], [0.1111111111111111, \"#46039f\"], [0.2222222222222222, \"#7201a8\"], [0.3333333333333333, \"#9c179e\"], [0.4444444444444444, \"#bd3786\"], [0.5555555555555556, \"#d8576b\"], [0.6666666666666666, \"#ed7953\"], [0.7777777777777778, \"#fb9f3a\"], [0.8888888888888888, \"#fdca26\"], [1.0, \"#f0f921\"]], \"sequentialminus\": [[0.0, \"#0d0887\"], [0.1111111111111111, \"#46039f\"], [0.2222222222222222, \"#7201a8\"], [0.3333333333333333, \"#9c179e\"], [0.4444444444444444, \"#bd3786\"], [0.5555555555555556, \"#d8576b\"], [0.6666666666666666, \"#ed7953\"], [0.7777777777777778, \"#fb9f3a\"], [0.8888888888888888, \"#fdca26\"], [1.0, \"#f0f921\"]]}, \"colorway\": [\"#636efa\", \"#EF553B\", \"#00cc96\", \"#ab63fa\", \"#FFA15A\", \"#19d3f3\", \"#FF6692\", \"#B6E880\", \"#FF97FF\", \"#FECB52\"], \"font\": {\"color\": \"#2a3f5f\"}, \"geo\": {\"bgcolor\": \"white\", \"lakecolor\": \"white\", \"landcolor\": \"#E5ECF6\", \"showlakes\": true, \"showland\": true, \"subunitcolor\": \"white\"}, \"hoverlabel\": {\"align\": \"left\"}, \"hovermode\": \"closest\", \"mapbox\": {\"style\": \"light\"}, \"paper_bgcolor\": \"white\", \"plot_bgcolor\": \"#E5ECF6\", \"polar\": {\"angularaxis\": {\"gridcolor\": \"white\", \"linecolor\": \"white\", \"ticks\": \"\"}, \"bgcolor\": \"#E5ECF6\", \"radialaxis\": {\"gridcolor\": \"white\", \"linecolor\": \"white\", \"ticks\": \"\"}}, \"scene\": {\"xaxis\": {\"backgroundcolor\": \"#E5ECF6\", \"gridcolor\": \"white\", \"gridwidth\": 2, \"linecolor\": \"white\", \"showbackground\": true, \"ticks\": \"\", \"zerolinecolor\": \"white\"}, \"yaxis\": {\"backgroundcolor\": \"#E5ECF6\", \"gridcolor\": \"white\", \"gridwidth\": 2, \"linecolor\": \"white\", \"showbackground\": true, \"ticks\": \"\", \"zerolinecolor\": \"white\"}, \"zaxis\": {\"backgroundcolor\": \"#E5ECF6\", \"gridcolor\": \"white\", \"gridwidth\": 2, \"linecolor\": \"white\", \"showbackground\": true, \"ticks\": \"\", \"zerolinecolor\": \"white\"}}, \"shapedefaults\": {\"line\": {\"color\": \"#2a3f5f\"}}, \"ternary\": {\"aaxis\": {\"gridcolor\": \"white\", \"linecolor\": \"white\", \"ticks\": \"\"}, \"baxis\": {\"gridcolor\": \"white\", \"linecolor\": \"white\", \"ticks\": \"\"}, \"bgcolor\": \"#E5ECF6\", \"caxis\": {\"gridcolor\": \"white\", \"linecolor\": \"white\", \"ticks\": \"\"}}, \"title\": {\"x\": 0.05}, \"xaxis\": {\"automargin\": true, \"gridcolor\": \"white\", \"linecolor\": \"white\", \"ticks\": \"\", \"title\": {\"standoff\": 15}, \"zerolinecolor\": \"white\", \"zerolinewidth\": 2}, \"yaxis\": {\"automargin\": true, \"gridcolor\": \"white\", \"linecolor\": \"white\", \"ticks\": \"\", \"title\": {\"standoff\": 15}, \"zerolinecolor\": \"white\", \"zerolinewidth\": 2}}}, \"title\": {\"text\": \"State and NUM_FIP\"}, \"xaxis\": {\"anchor\": \"y\", \"domain\": [0.0, 1.0], \"title\": {\"text\": \"Num_FIP\"}}, \"yaxis\": {\"anchor\": \"x\", \"domain\": [0.0, 1.0], \"title\": {\"text\": \"State\"}}},\n",
              "                        {\"responsive\": true}\n",
              "                    ).then(function(){\n",
              "                            \n",
              "var gd = document.getElementById('79b8d3e7-4739-4457-8367-c803af9d02c8');\n",
              "var x = new MutationObserver(function (mutations, observer) {{\n",
              "        var display = window.getComputedStyle(gd).display;\n",
              "        if (!display || display === 'none') {{\n",
              "            console.log([gd, 'removed!']);\n",
              "            Plotly.purge(gd);\n",
              "            observer.disconnect();\n",
              "        }}\n",
              "}});\n",
              "\n",
              "// Listen for the removal of the full notebook cells\n",
              "var notebookContainer = gd.closest('#notebook-container');\n",
              "if (notebookContainer) {{\n",
              "    x.observe(notebookContainer, {childList: true});\n",
              "}}\n",
              "\n",
              "// Listen for the clearing of the current output cell\n",
              "var outputEl = gd.closest('.output');\n",
              "if (outputEl) {{\n",
              "    x.observe(outputEl, {childList: true});\n",
              "}}\n",
              "\n",
              "                        })\n",
              "                };\n",
              "                \n",
              "            </script>\n",
              "        </div>\n",
              "</body>\n",
              "</html>"
            ]
          },
          "metadata": {
            "tags": []
          }
        }
      ]
    },
    {
      "cell_type": "code",
      "metadata": {
        "colab": {
          "base_uri": "https://localhost:8080/",
          "height": 542
        },
        "id": "UgeAjVc8jBKW",
        "outputId": "08d2e6e9-9348-4e23-edd3-1f3da07bbacb"
      },
      "source": [
        "fig = px.bar(df_mealgap, x='State', y='Num_FIP', title='Rate by State')\n",
        "fig.show()"
      ],
      "execution_count": 40,
      "outputs": [
        {
          "output_type": "display_data",
          "data": {
            "text/html": [
              "<html>\n",
              "<head><meta charset=\"utf-8\" /></head>\n",
              "<body>\n",
              "    <div>\n",
              "            <script src=\"https://cdnjs.cloudflare.com/ajax/libs/mathjax/2.7.5/MathJax.js?config=TeX-AMS-MML_SVG\"></script><script type=\"text/javascript\">if (window.MathJax) {MathJax.Hub.Config({SVG: {font: \"STIX-Web\"}});}</script>\n",
              "                <script type=\"text/javascript\">window.PlotlyConfig = {MathJaxConfig: 'local'};</script>\n",
              "        <script src=\"https://cdn.plot.ly/plotly-latest.min.js\"></script>    \n",
              "            <div id=\"bd07310a-0e0d-4f2e-abcd-416e92519bdc\" class=\"plotly-graph-div\" style=\"height:525px; width:100%;\"></div>\n",
              "            <script type=\"text/javascript\">\n",
              "                \n",
              "                    window.PLOTLYENV=window.PLOTLYENV || {};\n",
              "                    \n",
              "                if (document.getElementById(\"bd07310a-0e0d-4f2e-abcd-416e92519bdc\")) {\n",
              "                    Plotly.newPlot(\n",
              "                        'bd07310a-0e0d-4f2e-abcd-416e92519bdc',\n",
              "                        [{\"alignmentgroup\": \"True\", \"hoverlabel\": {\"namelength\": 0}, \"hovertemplate\": \"State=%{x}<br>Num_FIP=%{y}\", \"legendgroup\": \"\", \"marker\": {\"color\": \"#636efa\"}, \"name\": \"\", \"offsetgroup\": \"\", \"orientation\": \"v\", \"showlegend\": false, \"textposition\": \"auto\", \"type\": \"bar\", \"x\": [\"AL\", \"AL\", \"AL\", \"AL\", \"AL\", \"AL\", \"AL\", \"AL\", \"AL\", \"AL\", \"AL\", \"AL\", \"AL\", \"AL\", \"AL\", \"AL\", \"AL\", \"AL\", \"AL\", \"AL\", \"AL\", \"AL\", \"AL\", \"AL\", \"AL\", \"AL\", \"AL\", \"AL\", \"AL\", \"AL\", \"AL\", \"AL\", \"AL\", \"AL\", \"AL\", \"AL\", \"AL\", \"AL\", \"AL\", \"AL\", \"AL\", \"AL\", \"AL\", \"AL\", \"AL\", \"AL\", \"AL\", \"AL\", \"AL\", \"AL\", \"AL\", \"AL\", \"AL\", \"AL\", \"AL\", \"AL\", \"AL\", \"AL\", \"AL\", \"AL\", \"AL\", \"AL\", \"AL\", \"AL\", \"AL\", \"AL\", \"AL\", \"AK\", \"AK\", \"AK\", \"AK\", \"AK\", \"AK\", \"AK\", \"AK\", \"AK\", \"AK\", \"AK\", \"AK\", \"AK\", \"AK\", \"AK\", \"AK\", \"AK\", \"AK\", \"AK\", \"AK\", \"AK\", \"AK\", \"AK\", \"AK\", \"AK\", \"AK\", \"AK\", \"AK\", \"AK\", \"AZ\", \"AZ\", \"AZ\", \"AZ\", \"AZ\", \"AZ\", \"AZ\", \"AZ\", \"AZ\", \"AZ\", \"AZ\", \"AZ\", \"AZ\", \"AZ\", \"AZ\", \"AR\", \"AR\", \"AR\", \"AR\", \"AR\", \"AR\", \"AR\", \"AR\", \"AR\", \"AR\", \"AR\", \"AR\", \"AR\", \"AR\", \"AR\", \"AR\", \"AR\", \"AR\", \"AR\", \"AR\", \"AR\", \"AR\", \"AR\", \"AR\", \"AR\", \"AR\", \"AR\", \"AR\", \"AR\", \"AR\", \"AR\", \"AR\", \"AR\", \"AR\", \"AR\", \"AR\", \"AR\", \"AR\", \"AR\", \"AR\", \"AR\", \"AR\", \"AR\", \"AR\", \"AR\", \"AR\", \"AR\", \"AR\", \"AR\", \"AR\", \"AR\", \"AR\", \"AR\", \"AR\", \"AR\", \"AR\", \"AR\", \"AR\", \"AR\", \"AR\", \"AR\", \"AR\", \"AR\", \"AR\", \"AR\", \"AR\", \"AR\", \"AR\", \"AR\", \"AR\", \"AR\", \"AR\", \"AR\", \"AR\", \"AR\", \"CA\", \"CA\", \"CA\", \"CA\", \"CA\", \"CA\", \"CA\", \"CA\", \"CA\", \"CA\", \"CA\", \"CA\", \"CA\", \"CA\", \"CA\", \"CA\", \"CA\", \"CA\", \"CA\", \"CA\", \"CA\", \"CA\", \"CA\", \"CA\", \"CA\", \"CA\", \"CA\", \"CA\", \"CA\", \"CA\", \"CA\", \"CA\", \"CA\", \"CA\", \"CA\", \"CA\", \"CA\", \"CA\", \"CA\", \"CA\", \"CA\", \"CA\", \"CA\", \"CA\", \"CA\", \"CA\", \"CA\", \"CA\", \"CA\", \"CA\", \"CA\", \"CA\", \"CA\", \"CA\", \"CA\", \"CA\", \"CA\", \"CA\", \"CO\", \"CO\", \"CO\", \"CO\", \"CO\", \"CO\", \"CO\", \"CO\", \"CO\", \"CO\", \"CO\", \"CO\", \"CO\", \"CO\", \"CO\", \"CO\", \"CO\", \"CO\", \"CO\", \"CO\", \"CO\", \"CO\", \"CO\", \"CO\", \"CO\", \"CO\", \"CO\", \"CO\", \"CO\", \"CO\", \"CO\", \"CO\", \"CO\", \"CO\", \"CO\", \"CO\", \"CO\", \"CO\", \"CO\", \"CO\", \"CO\", \"CO\", \"CO\", \"CO\", \"CO\", \"CO\", \"CO\", \"CO\", \"CO\", \"CO\", \"CO\", \"CO\", \"CO\", \"CO\", \"CO\", \"CO\", \"CO\", \"CO\", \"CO\", \"CO\", \"CO\", \"CO\", \"CO\", \"CO\", \"CT\", \"CT\", \"CT\", \"CT\", \"CT\", \"CT\", \"CT\", \"CT\", \"DE\", \"DE\", \"DE\", \"DC\", \"FL\", \"FL\", \"FL\", \"FL\", \"FL\", \"FL\", \"FL\", \"FL\", \"FL\", \"FL\", \"FL\", \"FL\", \"FL\", \"FL\", \"FL\", \"FL\", \"FL\", \"FL\", \"FL\", \"FL\", \"FL\", \"FL\", \"FL\", \"FL\", \"FL\", \"FL\", \"FL\", \"FL\", \"FL\", \"FL\", \"FL\", \"FL\", \"FL\", \"FL\", \"FL\", \"FL\", \"FL\", \"FL\", \"FL\", \"FL\", \"FL\", \"FL\", \"FL\", \"FL\", \"FL\", \"FL\", \"FL\", \"FL\", \"FL\", \"FL\", \"FL\", \"FL\", \"FL\", \"FL\", \"FL\", \"FL\", \"FL\", \"FL\", \"FL\", \"FL\", \"FL\", \"FL\", \"FL\", \"FL\", \"FL\", \"FL\", \"FL\", \"GA\", \"GA\", \"GA\", \"GA\", \"GA\", \"GA\", \"GA\", \"GA\", \"GA\", \"GA\", \"GA\", \"GA\", \"GA\", \"GA\", \"GA\", \"GA\", \"GA\", \"GA\", \"GA\", \"GA\", \"GA\", \"GA\", \"GA\", \"GA\", \"GA\", \"GA\", \"GA\", \"GA\", \"GA\", \"GA\", \"GA\", \"GA\", \"GA\", \"GA\", \"GA\", \"GA\", \"GA\", \"GA\", \"GA\", \"GA\", \"GA\", \"GA\", \"GA\", \"GA\", \"GA\", \"GA\", \"GA\", \"GA\", \"GA\", \"GA\", \"GA\", \"GA\", \"GA\", \"GA\", \"GA\", \"GA\", \"GA\", \"GA\", \"GA\", \"GA\", \"GA\", \"GA\", \"GA\", \"GA\", \"GA\", \"GA\", \"GA\", \"GA\", \"GA\", \"GA\", \"GA\", \"GA\", \"GA\", \"GA\", \"GA\", \"GA\", \"GA\", \"GA\", \"GA\", \"GA\", \"GA\", \"GA\", \"GA\", \"GA\", \"GA\", \"GA\", \"GA\", \"GA\", \"GA\", \"GA\", \"GA\", \"GA\", \"GA\", \"GA\", \"GA\", \"GA\", \"GA\", \"GA\", \"GA\", \"GA\", \"GA\", \"GA\", \"GA\", \"GA\", \"GA\", \"GA\", \"GA\", \"GA\", \"GA\", \"GA\", \"GA\", \"GA\", \"GA\", \"GA\", \"GA\", \"GA\", \"GA\", \"GA\", \"GA\", \"GA\", \"GA\", \"GA\", \"GA\", \"GA\", \"GA\", \"GA\", \"GA\", \"GA\", \"GA\", \"GA\", \"GA\", \"GA\", \"GA\", \"GA\", \"GA\", \"GA\", \"GA\", \"GA\", \"GA\", \"GA\", \"GA\", \"GA\", \"GA\", \"GA\", \"GA\", \"GA\", \"GA\", \"GA\", \"GA\", \"GA\", \"GA\", \"GA\", \"GA\", \"GA\", \"GA\", \"GA\", \"GA\", \"GA\", \"GA\", \"HI\", \"HI\", \"HI\", \"HI\", \"HI\", \"ID\", \"ID\", \"ID\", \"ID\", \"ID\", \"ID\", \"ID\", \"ID\", \"ID\", \"ID\", \"ID\", \"ID\", \"ID\", \"ID\", \"ID\", \"ID\", \"ID\", \"ID\", \"ID\", \"ID\", \"ID\", \"ID\", \"ID\", \"ID\", \"ID\", \"ID\", \"ID\", \"ID\", \"ID\", \"ID\", \"ID\", \"ID\", \"ID\", \"ID\", \"ID\", \"ID\", \"ID\", \"ID\", \"ID\", \"ID\", \"ID\", \"ID\", \"ID\", \"ID\", \"IL\", \"IL\", \"IL\", \"IL\", \"IL\", \"IL\", \"IL\", \"IL\", \"IL\", \"IL\", \"IL\", \"IL\", \"IL\", \"IL\", \"IL\", \"IL\", \"IL\", \"IL\", \"IL\", \"IL\", \"IL\", \"IL\", \"IL\", \"IL\", \"IL\", \"IL\", \"IL\", \"IL\", \"IL\", \"IL\", \"IL\", \"IL\", \"IL\", \"IL\", \"IL\", \"IL\", \"IL\", \"IL\", \"IL\", \"IL\", \"IL\", \"IL\", \"IL\", \"IL\", \"IL\", \"IL\", \"IL\", \"IL\", \"IL\", \"IL\", \"IL\", \"IL\", \"IL\", \"IL\", \"IL\", \"IL\", \"IL\", \"IL\", \"IL\", \"IL\", \"IL\", \"IL\", \"IL\", \"IL\", \"IL\", \"IL\", \"IL\", \"IL\", \"IL\", \"IL\", \"IL\", \"IL\", \"IL\", \"IL\", \"IL\", \"IL\", \"IL\", \"IL\", \"IL\", \"IL\", \"IL\", \"IL\", \"IL\", \"IL\", \"IL\", \"IL\", \"IL\", \"IL\", \"IL\", \"IL\", \"IL\", \"IL\", \"IL\", \"IL\", \"IL\", \"IL\", \"IL\", \"IL\", \"IL\", \"IL\", \"IL\", \"IL\", \"IN\", \"IN\", \"IN\", \"IN\", \"IN\", \"IN\", \"IN\", \"IN\", \"IN\", \"IN\", \"IN\", \"IN\", \"IN\", \"IN\", \"IN\", \"IN\", \"IN\", \"IN\", \"IN\", \"IN\", \"IN\", \"IN\", \"IN\", \"IN\", \"IN\", \"IN\", \"IN\", \"IN\", \"IN\", \"IN\", \"IN\", \"IN\", \"IN\", \"IN\", \"IN\", \"IN\", \"IN\", \"IN\", \"IN\", \"IN\", \"IN\", \"IN\", \"IN\", \"IN\", \"IN\", \"IN\", \"IN\", \"IN\", \"IN\", \"IN\", \"IN\", \"IN\", \"IN\", \"IN\", \"IN\", \"IN\", \"IN\", \"IN\", \"IN\", \"IN\", \"IN\", \"IN\", \"IN\", \"IN\", \"IN\", \"IN\", \"IN\", \"IN\", \"IN\", \"IN\", \"IN\", \"IN\", \"IN\", \"IN\", \"IN\", \"IN\", \"IN\", \"IN\", \"IN\", \"IN\", \"IN\", \"IN\", \"IN\", \"IN\", \"IN\", \"IN\", \"IN\", \"IN\", \"IN\", \"IN\", \"IN\", \"IN\", \"IA\", \"IA\", \"IA\", \"IA\", \"IA\", \"IA\", \"IA\", \"IA\", \"IA\", \"IA\", \"IA\", \"IA\", \"IA\", \"IA\", \"IA\", \"IA\", \"IA\", \"IA\", \"IA\", \"IA\", \"IA\", \"IA\", \"IA\", \"IA\", \"IA\", \"IA\", \"IA\", \"IA\", \"IA\", \"IA\", \"IA\", \"IA\", \"IA\", \"IA\", \"IA\", \"IA\", \"IA\", \"IA\", \"IA\", \"IA\", \"IA\", \"IA\", \"IA\", \"IA\", \"IA\", \"IA\", \"IA\", \"IA\", \"IA\", \"IA\", \"IA\", \"IA\", \"IA\", \"IA\", \"IA\", \"IA\", \"IA\", \"IA\", \"IA\", \"IA\", \"IA\", \"IA\", \"IA\", \"IA\", \"IA\", \"IA\", \"IA\", \"IA\", \"IA\", \"IA\", \"IA\", \"IA\", \"IA\", \"IA\", \"IA\", \"IA\", \"IA\", \"IA\", \"IA\", \"IA\", \"IA\", \"IA\", \"IA\", \"IA\", \"IA\", \"IA\", \"IA\", \"IA\", \"IA\", \"IA\", \"IA\", \"IA\", \"IA\", \"IA\", \"IA\", \"IA\", \"IA\", \"IA\", \"IA\", \"KS\", \"KS\", \"KS\", \"KS\", \"KS\", \"KS\", \"KS\", \"KS\", \"KS\", \"KS\", \"KS\", \"KS\", \"KS\", \"KS\", \"KS\", \"KS\", \"KS\", \"KS\", \"KS\", \"KS\", \"KS\", \"KS\", \"KS\", \"KS\", \"KS\", \"KS\", \"KS\", \"KS\", \"KS\", \"KS\", \"KS\", \"KS\", \"KS\", \"KS\", \"KS\", \"KS\", \"KS\", \"KS\", \"KS\", \"KS\", \"KS\", \"KS\", \"KS\", \"KS\", \"KS\", \"KS\", \"KS\", \"KS\", \"KS\", \"KS\", \"KS\", \"KS\", \"KS\", \"KS\", \"KS\", \"KS\", \"KS\", \"KS\", \"KS\", \"KS\", \"KS\", \"KS\", \"KS\", \"KS\", \"KS\", \"KS\", \"KS\", \"KS\", \"KS\", \"KS\", \"KS\", \"KS\", \"KS\", \"KS\", \"KS\", \"KS\", \"KS\", \"KS\", \"KS\", \"KS\", \"KS\", \"KS\", \"KS\", \"KS\", \"KS\", \"KS\", \"KS\", \"KS\", \"KS\", \"KS\", \"KS\", \"KS\", \"KS\", \"KS\", \"KS\", \"KS\", \"KS\", \"KS\", \"KS\", \"KS\", \"KS\", \"KS\", \"KS\", \"KS\", \"KS\", \"KY\", \"KY\", \"KY\", \"KY\", \"KY\", \"KY\", \"KY\", \"KY\", \"KY\", \"KY\", \"KY\", \"KY\", \"KY\", \"KY\", \"KY\", \"KY\", \"KY\", \"KY\", \"KY\", \"KY\", \"KY\", \"KY\", \"KY\", \"KY\", \"KY\", \"KY\", \"KY\", \"KY\", \"KY\", \"KY\", \"KY\", \"KY\", \"KY\", \"KY\", \"KY\", \"KY\", \"KY\", \"KY\", \"KY\", \"KY\", \"KY\", \"KY\", \"KY\", \"KY\", \"KY\", \"KY\", \"KY\", \"KY\", \"KY\", \"KY\", \"KY\", \"KY\", \"KY\", \"KY\", \"KY\", \"KY\", \"KY\", \"KY\", \"KY\", \"KY\", \"KY\", \"KY\", \"KY\", \"KY\", \"KY\", \"KY\", \"KY\", \"KY\", \"KY\", \"KY\", \"KY\", \"KY\", \"KY\", \"KY\", \"KY\", \"KY\", \"KY\", \"KY\", \"KY\", \"KY\", \"KY\", \"KY\", \"KY\", \"KY\", \"KY\", \"KY\", \"KY\", \"KY\", \"KY\", \"KY\", \"KY\", \"KY\", \"KY\", \"KY\", \"KY\", \"KY\", \"KY\", \"KY\", \"KY\", \"KY\", \"KY\", \"KY\", \"KY\", \"KY\", \"KY\", \"KY\", \"KY\", \"KY\", \"KY\", \"KY\", \"KY\", \"KY\", \"KY\", \"KY\", \"KY\", \"KY\", \"KY\", \"KY\", \"KY\", \"KY\", \"LA\", \"LA\", \"LA\", \"LA\", \"LA\", \"LA\", \"LA\", \"LA\", \"LA\", \"LA\", \"LA\", \"LA\", \"LA\", \"LA\", \"LA\", \"LA\", \"LA\", \"LA\", \"LA\", \"LA\", \"LA\", \"LA\", \"LA\", \"LA\", \"LA\", \"LA\", \"LA\", \"LA\", \"LA\", \"LA\", \"LA\", \"LA\", \"LA\", \"LA\", \"LA\", \"LA\", \"LA\", \"LA\", \"LA\", \"LA\", \"LA\", \"LA\", \"LA\", \"LA\", \"LA\", \"LA\", \"LA\", \"LA\", \"LA\", \"LA\", \"LA\", \"LA\", \"LA\", \"LA\", \"LA\", \"LA\", \"LA\", \"LA\", \"LA\", \"LA\", \"LA\", \"LA\", \"LA\", \"LA\", \"ME\", \"ME\", \"ME\", \"ME\", \"ME\", \"ME\", \"ME\", \"ME\", \"ME\", \"ME\", \"ME\", \"ME\", \"ME\", \"ME\", \"ME\", \"ME\", \"MD\", \"MD\", \"MD\", \"MD\", \"MD\", \"MD\", \"MD\", \"MD\", \"MD\", \"MD\", \"MD\", \"MD\", \"MD\", \"MD\", \"MD\", \"MD\", \"MD\", \"MD\", \"MD\", \"MD\", \"MD\", \"MD\", \"MD\", \"MD\", \"MA\", \"MA\", \"MA\", \"MA\", \"MA\", \"MA\", \"MA\", \"MA\", \"MA\", \"MA\", \"MA\", \"MA\", \"MA\", \"MA\", \"MI\", \"MI\", \"MI\", \"MI\", \"MI\", \"MI\", \"MI\", \"MI\", \"MI\", \"MI\", \"MI\", \"MI\", \"MI\", \"MI\", \"MI\", \"MI\", \"MI\", \"MI\", \"MI\", \"MI\", \"MI\", \"MI\", \"MI\", \"MI\", \"MI\", \"MI\", \"MI\", \"MI\", \"MI\", \"MI\", \"MI\", \"MI\", \"MI\", \"MI\", \"MI\", \"MI\", \"MI\", \"MI\", \"MI\", \"MI\", \"MI\", \"MI\", \"MI\", \"MI\", \"MI\", \"MI\", \"MI\", \"MI\", \"MI\", \"MI\", \"MI\", \"MI\", \"MI\", \"MI\", \"MI\", \"MI\", \"MI\", \"MI\", \"MI\", \"MI\", \"MI\", \"MI\", \"MI\", \"MI\", \"MI\", \"MI\", \"MI\", \"MI\", \"MI\", \"MI\", \"MI\", \"MI\", \"MI\", \"MI\", \"MI\", \"MI\", \"MI\", \"MI\", \"MI\", \"MI\", \"MI\", \"MI\", \"MI\", \"MN\", \"MN\", \"MN\", \"MN\", \"MN\", \"MN\", \"MN\", \"MN\", \"MN\", \"MN\", \"MN\", \"MN\", \"MN\", \"MN\", \"MN\", \"MN\", \"MN\", \"MN\", \"MN\", \"MN\", \"MN\", \"MN\", \"MN\", \"MN\", \"MN\", \"MN\", \"MN\", \"MN\", \"MN\", \"MN\", \"MN\", \"MN\", \"MN\", \"MN\", \"MN\", \"MN\", \"MN\", \"MN\", \"MN\", \"MN\", \"MN\", \"MN\", \"MN\", \"MN\", \"MN\", \"MN\", \"MN\", \"MN\", \"MN\", \"MN\", \"MN\", \"MN\", \"MN\", \"MN\", \"MN\", \"MN\", \"MN\", \"MN\", \"MN\", \"MN\", \"MN\", \"MN\", \"MN\", \"MN\", \"MN\", \"MN\", \"MN\", \"MN\", \"MN\", \"MN\", \"MN\", \"MN\", \"MN\", \"MN\", \"MN\", \"MN\", \"MN\", \"MN\", \"MN\", \"MN\", \"MN\", \"MN\", \"MN\", \"MN\", \"MN\", \"MN\", \"MN\", \"MS\", \"MS\", \"MS\", \"MS\", \"MS\", \"MS\", \"MS\", \"MS\", \"MS\", \"MS\", \"MS\", \"MS\", \"MS\", \"MS\", \"MS\", \"MS\", \"MS\", \"MS\", \"MS\", \"MS\", \"MS\", \"MS\", \"MS\", \"MS\", \"MS\", \"MS\", \"MS\", \"MS\", \"MS\", \"MS\", \"MS\", \"MS\", \"MS\", \"MS\", \"MS\", \"MS\", \"MS\", \"MS\", \"MS\", \"MS\", \"MS\", \"MS\", \"MS\", \"MS\", \"MS\", \"MS\", \"MS\", \"MS\", \"MS\", \"MS\", \"MS\", \"MS\", \"MS\", \"MS\", \"MS\", \"MS\", \"MS\", \"MS\", \"MS\", \"MS\", \"MS\", \"MS\", \"MS\", \"MS\", \"MS\", \"MS\", \"MS\", \"MS\", \"MS\", \"MS\", \"MS\", \"MS\", \"MS\", \"MS\", \"MS\", \"MS\", \"MS\", \"MS\", \"MS\", \"MS\", \"MS\", \"MS\", \"MO\", \"MO\", \"MO\", \"MO\", \"MO\", \"MO\", \"MO\", \"MO\", \"MO\", \"MO\", \"MO\", \"MO\", \"MO\", \"MO\", \"MO\", \"MO\", \"MO\", \"MO\", \"MO\", \"MO\", \"MO\", \"MO\", \"MO\", \"MO\", \"MO\", \"MO\", \"MO\", \"MO\", \"MO\", \"MO\", \"MO\", \"MO\", \"MO\", \"MO\", \"MO\", \"MO\", \"MO\", \"MO\", \"MO\", \"MO\", \"MO\", \"MO\", \"MO\", \"MO\", \"MO\", \"MO\", \"MO\", \"MO\", \"MO\", \"MO\", \"MO\", \"MO\", \"MO\", \"MO\", \"MO\", \"MO\", \"MO\", \"MO\", \"MO\", \"MO\", \"MO\", \"MO\", \"MO\", \"MO\", \"MO\", \"MO\", \"MO\", \"MO\", \"MO\", \"MO\", \"MO\", \"MO\", \"MO\", \"MO\", \"MO\", \"MO\", \"MO\", \"MO\", \"MO\", \"MO\", \"MO\", \"MO\", \"MO\", \"MO\", \"MO\", \"MO\", \"MO\", \"MO\", \"MO\", \"MO\", \"MO\", \"MO\", \"MO\", \"MO\", \"MO\", \"MO\", \"MO\", \"MO\", \"MO\", \"MO\", \"MO\", \"MO\", \"MO\", \"MO\", \"MO\", \"MO\", \"MO\", \"MO\", \"MO\", \"MO\", \"MO\", \"MO\", \"MO\", \"MO\", \"MO\", \"MT\", \"MT\", \"MT\", \"MT\", \"MT\", \"MT\", \"MT\", \"MT\", \"MT\", \"MT\", \"MT\", \"MT\", \"MT\", \"MT\", \"MT\", \"MT\", \"MT\", \"MT\", \"MT\", \"MT\", \"MT\", \"MT\", \"MT\", \"MT\", \"MT\", \"MT\", \"MT\", \"MT\", \"MT\", \"MT\", \"MT\", \"MT\", \"MT\", \"MT\", \"MT\", \"MT\", \"MT\", \"MT\", \"MT\", \"MT\", \"MT\", \"MT\", \"MT\", \"MT\", \"MT\", \"MT\", \"MT\", \"MT\", \"MT\", \"MT\", \"MT\", \"MT\", \"MT\", \"MT\", \"MT\", \"MT\", \"NE\", \"NE\", \"NE\", \"NE\", \"NE\", \"NE\", \"NE\", \"NE\", \"NE\", \"NE\", \"NE\", \"NE\", \"NE\", \"NE\", \"NE\", \"NE\", \"NE\", \"NE\", \"NE\", \"NE\", \"NE\", \"NE\", \"NE\", \"NE\", \"NE\", \"NE\", \"NE\", \"NE\", \"NE\", \"NE\", \"NE\", \"NE\", \"NE\", \"NE\", \"NE\", \"NE\", \"NE\", \"NE\", \"NE\", \"NE\", \"NE\", \"NE\", \"NE\", \"NE\", \"NE\", \"NE\", \"NE\", \"NE\", \"NE\", \"NE\", \"NE\", \"NE\", \"NE\", \"NE\", \"NE\", \"NE\", \"NE\", \"NE\", \"NE\", \"NE\", \"NE\", \"NE\", \"NE\", \"NE\", \"NE\", \"NE\", \"NE\", \"NE\", \"NE\", \"NE\", \"NE\", \"NE\", \"NE\", \"NE\", \"NE\", \"NE\", \"NE\", \"NE\", \"NE\", \"NE\", \"NE\", \"NE\", \"NE\", \"NE\", \"NE\", \"NE\", \"NE\", \"NE\", \"NE\", \"NE\", \"NE\", \"NE\", \"NE\", \"NV\", \"NV\", \"NV\", \"NV\", \"NV\", \"NV\", \"NV\", \"NV\", \"NV\", \"NV\", \"NV\", \"NV\", \"NV\", \"NV\", \"NV\", \"NV\", \"NV\", \"NH\", \"NH\", \"NH\", \"NH\", \"NH\", \"NH\", \"NH\", \"NH\", \"NH\", \"NH\", \"NJ\", \"NJ\", \"NJ\", \"NJ\", \"NJ\", \"NJ\", \"NJ\", \"NJ\", \"NJ\", \"NJ\", \"NJ\", \"NJ\", \"NJ\", \"NJ\", \"NJ\", \"NJ\", \"NJ\", \"NJ\", \"NJ\", \"NJ\", \"NJ\", \"NM\", \"NM\", \"NM\", \"NM\", \"NM\", \"NM\", \"NM\", \"NM\", \"NM\", \"NM\", \"NM\", \"NM\", \"NM\", \"NM\", \"NM\", \"NM\", \"NM\", \"NM\", \"NM\", \"NM\", \"NM\", \"NM\", \"NM\", \"NM\", \"NM\", \"NM\", \"NM\", \"NM\", \"NM\", \"NM\", \"NM\", \"NM\", \"NM\", \"NY\", \"NY\", \"NY\", \"NY\", \"NY\", \"NY\", \"NY\", \"NY\", \"NY\", \"NY\", \"NY\", \"NY\", \"NY\", \"NY\", \"NY\", \"NY\", \"NY\", \"NY\", \"NY\", \"NY\", \"NY\", \"NY\", \"NY\", \"NY\", \"NY\", \"NY\", \"NY\", \"NY\", \"NY\", \"NY\", \"NY\", \"NY\", \"NY\", \"NY\", \"NY\", \"NY\", \"NY\", \"NY\", \"NY\", \"NY\", \"NY\", \"NY\", \"NY\", \"NY\", \"NY\", \"NY\", \"NY\", \"NY\", \"NY\", \"NY\", \"NY\", \"NY\", \"NY\", \"NY\", \"NY\", \"NY\", \"NY\", \"NY\", \"NY\", \"NY\", \"NY\", \"NY\", \"NC\", \"NC\", \"NC\", \"NC\", \"NC\", \"NC\", \"NC\", \"NC\", \"NC\", \"NC\", \"NC\", \"NC\", \"NC\", \"NC\", \"NC\", \"NC\", \"NC\", \"NC\", \"NC\", \"NC\", \"NC\", \"NC\", \"NC\", \"NC\", \"NC\", \"NC\", \"NC\", \"NC\", \"NC\", \"NC\", \"NC\", \"NC\", \"NC\", \"NC\", \"NC\", \"NC\", \"NC\", \"NC\", \"NC\", \"NC\", \"NC\", \"NC\", \"NC\", \"NC\", \"NC\", \"NC\", \"NC\", \"NC\", \"NC\", \"NC\", \"NC\", \"NC\", \"NC\", \"NC\", \"NC\", \"NC\", \"NC\", \"NC\", \"NC\", \"NC\", \"NC\", \"NC\", \"NC\", \"NC\", \"NC\", \"NC\", \"NC\", \"NC\", \"NC\", \"NC\", \"NC\", \"NC\", \"NC\", \"NC\", \"NC\", \"NC\", \"NC\", \"NC\", \"NC\", \"NC\", \"NC\", \"NC\", \"NC\", \"NC\", \"NC\", \"NC\", \"NC\", \"NC\", \"NC\", \"NC\", \"NC\", \"NC\", \"NC\", \"NC\", \"NC\", \"NC\", \"NC\", \"NC\", \"NC\", \"NC\", \"ND\", \"ND\", \"ND\", \"ND\", \"ND\", \"ND\", \"ND\", \"ND\", \"ND\", \"ND\", \"ND\", \"ND\", \"ND\", \"ND\", \"ND\", \"ND\", \"ND\", \"ND\", \"ND\", \"ND\", \"ND\", \"ND\", \"ND\", \"ND\", \"ND\", \"ND\", \"ND\", \"ND\", \"ND\", \"ND\", \"ND\", \"ND\", \"ND\", \"ND\", \"ND\", \"ND\", \"ND\", \"ND\", \"ND\", \"ND\", \"ND\", \"ND\", \"ND\", \"ND\", \"ND\", \"ND\", \"ND\", \"ND\", \"ND\", \"ND\", \"ND\", \"ND\", \"ND\", \"OH\", \"OH\", \"OH\", \"OH\", \"OH\", \"OH\", \"OH\", \"OH\", \"OH\", \"OH\", \"OH\", \"OH\", \"OH\", \"OH\", \"OH\", \"OH\", \"OH\", \"OH\", \"OH\", \"OH\", \"OH\", \"OH\", \"OH\", \"OH\", \"OH\", \"OH\", \"OH\", \"OH\", \"OH\", \"OH\", \"OH\", \"OH\", \"OH\", \"OH\", \"OH\", \"OH\", \"OH\", \"OH\", \"OH\", \"OH\", \"OH\", \"OH\", \"OH\", \"OH\", \"OH\", \"OH\", \"OH\", \"OH\", \"OH\", \"OH\", \"OH\", \"OH\", \"OH\", \"OH\", \"OH\", \"OH\", \"OH\", \"OH\", \"OH\", \"OH\", \"OH\", \"OH\", \"OH\", \"OH\", \"OH\", \"OH\", \"OH\", \"OH\", \"OH\", \"OH\", \"OH\", \"OH\", \"OH\", \"OH\", \"OH\", \"OH\", \"OH\", \"OH\", \"OH\", \"OH\", \"OH\", \"OH\", \"OH\", \"OH\", \"OH\", \"OH\", \"OH\", \"OH\", \"OK\", \"OK\", \"OK\", \"OK\", \"OK\", \"OK\", \"OK\", \"OK\", \"OK\", \"OK\", \"OK\", \"OK\", \"OK\", \"OK\", \"OK\", \"OK\", \"OK\", \"OK\", \"OK\", \"OK\", \"OK\", \"OK\", \"OK\", \"OK\", \"OK\", \"OK\", \"OK\", \"OK\", \"OK\", \"OK\", \"OK\", \"OK\", \"OK\", \"OK\", \"OK\", \"OK\", \"OK\", \"OK\", \"OK\", \"OK\", \"OK\", \"OK\", \"OK\", \"OK\", \"OK\", \"OK\", \"OK\", \"OK\", \"OK\", \"OK\", \"OK\", \"OK\", \"OK\", \"OK\", \"OK\", \"OK\", \"OK\", \"OK\", \"OK\", \"OK\", \"OK\", \"OK\", \"OK\", \"OK\", \"OK\", \"OK\", \"OK\", \"OK\", \"OK\", \"OK\", \"OK\", \"OK\", \"OK\", \"OK\", \"OK\", \"OK\", \"OK\", \"OR\", \"OR\", \"OR\", \"OR\", \"OR\", \"OR\", \"OR\", \"OR\", \"OR\", \"OR\", \"OR\", \"OR\", \"OR\", \"OR\", \"OR\", \"OR\", \"OR\", \"OR\", \"OR\", \"OR\", \"OR\", \"OR\", \"OR\", \"OR\", \"OR\", \"OR\", \"OR\", \"OR\", \"OR\", \"OR\", \"OR\", \"OR\", \"OR\", \"OR\", \"OR\", \"OR\", \"PA\", \"PA\", \"PA\", \"PA\", \"PA\", \"PA\", \"PA\", \"PA\", \"PA\", \"PA\", \"PA\", \"PA\", \"PA\", \"PA\", \"PA\", \"PA\", \"PA\", \"PA\", \"PA\", \"PA\", \"PA\", \"PA\", \"PA\", \"PA\", \"PA\", \"PA\", \"PA\", \"PA\", \"PA\", \"PA\", \"PA\", \"PA\", \"PA\", \"PA\", \"PA\", \"PA\", \"PA\", \"PA\", \"PA\", \"PA\", \"PA\", \"PA\", \"PA\", \"PA\", \"PA\", \"PA\", \"PA\", \"PA\", \"PA\", \"PA\", \"PA\", \"PA\", \"PA\", \"PA\", \"PA\", \"PA\", \"PA\", \"PA\", \"PA\", \"PA\", \"PA\", \"PA\", \"PA\", \"PA\", \"PA\", \"PA\", \"PA\", \"RI\", \"RI\", \"RI\", \"RI\", \"RI\", \"SC\", \"SC\", \"SC\", \"SC\", \"SC\", \"SC\", \"SC\", \"SC\", \"SC\", \"SC\", \"SC\", \"SC\", \"SC\", \"SC\", \"SC\", \"SC\", \"SC\", \"SC\", \"SC\", \"SC\", \"SC\", \"SC\", \"SC\", \"SC\", \"SC\", \"SC\", \"SC\", \"SC\", \"SC\", \"SC\", \"SC\", \"SC\", \"SC\", \"SC\", \"SC\", \"SC\", \"SC\", \"SC\", \"SC\", \"SC\", \"SC\", \"SC\", \"SC\", \"SC\", \"SC\", \"SC\", \"SD\", \"SD\", \"SD\", \"SD\", \"SD\", \"SD\", \"SD\", \"SD\", \"SD\", \"SD\", \"SD\", \"SD\", \"SD\", \"SD\", \"SD\", \"SD\", \"SD\", \"SD\", \"SD\", \"SD\", \"SD\", \"SD\", \"SD\", \"SD\", \"SD\", \"SD\", \"SD\", \"SD\", \"SD\", \"SD\", \"SD\", \"SD\", \"SD\", \"SD\", \"SD\", \"SD\", \"SD\", \"SD\", \"SD\", \"SD\", \"SD\", \"SD\", \"SD\", \"SD\", \"SD\", \"SD\", \"SD\", \"SD\", \"SD\", \"SD\", \"SD\", \"SD\", \"SD\", \"SD\", \"SD\", \"SD\", \"SD\", \"SD\", \"SD\", \"SD\", \"SD\", \"SD\", \"SD\", \"SD\", \"SD\", \"SD\", \"TN\", \"TN\", \"TN\", \"TN\", \"TN\", \"TN\", \"TN\", \"TN\", \"TN\", \"TN\", \"TN\", \"TN\", \"TN\", \"TN\", \"TN\", \"TN\", \"TN\", \"TN\", \"TN\", \"TN\", \"TN\", \"TN\", \"TN\", \"TN\", \"TN\", \"TN\", \"TN\", \"TN\", \"TN\", \"TN\", \"TN\", \"TN\", \"TN\", \"TN\", \"TN\", \"TN\", \"TN\", \"TN\", \"TN\", \"TN\", \"TN\", \"TN\", \"TN\", \"TN\", \"TN\", \"TN\", \"TN\", \"TN\", \"TN\", \"TN\", \"TN\", \"TN\", \"TN\", \"TN\", \"TN\", \"TN\", \"TN\", \"TN\", \"TN\", \"TN\", \"TN\", \"TN\", \"TN\", \"TN\", \"TN\", \"TN\", \"TN\", \"TN\", \"TN\", \"TN\", \"TN\", \"TN\", \"TN\", \"TN\", \"TN\", \"TN\", \"TN\", \"TN\", \"TN\", \"TN\", \"TN\", \"TN\", \"TN\", \"TN\", \"TN\", \"TN\", \"TN\", \"TN\", \"TN\", \"TN\", \"TN\", \"TN\", \"TN\", \"TN\", \"TN\", \"TX\", \"TX\", \"TX\", \"TX\", \"TX\", \"TX\", \"TX\", \"TX\", \"TX\", \"TX\", \"TX\", \"TX\", \"TX\", \"TX\", \"TX\", \"TX\", \"TX\", \"TX\", \"TX\", \"TX\", \"TX\", \"TX\", \"TX\", \"TX\", \"TX\", \"TX\", \"TX\", \"TX\", \"TX\", \"TX\", \"TX\", \"TX\", \"TX\", \"TX\", \"TX\", \"TX\", \"TX\", \"TX\", \"TX\", \"TX\", \"TX\", \"TX\", \"TX\", \"TX\", \"TX\", \"TX\", \"TX\", \"TX\", \"TX\", \"TX\", \"TX\", \"TX\", \"TX\", \"TX\", \"TX\", \"TX\", \"TX\", \"TX\", \"TX\", \"TX\", \"TX\", \"TX\", \"TX\", \"TX\", \"TX\", \"TX\", \"TX\", \"TX\", \"TX\", \"TX\", \"TX\", \"TX\", \"TX\", \"TX\", \"TX\", \"TX\", \"TX\", \"TX\", \"TX\", \"TX\", \"TX\", \"TX\", \"TX\", \"TX\", \"TX\", \"TX\", \"TX\", \"TX\", \"TX\", \"TX\", \"TX\", \"TX\", \"TX\", \"TX\", \"TX\", \"TX\", \"TX\", \"TX\", \"TX\", \"TX\", \"TX\", \"TX\", \"TX\", \"TX\", \"TX\", \"TX\", \"TX\", \"TX\", \"TX\", \"TX\", \"TX\", \"TX\", \"TX\", \"TX\", \"TX\", \"TX\", \"TX\", \"TX\", \"TX\", \"TX\", \"TX\", \"TX\", \"TX\", \"TX\", \"TX\", \"TX\", \"TX\", \"TX\", \"TX\", \"TX\", \"TX\", \"TX\", \"TX\", \"TX\", \"TX\", \"TX\", \"TX\", \"TX\", \"TX\", \"TX\", \"TX\", \"TX\", \"TX\", \"TX\", \"TX\", \"TX\", \"TX\", \"TX\", \"TX\", \"TX\", \"TX\", \"TX\", \"TX\", \"TX\", \"TX\", \"TX\", \"TX\", \"TX\", \"TX\", \"TX\", \"TX\", \"TX\", \"TX\", \"TX\", \"TX\", \"TX\", \"TX\", \"TX\", \"TX\", \"TX\", \"TX\", \"TX\", \"TX\", \"TX\", \"TX\", \"TX\", \"TX\", \"TX\", \"TX\", \"TX\", \"TX\", \"TX\", \"TX\", \"TX\", \"TX\", \"TX\", \"TX\", \"TX\", \"TX\", \"TX\", \"TX\", \"TX\", \"TX\", \"TX\", \"TX\", \"TX\", \"TX\", \"TX\", \"TX\", \"TX\", \"TX\", \"TX\", \"TX\", \"TX\", \"TX\", \"TX\", \"TX\", \"TX\", \"TX\", \"TX\", \"TX\", \"TX\", \"TX\", \"TX\", \"TX\", \"TX\", \"TX\", \"TX\", \"TX\", \"TX\", \"TX\", \"TX\", \"TX\", \"TX\", \"TX\", \"TX\", \"TX\", \"TX\", \"TX\", \"TX\", \"TX\", \"TX\", \"TX\", \"TX\", \"TX\", \"TX\", \"TX\", \"TX\", \"TX\", \"TX\", \"TX\", \"TX\", \"TX\", \"TX\", \"TX\", \"TX\", \"TX\", \"TX\", \"TX\", \"TX\", \"TX\", \"TX\", \"TX\", \"TX\", \"UT\", \"UT\", \"UT\", \"UT\", \"UT\", \"UT\", \"UT\", \"UT\", \"UT\", \"UT\", \"UT\", \"UT\", \"UT\", \"UT\", \"UT\", \"UT\", \"UT\", \"UT\", \"UT\", \"UT\", \"UT\", \"UT\", \"UT\", \"UT\", \"UT\", \"UT\", \"UT\", \"UT\", \"UT\", \"VT\", \"VT\", \"VT\", \"VT\", \"VT\", \"VT\", \"VT\", \"VT\", \"VT\", \"VT\", \"VT\", \"VT\", \"VT\", \"VT\", \"VA\", \"VA\", \"VA\", \"VA\", \"VA\", \"VA\", \"VA\", \"VA\", \"VA\", \"VA\", \"VA\", \"VA\", \"VA\", \"VA\", \"VA\", \"VA\", \"VA\", \"VA\", \"VA\", \"VA\", \"VA\", \"VA\", \"VA\", \"VA\", \"VA\", \"VA\", \"VA\", \"VA\", \"VA\", \"VA\", \"VA\", \"VA\", \"VA\", \"VA\", \"VA\", \"VA\", \"VA\", \"VA\", \"VA\", \"VA\", \"VA\", \"VA\", \"VA\", \"VA\", \"VA\", \"VA\", \"VA\", \"VA\", \"VA\", \"VA\", \"VA\", \"VA\", \"VA\", \"VA\", \"VA\", \"VA\", \"VA\", \"VA\", \"VA\", \"VA\", \"VA\", \"VA\", \"VA\", \"VA\", \"VA\", \"VA\", \"VA\", \"VA\", \"VA\", \"VA\", \"VA\", \"VA\", \"VA\", \"VA\", \"VA\", \"VA\", \"VA\", \"VA\", \"VA\", \"VA\", \"VA\", \"VA\", \"VA\", \"VA\", \"VA\", \"VA\", \"VA\", \"VA\", \"VA\", \"VA\", \"VA\", \"VA\", \"VA\", \"VA\", \"VA\", \"VA\", \"VA\", \"VA\", \"VA\", \"VA\", \"VA\", \"VA\", \"VA\", \"VA\", \"VA\", \"VA\", \"VA\", \"VA\", \"VA\", \"VA\", \"VA\", \"VA\", \"VA\", \"VA\", \"VA\", \"VA\", \"VA\", \"VA\", \"VA\", \"VA\", \"VA\", \"VA\", \"VA\", \"VA\", \"VA\", \"VA\", \"VA\", \"VA\", \"VA\", \"VA\", \"VA\", \"VA\", \"VA\", \"WA\", \"WA\", \"WA\", \"WA\", \"WA\", \"WA\", \"WA\", \"WA\", \"WA\", \"WA\", \"WA\", \"WA\", \"WA\", \"WA\", \"WA\", \"WA\", \"WA\", \"WA\", \"WA\", \"WA\", \"WA\", \"WA\", \"WA\", \"WA\", \"WA\", \"WA\", \"WA\", \"WA\", \"WA\", \"WA\", \"WA\", \"WA\", \"WA\", \"WA\", \"WA\", \"WA\", \"WA\", \"WA\", \"WA\", \"WV\", \"WV\", \"WV\", \"WV\", \"WV\", \"WV\", \"WV\", \"WV\", \"WV\", \"WV\", \"WV\", \"WV\", \"WV\", \"WV\", \"WV\", \"WV\", \"WV\", \"WV\", \"WV\", \"WV\", \"WV\", \"WV\", \"WV\", \"WV\", \"WV\", \"WV\", \"WV\", \"WV\", \"WV\", \"WV\", \"WV\", \"WV\", \"WV\", \"WV\", \"WV\", \"WV\", \"WV\", \"WV\", \"WV\", \"WV\", \"WV\", \"WV\", \"WV\", \"WV\", \"WV\", \"WV\", \"WV\", \"WV\", \"WV\", \"WV\", \"WV\", \"WV\", \"WV\", \"WV\", \"WV\", \"WI\", \"WI\", \"WI\", \"WI\", \"WI\", \"WI\", \"WI\", \"WI\", \"WI\", \"WI\", \"WI\", \"WI\", \"WI\", \"WI\", \"WI\", \"WI\", \"WI\", \"WI\", \"WI\", \"WI\", \"WI\", \"WI\", \"WI\", \"WI\", \"WI\", \"WI\", \"WI\", \"WI\", \"WI\", \"WI\", \"WI\", \"WI\", \"WI\", \"WI\", \"WI\", \"WI\", \"WI\", \"WI\", \"WI\", \"WI\", \"WI\", \"WI\", \"WI\", \"WI\", \"WI\", \"WI\", \"WI\", \"WI\", \"WI\", \"WI\", \"WI\", \"WI\", \"WI\", \"WI\", \"WI\", \"WI\", \"WI\", \"WI\", \"WI\", \"WI\", \"WI\", \"WI\", \"WI\", \"WI\", \"WI\", \"WI\", \"WI\", \"WI\", \"WI\", \"WI\", \"WI\", \"WI\", \"WY\", \"WY\", \"WY\", \"WY\", \"WY\", \"WY\", \"WY\", \"WY\", \"WY\", \"WY\", \"WY\", \"WY\", \"WY\", \"WY\", \"WY\", \"WY\", \"WY\", \"WY\", \"WY\", \"WY\", \"WY\", \"WY\", \"WY\"], \"xaxis\": \"x\", \"y\": [8620.0, 26860.0, 5650.0, 3400.0, 7810.0, 2120.0, 3820.0, 20050.0, 5530.0, 4040.0, 6960.0, 2710.0, 5150.0, 2130.0, 2620.0, 7980.0, 8940.0, 2440.0, 1780.0, 6600.0, 2300.0, 12470.0, 8860.0, 9070.0, 11790.0, 11640.0, 7220.0, 17120.0, 3040.0, 4950.0, 5040.0, 2200.0, 3090.0, 2590.0, 17610.0, 8960.0, 106470.0, 2550.0, 13810.0, 5470.0, 24680.0, 13100.0, 2400.0, 3850.0, 48620.0, 3920.0, 5350.0, 15380.0, 69830.0, 4720.0, 40430.0, 17700.0, 2560.0, 4010.0, 6280.0, 3520.0, 10580.0, 12280.0, 22450.0, 2990.0, 14230.0, 7110.0, 30460.0, 11640.0, 3210.0, 2670.0, 4080.0, 400.0, 650.0, 34080.0, 3810.0, 110.0, 330.0, 800.0, 11480.0, 330.0, 330.0, 3380.0, 8070.0, 1800.0, 1680.0, 2290.0, 240.0, 13070.0, 1890.0, 1280.0, 1640.0, 450.0, 1150.0, 960.0, 140.0, 1020.0, 1110.0, 330.0, 80.0, 1190.0, 16180.0, 18130.0, 20030.0, 9440.0, 5520.0, 1120.0, 3610.0, 515130.0, 34560.0, 21940.0, 138690.0, 53440.0, 7110.0, 31150.0, 38990.0, 3500.0, 4030.0, 6720.0, 30160.0, 5930.0, 2140.0, 880.0, 4000.0, 2590.0, 3920.0, 3000.0, 4050.0, 1440.0, 4740.0, 3870.0, 17790.0, 9970.0, 9470.0, 3010.0, 1330.0, 2640.0, 3370.0, 19080.0, 3290.0, 2400.0, 17320.0, 2760.0, 7740.0, 4020.0, 6000.0, 2240.0, 6320.0, 2470.0, 3600.0, 14120.0, 4880.0, 1380.0, 3090.0, 2080.0, 2540.0, 2230.0, 3990.0, 10080.0, 2520.0, 3040.0, 8450.0, 9230.0, 1620.0, 1680.0, 1790.0, 1230.0, 4790.0, 1810.0, 4870.0, 1970.0, 4630.0, 3940.0, 10700.0, 1420.0, 65760.0, 3130.0, 5680.0, 15190.0, 1950.0, 1500.0, 22700.0, 2700.0, 3400.0, 2450.0, 7170.0, 3140.0, 31560.0, 13200.0, 1430.0, 3540.0, 150140.0, 170.0, 4110.0, 32300.0, 5510.0, 2950.0, 96040.0, 4570.0, 17040.0, 148670.0, 3970.0, 19190.0, 34600.0, 1900.0, 125870.0, 21690.0, 10050.0, 3910.0, 1146290.0, 20530.0, 19260.0, 2350.0, 11760.0, 40280.0, 1310.0, 1210.0, 45410.0, 11170.0, 10570.0, 267730.0, 31530.0, 2540.0, 237800.0, 179860.0, 4480.0, 229400.0, 316270.0, 88680.0, 90590.0, 25910.0, 52280.0, 42350.0, 138050.0, 28230.0, 25490.0, 310.0, 7000.0, 43650.0, 45340.0, 67100.0, 13250.0, 10000.0, 2070.0, 73140.0, 6920.0, 69710.0, 22740.0, 10870.0, 46150.0, 2400.0, 58770.0, 1370.0, 510.0, 960.0, 28770.0, 4960.0, 2040.0, 200.0, 760.0, 1120.0, 660.0, 1010.0, 590.0, 4280.0, 76340.0, 240.0, 19460.0, 3360.0, 1680.0, 75220.0, 6570.0, 4750.0, 400.0, 1340.0, 1580.0, 110.0, 990.0, 130.0, 47390.0, 150.0, 760.0, 880.0, 4800.0, 32280.0, 1960.0, 640.0, 2570.0, 18910.0, 90.0, 1500.0, 3580.0, 5290.0, 2630.0, 2990.0, 520.0, 1400.0, 350.0, 1460.0, 1620.0, 23140.0, 710.0, 1540.0, 2170.0, 840.0, 50.0, 760.0, 300.0, 2560.0, 2400.0, 480.0, 25110.0, 1110.0, 93270.0, 105050.0, 17890.0, 15770.0, 104390.0, 31670.0, 13980.0, 13900.0, 21870.0, 59160.0, 23900.0, 73090.0, 36630.0, 3760.0, 27200.0, 4400.0, 72000.0, 222100.0, 2020.0, 23660.0, 22180.0, 23430.0, 38030.0, 10510.0, 5960.0, 2970.0, 129950.0, 42380.0, 13300.0, 1910.0, 8280.0, 2670.0, 1910.0, 2280.0, 2830.0, 4140.0, 6490.0, 25280.0, 15960.0, 169310.0, 3610.0, 19020.0, 8020.0, 1920.0, 1280.0, 41460.0, 85980.0, 39450.0, 6360.0, 1230.0, 3420.0, 44330.0, 50240.0, 17620.0, 319970.0, 8280.0, 9260.0, 24690.0, 6050.0, 162820.0, 40860.0, 167230.0, 65670.0, 123860.0, 91770.0, 12620.0, 22370.0, 40770.0, 19700.0, 47100.0, 47920.0, 14680.0, 6700.0, 3620.0, 2370.0, 71730.0, 3850.0, 8660.0, 4150.0, 2900.0, 1300.0, 1880.0, 550.0, 7540.0, 2140.0, 8120.0, 12290.0, 3370.0, 3280.0, 26890.0, 2030.0, 3060.0, 2600.0, 4010.0, 11920.0, 3790.0, 3720.0, 1180.0, 6210.0, 2010.0, 15760.0, 6920.0, 2170.0, 37960.0, 1630.0, 3710.0, 19150.0, 20320.0, 730.0, 41640.0, 1380.0, 67770.0, 6880.0, 6980.0, 13250.0, 2780.0, 13750.0, 1800.0, 4480.0, 2080.0, 2230.0, 4720.0, 96060.0, 3630.0, 2440.0, 17870.0, 16490.0, 1850.0, 590.0, 5490.0, 2960.0, 4130.0, 1750.0, 3430.0, 8170.0, 13880.0, 13280.0, 3770.0, 127960.0, 4040.0, 400.0, 11740.0, 8270.0, 4130.0, 2530.0, 81160.0, 5180.0, 19570.0, 1480.0, 3950.0, 3170.0, 3570.0, 1610.0, 22480.0, 19380.0, 1710.0, 6470.0, 1910.0, 2180.0, 2670.0, 1520.0, 1550.0, 3400.0, 2690.0, 1690.0, 8080.0, 3120.0, 8920.0, 1190.0, 2660.0, 18030.0, 3850.0, 3660.0, 2150.0, 2500.0, 3850.0, 1250.0, 3610.0, 880.0, 3880.0, 3210.0, 1430.0, 1950.0, 5050.0, 33310.0, 15170.0, 2620.0, 1840.0, 14030.0, 4340.0, 3250.0, 2790.0, 1900.0, 5670.0, 2020.0, 2710.0, 410.0, 2380.0, 1520.0, 34950.0, 10560.0, 810.0, 2260.0, 1450.0, 10320.0, 3700.0, 1220.0, 5520.0, 990.0, 320.0, 3990.0, 1490.0, 2840.0, 1780.0, 7090.0, 6370.0, 4530.0, 1550.0, 1150.0, 10770.0, 1590.0, 1520.0, 2750.0, 4070.0, 9710.0, 9880.0, 5770.0, 910.0, 3700.0, 4430.0, 440.0, 1460.0, 3380.0, 12170.0, 1360.0, 1660.0, 1470.0, 3190.0, 25520.0, 102250.0, 10.0, 6950.0, 17240.0, 40690.0, 540.0, 10400.0, 690.0, 1300.0, 4530.0, 2060.0, 800.0, 5400.0, 11410.0, 1490.0, 310.0, 120.0, 23090.0, 620.0, 2320.0, 100.0, 1270.0, 640.0, 3140.0, 1270.0, 1240.0, 2380.0, 1590.0, 2300.0, 2120.0, 2480.0, 16700.0, 4580.0, 990.0, 580.0, 550.0, 4410.0, 2330.0, 4810.0, 470.0, 1540.0, 2700.0, 740.0, 2060.0, 710.0, 9160.0, 1210.0, 1350.0, 6770.0, 1270.0, 1730.0, 4640.0, 570.0, 3360.0, 550.0, 1450.0, 1230.0, 23020.0, 3520.0, 1810.0, 1720.0, 3260.0, 6850.0, 527760.0, 2060.0, 1170.0, 10630.0, 1530.0, 1810.0, 55070.0, 1900.0, 640.0, 3130.0, 2850.0, 1650.0, 5810.0, 4420.0, 770.0, 1540.0, 4070.0, 840.0, 1800.0, 620.0, 660.0, 4820.0, 3030.0, 8620.0, 1140.0, 5260.0, 2000.0, 1960.0, 1500.0, 37740.0, 12830.0, 5930.0, 6660.0, 48730.0, 12140.0, 2200.0, 3450.0, 4060.0, 2860.0, 3810.0, 19190.0, 15860.0, 13410.0, 4990.0, 28460.0, 5010.0, 1130.0, 1760.0, 2130.0, 1110.0, 1540.0, 1990.0, 3500.0, 4050.0, 1220.0, 4660.0, 22100.0, 2850.0, 1250.0, 1790.0, 570.0, 940.0, 490.0, 3490.0, 1940.0, 16200.0, 32270.0, 3960.0, 22480.0, 1030.0, 520.0, 2080.0, 650.0, 5270.0, 11620.0, 2340.0, 10840.0, 1270.0, 1690.0, 1100.0, 2050.0, 1630.0, 5330.0, 42120.0, 8440.0, 34290.0, 2820.0, 4290.0, 46500.0, 9490.0, 1210.0, 1680.0, 5470.0, 1590.0, 2310.0, 4890.0, 13530.0, 3600.0, 3740.0, 1580.0, 3970.0, 5460.0, 3330.0, 4840.0, 17490.0, 4410.0, 23610.0, 3700.0, 8600.0, 2150.0, 2450.0, 2640.0, 3850.0, 10670.0, 4530.0, 24300.0, 7320.0, 4830.0, 14200.0, 6840.0, 12130.0, 4270.0, 5810.0, 3820.0, 2970.0, 4310.0, 3790.0, 15370.0, 5620.0, 8600.0, 3490.0, 67650.0, 15350.0, 6000.0, 19480.0, 144260.0, 5400.0, 1320.0, 5260.0, 20570.0, 4470.0, 8360.0, 1840.0, 4800.0, 590.0, 3010.0, 3040.0, 2380.0, 2460.0, 1540.0, 17780.0, 2720.0, 1690.0, 4760.0, 3520.0, 3370.0, 2300.0, 36140.0, 3450.0, 5150.0, 2250.0, 3070.0, 3950.0, 2970.0, 1660.0, 24800.0, 1680.0, 840.0, 26300.0, 2390.0, 17080.0, 3970.0, 950.0, 6070.0, 3760.0, 9980.0, 2970.0, 2700.0, 3570.0, 660.0, 340.0, 1170.0, 1570.0, 490.0, 2020.0, 13600.0, 2170.0, 1630.0, 1720.0, 1670.0, 1200.0, 920.0, 1590.0, 1290.0, 1280.0, 4150.0, 1030.0, 960.0, 950.0, 1730.0, 1610.0, 4710.0, 1760.0, 4700.0, 790.0, 990.0, 1280.0, 4540.0, 1460.0, 8500.0, 900.0, 1980.0, 1810.0, 850.0, 590.0, 830.0, 830.0, 980.0, 1300.0, 860.0, 1360.0, 1240.0, 1870.0, 830.0, 910.0, 620.0, 1250.0, 1800.0, 3420.0, 1900.0, 12110.0, 1820.0, 980.0, 1360.0, 4110.0, 17990.0, 930.0, 870.0, 680.0, 1270.0, 2270.0, 3000.0, 3710.0, 1250.0, 840.0, 1010.0, 740.0, 1150.0, 3370.0, 1200.0, 530.0, 1550.0, 740.0, 1890.0, 650.0, 41720.0, 8770.0, 1510.0, 460.0, 800.0, 15890.0, 960.0, 2040.0, 7980.0, 1530.0, 550.0, 1450.0, 710.0, 3880.0, 3480.0, 1800.0, 690.0, 4130.0, 960.0, 1560.0, 9730.0, 680.0, 1230.0, 1920.0, 1030.0, 2440.0, 650.0, 3640.0, 2330.0, 1290.0, 7510.0, 320.0, 540.0, 3060.0, 300.0, 240.0, 900.0, 1140.0, 1100.0, 170.0, 5040.0, 6130.0, 430.0, 2590.0, 1070.0, 15220.0, 290.0, 390.0, 3400.0, 790.0, 3900.0, 3420.0, 3070.0, 5130.0, 310.0, 320.0, 610.0, 520.0, 140.0, 870.0, 270.0, 780.0, 4160.0, 370.0, 210.0, 1620.0, 2020.0, 400.0, 52590.0, 490.0, 800.0, 280.0, 3200.0, 210.0, 9520.0, 350.0, 1550.0, 300.0, 4150.0, 3180.0, 1390.0, 1120.0, 440.0, 3570.0, 810.0, 5190.0, 660.0, 310.0, 1120.0, 2560.0, 310.0, 650.0, 2130.0, 470.0, 660.0, 830.0, 620.0, 2370.0, 1090.0, 300.0, 8280.0, 550.0, 1300.0, 9740.0, 580.0, 370.0, 780.0, 6880.0, 330.0, 66440.0, 2280.0, 22550.0, 250.0, 880.0, 470.0, 510.0, 240.0, 660.0, 2930.0, 890.0, 290.0, 700.0, 200.0, 670.0, 210.0, 1370.0, 560.0, 25670.0, 3090.0, 3130.0, 2750.0, 1210.0, 7490.0, 2190.0, 6700.0, 11420.0, 2790.0, 7990.0, 4050.0, 1150.0, 3230.0, 3070.0, 8810.0, 2040.0, 1900.0, 5720.0, 10430.0, 680.0, 1730.0, 5330.0, 2840.0, 12110.0, 5040.0, 5040.0, 1730.0, 1330.0, 1030.0, 13400.0, 2020.0, 1650.0, 3050.0, 40400.0, 2380.0, 8160.0, 6310.0, 1270.0, 1100.0, 2390.0, 3610.0, 5390.0, 4580.0, 1800.0, 5410.0, 1060.0, 14470.0, 6730.0, 2620.0, 3020.0, 7290.0, 2350.0, 710.0, 6690.0, 2890.0, 100450.0, 7200.0, 4400.0, 19360.0, 3590.0, 6300.0, 2020.0, 10180.0, 3100.0, 1570.0, 2480.0, 5080.0, 2740.0, 4130.0, 1420.0, 3730.0, 1190.0, 9430.0, 4110.0, 1320.0, 12780.0, 3130.0, 3190.0, 3980.0, 2510.0, 2700.0, 3580.0, 1140.0, 3060.0, 1710.0, 1830.0, 4720.0, 2560.0, 5060.0, 5500.0, 1300.0, 3880.0, 4540.0, 1590.0, 1060.0, 2050.0, 5610.0, 11830.0, 2230.0, 10960.0, 350.0, 2850.0, 4170.0, 3050.0, 5860.0, 5370.0, 2290.0, 1710.0, 4460.0, 1700.0, 1730.0, 1320.0, 2410.0, 17020.0, 1620.0, 3860.0, 2190.0, 6620.0, 1760.0, 3030.0, 10970.0, 4050.0, 13160.0, 3750.0, 7360.0, 5590.0, 2740.0, 16920.0, 43320.0, 27870.0, 1730.0, 710.0, 1640.0, 3230.0, 3770.0, 4820.0, 64120.0, 2040.0, 2840.0, 6920.0, 3970.0, 3680.0, 12190.0, 5410.0, 3010.0, 58130.0, 4880.0, 31860.0, 13450.0, 2310.0, 8380.0, 15300.0, 2650.0, 5280.0, 7840.0, 70140.0, 26290.0, 3380.0, 3710.0, 21380.0, 1430.0, 3860.0, 3720.0, 6840.0, 5760.0, 1830.0, 3170.0, 6490.0, 15220.0, 7650.0, 8700.0, 28050.0, 22350.0, 1050.0, 17880.0, 3280.0, 8760.0, 8380.0, 9140.0, 7230.0, 3520.0, 2000.0, 2030.0, 2740.0, 14540.0, 11190.0, 31180.0, 3770.0, 6740.0, 15890.0, 4720.0, 4250.0, 8170.0, 21710.0, 2950.0, 3710.0, 8420.0, 5130.0, 5180.0, 22080.0, 10890.0, 48380.0, 90900.0, 7240.0, 4190.0, 13500.0, 11320.0, 13990.0, 4770.0, 22210.0, 3570.0, 23410.0, 23330.0, 2400.0, 83700.0, 93570.0, 3970.0, 11480.0, 4270.0, 4100.0, 19680.0, 13580.0, 6860.0, 110830.0, 16240.0, 12660.0, 55450.0, 1260.0, 62120.0, 6320.0, 54310.0, 13190.0, 105610.0, 810.0, 43410.0, 35870.0, 94610.0, 68460.0, 1650.0, 1310.0, 11200.0, 4040.0, 2920.0, 2490.0, 1260.0, 5890.0, 14300.0, 2030.0, 21630.0, 5560.0, 19190.0, 6420.0, 3060.0, 4140.0, 6130.0, 5540.0, 7430.0, 2090.0, 4990.0, 3350.0, 12770.0, 4000.0, 64380.0, 4000.0, 2250.0, 9910.0, 5900.0, 5980.0, 5070.0, 4030.0, 39840.0, 7240.0, 4070.0, 1560.0, 9860.0, 20650.0, 32590.0, 2650.0, 70520.0, 270.0, 2230.0, 10070.0, 1970.0, 11820.0, 15260.0, 1020.0, 1820.0, 103460.0, 3340.0, 8910.0, 3910.0, 6240.0, 3050.0, 9430.0, 2130.0, 16770.0, 8820.0, 1590.0, 24470.0, 6880.0, 126760.0, 3780.0, 3480.0, 910.0, 3480.0, 1360.0, 3380.0, 23760.0, 1960.0, 4300.0, 28030.0, 20980.0, 7860.0, 5850.0, 1410.0, 8310.0, 7660.0, 9870.0, 39080.0, 304020.0, 4620.0, 1820.0, 21030.0, 3090.0, 5400.0, 3860.0, 510.0, 5730.0, 1840.0, 3290.0, 4330.0, 3220.0, 1070.0, 3470.0, 4890.0, 1220.0, 530.0, 1090.0, 5980.0, 24770.0, 1130.0, 2890.0, 1230.0, 1710.0, 2810.0, 3590.0, 550.0, 100540.0, 1350.0, 2040.0, 2960.0, 4950.0, 690.0, 1680.0, 3380.0, 350.0, 1640.0, 580.0, 870.0, 300.0, 2120.0, 490.0, 2270.0, 2720.0, 730.0, 810.0, 1960.0, 1710.0, 2720.0, 3120.0, 3510.0, 640.0, 2540.0, 1840.0, 570.0, 10660.0, 4850.0, 1230.0, 3200.0, 830.0, 3000.0, 840.0, 54220.0, 360.0, 1330.0, 1190.0, 4940.0, 710.0, 1230.0, 20580.0, 7090.0, 5550.0, 1000.0, 13530.0, 2880.0, 740.0, 970.0, 2360.0, 320.0, 1450.0, 1640.0, 1540.0, 12820.0, 930.0, 540.0, 4210.0, 7220.0, 920.0, 7180.0, 6250.0, 2400.0, 3760.0, 1540.0, 7860.0, 2840.0, 1680.0, 3110.0, 1660.0, 2470.0, 2940.0, 3520.0, 5690.0, 5230.0, 3540.0, 21260.0, 15260.0, 1280.0, 3900.0, 2260.0, 4130.0, 7930.0, 35820.0, 43580.0, 5030.0, 2250.0, 380.0, 3730.0, 23190.0, 3100.0, 2230.0, 2410.0, 12000.0, 2240.0, 8140.0, 9040.0, 14700.0, 2190.0, 4680.0, 13350.0, 7230.0, 6080.0, 10550.0, 12660.0, 5130.0, 5720.0, 5860.0, 2170.0, 5660.0, 4170.0, 2380.0, 8740.0, 6340.0, 8900.0, 2270.0, 8990.0, 5220.0, 4820.0, 1860.0, 17660.0, 5760.0, 1000.0, 5000.0, 2530.0, 3050.0, 6210.0, 2930.0, 4680.0, 3780.0, 3380.0, 2020.0, 4440.0, 3060.0, 8580.0, 11550.0, 3940.0, 1930.0, 2230.0, 3550.0, 2030.0, 6470.0, 3630.0, 1810.0, 640.0, 3520.0, 5310.0, 1850.0, 2110.0, 3130.0, 1870.0, 21290.0, 12450.0, 7800.0, 1210.0, 5260.0, 6380.0, 9730.0, 1200.0, 1030.0, 10930.0, 2150.0, 930.0, 9120.0, 870.0, 23800.0, 2300.0, 8400.0, 2220.0, 4000.0, 1170.0, 2460.0, 990.0, 1650.0, 2580.0, 2230.0, 6060.0, 11680.0, 1700.0, 920.0, 39710.0, 1410.0, 1280.0, 3560.0, 1490.0, 570.0, 1290.0, 6900.0, 1870.0, 94040.0, 16040.0, 23800.0, 6730.0, 590.0, 5000.0, 4020.0, 5340.0, 1250.0, 6560.0, 1670.0, 2000.0, 3240.0, 2060.0, 1850.0, 1250.0, 4120.0, 440.0, 3610.0, 2540.0, 1830.0, 1160.0, 1630.0, 3260.0, 3340.0, 7170.0, 3100.0, 1880.0, 1220.0, 1720.0, 3680.0, 2000.0, 6170.0, 6790.0, 2380.0, 9490.0, 4290.0, 8060.0, 720.0, 1160.0, 3500.0, 2880.0, 1020.0, 2820.0, 31320.0, 1500.0, 2220.0, 10180.0, 109030.0, 3160.0, 640.0, 640.0, 6270.0, 1670.0, 800.0, 4750.0, 4310.0, 790.0, 8640.0, 4660.0, 2780.0, 4040.0, 4230.0, 2640.0, 5090.0, 260.0, 3250.0, 56780.0, 940.0, 2190.0, 1200.0, 520.0, 980.0, 120.0, 8680.0, 660.0, 1190.0, 120.0, 810.0, 1310.0, 230.0, 1130.0, 9510.0, 7800.0, 80.0, 2550.0, 80.0, 350.0, 2090.0, 920.0, 210.0, 3830.0, 6240.0, 260.0, 2910.0, 120.0, 770.0, 220.0, 640.0, 11910.0, 600.0, 1570.0, 40.0, 480.0, 750.0, 160.0, 750.0, 130.0, 4890.0, 880.0, 1710.0, 1220.0, 1670.0, 300.0, 4490.0, 700.0, 300.0, 650.0, 590.0, 90.0, 670.0, 250.0, 110.0, 13690.0, 4060.0, 800.0, 50.0, 80.0, 70.0, 520.0, 1290.0, 260.0, 400.0, 5730.0, 860.0, 830.0, 2440.0, 880.0, 390.0, 730.0, 1200.0, 760.0, 1010.0, 910.0, 1320.0, 2410.0, 1100.0, 2760.0, 240.0, 690.0, 4710.0, 68890.0, 220.0, 680.0, 410.0, 330.0, 630.0, 2750.0, 220.0, 230.0, 210.0, 100.0, 280.0, 7460.0, 850.0, 420.0, 120.0, 410.0, 1170.0, 120.0, 780.0, 960.0, 640.0, 740.0, 1020.0, 80.0, 460.0, 1050.0, 37080.0, 4610.0, 100.0, 70.0, 60.0, 4360.0, 980.0, 550.0, 440.0, 870.0, 560.0, 1940.0, 340.0, 290.0, 990.0, 740.0, 3210.0, 540.0, 1270.0, 1050.0, 150.0, 1630.0, 16450.0, 2320.0, 4560.0, 1750.0, 790.0, 380.0, 150.0, 600.0, 580.0, 80.0, 1320.0, 530.0, 2250.0, 1020.0, 440.0, 100.0, 1610.0, 3020.0, 273960.0, 5460.0, 5240.0, 120.0, 200.0, 1670.0, 560.0, 630.0, 6980.0, 760.0, 7070.0, 810.0, 470.0, 50680.0, 1120.0, 8020.0, 5680.0, 4590.0, 7250.0, 4030.0, 8760.0, 35800.0, 12820.0, 21300.0, 11530.0, 4180.0, 30480.0, 60790.0, 33330.0, 52430.0, 11000.0, 19400.0, 100560.0, 22750.0, 72950.0, 6590.0, 32690.0, 60660.0, 44140.0, 26330.0, 52900.0, 52460.0, 7180.0, 17120.0, 9050.0, 45360.0, 8760.0, 88630.0, 680.0, 9350.0, 5230.0, 2080.0, 7550.0, 310.0, 33900.0, 6490.0, 4300.0, 620.0, 80.0, 740.0, 8120.0, 2800.0, 1490.0, 5290.0, 16120.0, 700.0, 10440.0, 1400.0, 4530.0, 3110.0, 16940.0, 20460.0, 5070.0, 15980.0, 2170.0, 3180.0, 4990.0, 2710.0, 550.0, 10520.0, 31210.0, 6030.0, 251180.0, 24620.0, 9920.0, 8300.0, 16820.0, 10360.0, 5980.0, 9620.0, 6220.0, 5360.0, 5580.0, 25510.0, 104540.0, 3900.0, 6550.0, 6650.0, 5950.0, 5170.0, 540.0, 7460.0, 14540.0, 371210.0, 3050.0, 6310.0, 6770.0, 84350.0, 6710.0, 72210.0, 198450.0, 24140.0, 27740.0, 51100.0, 9780.0, 34170.0, 4840.0, 15290.0, 6550.0, 5700.0, 228660.0, 16480.0, 42830.0, 28980.0, 14350.0, 16990.0, 15500.0, 3510.0, 2140.0, 3750.0, 11370.0, 93330.0, 8580.0, 4830.0, 10720.0, 18870.0, 6730.0, 6520.0, 9140.0, 75730.0, 4100.0, 2360.0, 22470.0, 5200.0, 1970.0, 4190.0, 3850.0, 2540.0, 7640.0, 3620.0, 6470.0, 17440.0, 31660.0, 13930.0, 22310.0, 12150.0, 1220.0, 9540.0, 3630.0, 20030.0, 8280.0, 4230.0, 2270.0, 1610.0, 15720.0, 10210.0, 15460.0, 55980.0, 2930.0, 4210.0, 23140.0, 5300.0, 10100.0, 41310.0, 10440.0, 51200.0, 8880.0, 31210.0, 1640.0, 1410.0, 7880.0, 3900.0, 72740.0, 10280.0, 18870.0, 8230.0, 13410.0, 4580.0, 8880.0, 980.0, 20830.0, 6080.0, 24020.0, 1890.0, 8510.0, 10810.0, 10500.0, 6990.0, 5000.0, 3140.0, 3850.0, 126200.0, 2190.0, 3970.0, 12250.0, 14440.0, 31560.0, 3740.0, 29430.0, 15470.0, 1920.0, 6050.0, 8040.0, 1970.0, 6080.0, 28610.0, 2580.0, 19710.0, 8300.0, 25880.0, 13900.0, 20000.0, 10930.0, 10740.0, 7390.0, 8180.0, 5970.0, 10820.0, 2210.0, 4550.0, 840.0, 21490.0, 8450.0, 108650.0, 3530.0, 2370.0, 7450.0, 20570.0, 10840.0, 14470.0, 5060.0, 2720.0, 120.0, 710.0, 1030.0, 50.0, 460.0, 140.0, 80.0, 4780.0, 10710.0, 190.0, 200.0, 160.0, 230.0, 230.0, 260.0, 150.0, 110.0, 5670.0, 160.0, 140.0, 130.0, 170.0, 250.0, 90.0, 350.0, 160.0, 790.0, 490.0, 400.0, 1620.0, 530.0, 220.0, 110.0, 380.0, 350.0, 920.0, 290.0, 110.0, 880.0, 2390.0, 160.0, 120.0, 700.0, 40.0, 1740.0, 80.0, 1580.0, 150.0, 390.0, 680.0, 4040.0, 250.0, 1650.0, 5240.0, 14480.0, 6960.0, 15780.0, 11980.0, 4570.0, 9550.0, 6410.0, 45620.0, 3640.0, 4780.0, 20070.0, 23010.0, 5970.0, 14880.0, 5550.0, 6090.0, 199390.0, 6100.0, 4210.0, 14790.0, 10120.0, 17530.0, 4290.0, 175140.0, 4700.0, 5450.0, 8450.0, 19960.0, 6390.0, 114900.0, 8510.0, 4470.0, 2330.0, 3090.0, 7230.0, 3990.0, 4490.0, 7990.0, 5590.0, 11020.0, 7930.0, 25630.0, 10480.0, 21310.0, 5640.0, 41030.0, 68930.0, 5290.0, 35700.0, 9870.0, 16980.0, 4340.0, 3870.0, 12160.0, 2440.0, 81020.0, 2490.0, 4060.0, 13080.0, 2220.0, 5190.0, 2330.0, 5750.0, 7170.0, 5170.0, 20330.0, 5170.0, 3060.0, 17340.0, 12390.0, 7780.0, 14760.0, 7340.0, 5480.0, 50380.0, 71320.0, 31180.0, 12120.0, 5290.0, 3330.0, 2320.0, 19430.0, 9280.0, 13690.0, 4630.0, 14550.0, 2460.0, 4390.0, 680.0, 2400.0, 550.0, 3000.0, 1260.0, 7300.0, 4820.0, 14540.0, 7470.0, 7950.0, 3080.0, 280.0, 33350.0, 1020.0, 19400.0, 900.0, 2420.0, 9830.0, 3820.0, 7150.0, 650.0, 560.0, 8410.0, 3950.0, 6900.0, 540.0, 1070.0, 380.0, 390.0, 2300.0, 2370.0, 3770.0, 1120.0, 1870.0, 7390.0, 1760.0, 1600.0, 1900.0, 8970.0, 4990.0, 5630.0, 1290.0, 4100.0, 6190.0, 3760.0, 920.0, 2740.0, 6620.0, 2160.0, 11660.0, 1520.0, 1600.0, 2230.0, 111020.0, 6750.0, 7290.0, 5380.0, 2400.0, 12420.0, 7440.0, 5450.0, 10980.0, 2040.0, 540.0, 10540.0, 4510.0, 7710.0, 6600.0, 2310.0, 1150.0, 89600.0, 9640.0, 7260.0, 1450.0, 1090.0, 2510.0, 2340.0, 9690.0, 36840.0, 4750.0, 6200.0, 9870.0, 3190.0, 3300.0, 19000.0, 15870.0, 240.0, 1130.0, 1090.0, 1870.0, 28110.0, 3280.0, 12940.0, 10580.0, 1170.0, 50870.0, 7050.0, 16080.0, 4350.0, 39700.0, 1240.0, 95860.0, 9320.0, 220.0, 3550.0, 10170.0, 3510.0, 1030.0, 3240.0, 52200.0, 220.0, 11500.0, 8360.0, 129450.0, 7730.0, 17780.0, 5450.0, 40130.0, 14910.0, 6580.0, 44320.0, 15560.0, 17230.0, 590.0, 7160.0, 14210.0, 32330.0, 4760.0, 10070.0, 5010.0, 6980.0, 10330.0, 19490.0, 28980.0, 52970.0, 3020.0, 34070.0, 18740.0, 1080.0, 14930.0, 1500.0, 4630.0, 5370.0, 10140.0, 5080.0, 2490.0, 25280.0, 46840.0, 10780.0, 12690.0, 36640.0, 37940.0, 13560.0, 5450.0, 13590.0, 5540.0, 17060.0, 57890.0, 1830.0, 26270.0, 11200.0, 4000.0, 257180.0, 5600.0, 2150.0, 16790.0, 3810.0, 8490.0, 730.0, 4470.0, 4980.0, 4290.0, 6440.0, 4530.0, 19860.0, 5630.0, 35150.0, 2680.0, 40620.0, 3970.0, 15150.0, 7490.0, 75880.0, 9870.0, 3540.0, 17640.0, 1640.0, 21350.0, 2440.0, 3680.0, 15640.0, 19290.0, 1840.0, 38010.0, 7460.0, 4580.0, 6250.0, 5450.0, 4790.0, 9850.0, 5720.0, 14160.0, 3060.0, 3580.0, 17750.0, 7590.0, 45490.0, 9470.0, 2350.0, 37260.0, 3410.0, 7070.0, 8950.0, 8970.0, 2880.0, 25530.0, 1290.0, 4930.0, 4590.0, 4380.0, 9470.0, 13900.0, 12530.0, 45630.0, 2040.0, 31600.0, 15290.0, 4000.0, 5210.0, 21540.0, 240.0, 2080.0, 620.0, 670.0, 3170.0, 3800.0, 670.0, 450.0, 1150.0, 110.0, 1250.0, 400.0, 1720.0, 2970.0, 890.0, 950.0, 2230.0, 690.0, 420.0, 1100.0, 250.0, 280.0, 840.0, 240.0, 610.0, 470.0, 230.0, 440.0, 310.0, 290.0, 110.0, 1740.0, 720.0, 130.0, 740.0, 190.0, 70.0, 440.0, 1240.0, 2700.0, 3190.0, 520.0, 480.0, 300.0, 430.0, 2410.0, 460.0, 200.0, 17690.0, 700.0, 3860.0, 11810.0, 300.0, 200.0, 1310.0, 230.0, 630.0, 190.0, 90.0, 2630.0, 650.0, 790.0, 1260.0, 600.0, 2470.0, 580.0, 10550.0, 6120.0, 2810.0, 2590.0, 14000.0, 14230.0, 6730.0, 1850.0, 4530.0, 9520.0, 4120.0, 2320.0, 5330.0, 1350.0, 6360.0, 7080.0, 2140.0, 8360.0, 84900.0, 1780.0, 2730.0, 6320.0, 5880.0, 4830.0, 3010.0, 5500.0, 7210.0, 3840.0, 3460.0, 10540.0, 2340.0, 9230.0, 43460.0, 1230.0, 4180.0, 3880.0, 8750.0, 2930.0, 4270.0, 4970.0, 3450.0, 1240.0, 2780.0, 1890.0, 7020.0, 2920.0, 53150.0, 1500.0, 4880.0, 6300.0, 1810.0, 4510.0, 5550.0, 7860.0, 4170.0, 3300.0, 14140.0, 4330.0, 4060.0, 10210.0, 1690.0, 6690.0, 24590.0, 610.0, 3520.0, 5180.0, 2910.0, 1400.0, 720.0, 2340.0, 10200.0, 5370.0, 7250.0, 7340.0, 30420.0, 3880.0, 2170.0, 12580.0, 140940.0, 2440.0, 1980.0, 22490.0, 17890.0, 7920.0, 1290.0, 2950.0, 2990.0, 920.0, 6510.0, 16950.0, 2550.0, 4940.0, 3680.0, 12700.0, 12110.0, 8800.0, 1800.0, 15640.0, 4560.0, 1160.0, 230.0, 6170.0, 3890.0, 920.0, 3390.0, 10220.0, 580.0, 5630.0, 55500.0, 271790.0, 1480.0, 90.0, 2820.0, 16460.0, 43600.0, 33200.0, 1410.0, 220.0, 1550.0, 5590.0, 2540.0, 6400.0, 6020.0, 3170.0, 2140.0, 75130.0, 2250.0, 670.0, 5650.0, 1010.0, 5610.0, 8350.0, 1140.0, 1600.0, 480.0, 520.0, 1430.0, 105240.0, 430.0, 2730.0, 16480.0, 2130.0, 440.0, 5860.0, 12530.0, 350.0, 420.0, 480.0, 980.0, 430.0, 940.0, 391670.0, 2220.0, 2420.0, 1000.0, 92570.0, 3060.0, 380.0, 1960.0, 520.0, 2160.0, 3370.0, 18580.0, 260.0, 20710.0, 125910.0, 6110.0, 3400.0, 5080.0, 3350.0, 610.0, 890.0, 190.0, 81310.0, 1540.0, 3600.0, 2780.0, 2550.0, 49100.0, 910.0, 3420.0, 140.0, 1120.0, 3000.0, 3550.0, 20230.0, 21240.0, 4510.0, 17950.0, 5100.0, 590.0, 1390.0, 770.0, 640.0, 8800.0, 682650.0, 10550.0, 680.0, 1050.0, 24660.0, 550.0, 13340.0, 154400.0, 5740.0, 3290.0, 7740.0, 5960.0, 4580.0, 5590.0, 790.0, 15300.0, 3480.0, 210.0, 1300.0, 2240.0, 6540.0, 260.0, 47160.0, 990.0, 6660.0, 20920.0, 3360.0, 2200.0, 16390.0, 4720.0, 90.0, 130.0, 7760.0, 790.0, 30.0, 620.0, 5360.0, 570.0, 8970.0, 2250.0, 3050.0, 890.0, 2900.0, 2390.0, 2920.0, 13680.0, 4170.0, 460.0, 1840.0, 3420.0, 20.0, 46080.0, 950.0, 1300.0, 40000.0, 90.0, 2210.0, 1970.0, 580.0, 630.0, 6600.0, 10520.0, 6000.0, 330.0, 17200.0, 4180.0, 850.0, 1130.0, 3190.0, 69390.0, 2740.0, 2320.0, 170.0, 12430.0, 8100.0, 2820.0, 2350.0, 52610.0, 1200.0, 280.0, 14130.0, 4770.0, 3940.0, 16090.0, 1230.0, 1860.0, 8690.0, 19280.0, 1550.0, 1740.0, 15830.0, 410.0, 670.0, 2310.0, 1530.0, 1270.0, 120.0, 2480.0, 9610.0, 1460.0, 8200.0, 2230.0, 1850.0, 4860.0, 10390.0, 910.0, 360.0, 2310.0, 500.0, 4880.0, 420.0, 35300.0, 1550.0, 13750.0, 1660.0, 110.0, 220.0, 410.0, 1270.0, 280150.0, 21510.0, 110.0, 1900.0, 260.0, 5400.0, 16450.0, 155240.0, 2820.0, 4080.0, 6460.0, 480.0, 3700.0, 7250.0, 8720.0, 13300.0, 11520.0, 7470.0, 1380.0, 5370.0, 43810.0, 6310.0, 900.0, 22710.0, 2390.0, 4560.0, 58830.0, 5490.0, 940.0, 9460.0, 7360.0, 790.0, 2530.0, 2990.0, 2730.0, 740.0, 6120.0, 14600.0, 3010.0, 60.0, 32280.0, 2750.0, 1450.0, 850.0, 1260.0, 7260.0, 1290.0, 980.0, 1510.0, 890.0, 340.0, 320.0, 122660.0, 2930.0, 3930.0, 2810.0, 3460.0, 6710.0, 4650.0, 62420.0, 3050.0, 20650.0, 360.0, 29280.0, 3500.0, 4170.0, 3690.0, 15720.0, 800.0, 4450.0, 590.0, 2800.0, 3080.0, 3440.0, 6540.0, 6150.0, 5270.0, 5770.0, 4150.0, 8890.0, 2090.0, 1300.0, 3440.0, 1760.0, 15570.0, 6330.0, 450.0, 6880.0, 620.0, 2670.0, 2650.0, 4080.0, 2260.0, 5800.0, 2530.0, 3520.0, 790.0, 1960.0, 24710.0, 1190.0, 520.0, 3930.0, 1330.0, 2570.0, 3130.0, 1280.0, 61710.0, 4300.0, 1450.0, 1740.0, 6340.0, 5920.0, 1760.0, 3400.0, 1550.0, 2140.0, 1430.0, 1550.0, 4470.0, 6440.0, 30230.0, 7430.0, 230.0, 3420.0, 5860.0, 780.0, 1760.0, 1330.0, 1160.0, 4120.0, 14700.0, 3610.0, 1690.0, 1140.0, 820.0, 4530.0, 960.0, 10290.0, 1490.0, 1240.0, 1650.0, 1350.0, 2290.0, 3240.0, 3310.0, 2380.0, 7590.0, 1780.0, 2850.0, 3710.0, 25620.0, 4020.0, 670.0, 920.0, 7420.0, 2300.0, 6700.0, 4170.0, 3150.0, 4160.0, 4690.0, 1800.0, 9910.0, 8040.0, 750.0, 1660.0, 5740.0, 3600.0, 6780.0, 1860.0, 6750.0, 3550.0, 4750.0, 13200.0, 2800.0, 830.0, 5560.0, 20100.0, 2020.0, 710.0, 6990.0, 1020.0, 1290.0, 630.0, 1200.0, 3450.0, 1100.0, 17590.0, 6220.0, 3620.0, 930.0, 11070.0, 2490.0, 1120.0, 2260.0, 23800.0, 34190.0, 760.0, 6360.0, 740.0, 13100.0, 2380.0, 35400.0, 14030.0, 2340.0, 2920.0, 8760.0, 36740.0, 2800.0, 1760.0, 3250.0, 2540.0, 2950.0, 22120.0, 8110.0, 10970.0, 48480.0, 570.0, 15700.0, 5020.0, 1480.0, 9550.0, 300.0, 10990.0, 10860.0, 9100.0, 4110.0, 204850.0, 29320.0, 5610.0, 2970.0, 11060.0, 1340.0, 8860.0, 6440.0, 3530.0, 1940.0, 101140.0, 1730.0, 14590.0, 1440.0, 73010.0, 64790.0, 6550.0, 30940.0, 530.0, 7040.0, 25620.0, 6490.0, 31120.0, 2510.0, 11570.0, 4040.0, 2190.0, 2680.0, 14120.0, 1280.0, 1730.0, 990.0, 6980.0, 1100.0, 1360.0, 4940.0, 3510.0, 3570.0, 1510.0, 8430.0, 3350.0, 4610.0, 24550.0, 2400.0, 3780.0, 6090.0, 4330.0, 7060.0, 3910.0, 3800.0, 9850.0, 3550.0, 4990.0, 11820.0, 1870.0, 1580.0, 3520.0, 4820.0, 850.0, 960.0, 1220.0, 4010.0, 4900.0, 10730.0, 3970.0, 1290.0, 2430.0, 2230.0, 2150.0, 880.0, 1190.0, 3250.0, 6740.0, 1460.0, 2410.0, 890.0, 11270.0, 3940.0, 2440.0, 1830.0, 4260.0, 1520.0, 20810.0, 1050.0, 1630.0, 2720.0, 5680.0, 2930.0, 4110.0, 1660.0, 39010.0, 6730.0, 2250.0, 4520.0, 3880.0, 9210.0, 440.0, 7740.0, 1080.0, 4430.0, 2640.0, 1640.0, 1740.0, 710.0, 1880.0, 6410.0, 2780.0, 15940.0, 1510.0, 9860.0, 1310.0, 2150.0, 2310.0, 6640.0, 10500.0, 4400.0, 1450.0, 800.0, 119940.0, 4280.0, 3060.0, 2870.0, 13590.0, 4720.0, 640.0, 2940.0, 3760.0, 5750.0, 1330.0, 18030.0, 1640.0, 15950.0, 1570.0, 4840.0, 5330.0, 1900.0, 3380.0, 8030.0, 1660.0, 2140.0, 3010.0, 2310.0, 8090.0, 1630.0, 7710.0, 22040.0, 4550.0, 2180.0, 14460.0, 6640.0, 4920.0, 1600.0, 5400.0, 1890.0, 1680.0, 700.0, 5670.0, 1620.0, 630.0, 1120.0, 11440.0, 2110.0, 10220.0, 350.0, 3350.0, 1120.0, 3380.0, 1080.0, 5140.0, 2200.0, 2780.0, 1020.0, 990.0], \"yaxis\": \"y\"}],\n",
              "                        {\"barmode\": \"relative\", \"legend\": {\"tracegroupgap\": 0}, \"template\": {\"data\": {\"bar\": [{\"error_x\": {\"color\": \"#2a3f5f\"}, \"error_y\": {\"color\": \"#2a3f5f\"}, \"marker\": {\"line\": {\"color\": \"#E5ECF6\", \"width\": 0.5}}, \"type\": \"bar\"}], \"barpolar\": [{\"marker\": {\"line\": {\"color\": \"#E5ECF6\", \"width\": 0.5}}, \"type\": \"barpolar\"}], \"carpet\": [{\"aaxis\": {\"endlinecolor\": \"#2a3f5f\", \"gridcolor\": \"white\", \"linecolor\": \"white\", \"minorgridcolor\": \"white\", \"startlinecolor\": \"#2a3f5f\"}, \"baxis\": {\"endlinecolor\": \"#2a3f5f\", \"gridcolor\": \"white\", \"linecolor\": \"white\", \"minorgridcolor\": \"white\", \"startlinecolor\": \"#2a3f5f\"}, \"type\": \"carpet\"}], \"choropleth\": [{\"colorbar\": {\"outlinewidth\": 0, \"ticks\": \"\"}, \"type\": \"choropleth\"}], \"contour\": [{\"colorbar\": {\"outlinewidth\": 0, \"ticks\": \"\"}, \"colorscale\": [[0.0, \"#0d0887\"], [0.1111111111111111, \"#46039f\"], [0.2222222222222222, \"#7201a8\"], [0.3333333333333333, \"#9c179e\"], [0.4444444444444444, \"#bd3786\"], [0.5555555555555556, \"#d8576b\"], [0.6666666666666666, \"#ed7953\"], [0.7777777777777778, \"#fb9f3a\"], [0.8888888888888888, \"#fdca26\"], [1.0, \"#f0f921\"]], \"type\": \"contour\"}], \"contourcarpet\": [{\"colorbar\": {\"outlinewidth\": 0, \"ticks\": \"\"}, \"type\": \"contourcarpet\"}], \"heatmap\": [{\"colorbar\": {\"outlinewidth\": 0, \"ticks\": \"\"}, \"colorscale\": [[0.0, \"#0d0887\"], [0.1111111111111111, \"#46039f\"], [0.2222222222222222, \"#7201a8\"], [0.3333333333333333, \"#9c179e\"], [0.4444444444444444, \"#bd3786\"], [0.5555555555555556, \"#d8576b\"], [0.6666666666666666, \"#ed7953\"], [0.7777777777777778, \"#fb9f3a\"], [0.8888888888888888, \"#fdca26\"], [1.0, \"#f0f921\"]], \"type\": \"heatmap\"}], \"heatmapgl\": [{\"colorbar\": {\"outlinewidth\": 0, \"ticks\": \"\"}, \"colorscale\": [[0.0, \"#0d0887\"], [0.1111111111111111, \"#46039f\"], [0.2222222222222222, \"#7201a8\"], [0.3333333333333333, \"#9c179e\"], [0.4444444444444444, \"#bd3786\"], [0.5555555555555556, \"#d8576b\"], [0.6666666666666666, \"#ed7953\"], [0.7777777777777778, \"#fb9f3a\"], [0.8888888888888888, \"#fdca26\"], [1.0, \"#f0f921\"]], \"type\": \"heatmapgl\"}], \"histogram\": [{\"marker\": {\"colorbar\": {\"outlinewidth\": 0, \"ticks\": \"\"}}, \"type\": \"histogram\"}], \"histogram2d\": [{\"colorbar\": {\"outlinewidth\": 0, \"ticks\": \"\"}, \"colorscale\": [[0.0, \"#0d0887\"], [0.1111111111111111, \"#46039f\"], [0.2222222222222222, \"#7201a8\"], [0.3333333333333333, \"#9c179e\"], [0.4444444444444444, \"#bd3786\"], [0.5555555555555556, \"#d8576b\"], [0.6666666666666666, \"#ed7953\"], [0.7777777777777778, \"#fb9f3a\"], [0.8888888888888888, \"#fdca26\"], [1.0, \"#f0f921\"]], \"type\": \"histogram2d\"}], \"histogram2dcontour\": [{\"colorbar\": {\"outlinewidth\": 0, \"ticks\": \"\"}, \"colorscale\": [[0.0, \"#0d0887\"], [0.1111111111111111, \"#46039f\"], [0.2222222222222222, \"#7201a8\"], [0.3333333333333333, \"#9c179e\"], [0.4444444444444444, \"#bd3786\"], [0.5555555555555556, \"#d8576b\"], [0.6666666666666666, \"#ed7953\"], [0.7777777777777778, \"#fb9f3a\"], [0.8888888888888888, \"#fdca26\"], [1.0, \"#f0f921\"]], \"type\": \"histogram2dcontour\"}], \"mesh3d\": [{\"colorbar\": {\"outlinewidth\": 0, \"ticks\": \"\"}, \"type\": \"mesh3d\"}], \"parcoords\": [{\"line\": {\"colorbar\": {\"outlinewidth\": 0, \"ticks\": \"\"}}, \"type\": \"parcoords\"}], \"pie\": [{\"automargin\": true, \"type\": \"pie\"}], \"scatter\": [{\"marker\": {\"colorbar\": {\"outlinewidth\": 0, \"ticks\": \"\"}}, \"type\": \"scatter\"}], \"scatter3d\": [{\"line\": {\"colorbar\": {\"outlinewidth\": 0, \"ticks\": \"\"}}, \"marker\": {\"colorbar\": {\"outlinewidth\": 0, \"ticks\": \"\"}}, \"type\": \"scatter3d\"}], \"scattercarpet\": [{\"marker\": {\"colorbar\": {\"outlinewidth\": 0, \"ticks\": \"\"}}, \"type\": \"scattercarpet\"}], \"scattergeo\": [{\"marker\": {\"colorbar\": {\"outlinewidth\": 0, \"ticks\": \"\"}}, \"type\": \"scattergeo\"}], \"scattergl\": [{\"marker\": {\"colorbar\": {\"outlinewidth\": 0, \"ticks\": \"\"}}, \"type\": \"scattergl\"}], \"scattermapbox\": [{\"marker\": {\"colorbar\": {\"outlinewidth\": 0, \"ticks\": \"\"}}, \"type\": \"scattermapbox\"}], \"scatterpolar\": [{\"marker\": {\"colorbar\": {\"outlinewidth\": 0, \"ticks\": \"\"}}, \"type\": \"scatterpolar\"}], \"scatterpolargl\": [{\"marker\": {\"colorbar\": {\"outlinewidth\": 0, \"ticks\": \"\"}}, \"type\": \"scatterpolargl\"}], \"scatterternary\": [{\"marker\": {\"colorbar\": {\"outlinewidth\": 0, \"ticks\": \"\"}}, \"type\": \"scatterternary\"}], \"surface\": [{\"colorbar\": {\"outlinewidth\": 0, \"ticks\": \"\"}, \"colorscale\": [[0.0, \"#0d0887\"], [0.1111111111111111, \"#46039f\"], [0.2222222222222222, \"#7201a8\"], [0.3333333333333333, \"#9c179e\"], [0.4444444444444444, \"#bd3786\"], [0.5555555555555556, \"#d8576b\"], [0.6666666666666666, \"#ed7953\"], [0.7777777777777778, \"#fb9f3a\"], [0.8888888888888888, \"#fdca26\"], [1.0, \"#f0f921\"]], \"type\": \"surface\"}], \"table\": [{\"cells\": {\"fill\": {\"color\": \"#EBF0F8\"}, \"line\": {\"color\": \"white\"}}, \"header\": {\"fill\": {\"color\": \"#C8D4E3\"}, \"line\": {\"color\": \"white\"}}, \"type\": \"table\"}]}, \"layout\": {\"annotationdefaults\": {\"arrowcolor\": \"#2a3f5f\", \"arrowhead\": 0, \"arrowwidth\": 1}, \"coloraxis\": {\"colorbar\": {\"outlinewidth\": 0, \"ticks\": \"\"}}, \"colorscale\": {\"diverging\": [[0, \"#8e0152\"], [0.1, \"#c51b7d\"], [0.2, \"#de77ae\"], [0.3, \"#f1b6da\"], [0.4, \"#fde0ef\"], [0.5, \"#f7f7f7\"], [0.6, \"#e6f5d0\"], [0.7, \"#b8e186\"], [0.8, \"#7fbc41\"], [0.9, \"#4d9221\"], [1, \"#276419\"]], \"sequential\": [[0.0, \"#0d0887\"], [0.1111111111111111, \"#46039f\"], [0.2222222222222222, \"#7201a8\"], [0.3333333333333333, \"#9c179e\"], [0.4444444444444444, \"#bd3786\"], [0.5555555555555556, \"#d8576b\"], [0.6666666666666666, \"#ed7953\"], [0.7777777777777778, \"#fb9f3a\"], [0.8888888888888888, \"#fdca26\"], [1.0, \"#f0f921\"]], \"sequentialminus\": [[0.0, \"#0d0887\"], [0.1111111111111111, \"#46039f\"], [0.2222222222222222, \"#7201a8\"], [0.3333333333333333, \"#9c179e\"], [0.4444444444444444, \"#bd3786\"], [0.5555555555555556, \"#d8576b\"], [0.6666666666666666, \"#ed7953\"], [0.7777777777777778, \"#fb9f3a\"], [0.8888888888888888, \"#fdca26\"], [1.0, \"#f0f921\"]]}, \"colorway\": [\"#636efa\", \"#EF553B\", \"#00cc96\", \"#ab63fa\", \"#FFA15A\", \"#19d3f3\", \"#FF6692\", \"#B6E880\", \"#FF97FF\", \"#FECB52\"], \"font\": {\"color\": \"#2a3f5f\"}, \"geo\": {\"bgcolor\": \"white\", \"lakecolor\": \"white\", \"landcolor\": \"#E5ECF6\", \"showlakes\": true, \"showland\": true, \"subunitcolor\": \"white\"}, \"hoverlabel\": {\"align\": \"left\"}, \"hovermode\": \"closest\", \"mapbox\": {\"style\": \"light\"}, \"paper_bgcolor\": \"white\", \"plot_bgcolor\": \"#E5ECF6\", \"polar\": {\"angularaxis\": {\"gridcolor\": \"white\", \"linecolor\": \"white\", \"ticks\": \"\"}, \"bgcolor\": \"#E5ECF6\", \"radialaxis\": {\"gridcolor\": \"white\", \"linecolor\": \"white\", \"ticks\": \"\"}}, \"scene\": {\"xaxis\": {\"backgroundcolor\": \"#E5ECF6\", \"gridcolor\": \"white\", \"gridwidth\": 2, \"linecolor\": \"white\", \"showbackground\": true, \"ticks\": \"\", \"zerolinecolor\": \"white\"}, \"yaxis\": {\"backgroundcolor\": \"#E5ECF6\", \"gridcolor\": \"white\", \"gridwidth\": 2, \"linecolor\": \"white\", \"showbackground\": true, \"ticks\": \"\", \"zerolinecolor\": \"white\"}, \"zaxis\": {\"backgroundcolor\": \"#E5ECF6\", \"gridcolor\": \"white\", \"gridwidth\": 2, \"linecolor\": \"white\", \"showbackground\": true, \"ticks\": \"\", \"zerolinecolor\": \"white\"}}, \"shapedefaults\": {\"line\": {\"color\": \"#2a3f5f\"}}, \"ternary\": {\"aaxis\": {\"gridcolor\": \"white\", \"linecolor\": \"white\", \"ticks\": \"\"}, \"baxis\": {\"gridcolor\": \"white\", \"linecolor\": \"white\", \"ticks\": \"\"}, \"bgcolor\": \"#E5ECF6\", \"caxis\": {\"gridcolor\": \"white\", \"linecolor\": \"white\", \"ticks\": \"\"}}, \"title\": {\"x\": 0.05}, \"xaxis\": {\"automargin\": true, \"gridcolor\": \"white\", \"linecolor\": \"white\", \"ticks\": \"\", \"title\": {\"standoff\": 15}, \"zerolinecolor\": \"white\", \"zerolinewidth\": 2}, \"yaxis\": {\"automargin\": true, \"gridcolor\": \"white\", \"linecolor\": \"white\", \"ticks\": \"\", \"title\": {\"standoff\": 15}, \"zerolinecolor\": \"white\", \"zerolinewidth\": 2}}}, \"title\": {\"text\": \"Rate by State\"}, \"xaxis\": {\"anchor\": \"y\", \"domain\": [0.0, 1.0], \"title\": {\"text\": \"State\"}}, \"yaxis\": {\"anchor\": \"x\", \"domain\": [0.0, 1.0], \"title\": {\"text\": \"Num_FIP\"}}},\n",
              "                        {\"responsive\": true}\n",
              "                    ).then(function(){\n",
              "                            \n",
              "var gd = document.getElementById('bd07310a-0e0d-4f2e-abcd-416e92519bdc');\n",
              "var x = new MutationObserver(function (mutations, observer) {{\n",
              "        var display = window.getComputedStyle(gd).display;\n",
              "        if (!display || display === 'none') {{\n",
              "            console.log([gd, 'removed!']);\n",
              "            Plotly.purge(gd);\n",
              "            observer.disconnect();\n",
              "        }}\n",
              "}});\n",
              "\n",
              "// Listen for the removal of the full notebook cells\n",
              "var notebookContainer = gd.closest('#notebook-container');\n",
              "if (notebookContainer) {{\n",
              "    x.observe(notebookContainer, {childList: true});\n",
              "}}\n",
              "\n",
              "// Listen for the clearing of the current output cell\n",
              "var outputEl = gd.closest('.output');\n",
              "if (outputEl) {{\n",
              "    x.observe(outputEl, {childList: true});\n",
              "}}\n",
              "\n",
              "                        })\n",
              "                };\n",
              "                \n",
              "            </script>\n",
              "        </div>\n",
              "</body>\n",
              "</html>"
            ]
          },
          "metadata": {
            "tags": []
          }
        }
      ]
    },
    {
      "cell_type": "markdown",
      "metadata": {
        "id": "imJ8s6mNn5Se"
      },
      "source": [
        "Findings \n",
        "1.Mississpi has the highest Food Insecurity Rate\n",
        "2.New Hampshire had the lowest Food Insecurity Rate\n",
        "3. Califorina had the highest Food Insecure People\n",
        "4. South Dakota had the lowest Food Insecure People\n",
        "5. LA had the highest food insecurity rate for children \n",
        "6. Illinois had the lowest food insecurity rate for children \n",
        "7. Texas has the highest number of food insecure Children\n"
      ]
    }
  ]
}